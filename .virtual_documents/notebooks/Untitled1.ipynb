from lumibot.brokers import Alpaca
from lumibot.backtesting import YahooDataBacktesting
from lumibot.strategies.strategy import Strategy
from lumibot.traders import Trader
from alpaca_trade_api import REST
from timedelta import Timedelta

from datetime import datetime


API_KEY = "PK1XRVBOSC0SGW8JIBGR"
API_SECRET = "aehEjfqoMUgeWoqz6Tkl4kZh7yEsjNl0j5XgYvSc"
BASE_URL = "https://paper-api.alpaca.markets/v2"

ALPACA_CREDS = {
    "API_KEY":API_KEY,
    "API_SECRET":API_SECRET,
    "PAPER" : True
}





class MLTrader(Strategy):
    # We start the bot. Initialize method will run once.
    def initialize(self, symbol:str='SPY', 
                   cash_at_risk:float=0.5
                  ):
        self.symbol=symbol
        self.sleeptime = '24H' # how frequently we want to trade
        self.last_trade = None # capture last trade. in case undo some sell/buy
        self.cash_at_risk = cash_at_risk # how much of our cash balance we want to risk at every trade
        self.api = REST(base_url= BASE_URL, 
                        key_id=API_KEY,
                        secret_key=API_SECRET
                       )
        
    def position_sizing(self):
        cash = self.get_cash()
        last_price = self.get_last_price(self.symbol)
        quantity = round(cash * self.cash_at_risk / last_price, 0)

        return cash, last_price, quantity

    def get_dates(self):
        today = self.get_datetime()
        three_days_prior = today - Timedelta(days=3)
        return today.strftime('%Y-%m-%d'), three_days_prior.strftime('%Y-%m-%d')
        
    
    def get_sentiment(self):
        today, three_days_prior = self.get_dates()
        news = self.api.get_news(symbol=self.symbol,
                                 start = three_days_prior,
                                 end = today
                                )
        news = [ev.__dict__["_raw"]["headline"] for ev in news]
        return news
        
    
    # every time we get a tick
    def on_trading_iteration(self):
        cash, last_price, quantity = self.position_sizing()

        if cash > last_price:
            if self.last_trade == None:
                news = self.get_news()
                print(news)
                order = self.create_order(
                    self.symbol,
                    quantity, # how many we want to buy
                    'buy',
                    type = 'bracket', # options: limit, bracket
                    take_profit_price = last_price*1.20,
                    stop_loss_price = last_price*0.95
                
                
                )
                self.submit_order(order)
                self.last_trade = 'buy'


# add image for bracket loss


start_date = datetime(2023, 12, 15)
end_date = datetime(2023, 12, 31)





broker = Alpaca(ALPACA_CREDS)


strategy = MLTrader(name='mlstrat',
                    broker=broker,
                    parameters = {'symbol' : 'SPY',
                                  'cash_at_risk':0.5 # higher number means more cash per trade --> more risk taken
                                  
                                 
                                 }
                   )


strategy.backtest(YahooDataBacktesting,
                 start_date,
                 end_date,
                 parameters={})









