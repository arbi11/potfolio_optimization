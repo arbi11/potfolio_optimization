from pathlib import Path
import torch

from IPython.display import clear_output

torch.__version__


data_dir = Path(r'F:\cc_data\yt_data')
output_locn = str(data_dir)








from pytubefix import YouTube
from pytubefix.cli import on_progress


import re

def replace_with_underscore(text):
    # Replace all non-alphanumeric characters (including spaces) with underscores
    return re.sub(r'\W+', '_', text)

url_list = ["https://www.youtube.com/watch?v=mQS1tCQUiAM",
            "https://www.youtube.com/watch?v=-OIi7O3cYAg",
            "https://www.youtube.com/watch?v=xutQXlphLiM",
            "https://www.youtube.com/watch?v=j9OHzRypRVs",
            "https://www.youtube.com/watch?v=RFiPUS9-cN0",
            "https://www.youtube.com/watch?v=iCXAT6ZZHuM"
           ]
download_list = []
title_list = []

for url in url_list:
    yt = YouTube(url, on_progress_callback = on_progress)
    
    title = replace_with_underscore(yt.title)
    print(yt.title, title)
    
    video_output = data_dir / f"{title}.mp4"

    try:
        ys = yt.streams.get_highest_resolution()
        ys.download(output_path = data_dir, filename = f"{title}")
        
        ys_audio = yt.streams.get_audio_only()
        ys_audio.download(output_path = data_dir, filename = f"{title}")

        download_list.append(video_output)
        title_list.append(title)

    except:
        print(f'Download failed for {title}')









from moviepy.editor import VideoFileClip

for title in title_list:

    video_output = data_dir / f"{title}.mp4"
    
    video_clip = VideoFileClip(str(video_output)) # purely to give us access to methods
    assert video_clip.audio is not None
    
    video_clip.audio.write_audiofile(str(data_dir / f"{title}.mp3"))
    video_clip.close()
    
    clear_output()














mp3_file_loc = data_dir / f"{title}.m4a"

if mp3_file_loc.exists():
    print("File exists")
else:
    print("File does not exist")


import speech_recognition as sr
from pydub import AudioSegment
import ffmpeg

def divide_chunks(sound, segment_size_secs=60):
    """ Split audio file into 60s chunks """
    
    segment_size_ms = segment_size_secs*1000
    for start_idx in range(0, len(sound), segment_size_ms):
        # Yield a chunk of audio data from start_idx to start_idx + segment_size_ms
        yield sound[start_idx:start_idx + segment_size_ms]

def transcribe_audio(mp3_file, title):
    """ Use Speech Recognition API with Google Web Speech API
    to convert audio dialog to text """
    recogniser = sr.Recognizer()      
    all_transcription_extracts = {}

    print(f"Converting {mp3_file}")

    audio = AudioSegment.from_file(mp3_file)
    # If AudioSegment is not working - e.g. due to broken mp3 headers - we
    # can use ffmpeg as a workaround. However, it's a lot slower.
    # ffmpeg.input(mp3_file).output(wav_file).run() # Convert with ffmpeg
    # print(f"Successfully converted {mp3_file} to {wav_file}.")
    # audio = AudioSegment.from_wav(wav_file) # Read the audio

    segments = list(divide_chunks(audio, segment_size_secs=60)) # split the wav into 60s segments     
    all_transcription_extracts[title] = {}
    for index, chunk in enumerate(segments):
        with io.BytesIO() as wav_io:
            chunk.export(wav_io, format='wav')
            wav_io.seek(0)  # Move to the start of the BytesIO object before reading from it
                    
            with sr.AudioFile(wav_io) as source:
                audio_data = recogniser.record(source)

            try:
                extracted = recogniser.recognize_google(audio_data, language=language)
                print(f"Chunk {index} extracted.")
                all_transcription_extracts[title][index] = extracted
            except sr.UnknownValueError:
                    # Log the unknown value error and continue
                print(f"Chunk {index}: Could not understand the audio. Maybe it was empty.")
        
    print("Extract:")
    for idx, extract in all_transcription_extracts[title].items():
        print(f"{idx}: {extract}")

    # Save as JSON file
    with open(output_locn/ f'{title}.json', 'w') as json_file:
        json.dump(all_transcription_extracts[title], json_file)

    # Save as TXT file
    with open(output_locn/ f'{title}.txt', 'w') as txt_file:
        for idx, extract in all_transcription_extracts[title].items():
            txt_file.write(f"{idx}: {extract}\n")

    # Save as CSV file using pandas
    df = pd.DataFrame(list(all_transcription_extracts[title].items()), columns=['Chunk', 'Transcription'])
    df.to_csv(output_locn / f'{title}.csv', index=False)


for mp3_file in Path(output_locn).glob(f'*.mp3'):
    transcribe_audio(str(mp3_file), )




transcription_extracts






