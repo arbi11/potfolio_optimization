from lumibot.brokers import Alpaca
from lumibot.backtesting import YahooDataBacktesting
from lumibot.strategies.strategy import Strategy
from lumibot.traders import Trader
from alpaca_trade_api import REST
from timedelta import Timedelta

from datetime import datetime
from pathlib import Path


notebook_dir = Path('.')
file_path = notebook_dir.absolute().parent / 'data' / 'secrets.txt'

secret_dict = {}
with open(file_path, 'r') as file:
    for line in file:
        line = line.strip()
        if '=' in line:
            key, value = line.split('=', 1)
            key = key.strip()
            value = value.strip().strip('"')
            secret_dict[key] = value

# print(secret_dict)


API_KEY = secret_dict['API_KEY']
API_SECRET = secret_dict['API_SECRET']
BASE_URL = secret_dict['BASE_URL']


ALPACA_CREDS = {
    "API_KEY":API_KEY,
    "API_SECRET":API_SECRET,
    "PAPER" : True
}


from transformers import AutoTokenizer, AutoModelForSequenceClassification
import torch
from typing import Tuple 
device = "cuda:0" if torch.cuda.is_available() else "cpu"

tokenizer = AutoTokenizer.from_pretrained("ProsusAI/finbert")
model = AutoModelForSequenceClassification.from_pretrained("ProsusAI/finbert").to(device)
labels = ["positive", "negative", "neutral"]

def estimate_sentiment(news):
    if news:
        tokens = tokenizer(news, return_tensors="pt", padding=True).to(device)

        result = model(tokens["input_ids"], attention_mask=tokens["attention_mask"])[
            "logits"
        ]
        result = torch.nn.functional.softmax(torch.sum(result, 0), dim=-1)
        probability = result[torch.argmax(result)]
        sentiment = labels[torch.argmax(result)]
        return probability, sentiment
    else:
        return 0, labels[-1]


if __name__ == "__main__":
    tensor, sentiment = estimate_sentiment(['markets responded negatively to the news!','traders were displeased!'])
    print(tensor, sentiment)
    print(torch.cuda.is_available())


class MLTrader(Strategy):
    # We start the bot. Initialize method will run once.
    def initialize(self, symbol:str='SPY', 
                   cash_at_risk:float=0.5
                  ):
        self.symbol=symbol
        self.sleeptime = '24H' # how frequently we want to trade
        self.last_trade = None # capture last trade. in case undo some sell/buy
        self.cash_at_risk = cash_at_risk # how much of our cash balance we want to risk at every trade
        self.api = REST(base_url= BASE_URL, 
                        key_id=API_KEY,
                        secret_key=API_SECRET
                       )
        
    def position_sizing(self):
        cash = self.get_cash()
        last_price = self.get_last_price(self.symbol)
        quantity = round(cash * self.cash_at_risk / last_price, 0)

        return cash, last_price, quantity

    def get_dates(self):
        today = self.get_datetime()
        three_days_prior = today - Timedelta(days=3)
        return today.strftime('%Y-%m-%d'), three_days_prior.strftime('%Y-%m-%d')
        
    
    def get_sentiment(self):
        today, three_days_prior = self.get_dates()
        news = self.api.get_news(symbol=self.symbol,
                                 start = three_days_prior,
                                 end = today
                                )
        news = [ev.__dict__["_raw"]["headline"] for ev in news]
        probability, sentiment = estimate_sentiment(news)
        return probability, sentiment
        
    
    # every time we get a tick
    def on_trading_iteration(self):
        cash, last_price, quantity = self.position_sizing()
        probability, sentiment = self.get_sentiment()

        if cash > last_price:
            if sentiment == 'positive' and probability > 0.999:
                if self.last_trade == "sell": 
                    self.sell_all() 
                order = self.create_order(
                    self.symbol,
                    quantity, # how many we want to buy
                    'buy',
                    type = 'bracket', # options: limit, bracket
                    take_profit_price = last_price*1.20,
                    stop_loss_price = last_price*0.95
                
                )
                self.submit_order(order)
                self.last_trade = 'buy'


        elif sentiment == 'negative' and probability > 0.999:
            if self.last_trade == "buy": 
                self.sell_all() 
            order = self.create_order(
                self.symbol,
                quantity, # how many we want to buy
                'sell',
                type = 'bracket', # options: limit, bracket
                take_profit_price = last_price*0.8,
                stop_loss_price = last_price*1.05
            
            )
            self.submit_order(order)
            self.last_trade = 'sell'


# add image for bracket loss


start_date = datetime(2020, 1, 1)
end_date = datetime(2023, 12, 31)





broker = Alpaca(ALPACA_CREDS)


strategy = MLTrader(name='mlstrat',
                    broker=broker,
                    parameters = {'symbol' : 'SPY',
                                  'cash_at_risk':0.5 # higher number means more cash per trade --> more risk taken
                                  
                                 
                                 }
                   )


strategy.backtest(YahooDataBacktesting,
                 start_date,
                 end_date,
                 parameters={})









