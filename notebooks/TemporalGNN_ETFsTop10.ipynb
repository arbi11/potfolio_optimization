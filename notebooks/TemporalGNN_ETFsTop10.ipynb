{
 "cells": [
  {
   "cell_type": "code",
   "execution_count": 1,
   "id": "225127a3-9130-4517-8947-f3b1091baee1",
   "metadata": {},
   "outputs": [],
   "source": [
    "import pandas as pd\n",
    "import numpy as np\n",
    "import matplotlib.pyplot as plt\n",
    "import seaborn as sns\n",
    "import networkx as nx\n",
    "import datetime\n",
    "import yfinance as yf\n"
   ]
  },
  {
   "cell_type": "code",
   "execution_count": 2,
   "id": "b3979297-611a-4ff2-b518-62ee92b84222",
   "metadata": {},
   "outputs": [
    {
     "name": "stderr",
     "output_type": "stream",
     "text": [
      "C:\\Users\\akhan147\\Anaconda3\\envs\\trader\\lib\\site-packages\\tqdm\\auto.py:21: TqdmWarning: IProgress not found. Please update jupyter and ipywidgets. See https://ipywidgets.readthedocs.io/en/stable/user_install.html\n",
      "  from .autonotebook import tqdm as notebook_tqdm\n"
     ]
    }
   ],
   "source": [
    "import torch\n",
    "import torch.nn.functional as F\n",
    "from torch_geometric.nn import GCNConv\n",
    "from torch_geometric_temporal.nn.recurrent import A3TGCN2\n",
    "from torch_geometric_temporal.signal import temporal_signal_split"
   ]
  },
  {
   "cell_type": "code",
   "execution_count": 3,
   "id": "3687dfcd-6438-4860-bdf4-98ca25725ec9",
   "metadata": {},
   "outputs": [],
   "source": [
    "from pathlib import Path\n",
    "data_dir = Path(r'F:\\cc_data')\n",
    "model_dir = data_dir.absolute() / 'models'"
   ]
  },
  {
   "cell_type": "code",
   "execution_count": 4,
   "id": "eb76c5da-f638-49bd-80bf-1f55b6cba8dd",
   "metadata": {},
   "outputs": [],
   "source": [
    "# GPU support\n",
    "DEVICE = torch.device('cpu') # cuda\n",
    "shuffle=True\n",
    "batch_size = 32"
   ]
  },
  {
   "cell_type": "markdown",
   "id": "f8e1acba-13e6-4ef2-87ed-d8c109e5a339",
   "metadata": {},
   "source": [
    "# Data"
   ]
  },
  {
   "cell_type": "code",
   "execution_count": null,
   "id": "ea3974db-7f3c-4fe7-803c-7a9c195fe8c3",
   "metadata": {},
   "outputs": [],
   "source": []
  },
  {
   "cell_type": "code",
   "execution_count": 5,
   "id": "45c92741-59bc-4734-8d4c-908765acf2b9",
   "metadata": {},
   "outputs": [],
   "source": [
    "start = datetime.datetime(2020, 1, 1)\n",
    "end_train = datetime.datetime(2024, 4, 1)\n",
    "end_test = datetime.datetime.now()"
   ]
  },
  {
   "cell_type": "markdown",
   "id": "e89eb6ec-672a-4230-975b-81740c5603f0",
   "metadata": {},
   "source": [
    "\n",
    "|Rank\t| Symbol |\tFund | Name |\n",
    "|---|---|----|----|\n",
    "|1\t| SPY\t| SPDR S&P 500 ETF Trust |\n",
    "|2\t| IVV\t| iShares Core S&P 500 ETF |\n",
    "|3\t| VOO\t| Vanguard S&P 500 ETF|\n",
    "|4\t| VTI\t| Vanguard Total Stock Market ETF|\n",
    "|5\t| QQQ\t| Invesco QQQ Trust Series I|\n",
    "|6\t| VEA\t| Vanguard FTSE Developed Markets ETF|\n",
    "|7\t| VUG\t| Vanguard Growth ETF|\n",
    "|8\t| VTV\t| Vanguard Value ETF|\n",
    "|9\t| IEFA\t| iShares Core MSCI EAFE ETF|\n",
    "|10\t| AGG\t| iShares Core U.S. Aggregate Bond ETF"
   ]
  },
  {
   "cell_type": "markdown",
   "id": "8c57bab1-0c31-4d12-ac67-f5d33eab5380",
   "metadata": {},
   "source": [
    "[Top ETFs](https://www.marketwatch.com/tools/top-25-etfs)"
   ]
  },
  {
   "cell_type": "code",
   "execution_count": 6,
   "id": "f25d2796-cc30-40ce-bbd2-62837891d5f0",
   "metadata": {},
   "outputs": [
    {
     "name": "stderr",
     "output_type": "stream",
     "text": [
      "[*********************100%***********************]  10 of 10 completed\n",
      "[*********************100%***********************]  10 of 10 completed\n"
     ]
    },
    {
     "data": {
      "text/html": [
       "<div>\n",
       "<style scoped>\n",
       "    .dataframe tbody tr th:only-of-type {\n",
       "        vertical-align: middle;\n",
       "    }\n",
       "\n",
       "    .dataframe tbody tr th {\n",
       "        vertical-align: top;\n",
       "    }\n",
       "\n",
       "    .dataframe thead tr th {\n",
       "        text-align: left;\n",
       "    }\n",
       "\n",
       "    .dataframe thead tr:last-of-type th {\n",
       "        text-align: right;\n",
       "    }\n",
       "</style>\n",
       "<table border=\"1\" class=\"dataframe\">\n",
       "  <thead>\n",
       "    <tr>\n",
       "      <th>Price</th>\n",
       "      <th colspan=\"10\" halign=\"left\">Adj Close</th>\n",
       "      <th>...</th>\n",
       "      <th colspan=\"10\" halign=\"left\">Volume</th>\n",
       "    </tr>\n",
       "    <tr>\n",
       "      <th>Ticker</th>\n",
       "      <th>AGG</th>\n",
       "      <th>IEFA</th>\n",
       "      <th>IVV</th>\n",
       "      <th>QQQ</th>\n",
       "      <th>SPY</th>\n",
       "      <th>VEA</th>\n",
       "      <th>VOO</th>\n",
       "      <th>VTI</th>\n",
       "      <th>VTV</th>\n",
       "      <th>VUG</th>\n",
       "      <th>...</th>\n",
       "      <th>AGG</th>\n",
       "      <th>IEFA</th>\n",
       "      <th>IVV</th>\n",
       "      <th>QQQ</th>\n",
       "      <th>SPY</th>\n",
       "      <th>VEA</th>\n",
       "      <th>VOO</th>\n",
       "      <th>VTI</th>\n",
       "      <th>VTV</th>\n",
       "      <th>VUG</th>\n",
       "    </tr>\n",
       "    <tr>\n",
       "      <th>Date</th>\n",
       "      <th></th>\n",
       "      <th></th>\n",
       "      <th></th>\n",
       "      <th></th>\n",
       "      <th></th>\n",
       "      <th></th>\n",
       "      <th></th>\n",
       "      <th></th>\n",
       "      <th></th>\n",
       "      <th></th>\n",
       "      <th></th>\n",
       "      <th></th>\n",
       "      <th></th>\n",
       "      <th></th>\n",
       "      <th></th>\n",
       "      <th></th>\n",
       "      <th></th>\n",
       "      <th></th>\n",
       "      <th></th>\n",
       "      <th></th>\n",
       "      <th></th>\n",
       "    </tr>\n",
       "  </thead>\n",
       "  <tbody>\n",
       "    <tr>\n",
       "      <th>2020-01-02 00:00:00+00:00</th>\n",
       "      <td>99.489647</td>\n",
       "      <td>57.861580</td>\n",
       "      <td>302.929291</td>\n",
       "      <td>209.976059</td>\n",
       "      <td>302.208649</td>\n",
       "      <td>38.784161</td>\n",
       "      <td>276.999176</td>\n",
       "      <td>153.396133</td>\n",
       "      <td>106.480392</td>\n",
       "      <td>179.231491</td>\n",
       "      <td>...</td>\n",
       "      <td>6791400</td>\n",
       "      <td>10523100</td>\n",
       "      <td>4070500</td>\n",
       "      <td>30969400</td>\n",
       "      <td>59151200</td>\n",
       "      <td>8229000</td>\n",
       "      <td>3142400</td>\n",
       "      <td>3291100</td>\n",
       "      <td>1634700</td>\n",
       "      <td>1035800</td>\n",
       "    </tr>\n",
       "    <tr>\n",
       "      <th>2020-01-03 00:00:00+00:00</th>\n",
       "      <td>99.781021</td>\n",
       "      <td>57.141933</td>\n",
       "      <td>300.599182</td>\n",
       "      <td>208.052734</td>\n",
       "      <td>299.920227</td>\n",
       "      <td>38.312683</td>\n",
       "      <td>274.975739</td>\n",
       "      <td>152.419861</td>\n",
       "      <td>105.631668</td>\n",
       "      <td>177.999725</td>\n",
       "      <td>...</td>\n",
       "      <td>3664300</td>\n",
       "      <td>9663700</td>\n",
       "      <td>4290400</td>\n",
       "      <td>27518900</td>\n",
       "      <td>77709700</td>\n",
       "      <td>9697300</td>\n",
       "      <td>3247900</td>\n",
       "      <td>3625400</td>\n",
       "      <td>1401600</td>\n",
       "      <td>909800</td>\n",
       "    </tr>\n",
       "    <tr>\n",
       "      <th>2020-01-06 00:00:00+00:00</th>\n",
       "      <td>99.701538</td>\n",
       "      <td>57.343781</td>\n",
       "      <td>301.787415</td>\n",
       "      <td>209.393250</td>\n",
       "      <td>301.064423</td>\n",
       "      <td>38.443642</td>\n",
       "      <td>276.006073</td>\n",
       "      <td>152.940552</td>\n",
       "      <td>105.764282</td>\n",
       "      <td>179.144196</td>\n",
       "      <td>...</td>\n",
       "      <td>8131600</td>\n",
       "      <td>7468300</td>\n",
       "      <td>4212000</td>\n",
       "      <td>21655300</td>\n",
       "      <td>55653900</td>\n",
       "      <td>8579400</td>\n",
       "      <td>2777100</td>\n",
       "      <td>6813800</td>\n",
       "      <td>1546300</td>\n",
       "      <td>773700</td>\n",
       "    </tr>\n",
       "    <tr>\n",
       "      <th>2020-01-07 00:00:00+00:00</th>\n",
       "      <td>99.595589</td>\n",
       "      <td>57.212143</td>\n",
       "      <td>300.961212</td>\n",
       "      <td>209.364120</td>\n",
       "      <td>300.217926</td>\n",
       "      <td>38.382526</td>\n",
       "      <td>275.244812</td>\n",
       "      <td>152.577927</td>\n",
       "      <td>105.357582</td>\n",
       "      <td>179.086029</td>\n",
       "      <td>...</td>\n",
       "      <td>2883000</td>\n",
       "      <td>5815100</td>\n",
       "      <td>3632500</td>\n",
       "      <td>22139300</td>\n",
       "      <td>40496400</td>\n",
       "      <td>7884600</td>\n",
       "      <td>2251800</td>\n",
       "      <td>2498400</td>\n",
       "      <td>1422200</td>\n",
       "      <td>848800</td>\n",
       "    </tr>\n",
       "    <tr>\n",
       "      <th>2020-01-08 00:00:00+00:00</th>\n",
       "      <td>99.480766</td>\n",
       "      <td>57.343781</td>\n",
       "      <td>302.492920</td>\n",
       "      <td>210.937775</td>\n",
       "      <td>301.817993</td>\n",
       "      <td>38.434910</td>\n",
       "      <td>276.665070</td>\n",
       "      <td>153.331100</td>\n",
       "      <td>105.605133</td>\n",
       "      <td>180.492386</td>\n",
       "      <td>...</td>\n",
       "      <td>7323100</td>\n",
       "      <td>8249700</td>\n",
       "      <td>3912100</td>\n",
       "      <td>26397300</td>\n",
       "      <td>68296000</td>\n",
       "      <td>9948100</td>\n",
       "      <td>3719500</td>\n",
       "      <td>4244800</td>\n",
       "      <td>1401700</td>\n",
       "      <td>667200</td>\n",
       "    </tr>\n",
       "  </tbody>\n",
       "</table>\n",
       "<p>5 rows × 60 columns</p>\n",
       "</div>"
      ],
      "text/plain": [
       "Price                      Adj Close                                     \\\n",
       "Ticker                           AGG       IEFA         IVV         QQQ   \n",
       "Date                                                                      \n",
       "2020-01-02 00:00:00+00:00  99.489647  57.861580  302.929291  209.976059   \n",
       "2020-01-03 00:00:00+00:00  99.781021  57.141933  300.599182  208.052734   \n",
       "2020-01-06 00:00:00+00:00  99.701538  57.343781  301.787415  209.393250   \n",
       "2020-01-07 00:00:00+00:00  99.595589  57.212143  300.961212  209.364120   \n",
       "2020-01-08 00:00:00+00:00  99.480766  57.343781  302.492920  210.937775   \n",
       "\n",
       "Price                                                                     \\\n",
       "Ticker                            SPY        VEA         VOO         VTI   \n",
       "Date                                                                       \n",
       "2020-01-02 00:00:00+00:00  302.208649  38.784161  276.999176  153.396133   \n",
       "2020-01-03 00:00:00+00:00  299.920227  38.312683  274.975739  152.419861   \n",
       "2020-01-06 00:00:00+00:00  301.064423  38.443642  276.006073  152.940552   \n",
       "2020-01-07 00:00:00+00:00  300.217926  38.382526  275.244812  152.577927   \n",
       "2020-01-08 00:00:00+00:00  301.817993  38.434910  276.665070  153.331100   \n",
       "\n",
       "Price                                              ...   Volume            \\\n",
       "Ticker                            VTV         VUG  ...      AGG      IEFA   \n",
       "Date                                               ...                      \n",
       "2020-01-02 00:00:00+00:00  106.480392  179.231491  ...  6791400  10523100   \n",
       "2020-01-03 00:00:00+00:00  105.631668  177.999725  ...  3664300   9663700   \n",
       "2020-01-06 00:00:00+00:00  105.764282  179.144196  ...  8131600   7468300   \n",
       "2020-01-07 00:00:00+00:00  105.357582  179.086029  ...  2883000   5815100   \n",
       "2020-01-08 00:00:00+00:00  105.605133  180.492386  ...  7323100   8249700   \n",
       "\n",
       "Price                                                                     \\\n",
       "Ticker                         IVV       QQQ       SPY      VEA      VOO   \n",
       "Date                                                                       \n",
       "2020-01-02 00:00:00+00:00  4070500  30969400  59151200  8229000  3142400   \n",
       "2020-01-03 00:00:00+00:00  4290400  27518900  77709700  9697300  3247900   \n",
       "2020-01-06 00:00:00+00:00  4212000  21655300  55653900  8579400  2777100   \n",
       "2020-01-07 00:00:00+00:00  3632500  22139300  40496400  7884600  2251800   \n",
       "2020-01-08 00:00:00+00:00  3912100  26397300  68296000  9948100  3719500   \n",
       "\n",
       "Price                                                 \n",
       "Ticker                         VTI      VTV      VUG  \n",
       "Date                                                  \n",
       "2020-01-02 00:00:00+00:00  3291100  1634700  1035800  \n",
       "2020-01-03 00:00:00+00:00  3625400  1401600   909800  \n",
       "2020-01-06 00:00:00+00:00  6813800  1546300   773700  \n",
       "2020-01-07 00:00:00+00:00  2498400  1422200   848800  \n",
       "2020-01-08 00:00:00+00:00  4244800  1401700   667200  \n",
       "\n",
       "[5 rows x 60 columns]"
      ]
     },
     "execution_count": 6,
     "metadata": {},
     "output_type": "execute_result"
    }
   ],
   "source": [
    "import yfinance as yf\n",
    "\n",
    "tickers = [\"SPY\", \"IVV\", \"VOO\", \"VTI\", \"QQQ\", \"VEA\", \"VUG\", \"VTV\", \"IEFA\", \"AGG\"]\n",
    "\n",
    "df_train = yf.download(tickers, start=start, end=end_train)\n",
    "df_test = yf.download(tickers, start=end_train, end=end_test)\n",
    "df_train.head()"
   ]
  },
  {
   "cell_type": "code",
   "execution_count": 8,
   "id": "5c11c4cf-fdf8-40b8-8231-0a2eb7cdff0b",
   "metadata": {},
   "outputs": [
    {
     "data": {
      "text/plain": [
       "['F:\\\\cc_data\\\\models\\\\scaler.pkl']"
      ]
     },
     "execution_count": 8,
     "metadata": {},
     "output_type": "execute_result"
    }
   ],
   "source": [
    "import joblib\n",
    "from sklearn.preprocessing import MinMaxScaler, StandardScaler\n",
    "\n",
    "scaler = StandardScaler()\n",
    "\n",
    "scaled_train_data = scaler.fit_transform(df_train)\n",
    "scaled_test_data = scaler.transform(df_test)\n",
    "\n",
    "joblib.dump(scaler, model_dir / 'scaler.pkl')"
   ]
  },
  {
   "cell_type": "code",
   "execution_count": 10,
   "id": "679ea98a-15cd-4a90-997c-24fb19f629e5",
   "metadata": {},
   "outputs": [
    {
     "data": {
      "text/plain": [
       "((1067, 60), (128, 60))"
      ]
     },
     "execution_count": 10,
     "metadata": {},
     "output_type": "execute_result"
    }
   ],
   "source": [
    "df_train = pd.DataFrame(scaled_train_data, index=df_train.index, columns= df_train.columns)\n",
    "df_test = pd.DataFrame(scaled_test_data, index=df_test.index, columns= df_test.columns)\n",
    "df_train.shape, df_test.shape"
   ]
  },
  {
   "cell_type": "code",
   "execution_count": 11,
   "id": "527dee72-ee4e-46ed-808b-63db27047d16",
   "metadata": {},
   "outputs": [
    {
     "data": {
      "text/html": [
       "<div>\n",
       "<style scoped>\n",
       "    .dataframe tbody tr th:only-of-type {\n",
       "        vertical-align: middle;\n",
       "    }\n",
       "\n",
       "    .dataframe tbody tr th {\n",
       "        vertical-align: top;\n",
       "    }\n",
       "\n",
       "    .dataframe thead tr th {\n",
       "        text-align: left;\n",
       "    }\n",
       "\n",
       "    .dataframe thead tr:last-of-type th {\n",
       "        text-align: right;\n",
       "    }\n",
       "</style>\n",
       "<table border=\"1\" class=\"dataframe\">\n",
       "  <thead>\n",
       "    <tr>\n",
       "      <th>Price</th>\n",
       "      <th colspan=\"10\" halign=\"left\">Adj Close</th>\n",
       "      <th>...</th>\n",
       "      <th colspan=\"10\" halign=\"left\">Volume</th>\n",
       "    </tr>\n",
       "    <tr>\n",
       "      <th>Ticker</th>\n",
       "      <th>AGG</th>\n",
       "      <th>IEFA</th>\n",
       "      <th>IVV</th>\n",
       "      <th>QQQ</th>\n",
       "      <th>SPY</th>\n",
       "      <th>VEA</th>\n",
       "      <th>VOO</th>\n",
       "      <th>VTI</th>\n",
       "      <th>VTV</th>\n",
       "      <th>VUG</th>\n",
       "      <th>...</th>\n",
       "      <th>AGG</th>\n",
       "      <th>IEFA</th>\n",
       "      <th>IVV</th>\n",
       "      <th>QQQ</th>\n",
       "      <th>SPY</th>\n",
       "      <th>VEA</th>\n",
       "      <th>VOO</th>\n",
       "      <th>VTI</th>\n",
       "      <th>VTV</th>\n",
       "      <th>VUG</th>\n",
       "    </tr>\n",
       "    <tr>\n",
       "      <th>Date</th>\n",
       "      <th></th>\n",
       "      <th></th>\n",
       "      <th></th>\n",
       "      <th></th>\n",
       "      <th></th>\n",
       "      <th></th>\n",
       "      <th></th>\n",
       "      <th></th>\n",
       "      <th></th>\n",
       "      <th></th>\n",
       "      <th></th>\n",
       "      <th></th>\n",
       "      <th></th>\n",
       "      <th></th>\n",
       "      <th></th>\n",
       "      <th></th>\n",
       "      <th></th>\n",
       "      <th></th>\n",
       "      <th></th>\n",
       "      <th></th>\n",
       "      <th></th>\n",
       "    </tr>\n",
       "  </thead>\n",
       "  <tbody>\n",
       "    <tr>\n",
       "      <th>2020-01-02 00:00:00+00:00</th>\n",
       "      <td>0.078595</td>\n",
       "      <td>-0.502013</td>\n",
       "      <td>-1.434127</td>\n",
       "      <td>-1.821196</td>\n",
       "      <td>-1.435895</td>\n",
       "      <td>-0.616525</td>\n",
       "      <td>-1.435764</td>\n",
       "      <td>-1.441905</td>\n",
       "      <td>-0.947610</td>\n",
       "      <td>-1.711986</td>\n",
       "      <td>...</td>\n",
       "      <td>-0.165613</td>\n",
       "      <td>-0.031850</td>\n",
       "      <td>-0.403814</td>\n",
       "      <td>-0.940624</td>\n",
       "      <td>-0.658449</td>\n",
       "      <td>-0.603358</td>\n",
       "      <td>-0.624026</td>\n",
       "      <td>-0.329823</td>\n",
       "      <td>-0.882999</td>\n",
       "      <td>-0.051753</td>\n",
       "    </tr>\n",
       "    <tr>\n",
       "      <th>2020-01-03 00:00:00+00:00</th>\n",
       "      <td>0.127966</td>\n",
       "      <td>-0.605562</td>\n",
       "      <td>-1.473383</td>\n",
       "      <td>-1.854182</td>\n",
       "      <td>-1.474698</td>\n",
       "      <td>-0.714247</td>\n",
       "      <td>-1.473018</td>\n",
       "      <td>-1.475328</td>\n",
       "      <td>-0.994208</td>\n",
       "      <td>-1.740928</td>\n",
       "      <td>...</td>\n",
       "      <td>-1.218044</td>\n",
       "      <td>-0.165705</td>\n",
       "      <td>-0.323507</td>\n",
       "      <td>-1.093035</td>\n",
       "      <td>-0.219528</td>\n",
       "      <td>-0.431776</td>\n",
       "      <td>-0.583297</td>\n",
       "      <td>-0.173955</td>\n",
       "      <td>-1.077259</td>\n",
       "      <td>-0.282331</td>\n",
       "    </tr>\n",
       "    <tr>\n",
       "      <th>2020-01-06 00:00:00+00:00</th>\n",
       "      <td>0.114498</td>\n",
       "      <td>-0.576518</td>\n",
       "      <td>-1.453365</td>\n",
       "      <td>-1.831192</td>\n",
       "      <td>-1.455297</td>\n",
       "      <td>-0.687103</td>\n",
       "      <td>-1.454049</td>\n",
       "      <td>-1.457502</td>\n",
       "      <td>-0.986927</td>\n",
       "      <td>-1.714037</td>\n",
       "      <td>...</td>\n",
       "      <td>0.285435</td>\n",
       "      <td>-0.507647</td>\n",
       "      <td>-0.352139</td>\n",
       "      <td>-1.352033</td>\n",
       "      <td>-0.741162</td>\n",
       "      <td>-0.562411</td>\n",
       "      <td>-0.765055</td>\n",
       "      <td>1.312639</td>\n",
       "      <td>-0.956669</td>\n",
       "      <td>-0.531391</td>\n",
       "    </tr>\n",
       "    <tr>\n",
       "      <th>2020-01-07 00:00:00+00:00</th>\n",
       "      <td>0.096546</td>\n",
       "      <td>-0.595459</td>\n",
       "      <td>-1.467284</td>\n",
       "      <td>-1.831691</td>\n",
       "      <td>-1.469650</td>\n",
       "      <td>-0.699771</td>\n",
       "      <td>-1.468065</td>\n",
       "      <td>-1.469916</td>\n",
       "      <td>-1.009256</td>\n",
       "      <td>-1.715403</td>\n",
       "      <td>...</td>\n",
       "      <td>-1.480993</td>\n",
       "      <td>-0.765139</td>\n",
       "      <td>-0.563770</td>\n",
       "      <td>-1.330655</td>\n",
       "      <td>-1.099646</td>\n",
       "      <td>-0.643603</td>\n",
       "      <td>-0.967855</td>\n",
       "      <td>-0.699420</td>\n",
       "      <td>-1.060091</td>\n",
       "      <td>-0.393960</td>\n",
       "    </tr>\n",
       "    <tr>\n",
       "      <th>2020-01-08 00:00:00+00:00</th>\n",
       "      <td>0.077090</td>\n",
       "      <td>-0.576518</td>\n",
       "      <td>-1.441479</td>\n",
       "      <td>-1.804703</td>\n",
       "      <td>-1.442519</td>\n",
       "      <td>-0.688913</td>\n",
       "      <td>-1.441916</td>\n",
       "      <td>-1.444131</td>\n",
       "      <td>-0.995665</td>\n",
       "      <td>-1.682359</td>\n",
       "      <td>...</td>\n",
       "      <td>0.013332</td>\n",
       "      <td>-0.385941</td>\n",
       "      <td>-0.461661</td>\n",
       "      <td>-1.142576</td>\n",
       "      <td>-0.442168</td>\n",
       "      <td>-0.402468</td>\n",
       "      <td>-0.401229</td>\n",
       "      <td>0.114841</td>\n",
       "      <td>-1.077175</td>\n",
       "      <td>-0.726284</td>\n",
       "    </tr>\n",
       "  </tbody>\n",
       "</table>\n",
       "<p>5 rows × 60 columns</p>\n",
       "</div>"
      ],
      "text/plain": [
       "Price                     Adj Close                                          \\\n",
       "Ticker                          AGG      IEFA       IVV       QQQ       SPY   \n",
       "Date                                                                          \n",
       "2020-01-02 00:00:00+00:00  0.078595 -0.502013 -1.434127 -1.821196 -1.435895   \n",
       "2020-01-03 00:00:00+00:00  0.127966 -0.605562 -1.473383 -1.854182 -1.474698   \n",
       "2020-01-06 00:00:00+00:00  0.114498 -0.576518 -1.453365 -1.831192 -1.455297   \n",
       "2020-01-07 00:00:00+00:00  0.096546 -0.595459 -1.467284 -1.831691 -1.469650   \n",
       "2020-01-08 00:00:00+00:00  0.077090 -0.576518 -1.441479 -1.804703 -1.442519   \n",
       "\n",
       "Price                                                                        \\\n",
       "Ticker                          VEA       VOO       VTI       VTV       VUG   \n",
       "Date                                                                          \n",
       "2020-01-02 00:00:00+00:00 -0.616525 -1.435764 -1.441905 -0.947610 -1.711986   \n",
       "2020-01-03 00:00:00+00:00 -0.714247 -1.473018 -1.475328 -0.994208 -1.740928   \n",
       "2020-01-06 00:00:00+00:00 -0.687103 -1.454049 -1.457502 -0.986927 -1.714037   \n",
       "2020-01-07 00:00:00+00:00 -0.699771 -1.468065 -1.469916 -1.009256 -1.715403   \n",
       "2020-01-08 00:00:00+00:00 -0.688913 -1.441916 -1.444131 -0.995665 -1.682359   \n",
       "\n",
       "Price                      ...    Volume                                \\\n",
       "Ticker                     ...       AGG      IEFA       IVV       QQQ   \n",
       "Date                       ...                                           \n",
       "2020-01-02 00:00:00+00:00  ... -0.165613 -0.031850 -0.403814 -0.940624   \n",
       "2020-01-03 00:00:00+00:00  ... -1.218044 -0.165705 -0.323507 -1.093035   \n",
       "2020-01-06 00:00:00+00:00  ...  0.285435 -0.507647 -0.352139 -1.352033   \n",
       "2020-01-07 00:00:00+00:00  ... -1.480993 -0.765139 -0.563770 -1.330655   \n",
       "2020-01-08 00:00:00+00:00  ...  0.013332 -0.385941 -0.461661 -1.142576   \n",
       "\n",
       "Price                                                                        \\\n",
       "Ticker                          SPY       VEA       VOO       VTI       VTV   \n",
       "Date                                                                          \n",
       "2020-01-02 00:00:00+00:00 -0.658449 -0.603358 -0.624026 -0.329823 -0.882999   \n",
       "2020-01-03 00:00:00+00:00 -0.219528 -0.431776 -0.583297 -0.173955 -1.077259   \n",
       "2020-01-06 00:00:00+00:00 -0.741162 -0.562411 -0.765055  1.312639 -0.956669   \n",
       "2020-01-07 00:00:00+00:00 -1.099646 -0.643603 -0.967855 -0.699420 -1.060091   \n",
       "2020-01-08 00:00:00+00:00 -0.442168 -0.402468 -0.401229  0.114841 -1.077175   \n",
       "\n",
       "Price                                \n",
       "Ticker                          VUG  \n",
       "Date                                 \n",
       "2020-01-02 00:00:00+00:00 -0.051753  \n",
       "2020-01-03 00:00:00+00:00 -0.282331  \n",
       "2020-01-06 00:00:00+00:00 -0.531391  \n",
       "2020-01-07 00:00:00+00:00 -0.393960  \n",
       "2020-01-08 00:00:00+00:00 -0.726284  \n",
       "\n",
       "[5 rows x 60 columns]"
      ]
     },
     "execution_count": 11,
     "metadata": {},
     "output_type": "execute_result"
    }
   ],
   "source": [
    "df_train.head()"
   ]
  },
  {
   "cell_type": "code",
   "execution_count": null,
   "id": "35a4ca6b-c7bf-40b1-83b6-226932facd10",
   "metadata": {},
   "outputs": [],
   "source": []
  },
  {
   "cell_type": "markdown",
   "id": "d8ad607e-4aac-47e4-9702-77a6cd2693ef",
   "metadata": {},
   "source": [
    "* `1194` : trading days\n",
    "* (1194, 60) --> (1194, 10, 6, 15) \n",
    "* 1194 : num_samples,\n",
    "* 10 : etfs,\n",
    "* 6 : OHLC, Add CLose, Volume,\n",
    "* 15 : bicket size (days), for time being only 1"
   ]
  },
  {
   "cell_type": "code",
   "execution_count": null,
   "id": "88d80d1c-ba48-43a0-9a63-9c9d9fd2b3f0",
   "metadata": {},
   "outputs": [],
   "source": []
  },
  {
   "cell_type": "code",
   "execution_count": 12,
   "id": "f0845da4-002f-42ae-aacd-aba44284c6a6",
   "metadata": {},
   "outputs": [
    {
     "data": {
      "text/plain": [
       "(Timestamp('2020-01-02 00:00:00+0000', tz='UTC'),\n",
       " Timestamp('2024-03-28 00:00:00+0000', tz='UTC'))"
      ]
     },
     "execution_count": 12,
     "metadata": {},
     "output_type": "execute_result"
    }
   ],
   "source": [
    "df_train.index.min(), df_train.index.max()"
   ]
  },
  {
   "cell_type": "code",
   "execution_count": 13,
   "id": "5d0c675c-f9dd-4178-a027-a183e6335e03",
   "metadata": {},
   "outputs": [
    {
     "data": {
      "text/plain": [
       "(Timestamp('2024-04-01 00:00:00+0000', tz='UTC'),\n",
       " Timestamp('2024-10-01 00:00:00+0000', tz='UTC'))"
      ]
     },
     "execution_count": 13,
     "metadata": {},
     "output_type": "execute_result"
    }
   ],
   "source": [
    "df_test.index.min(), df_test.index.max()"
   ]
  },
  {
   "cell_type": "code",
   "execution_count": 14,
   "id": "4e7ae600-543f-4c86-9319-42893fa0214d",
   "metadata": {},
   "outputs": [],
   "source": [
    "# df.columns"
   ]
  },
  {
   "cell_type": "code",
   "execution_count": 15,
   "id": "9a679d45-4358-4de1-a4c4-2071d924aa11",
   "metadata": {},
   "outputs": [],
   "source": [
    "df_train.to_csv(data_dir / 'top10_etf_train.csv')\n",
    "df_test.to_csv(data_dir / 'top10_etf_test.csv')"
   ]
  },
  {
   "cell_type": "code",
   "execution_count": 16,
   "id": "138150d7-1c4b-4da2-a345-391760eb7ab6",
   "metadata": {},
   "outputs": [
    {
     "data": {
      "text/plain": [
       "(128, 60)"
      ]
     },
     "execution_count": 16,
     "metadata": {},
     "output_type": "execute_result"
    }
   ],
   "source": [
    "data_numpy_test = df_test.values\n",
    "data_numpy_test.shape"
   ]
  },
  {
   "cell_type": "code",
   "execution_count": 17,
   "id": "4dbee1bc-2e9c-4315-9ae3-1eb4b02da223",
   "metadata": {},
   "outputs": [
    {
     "data": {
      "text/plain": [
       "(1067, 60)"
      ]
     },
     "execution_count": 17,
     "metadata": {},
     "output_type": "execute_result"
    }
   ],
   "source": [
    "data_numpy = df_train.values\n",
    "data_numpy.shape"
   ]
  },
  {
   "cell_type": "code",
   "execution_count": 19,
   "id": "59a2426e-41c7-43a4-9096-b943404b2f37",
   "metadata": {},
   "outputs": [],
   "source": [
    "arrays = {}\n",
    "arrays_test = {}\n",
    "for level in df_train.columns.levels[1]:\n",
    "    arrays[level] = df_train.xs(level, axis=1, level=1).to_numpy()\n",
    "    arrays_test[level] = df_test.xs(level, axis=1, level=1).to_numpy()"
   ]
  },
  {
   "cell_type": "code",
   "execution_count": 20,
   "id": "0334be23-a238-4bd7-b0e9-1082be9ccb47",
   "metadata": {},
   "outputs": [
    {
     "data": {
      "text/plain": [
       "dict_keys(['AGG', 'IEFA', 'IVV', 'QQQ', 'SPY', 'VEA', 'VOO', 'VTI', 'VTV', 'VUG'])"
      ]
     },
     "execution_count": 20,
     "metadata": {},
     "output_type": "execute_result"
    }
   ],
   "source": [
    "arrays.keys()"
   ]
  },
  {
   "cell_type": "code",
   "execution_count": 21,
   "id": "395c99f6-9762-432f-b1ed-bbb1e8762f8a",
   "metadata": {},
   "outputs": [
    {
     "data": {
      "text/plain": [
       "(1067, 6)"
      ]
     },
     "execution_count": 21,
     "metadata": {},
     "output_type": "execute_result"
    }
   ],
   "source": [
    "arrays['AGG'].shape"
   ]
  },
  {
   "cell_type": "code",
   "execution_count": null,
   "id": "61bae5a9-37b1-4c72-b646-9324ea6f36b9",
   "metadata": {},
   "outputs": [],
   "source": []
  },
  {
   "cell_type": "markdown",
   "id": "1baf57e4-9e4c-440a-b4ac-92eb0fd0dcca",
   "metadata": {},
   "source": [
    "# Tabular data --> Temporal Graph data"
   ]
  },
  {
   "cell_type": "code",
   "execution_count": 22,
   "id": "a09e07be-663f-4089-a15b-139f65bd7bb4",
   "metadata": {},
   "outputs": [],
   "source": [
    "num_timesteps_in = 15\n",
    "num_timesteps_out = 15"
   ]
  },
  {
   "cell_type": "code",
   "execution_count": 23,
   "id": "6c28749a-7998-48e3-be51-a6a62d9cee0d",
   "metadata": {},
   "outputs": [
    {
     "data": {
      "text/plain": [
       "1038"
      ]
     },
     "execution_count": 23,
     "metadata": {},
     "output_type": "execute_result"
    }
   ],
   "source": [
    "indices = [(i, i + num_timesteps_in + num_timesteps_out) for i in range(data_numpy.shape[0] - num_timesteps_in - num_timesteps_out + 1)]\n",
    "len(indices)"
   ]
  },
  {
   "cell_type": "code",
   "execution_count": 24,
   "id": "db594012-34bf-427f-a5fe-090f7c2a7233",
   "metadata": {},
   "outputs": [
    {
     "data": {
      "text/plain": [
       "[(0, 30), (1, 31), (2, 32), (3, 33), (4, 34)]"
      ]
     },
     "execution_count": 24,
     "metadata": {},
     "output_type": "execute_result"
    }
   ],
   "source": [
    "indices[:5]"
   ]
  },
  {
   "cell_type": "code",
   "execution_count": 25,
   "id": "0c3f16b7-7fd1-4c29-a7fe-eb40f053a99c",
   "metadata": {},
   "outputs": [
    {
     "data": {
      "text/plain": [
       "[(1033, 1063), (1034, 1064), (1035, 1065), (1036, 1066), (1037, 1067)]"
      ]
     },
     "execution_count": 25,
     "metadata": {},
     "output_type": "execute_result"
    }
   ],
   "source": [
    "indices[-5:]"
   ]
  },
  {
   "cell_type": "code",
   "execution_count": null,
   "id": "c96a89d2-9737-470b-94dc-8195d6598cda",
   "metadata": {},
   "outputs": [],
   "source": []
  },
  {
   "cell_type": "code",
   "execution_count": 27,
   "id": "29b52222-77af-4146-a031-3dfd94295441",
   "metadata": {},
   "outputs": [
    {
     "data": {
      "text/plain": [
       "((1038, 10, 6, 15), (1038, 10, 15))"
      ]
     },
     "execution_count": 27,
     "metadata": {},
     "output_type": "execute_result"
    }
   ],
   "source": [
    "features = []\n",
    "targets = []\n",
    "for i, j in indices:\n",
    "    \n",
    "    features_bucket_list = []\n",
    "    target_bucket_list = []\n",
    "    \n",
    "    for etf in arrays.keys():\n",
    "        features_bucket_list.append(arrays[etf][i : i+num_timesteps_in, :].T)\n",
    "        target_bucket_list.append(arrays[etf][i+num_timesteps_in : j, 0].T)\n",
    "    \n",
    "    features_array_stack = np.stack(features_bucket_list, axis=0)\n",
    "    target_array_stack = np.stack(target_bucket_list, axis=0)\n",
    "    \n",
    "    features.append(features_array_stack)\n",
    "    targets.append(target_array_stack)\n",
    "\n",
    "train_input = np.stack(features, axis=0)\n",
    "train_target = np.stack(targets, axis=0)\n",
    "\n",
    "train_input.shape, train_target.shape"
   ]
  },
  {
   "cell_type": "code",
   "execution_count": null,
   "id": "7bb54672-7caa-449c-af06-13476a9efabb",
   "metadata": {},
   "outputs": [],
   "source": []
  },
  {
   "cell_type": "code",
   "execution_count": 28,
   "id": "8a54df9e-e2cd-46fc-aed3-b4308fa8ef04",
   "metadata": {},
   "outputs": [
    {
     "data": {
      "text/plain": [
       "99"
      ]
     },
     "execution_count": 28,
     "metadata": {},
     "output_type": "execute_result"
    }
   ],
   "source": [
    "indices = [(i, i + num_timesteps_in + num_timesteps_out) for i in range(data_numpy_test.shape[0] - num_timesteps_in - num_timesteps_out + 1)]\n",
    "len(indices)"
   ]
  },
  {
   "cell_type": "code",
   "execution_count": 29,
   "id": "dd3fc02c-20e1-4180-b08f-ba897bdc3363",
   "metadata": {},
   "outputs": [
    {
     "data": {
      "text/plain": [
       "[(0, 30), (1, 31), (2, 32), (3, 33), (4, 34)]"
      ]
     },
     "execution_count": 29,
     "metadata": {},
     "output_type": "execute_result"
    }
   ],
   "source": [
    "indices[:5]"
   ]
  },
  {
   "cell_type": "code",
   "execution_count": 30,
   "id": "6c1fbfba-83c2-4616-9376-706d9ee0e336",
   "metadata": {},
   "outputs": [
    {
     "data": {
      "text/plain": [
       "[(94, 124), (95, 125), (96, 126), (97, 127), (98, 128)]"
      ]
     },
     "execution_count": 30,
     "metadata": {},
     "output_type": "execute_result"
    }
   ],
   "source": [
    "indices[-5:]"
   ]
  },
  {
   "cell_type": "code",
   "execution_count": 32,
   "id": "762ec60a-c004-4330-a079-91e3873a1135",
   "metadata": {},
   "outputs": [
    {
     "data": {
      "text/plain": [
       "((99, 10, 6, 15), (99, 10, 15))"
      ]
     },
     "execution_count": 32,
     "metadata": {},
     "output_type": "execute_result"
    }
   ],
   "source": [
    "features = []\n",
    "targets = []\n",
    "for i, j in indices:\n",
    "    \n",
    "    features_bucket_list = []\n",
    "    target_bucket_list = []\n",
    "    \n",
    "    for etf in arrays_test.keys():\n",
    "        features_bucket_list.append(arrays_test[etf][i : i+num_timesteps_in, :].T)\n",
    "        target_bucket_list.append(arrays_test[etf][i+num_timesteps_in : j, 0].T)\n",
    "    \n",
    "    features_array_stack = np.stack(features_bucket_list, axis=0)\n",
    "    target_array_stack = np.stack(target_bucket_list, axis=0)\n",
    "    \n",
    "    features.append(features_array_stack)\n",
    "    targets.append(target_array_stack)\n",
    "\n",
    "test_input = np.stack(features, axis=0)\n",
    "test_target = np.stack(targets, axis=0)\n",
    "\n",
    "test_input.shape, test_target.shape"
   ]
  },
  {
   "cell_type": "code",
   "execution_count": null,
   "id": "3a3276de-aebd-4016-a991-25baf1978e55",
   "metadata": {},
   "outputs": [],
   "source": []
  },
  {
   "cell_type": "code",
   "execution_count": null,
   "id": "d8a1203f-5527-44bb-a304-ee36ae6f37c4",
   "metadata": {},
   "outputs": [],
   "source": []
  },
  {
   "cell_type": "code",
   "execution_count": 33,
   "id": "122a1b37-1303-4acf-b6f8-80b13cf51901",
   "metadata": {},
   "outputs": [
    {
     "data": {
      "text/plain": [
       "99"
      ]
     },
     "execution_count": 33,
     "metadata": {},
     "output_type": "execute_result"
    }
   ],
   "source": [
    "len(targets)"
   ]
  },
  {
   "cell_type": "code",
   "execution_count": 34,
   "id": "3bb81472-727c-4117-b0b9-31c3250176c8",
   "metadata": {},
   "outputs": [
    {
     "data": {
      "text/plain": [
       "((1038, 10, 6, 15), (1038, 10, 15))"
      ]
     },
     "execution_count": 34,
     "metadata": {},
     "output_type": "execute_result"
    }
   ],
   "source": [
    "train_input.shape, train_target.shape"
   ]
  },
  {
   "cell_type": "code",
   "execution_count": 35,
   "id": "fc05ec13-c988-4011-aa1f-04bbf126152c",
   "metadata": {},
   "outputs": [
    {
     "data": {
      "text/plain": [
       "((10, 6, 15), (10, 15))"
      ]
     },
     "execution_count": 35,
     "metadata": {},
     "output_type": "execute_result"
    }
   ],
   "source": [
    "features_array_stack.shape, target_array_stack.shape"
   ]
  },
  {
   "cell_type": "code",
   "execution_count": 36,
   "id": "208d9d96-aa83-4afc-b15b-b879648f5ad5",
   "metadata": {},
   "outputs": [
    {
     "data": {
      "text/plain": [
       "(10, 10)"
      ]
     },
     "execution_count": 36,
     "metadata": {},
     "output_type": "execute_result"
    }
   ],
   "source": [
    "len(features_bucket_list), len(target_bucket_list)"
   ]
  },
  {
   "cell_type": "code",
   "execution_count": 37,
   "id": "fc1a891b-7584-45d2-9f68-ba68e237b8c3",
   "metadata": {},
   "outputs": [
    {
     "data": {
      "text/plain": [
       "((6, 15), (15,))"
      ]
     },
     "execution_count": 37,
     "metadata": {},
     "output_type": "execute_result"
    }
   ],
   "source": [
    "features_bucket_list[0].shape, target_bucket_list[0].shape"
   ]
  },
  {
   "cell_type": "code",
   "execution_count": null,
   "id": "892a4574-43a3-4862-9d87-97adb4322180",
   "metadata": {},
   "outputs": [],
   "source": []
  },
  {
   "cell_type": "markdown",
   "id": "9c630c5e-21e0-45c9-b278-cee1a23d7f2e",
   "metadata": {},
   "source": [
    "# DataLoaders"
   ]
  },
  {
   "cell_type": "code",
   "execution_count": 38,
   "id": "3a88f601-9c52-497a-9272-7c386858efe3",
   "metadata": {},
   "outputs": [],
   "source": [
    "# train_input = np.array(train_dataset.features) # (27399, 207, 2, 12) --> (, 10, 6, 15)\n",
    "# train_target = np.array(train_dataset.targets) # (27399, 207, 12) --> (, 10, 15)\n",
    "train_x_tensor = torch.from_numpy(train_input).type(torch.FloatTensor).to(DEVICE)  # (B, N, F, T)\n",
    "train_target_tensor = torch.from_numpy(train_target).type(torch.FloatTensor).to(DEVICE)  # (B, N, T)\n",
    "train_dataset_new = torch.utils.data.TensorDataset(train_x_tensor, train_target_tensor)\n",
    "train_loader = torch.utils.data.DataLoader(train_dataset_new, batch_size=batch_size, shuffle=shuffle,drop_last=True)"
   ]
  },
  {
   "cell_type": "code",
   "execution_count": 39,
   "id": "5c9f16a7-0051-4c7f-8bad-4e7d89b5e882",
   "metadata": {},
   "outputs": [],
   "source": [
    "test_x_tensor = torch.from_numpy(test_input).type(torch.FloatTensor).to(DEVICE)  # (B, N, F, T)\n",
    "test_target_tensor = torch.from_numpy(test_target).type(torch.FloatTensor).to(DEVICE)  # (B, N, T)\n",
    "test_dataset_new = torch.utils.data.TensorDataset(test_x_tensor, test_target_tensor)\n",
    "test_loader = torch.utils.data.DataLoader(test_dataset_new, batch_size=batch_size, shuffle=shuffle,drop_last=True)"
   ]
  },
  {
   "cell_type": "markdown",
   "id": "49507816-f690-4ed6-af89-c7c663b3ce97",
   "metadata": {},
   "source": [
    "# A3TGCN Model"
   ]
  },
  {
   "cell_type": "code",
   "execution_count": 40,
   "id": "f1a6a93d-3ee8-43c6-b071-75d3deb0bb7e",
   "metadata": {},
   "outputs": [
    {
     "data": {
      "text/plain": [
       "TemporalGNN(\n",
       "  (tgnn): A3TGCN2(\n",
       "    (_base_tgcn): TGCN2(\n",
       "      (conv_z): GCNConv(6, 32)\n",
       "      (linear_z): Linear(in_features=64, out_features=32, bias=True)\n",
       "      (conv_r): GCNConv(6, 32)\n",
       "      (linear_r): Linear(in_features=64, out_features=32, bias=True)\n",
       "      (conv_h): GCNConv(6, 32)\n",
       "      (linear_h): Linear(in_features=64, out_features=32, bias=True)\n",
       "    )\n",
       "  )\n",
       "  (linear): Linear(in_features=32, out_features=15, bias=True)\n",
       ")"
      ]
     },
     "execution_count": 40,
     "metadata": {},
     "output_type": "execute_result"
    }
   ],
   "source": [
    "\n",
    "class TemporalGNN(torch.nn.Module):\n",
    "    def __init__(self, node_features, periods, batch_size):\n",
    "        super(TemporalGNN, self).__init__()\n",
    "        # Attention Temporal Graph Convolutional Cell\n",
    "        self.tgnn = A3TGCN2(in_channels = node_features,  \n",
    "                            out_channels = 32, \n",
    "                            periods = periods,\n",
    "                            batch_size = batch_size) # node_features=2, periods=12\n",
    "        # Equals single-shot prediction\n",
    "        self.linear = torch.nn.Linear(32, periods)\n",
    "\n",
    "    def forward(self, x, edge_index):\n",
    "        \"\"\"\n",
    "        x = Node features for T time steps\n",
    "        edge_index = Graph edge indices\n",
    "        \"\"\"\n",
    "        h = self.tgnn(x, edge_index) # x [b, 207, 2, 12]  returns h [b, 207, 12]\n",
    "        h = F.relu(h) \n",
    "        h = self.linear(h)\n",
    "        return h\n",
    "\n",
    "TemporalGNN(node_features=6, periods=15, batch_size=20)"
   ]
  },
  {
   "cell_type": "code",
   "execution_count": null,
   "id": "1c99a9ba-4864-482a-8d71-f012de8cbbad",
   "metadata": {},
   "outputs": [],
   "source": []
  },
  {
   "cell_type": "markdown",
   "id": "f4a2cb40-c85a-4fc1-ab40-c1692001fd57",
   "metadata": {},
   "source": [
    "# Training"
   ]
  },
  {
   "cell_type": "code",
   "execution_count": 41,
   "id": "50f902eb-86f3-4d72-8435-e20f6ee0ce3c",
   "metadata": {},
   "outputs": [
    {
     "data": {
      "text/plain": [
       "(1038, 10, 6, 15)"
      ]
     },
     "execution_count": 41,
     "metadata": {},
     "output_type": "execute_result"
    }
   ],
   "source": [
    "train_input.shape"
   ]
  },
  {
   "cell_type": "code",
   "execution_count": 42,
   "id": "23aee6db-688c-4958-b3b8-1571ad477e7e",
   "metadata": {},
   "outputs": [
    {
     "name": "stdout",
     "output_type": "stream",
     "text": [
      "Net's state_dict:\n",
      "tgnn._attention \t torch.Size([15])\n",
      "tgnn._base_tgcn.conv_z.bias \t torch.Size([32])\n",
      "tgnn._base_tgcn.conv_z.lin.weight \t torch.Size([32, 6])\n",
      "tgnn._base_tgcn.linear_z.weight \t torch.Size([32, 64])\n",
      "tgnn._base_tgcn.linear_z.bias \t torch.Size([32])\n",
      "tgnn._base_tgcn.conv_r.bias \t torch.Size([32])\n",
      "tgnn._base_tgcn.conv_r.lin.weight \t torch.Size([32, 6])\n",
      "tgnn._base_tgcn.linear_r.weight \t torch.Size([32, 64])\n",
      "tgnn._base_tgcn.linear_r.bias \t torch.Size([32])\n",
      "tgnn._base_tgcn.conv_h.bias \t torch.Size([32])\n",
      "tgnn._base_tgcn.conv_h.lin.weight \t torch.Size([32, 6])\n",
      "tgnn._base_tgcn.linear_h.weight \t torch.Size([32, 64])\n",
      "tgnn._base_tgcn.linear_h.bias \t torch.Size([32])\n",
      "linear.weight \t torch.Size([15, 32])\n",
      "linear.bias \t torch.Size([15])\n",
      "Net's total params: 7422\n",
      "Optimizer's state_dict:\n",
      "state \t {}\n",
      "param_groups \t [{'lr': 0.001, 'betas': (0.9, 0.999), 'eps': 1e-08, 'weight_decay': 0, 'amsgrad': False, 'maximize': False, 'foreach': None, 'capturable': False, 'differentiable': False, 'fused': None, 'params': [0, 1, 2, 3, 4, 5, 6, 7, 8, 9, 10, 11, 12, 13, 14]}]\n"
     ]
    }
   ],
   "source": [
    "# Create model and optimizers\n",
    "# model = TemporalGNN(node_features=6, periods=15, batch_size=batch_size).to(DEVICE)\n",
    "model = TemporalGNN(node_features = train_input.shape[2], \n",
    "                    periods = train_input.shape[-1], \n",
    "                    batch_size=batch_size).to(DEVICE)\n",
    "\n",
    "optimizer = torch.optim.Adam(model.parameters(), lr=0.001)\n",
    "loss_fn = torch.nn.MSELoss()\n",
    "\n",
    "print('Net\\'s state_dict:')\n",
    "total_param = 0\n",
    "for param_tensor in model.state_dict():\n",
    "    print(param_tensor, '\\t', model.state_dict()[param_tensor].size())\n",
    "    total_param += np.prod(model.state_dict()[param_tensor].size())\n",
    "print('Net\\'s total params:', total_param)\n",
    "#--------------------------------------------------\n",
    "print('Optimizer\\'s state_dict:')\n",
    "for var_name in optimizer.state_dict():\n",
    "    print(var_name, '\\t', optimizer.state_dict()[var_name])"
   ]
  },
  {
   "cell_type": "code",
   "execution_count": null,
   "id": "f1135c77-c1da-4dfd-a066-9d147b952502",
   "metadata": {},
   "outputs": [],
   "source": []
  },
  {
   "cell_type": "markdown",
   "id": "1ef8a004-a5fa-4d8c-bb5c-94a259859718",
   "metadata": {},
   "source": [
    "# Train"
   ]
  },
  {
   "cell_type": "code",
   "execution_count": 43,
   "id": "b0242383-550f-43d4-a4d0-c0836cac30bb",
   "metadata": {},
   "outputs": [],
   "source": [
    "num_nodes = 10"
   ]
  },
  {
   "cell_type": "code",
   "execution_count": 44,
   "id": "d49515a1-61fc-4579-b4af-1aaea00d9939",
   "metadata": {},
   "outputs": [],
   "source": [
    "edge_index = torch.tensor([(i, j) for i in range(num_nodes) for j in range(num_nodes)], dtype=torch.long).t().contiguous()\n"
   ]
  },
  {
   "cell_type": "code",
   "execution_count": 45,
   "id": "2134aae8-e48e-48fb-a921-c0815efb4e21",
   "metadata": {},
   "outputs": [],
   "source": [
    "from torch_geometric_temporal.signal import StaticGraphTemporalSignal\n",
    "\n",
    "# Create a StaticGraphTemporalSignal object\n",
    "dataset = StaticGraphTemporalSignal(edge_index=edge_index, edge_weight=None, features=[train_input], targets=[train_target])\n",
    "dataset_test = StaticGraphTemporalSignal(edge_index=edge_index, edge_weight=None, features=[test_input], targets=[test_target])"
   ]
  },
  {
   "cell_type": "code",
   "execution_count": 46,
   "id": "09b3f632-eaf9-47a8-a889-1e5c4f94fda4",
   "metadata": {},
   "outputs": [
    {
     "name": "stdout",
     "output_type": "stream",
     "text": [
      "torch.Size([1038, 10, 6, 15]) torch.Size([2, 100])\n"
     ]
    }
   ],
   "source": [
    "for snapshot in dataset:\n",
    "    print(snapshot.x.shape, snapshot.edge_index.shape)\n",
    "    break"
   ]
  },
  {
   "cell_type": "code",
   "execution_count": 49,
   "id": "689a8c69-c62e-4198-aa25-c8c011bda643",
   "metadata": {},
   "outputs": [],
   "source": [
    "for snapshot in dataset:\n",
    "    static_edge_index = snapshot.edge_index.to(DEVICE)\n",
    "    break;"
   ]
  },
  {
   "cell_type": "code",
   "execution_count": 50,
   "id": "0a67f6b8-e461-43ca-aa0c-42a0cbb6a39e",
   "metadata": {},
   "outputs": [],
   "source": [
    "def mean_absolute_error(y_true, y_pred):\n",
    "    return torch.mean(torch.abs(y_true - y_pred))\n",
    "\n",
    "def mean_absolute_percentage_error(y_true, y_pred):\n",
    "    return torch.mean(torch.abs((y_true - y_pred) / y_true)) * 100"
   ]
  },
  {
   "cell_type": "code",
   "execution_count": 51,
   "id": "b862b473-39d0-4b0e-8971-45e08a7269b9",
   "metadata": {},
   "outputs": [
    {
     "name": "stdout",
     "output_type": "stream",
     "text": [
      "Epoch 0 train RMSE: 9.3241E-01, MAE: 0.79, MAPE: 1.3238E+02\n",
      "Epoch 10 train RMSE: 3.4878E-01, MAE: 0.42, MAPE: 1.8721E+02\n",
      "Epoch 20 train RMSE: 3.2975E-01, MAE: 0.39, MAPE: 1.6758E+02\n",
      "Epoch 30 train RMSE: 3.2175E-01, MAE: 0.38, MAPE: 1.6531E+02\n",
      "Epoch 40 train RMSE: 3.1750E-01, MAE: 0.38, MAPE: 1.6346E+02\n",
      "Epoch 50 train RMSE: 3.1279E-01, MAE: 0.38, MAPE: 1.5913E+02\n"
     ]
    }
   ],
   "source": [
    "model.train()\n",
    "\n",
    "for epoch in range(5001):\n",
    "    step = 0\n",
    "    \n",
    "    loss_list = []\n",
    "    total_mape = []\n",
    "    total_mae = []\n",
    "    \n",
    "    for encoder_inputs, labels in train_loader:\n",
    "        y_hat = model(encoder_inputs, static_edge_index)         # Get model predictions\n",
    "        loss = loss_fn(y_hat, labels) # Mean squared error #loss = torch.mean((y_hat-labels)**2)  sqrt to change it to rmse\n",
    "        loss.backward()\n",
    "        optimizer.step()\n",
    "        optimizer.zero_grad()\n",
    "        step= step+ 1\n",
    "        \n",
    "        loss_list.append(loss.item())\n",
    "        total_mape.append(mean_absolute_percentage_error(labels, y_hat))\n",
    "        total_mae.append(mean_absolute_error(labels, y_hat))\n",
    "        \n",
    "        if step % 100 == 0 :\n",
    "            print(sum(loss_list)/len(loss_list))\n",
    "    \n",
    "    if epoch % 10 == 0 :\n",
    "        print(f\"Epoch {epoch} train RMSE: {sum(loss_list)/len(loss_list):.4E}, MAE: {sum(total_mae)/len(total_mae):.4E}, MAPE: {sum(total_mape)/len(total_mape):.2f}%\")"
   ]
  },
  {
   "cell_type": "code",
   "execution_count": null,
   "id": "22909c90-8fd4-46f1-843f-636864e9c846",
   "metadata": {},
   "outputs": [],
   "source": []
  },
  {
   "cell_type": "code",
   "execution_count": null,
   "id": "9723970c-2d16-4b14-bf4d-c6f100f276a1",
   "metadata": {},
   "outputs": [],
   "source": []
  },
  {
   "cell_type": "markdown",
   "id": "76556eb3-c13f-4cb7-ab7f-6c00757ab36c",
   "metadata": {},
   "source": [
    "# Eval"
   ]
  },
  {
   "cell_type": "code",
   "execution_count": 52,
   "id": "7ab0f3b3-8cfa-4096-8b77-607d4ba21c87",
   "metadata": {},
   "outputs": [
    {
     "name": "stdout",
     "output_type": "stream",
     "text": [
      "Test MSE: 0.9036\n",
      "Test MAE: 0.7820\n",
      "Test MAPE: 131.3719%\n"
     ]
    }
   ],
   "source": [
    "model.eval()\n",
    "step = 0\n",
    "# Store for analysis\n",
    "total_loss = []\n",
    "total_mape = []\n",
    "total_mae = []\n",
    "\n",
    "for encoder_inputs, labels in test_loader:\n",
    "    # Get model predictions\n",
    "    y_hat = model(encoder_inputs, static_edge_index)\n",
    "    # Mean squared error\n",
    "    loss = loss_fn(y_hat, labels)\n",
    "    total_loss.append(loss.item())\n",
    "    total_mape.append(mean_absolute_percentage_error(labels, y_hat))\n",
    "    total_mae.append(mean_absolute_error(labels, y_hat))\n",
    "    # Store for analysis below\n",
    "    #test_labels.append(labels)\n",
    "    #predictions.append(y_hat)\n",
    "\n",
    "print(\"Test MSE: {:.4f}\".format(sum(total_loss)/len(total_loss)))\n",
    "print(\"Test MAE: {:.4f}\".format(sum(total_mae)/len(total_mae)))\n",
    "print(\"Test MAPE: {:.4f}%\".format(sum(total_mape)/len(total_mape)))\n",
    "\n"
   ]
  },
  {
   "cell_type": "code",
   "execution_count": 53,
   "id": "5ecf5923-959a-45a6-a558-0abca05a6f7d",
   "metadata": {},
   "outputs": [
    {
     "data": {
      "text/plain": [
       "(torch.Size([32, 10, 15]), torch.Size([32, 10, 15]))"
      ]
     },
     "execution_count": 53,
     "metadata": {},
     "output_type": "execute_result"
    }
   ],
   "source": [
    "labels.shape, y_hat.shape"
   ]
  },
  {
   "cell_type": "code",
   "execution_count": null,
   "id": "fdb41fee-dde8-44e0-8a53-658625f51e6a",
   "metadata": {},
   "outputs": [],
   "source": []
  },
  {
   "cell_type": "code",
   "execution_count": 64,
   "id": "880babbf-5d74-4535-8a92-9c435a7a6fca",
   "metadata": {},
   "outputs": [
    {
     "name": "stdout",
     "output_type": "stream",
     "text": [
      "Data points:, (32,)\n"
     ]
    }
   ],
   "source": [
    "sensor = 2\n",
    "timestep = 0\n",
    "preds = np.asarray([pred[sensor][timestep].detach().cpu().numpy() for pred in y_hat])\n",
    "labs  = np.asarray([label[sensor][timestep].cpu().numpy() for label in labels])\n",
    "print(\"Data points:,\", preds.shape)"
   ]
  },
  {
   "cell_type": "code",
   "execution_count": 65,
   "id": "21ff7720-1141-4b0a-8f8e-a5f97f8dcec8",
   "metadata": {},
   "outputs": [
    {
     "data": {
      "text/plain": [
       "<Axes: >"
      ]
     },
     "execution_count": 65,
     "metadata": {},
     "output_type": "execute_result"
    },
    {
     "data": {
      "image/png": "[encoded data removed]",
      "text/plain": [
       "<Figure size 2000x500 with 1 Axes>"
      ]
     },
     "metadata": {},
     "output_type": "display_data"
    }
   ],
   "source": [
    "\n",
    "plt.figure(figsize=(20,5))\n",
    "sns.lineplot(data=preds, label=\"pred\")\n",
    "sns.lineplot(data=labs, label=\"true\")"
   ]
  },
  {
   "cell_type": "code",
   "execution_count": null,
   "id": "cf1567f8-08e7-48c1-955d-fe3065614987",
   "metadata": {},
   "outputs": [],
   "source": []
  },
  {
   "cell_type": "code",
   "execution_count": null,
   "id": "8312a999-17ed-4d29-82b7-4f62264e1505",
   "metadata": {},
   "outputs": [],
   "source": []
  }
 ],
 "metadata": {
  "kernelspec": {
   "display_name": "Python 3 (ipykernel)",
   "language": "python",
   "name": "python3"
  },
  "language_info": {
   "codemirror_mode": {
    "name": "ipython",
    "version": 3
   },
   "file_extension": ".py",
   "mimetype": "text/x-python",
   "name": "python",
   "nbconvert_exporter": "python",
   "pygments_lexer": "ipython3",
   "version": "3.10.14"
  }
 },
 "nbformat": 4,
 "nbformat_minor": 5
}
