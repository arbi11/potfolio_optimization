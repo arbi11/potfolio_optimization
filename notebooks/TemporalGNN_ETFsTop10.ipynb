{
 "cells": [
  {
   "cell_type": "code",
   "execution_count": 1,
   "id": "225127a3-9130-4517-8947-f3b1091baee1",
   "metadata": {},
   "outputs": [],
   "source": [
    "import numpy as np\n",
    "import matplotlib.pyplot as plt\n",
    "import seaborn as sns\n",
    "import networkx as nx\n",
    "import datetime\n",
    "import yfinance as yf\n"
   ]
  },
  {
   "cell_type": "code",
   "execution_count": 2,
   "id": "b3979297-611a-4ff2-b518-62ee92b84222",
   "metadata": {},
   "outputs": [
    {
     "name": "stderr",
     "output_type": "stream",
     "text": [
      "C:\\Users\\akhan147\\Anaconda3\\envs\\trader\\lib\\site-packages\\tqdm\\auto.py:21: TqdmWarning: IProgress not found. Please update jupyter and ipywidgets. See https://ipywidgets.readthedocs.io/en/stable/user_install.html\n",
      "  from .autonotebook import tqdm as notebook_tqdm\n"
     ]
    }
   ],
   "source": [
    "import torch\n",
    "import torch.nn.functional as F\n",
    "from torch_geometric.nn import GCNConv\n",
    "from torch_geometric_temporal.nn.recurrent import A3TGCN2\n",
    "from torch_geometric_temporal.signal import temporal_signal_split"
   ]
  },
  {
   "cell_type": "code",
   "execution_count": 3,
   "id": "3687dfcd-6438-4860-bdf4-98ca25725ec9",
   "metadata": {},
   "outputs": [],
   "source": [
    "from pathlib import Path\n",
    "data_dir = Path(r'F:\\cc_data')"
   ]
  },
  {
   "cell_type": "code",
   "execution_count": 4,
   "id": "eb76c5da-f638-49bd-80bf-1f55b6cba8dd",
   "metadata": {},
   "outputs": [],
   "source": [
    "# GPU support\n",
    "DEVICE = torch.device('cpu') # cuda\n",
    "shuffle=True\n",
    "batch_size = 32"
   ]
  },
  {
   "cell_type": "markdown",
   "id": "f8e1acba-13e6-4ef2-87ed-d8c109e5a339",
   "metadata": {},
   "source": [
    "# Data"
   ]
  },
  {
   "cell_type": "code",
   "execution_count": null,
   "id": "ea3974db-7f3c-4fe7-803c-7a9c195fe8c3",
   "metadata": {},
   "outputs": [],
   "source": []
  },
  {
   "cell_type": "code",
   "execution_count": 5,
   "id": "45c92741-59bc-4734-8d4c-908765acf2b9",
   "metadata": {},
   "outputs": [],
   "source": [
    "start = datetime.datetime(2020, 1, 1)\n",
    "end = datetime.datetime.now()"
   ]
  },
  {
   "cell_type": "markdown",
   "id": "e89eb6ec-672a-4230-975b-81740c5603f0",
   "metadata": {},
   "source": [
    "\n",
    "|Rank\t| Symbol |\tFund | Name |\n",
    "|---|---|----|----|\n",
    "|1\t| SPY\t| SPDR S&P 500 ETF Trust |\n",
    "|2\t| IVV\t| iShares Core S&P 500 ETF |\n",
    "|3\t| VOO\t| Vanguard S&P 500 ETF|\n",
    "|4\t| VTI\t| Vanguard Total Stock Market ETF|\n",
    "|5\t| QQQ\t| Invesco QQQ Trust Series I|\n",
    "|6\t| VEA\t| Vanguard FTSE Developed Markets ETF|\n",
    "|7\t| VUG\t| Vanguard Growth ETF|\n",
    "|8\t| VTV\t| Vanguard Value ETF|\n",
    "|9\t| IEFA\t| iShares Core MSCI EAFE ETF|\n",
    "|10\t| AGG\t| iShares Core U.S. Aggregate Bond ETF"
   ]
  },
  {
   "cell_type": "markdown",
   "id": "8c57bab1-0c31-4d12-ac67-f5d33eab5380",
   "metadata": {},
   "source": [
    "[Top ETFs](https://www.marketwatch.com/tools/top-25-etfs)"
   ]
  },
  {
   "cell_type": "code",
   "execution_count": 6,
   "id": "f25d2796-cc30-40ce-bbd2-62837891d5f0",
   "metadata": {},
   "outputs": [
    {
     "name": "stderr",
     "output_type": "stream",
     "text": [
      "[*********************100%***********************]  10 of 10 completed\n"
     ]
    },
    {
     "data": {
      "text/html": [
       "<div>\n",
       "<style scoped>\n",
       "    .dataframe tbody tr th:only-of-type {\n",
       "        vertical-align: middle;\n",
       "    }\n",
       "\n",
       "    .dataframe tbody tr th {\n",
       "        vertical-align: top;\n",
       "    }\n",
       "\n",
       "    .dataframe thead tr th {\n",
       "        text-align: left;\n",
       "    }\n",
       "\n",
       "    .dataframe thead tr:last-of-type th {\n",
       "        text-align: right;\n",
       "    }\n",
       "</style>\n",
       "<table border=\"1\" class=\"dataframe\">\n",
       "  <thead>\n",
       "    <tr>\n",
       "      <th>Price</th>\n",
       "      <th colspan=\"10\" halign=\"left\">Adj Close</th>\n",
       "      <th>...</th>\n",
       "      <th colspan=\"10\" halign=\"left\">Volume</th>\n",
       "    </tr>\n",
       "    <tr>\n",
       "      <th>Ticker</th>\n",
       "      <th>AGG</th>\n",
       "      <th>IEFA</th>\n",
       "      <th>IVV</th>\n",
       "      <th>QQQ</th>\n",
       "      <th>SPY</th>\n",
       "      <th>VEA</th>\n",
       "      <th>VOO</th>\n",
       "      <th>VTI</th>\n",
       "      <th>VTV</th>\n",
       "      <th>VUG</th>\n",
       "      <th>...</th>\n",
       "      <th>AGG</th>\n",
       "      <th>IEFA</th>\n",
       "      <th>IVV</th>\n",
       "      <th>QQQ</th>\n",
       "      <th>SPY</th>\n",
       "      <th>VEA</th>\n",
       "      <th>VOO</th>\n",
       "      <th>VTI</th>\n",
       "      <th>VTV</th>\n",
       "      <th>VUG</th>\n",
       "    </tr>\n",
       "    <tr>\n",
       "      <th>Date</th>\n",
       "      <th></th>\n",
       "      <th></th>\n",
       "      <th></th>\n",
       "      <th></th>\n",
       "      <th></th>\n",
       "      <th></th>\n",
       "      <th></th>\n",
       "      <th></th>\n",
       "      <th></th>\n",
       "      <th></th>\n",
       "      <th></th>\n",
       "      <th></th>\n",
       "      <th></th>\n",
       "      <th></th>\n",
       "      <th></th>\n",
       "      <th></th>\n",
       "      <th></th>\n",
       "      <th></th>\n",
       "      <th></th>\n",
       "      <th></th>\n",
       "      <th></th>\n",
       "    </tr>\n",
       "  </thead>\n",
       "  <tbody>\n",
       "    <tr>\n",
       "      <th>2020-01-02 00:00:00+00:00</th>\n",
       "      <td>100.104668</td>\n",
       "      <td>57.861580</td>\n",
       "      <td>302.929260</td>\n",
       "      <td>209.976089</td>\n",
       "      <td>302.208557</td>\n",
       "      <td>38.784153</td>\n",
       "      <td>276.999268</td>\n",
       "      <td>153.396164</td>\n",
       "      <td>106.480400</td>\n",
       "      <td>179.231491</td>\n",
       "      <td>...</td>\n",
       "      <td>6791400</td>\n",
       "      <td>10523100</td>\n",
       "      <td>4070500</td>\n",
       "      <td>30969400</td>\n",
       "      <td>59151200</td>\n",
       "      <td>8229000</td>\n",
       "      <td>3142400</td>\n",
       "      <td>3291100</td>\n",
       "      <td>1634700</td>\n",
       "      <td>1035800</td>\n",
       "    </tr>\n",
       "    <tr>\n",
       "      <th>2020-01-03 00:00:00+00:00</th>\n",
       "      <td>100.397858</td>\n",
       "      <td>57.141922</td>\n",
       "      <td>300.599091</td>\n",
       "      <td>208.052719</td>\n",
       "      <td>299.920258</td>\n",
       "      <td>38.312675</td>\n",
       "      <td>274.975708</td>\n",
       "      <td>152.419846</td>\n",
       "      <td>105.631668</td>\n",
       "      <td>177.999695</td>\n",
       "      <td>...</td>\n",
       "      <td>3664300</td>\n",
       "      <td>9663700</td>\n",
       "      <td>4290400</td>\n",
       "      <td>27518900</td>\n",
       "      <td>77709700</td>\n",
       "      <td>9697300</td>\n",
       "      <td>3247900</td>\n",
       "      <td>3625400</td>\n",
       "      <td>1401600</td>\n",
       "      <td>909800</td>\n",
       "    </tr>\n",
       "    <tr>\n",
       "      <th>2020-01-06 00:00:00+00:00</th>\n",
       "      <td>100.317879</td>\n",
       "      <td>57.343781</td>\n",
       "      <td>301.787354</td>\n",
       "      <td>209.393234</td>\n",
       "      <td>301.064484</td>\n",
       "      <td>38.443645</td>\n",
       "      <td>276.006042</td>\n",
       "      <td>152.940567</td>\n",
       "      <td>105.764275</td>\n",
       "      <td>179.144257</td>\n",
       "      <td>...</td>\n",
       "      <td>8131600</td>\n",
       "      <td>7468300</td>\n",
       "      <td>4212000</td>\n",
       "      <td>21655300</td>\n",
       "      <td>55653900</td>\n",
       "      <td>8579400</td>\n",
       "      <td>2777100</td>\n",
       "      <td>6813800</td>\n",
       "      <td>1546300</td>\n",
       "      <td>773700</td>\n",
       "    </tr>\n",
       "    <tr>\n",
       "      <th>2020-01-07 00:00:00+00:00</th>\n",
       "      <td>100.211288</td>\n",
       "      <td>57.212139</td>\n",
       "      <td>300.961182</td>\n",
       "      <td>209.364120</td>\n",
       "      <td>300.217987</td>\n",
       "      <td>38.382523</td>\n",
       "      <td>275.244873</td>\n",
       "      <td>152.577942</td>\n",
       "      <td>105.357597</td>\n",
       "      <td>179.086014</td>\n",
       "      <td>...</td>\n",
       "      <td>2883000</td>\n",
       "      <td>5815100</td>\n",
       "      <td>3632500</td>\n",
       "      <td>22139300</td>\n",
       "      <td>40496400</td>\n",
       "      <td>7884600</td>\n",
       "      <td>2251800</td>\n",
       "      <td>2498400</td>\n",
       "      <td>1422200</td>\n",
       "      <td>848800</td>\n",
       "    </tr>\n",
       "    <tr>\n",
       "      <th>2020-01-08 00:00:00+00:00</th>\n",
       "      <td>100.095772</td>\n",
       "      <td>57.343781</td>\n",
       "      <td>302.492950</td>\n",
       "      <td>210.937805</td>\n",
       "      <td>301.817963</td>\n",
       "      <td>38.434921</td>\n",
       "      <td>276.665039</td>\n",
       "      <td>153.331070</td>\n",
       "      <td>105.605141</td>\n",
       "      <td>180.492371</td>\n",
       "      <td>...</td>\n",
       "      <td>7323100</td>\n",
       "      <td>8249700</td>\n",
       "      <td>3912100</td>\n",
       "      <td>26397300</td>\n",
       "      <td>68296000</td>\n",
       "      <td>9948100</td>\n",
       "      <td>3719500</td>\n",
       "      <td>4244800</td>\n",
       "      <td>1401700</td>\n",
       "      <td>667200</td>\n",
       "    </tr>\n",
       "  </tbody>\n",
       "</table>\n",
       "<p>5 rows × 60 columns</p>\n",
       "</div>"
      ],
      "text/plain": [
       "Price                       Adj Close                                     \\\n",
       "Ticker                            AGG       IEFA         IVV         QQQ   \n",
       "Date                                                                       \n",
       "2020-01-02 00:00:00+00:00  100.104668  57.861580  302.929260  209.976089   \n",
       "2020-01-03 00:00:00+00:00  100.397858  57.141922  300.599091  208.052719   \n",
       "2020-01-06 00:00:00+00:00  100.317879  57.343781  301.787354  209.393234   \n",
       "2020-01-07 00:00:00+00:00  100.211288  57.212139  300.961182  209.364120   \n",
       "2020-01-08 00:00:00+00:00  100.095772  57.343781  302.492950  210.937805   \n",
       "\n",
       "Price                                                                     \\\n",
       "Ticker                            SPY        VEA         VOO         VTI   \n",
       "Date                                                                       \n",
       "2020-01-02 00:00:00+00:00  302.208557  38.784153  276.999268  153.396164   \n",
       "2020-01-03 00:00:00+00:00  299.920258  38.312675  274.975708  152.419846   \n",
       "2020-01-06 00:00:00+00:00  301.064484  38.443645  276.006042  152.940567   \n",
       "2020-01-07 00:00:00+00:00  300.217987  38.382523  275.244873  152.577942   \n",
       "2020-01-08 00:00:00+00:00  301.817963  38.434921  276.665039  153.331070   \n",
       "\n",
       "Price                                              ...   Volume            \\\n",
       "Ticker                            VTV         VUG  ...      AGG      IEFA   \n",
       "Date                                               ...                      \n",
       "2020-01-02 00:00:00+00:00  106.480400  179.231491  ...  6791400  10523100   \n",
       "2020-01-03 00:00:00+00:00  105.631668  177.999695  ...  3664300   9663700   \n",
       "2020-01-06 00:00:00+00:00  105.764275  179.144257  ...  8131600   7468300   \n",
       "2020-01-07 00:00:00+00:00  105.357597  179.086014  ...  2883000   5815100   \n",
       "2020-01-08 00:00:00+00:00  105.605141  180.492371  ...  7323100   8249700   \n",
       "\n",
       "Price                                                                     \\\n",
       "Ticker                         IVV       QQQ       SPY      VEA      VOO   \n",
       "Date                                                                       \n",
       "2020-01-02 00:00:00+00:00  4070500  30969400  59151200  8229000  3142400   \n",
       "2020-01-03 00:00:00+00:00  4290400  27518900  77709700  9697300  3247900   \n",
       "2020-01-06 00:00:00+00:00  4212000  21655300  55653900  8579400  2777100   \n",
       "2020-01-07 00:00:00+00:00  3632500  22139300  40496400  7884600  2251800   \n",
       "2020-01-08 00:00:00+00:00  3912100  26397300  68296000  9948100  3719500   \n",
       "\n",
       "Price                                                 \n",
       "Ticker                         VTI      VTV      VUG  \n",
       "Date                                                  \n",
       "2020-01-02 00:00:00+00:00  3291100  1634700  1035800  \n",
       "2020-01-03 00:00:00+00:00  3625400  1401600   909800  \n",
       "2020-01-06 00:00:00+00:00  6813800  1546300   773700  \n",
       "2020-01-07 00:00:00+00:00  2498400  1422200   848800  \n",
       "2020-01-08 00:00:00+00:00  4244800  1401700   667200  \n",
       "\n",
       "[5 rows x 60 columns]"
      ]
     },
     "execution_count": 6,
     "metadata": {},
     "output_type": "execute_result"
    }
   ],
   "source": [
    "import yfinance as yf\n",
    "\n",
    "tickers = [\"SPY\", \"IVV\", \"VOO\", \"VTI\", \"QQQ\", \"VEA\", \"VUG\", \"VTV\", \"IEFA\", \"AGG\"]\n",
    "\n",
    "df = yf.download(tickers, start=start, end=end)\n",
    "df.head()"
   ]
  },
  {
   "cell_type": "code",
   "execution_count": 7,
   "id": "f0845da4-002f-42ae-aacd-aba44284c6a6",
   "metadata": {},
   "outputs": [
    {
     "data": {
      "text/plain": [
       "(Timestamp('2020-01-02 00:00:00+0000', tz='UTC'),\n",
       " Timestamp('2024-09-30 00:00:00+0000', tz='UTC'))"
      ]
     },
     "execution_count": 7,
     "metadata": {},
     "output_type": "execute_result"
    }
   ],
   "source": [
    "df.index.min(), df.index.max()"
   ]
  },
  {
   "cell_type": "code",
   "execution_count": 8,
   "id": "4e7ae600-543f-4c86-9319-42893fa0214d",
   "metadata": {},
   "outputs": [
    {
     "data": {
      "text/plain": [
       "MultiIndex([('Adj Close',  'AGG'),\n",
       "            ('Adj Close', 'IEFA'),\n",
       "            ('Adj Close',  'IVV'),\n",
       "            ('Adj Close',  'QQQ'),\n",
       "            ('Adj Close',  'SPY'),\n",
       "            ('Adj Close',  'VEA'),\n",
       "            ('Adj Close',  'VOO'),\n",
       "            ('Adj Close',  'VTI'),\n",
       "            ('Adj Close',  'VTV'),\n",
       "            ('Adj Close',  'VUG'),\n",
       "            (    'Close',  'AGG'),\n",
       "            (    'Close', 'IEFA'),\n",
       "            (    'Close',  'IVV'),\n",
       "            (    'Close',  'QQQ'),\n",
       "            (    'Close',  'SPY'),\n",
       "            (    'Close',  'VEA'),\n",
       "            (    'Close',  'VOO'),\n",
       "            (    'Close',  'VTI'),\n",
       "            (    'Close',  'VTV'),\n",
       "            (    'Close',  'VUG'),\n",
       "            (     'High',  'AGG'),\n",
       "            (     'High', 'IEFA'),\n",
       "            (     'High',  'IVV'),\n",
       "            (     'High',  'QQQ'),\n",
       "            (     'High',  'SPY'),\n",
       "            (     'High',  'VEA'),\n",
       "            (     'High',  'VOO'),\n",
       "            (     'High',  'VTI'),\n",
       "            (     'High',  'VTV'),\n",
       "            (     'High',  'VUG'),\n",
       "            (      'Low',  'AGG'),\n",
       "            (      'Low', 'IEFA'),\n",
       "            (      'Low',  'IVV'),\n",
       "            (      'Low',  'QQQ'),\n",
       "            (      'Low',  'SPY'),\n",
       "            (      'Low',  'VEA'),\n",
       "            (      'Low',  'VOO'),\n",
       "            (      'Low',  'VTI'),\n",
       "            (      'Low',  'VTV'),\n",
       "            (      'Low',  'VUG'),\n",
       "            (     'Open',  'AGG'),\n",
       "            (     'Open', 'IEFA'),\n",
       "            (     'Open',  'IVV'),\n",
       "            (     'Open',  'QQQ'),\n",
       "            (     'Open',  'SPY'),\n",
       "            (     'Open',  'VEA'),\n",
       "            (     'Open',  'VOO'),\n",
       "            (     'Open',  'VTI'),\n",
       "            (     'Open',  'VTV'),\n",
       "            (     'Open',  'VUG'),\n",
       "            (   'Volume',  'AGG'),\n",
       "            (   'Volume', 'IEFA'),\n",
       "            (   'Volume',  'IVV'),\n",
       "            (   'Volume',  'QQQ'),\n",
       "            (   'Volume',  'SPY'),\n",
       "            (   'Volume',  'VEA'),\n",
       "            (   'Volume',  'VOO'),\n",
       "            (   'Volume',  'VTI'),\n",
       "            (   'Volume',  'VTV'),\n",
       "            (   'Volume',  'VUG')],\n",
       "           names=['Price', 'Ticker'])"
      ]
     },
     "execution_count": 8,
     "metadata": {},
     "output_type": "execute_result"
    }
   ],
   "source": [
    "df.columns"
   ]
  },
  {
   "cell_type": "code",
   "execution_count": 9,
   "id": "9a679d45-4358-4de1-a4c4-2071d924aa11",
   "metadata": {},
   "outputs": [],
   "source": [
    "df.to_csv(data_dir / 'top10_etf.csv')"
   ]
  },
  {
   "cell_type": "code",
   "execution_count": null,
   "id": "88d80d1c-ba48-43a0-9a63-9c9d9fd2b3f0",
   "metadata": {},
   "outputs": [],
   "source": []
  },
  {
   "cell_type": "code",
   "execution_count": null,
   "id": "35a4ca6b-c7bf-40b1-83b6-226932facd10",
   "metadata": {},
   "outputs": [],
   "source": []
  },
  {
   "cell_type": "code",
   "execution_count": 10,
   "id": "5ab0aadf-ceb9-45a4-aa2e-4cfa6a393da9",
   "metadata": {},
   "outputs": [
    {
     "data": {
      "text/plain": [
       "(1194, 60)"
      ]
     },
     "execution_count": 10,
     "metadata": {},
     "output_type": "execute_result"
    }
   ],
   "source": [
    "df.shape"
   ]
  },
  {
   "cell_type": "markdown",
   "id": "d8ad607e-4aac-47e4-9702-77a6cd2693ef",
   "metadata": {},
   "source": [
    "* `1194` : trading days\n",
    "* (1194, 60) --> (1194, 10, 6, 15) \n",
    "* 1194 : num_samples,\n",
    "* 10 : etfs,\n",
    "* 6 : OHLC, Add CLose, Volume,\n",
    "* 15 : bicket size (days), for time being only 1"
   ]
  },
  {
   "cell_type": "code",
   "execution_count": 11,
   "id": "4dbee1bc-2e9c-4315-9ae3-1eb4b02da223",
   "metadata": {},
   "outputs": [
    {
     "data": {
      "text/plain": [
       "(1194, 60)"
      ]
     },
     "execution_count": 11,
     "metadata": {},
     "output_type": "execute_result"
    }
   ],
   "source": [
    "data_numpy = df.values\n",
    "data_numpy.shape"
   ]
  },
  {
   "cell_type": "code",
   "execution_count": 12,
   "id": "59a2426e-41c7-43a4-9096-b943404b2f37",
   "metadata": {},
   "outputs": [],
   "source": [
    "arrays = {}\n",
    "for level in df.columns.levels[1]:\n",
    "    arrays[level] = df.xs(level, axis=1, level=1).to_numpy()"
   ]
  },
  {
   "cell_type": "code",
   "execution_count": 13,
   "id": "0334be23-a238-4bd7-b0e9-1082be9ccb47",
   "metadata": {},
   "outputs": [
    {
     "data": {
      "text/plain": [
       "dict_keys(['AGG', 'IEFA', 'IVV', 'QQQ', 'SPY', 'VEA', 'VOO', 'VTI', 'VTV', 'VUG'])"
      ]
     },
     "execution_count": 13,
     "metadata": {},
     "output_type": "execute_result"
    }
   ],
   "source": [
    "arrays.keys()"
   ]
  },
  {
   "cell_type": "code",
   "execution_count": 14,
   "id": "395c99f6-9762-432f-b1ed-bbb1e8762f8a",
   "metadata": {},
   "outputs": [
    {
     "data": {
      "text/plain": [
       "(1194, 6)"
      ]
     },
     "execution_count": 14,
     "metadata": {},
     "output_type": "execute_result"
    }
   ],
   "source": [
    "arrays['AGG'].shape"
   ]
  },
  {
   "cell_type": "code",
   "execution_count": 15,
   "id": "562b7651-9a45-49f3-b07c-9eea9ea75ef9",
   "metadata": {},
   "outputs": [
    {
     "data": {
      "text/plain": [
       "((1194, 10, 6, 1), (1194, 10, 1))"
      ]
     },
     "execution_count": 15,
     "metadata": {},
     "output_type": "execute_result"
    }
   ],
   "source": [
    "array_list = list(arrays.values())\n",
    "array_stack = np.stack(array_list, axis=1)\n",
    "\n",
    "train_input = np.expand_dims(array_stack, axis=-1)\n",
    "\n",
    "train_target = array_stack[:, :, 0]\n",
    "train_target = np.expand_dims(train_target, axis=-1)\n",
    "\n",
    "train_input.shape, train_target.shape"
   ]
  },
  {
   "cell_type": "code",
   "execution_count": null,
   "id": "61bae5a9-37b1-4c72-b646-9324ea6f36b9",
   "metadata": {},
   "outputs": [],
   "source": []
  },
  {
   "cell_type": "code",
   "execution_count": null,
   "id": "cfe9f9e3-8cf2-46a2-b331-d828aacc17eb",
   "metadata": {},
   "outputs": [],
   "source": []
  },
  {
   "cell_type": "code",
   "execution_count": null,
   "id": "892a4574-43a3-4862-9d87-97adb4322180",
   "metadata": {},
   "outputs": [],
   "source": []
  },
  {
   "cell_type": "markdown",
   "id": "9c630c5e-21e0-45c9-b278-cee1a23d7f2e",
   "metadata": {},
   "source": [
    "# DataLoaders"
   ]
  },
  {
   "cell_type": "code",
   "execution_count": 16,
   "id": "3a88f601-9c52-497a-9272-7c386858efe3",
   "metadata": {},
   "outputs": [],
   "source": [
    "# train_input = np.array(train_dataset.features) # (27399, 207, 2, 12) --> (, 10, 4, 15)\n",
    "# train_target = np.array(train_dataset.targets) # (27399, 207, 12) --> (, 10, 15)\n",
    "train_x_tensor = torch.from_numpy(train_input).type(torch.FloatTensor).to(DEVICE)  # (B, N, F, T)\n",
    "train_target_tensor = torch.from_numpy(train_target).type(torch.FloatTensor).to(DEVICE)  # (B, N, T)\n",
    "train_dataset_new = torch.utils.data.TensorDataset(train_x_tensor, train_target_tensor)\n",
    "train_loader = torch.utils.data.DataLoader(train_dataset_new, batch_size=batch_size, shuffle=shuffle,drop_last=True)"
   ]
  },
  {
   "cell_type": "code",
   "execution_count": null,
   "id": "5c9f16a7-0051-4c7f-8bad-4e7d89b5e882",
   "metadata": {},
   "outputs": [],
   "source": []
  },
  {
   "cell_type": "markdown",
   "id": "49507816-f690-4ed6-af89-c7c663b3ce97",
   "metadata": {},
   "source": [
    "# A3TGCN Model"
   ]
  },
  {
   "cell_type": "code",
   "execution_count": 17,
   "id": "f1a6a93d-3ee8-43c6-b071-75d3deb0bb7e",
   "metadata": {},
   "outputs": [
    {
     "data": {
      "text/plain": [
       "TemporalGNN(\n",
       "  (tgnn): A3TGCN2(\n",
       "    (_base_tgcn): TGCN2(\n",
       "      (conv_z): GCNConv(6, 32)\n",
       "      (linear_z): Linear(in_features=64, out_features=32, bias=True)\n",
       "      (conv_r): GCNConv(6, 32)\n",
       "      (linear_r): Linear(in_features=64, out_features=32, bias=True)\n",
       "      (conv_h): GCNConv(6, 32)\n",
       "      (linear_h): Linear(in_features=64, out_features=32, bias=True)\n",
       "    )\n",
       "  )\n",
       "  (linear): Linear(in_features=32, out_features=1, bias=True)\n",
       ")"
      ]
     },
     "execution_count": 17,
     "metadata": {},
     "output_type": "execute_result"
    }
   ],
   "source": [
    "\n",
    "class TemporalGNN(torch.nn.Module):\n",
    "    def __init__(self, node_features, periods, batch_size):\n",
    "        super(TemporalGNN, self).__init__()\n",
    "        # Attention Temporal Graph Convolutional Cell\n",
    "        self.tgnn = A3TGCN2(in_channels=node_features,  out_channels=32, periods=periods,batch_size=batch_size) # node_features=2, periods=12\n",
    "        # Equals single-shot prediction\n",
    "        self.linear = torch.nn.Linear(32, periods)\n",
    "\n",
    "    def forward(self, x, edge_index):\n",
    "        \"\"\"\n",
    "        x = Node features for T time steps\n",
    "        edge_index = Graph edge indices\n",
    "        \"\"\"\n",
    "        h = self.tgnn(x, edge_index) # x [b, 207, 2, 12]  returns h [b, 207, 12]\n",
    "        h = F.relu(h) \n",
    "        h = self.linear(h)\n",
    "        return h\n",
    "\n",
    "TemporalGNN(node_features=6, periods=1, batch_size=20)"
   ]
  },
  {
   "cell_type": "code",
   "execution_count": null,
   "id": "1c99a9ba-4864-482a-8d71-f012de8cbbad",
   "metadata": {},
   "outputs": [],
   "source": []
  },
  {
   "cell_type": "markdown",
   "id": "f4a2cb40-c85a-4fc1-ab40-c1692001fd57",
   "metadata": {},
   "source": [
    "# Training"
   ]
  },
  {
   "cell_type": "code",
   "execution_count": 18,
   "id": "23aee6db-688c-4958-b3b8-1571ad477e7e",
   "metadata": {},
   "outputs": [
    {
     "name": "stdout",
     "output_type": "stream",
     "text": [
      "Net's state_dict:\n",
      "tgnn._attention \t torch.Size([1])\n",
      "tgnn._base_tgcn.conv_z.bias \t torch.Size([32])\n",
      "tgnn._base_tgcn.conv_z.lin.weight \t torch.Size([32, 6])\n",
      "tgnn._base_tgcn.linear_z.weight \t torch.Size([32, 64])\n",
      "tgnn._base_tgcn.linear_z.bias \t torch.Size([32])\n",
      "tgnn._base_tgcn.conv_r.bias \t torch.Size([32])\n",
      "tgnn._base_tgcn.conv_r.lin.weight \t torch.Size([32, 6])\n",
      "tgnn._base_tgcn.linear_r.weight \t torch.Size([32, 64])\n",
      "tgnn._base_tgcn.linear_r.bias \t torch.Size([32])\n",
      "tgnn._base_tgcn.conv_h.bias \t torch.Size([32])\n",
      "tgnn._base_tgcn.conv_h.lin.weight \t torch.Size([32, 6])\n",
      "tgnn._base_tgcn.linear_h.weight \t torch.Size([32, 64])\n",
      "tgnn._base_tgcn.linear_h.bias \t torch.Size([32])\n",
      "linear.weight \t torch.Size([1, 32])\n",
      "linear.bias \t torch.Size([1])\n",
      "Net's total params: 6946\n",
      "Optimizer's state_dict:\n",
      "state \t {}\n",
      "param_groups \t [{'lr': 0.001, 'betas': (0.9, 0.999), 'eps': 1e-08, 'weight_decay': 0, 'amsgrad': False, 'maximize': False, 'foreach': None, 'capturable': False, 'differentiable': False, 'fused': None, 'params': [0, 1, 2, 3, 4, 5, 6, 7, 8, 9, 10, 11, 12, 13, 14]}]\n"
     ]
    }
   ],
   "source": [
    "# Create model and optimizers\n",
    "model = TemporalGNN(node_features=6, periods=1, batch_size=batch_size).to(DEVICE)\n",
    "optimizer = torch.optim.Adam(model.parameters(), lr=0.001)\n",
    "loss_fn = torch.nn.MSELoss()\n",
    "\n",
    "print('Net\\'s state_dict:')\n",
    "total_param = 0\n",
    "for param_tensor in model.state_dict():\n",
    "    print(param_tensor, '\\t', model.state_dict()[param_tensor].size())\n",
    "    total_param += np.prod(model.state_dict()[param_tensor].size())\n",
    "print('Net\\'s total params:', total_param)\n",
    "#--------------------------------------------------\n",
    "print('Optimizer\\'s state_dict:')\n",
    "for var_name in optimizer.state_dict():\n",
    "    print(var_name, '\\t', optimizer.state_dict()[var_name])"
   ]
  },
  {
   "cell_type": "code",
   "execution_count": null,
   "id": "f1135c77-c1da-4dfd-a066-9d147b952502",
   "metadata": {},
   "outputs": [],
   "source": []
  },
  {
   "cell_type": "markdown",
   "id": "1ef8a004-a5fa-4d8c-bb5c-94a259859718",
   "metadata": {},
   "source": [
    "# Train"
   ]
  },
  {
   "cell_type": "code",
   "execution_count": 19,
   "id": "b0242383-550f-43d4-a4d0-c0836cac30bb",
   "metadata": {},
   "outputs": [],
   "source": [
    "num_nodes = 10"
   ]
  },
  {
   "cell_type": "code",
   "execution_count": 20,
   "id": "d49515a1-61fc-4579-b4af-1aaea00d9939",
   "metadata": {},
   "outputs": [],
   "source": [
    "edge_index = torch.tensor([(i, j) for i in range(num_nodes) for j in range(num_nodes)], dtype=torch.long).t().contiguous()\n"
   ]
  },
  {
   "cell_type": "code",
   "execution_count": 21,
   "id": "2134aae8-e48e-48fb-a921-c0815efb4e21",
   "metadata": {},
   "outputs": [],
   "source": [
    "from torch_geometric_temporal.signal import StaticGraphTemporalSignal\n",
    "\n",
    "# Create a StaticGraphTemporalSignal object\n",
    "dataset = StaticGraphTemporalSignal(edge_index=edge_index, edge_weight=None, features=[train_input], targets=[train_target])"
   ]
  },
  {
   "cell_type": "code",
   "execution_count": 22,
   "id": "09b3f632-eaf9-47a8-a889-1e5c4f94fda4",
   "metadata": {},
   "outputs": [
    {
     "name": "stdout",
     "output_type": "stream",
     "text": [
      "torch.Size([1194, 10, 6, 1]) torch.Size([2, 100])\n"
     ]
    }
   ],
   "source": [
    "for snapshot in dataset:\n",
    "    print(snapshot.x.shape, snapshot.edge_index.shape)\n",
    "    break"
   ]
  },
  {
   "cell_type": "code",
   "execution_count": null,
   "id": "689a8c69-c62e-4198-aa25-c8c011bda643",
   "metadata": {},
   "outputs": [],
   "source": []
  },
  {
   "cell_type": "code",
   "execution_count": 23,
   "id": "9a17b46c-00e4-463a-8f04-35b6fe5abbb5",
   "metadata": {},
   "outputs": [],
   "source": [
    "for snapshot in dataset:\n",
    "    static_edge_index = snapshot.edge_index.to(DEVICE)\n",
    "    break;"
   ]
  },
  {
   "cell_type": "code",
   "execution_count": 25,
   "id": "b862b473-39d0-4b0e-8971-45e08a7269b9",
   "metadata": {},
   "outputs": [
    {
     "name": "stdout",
     "output_type": "stream",
     "text": [
      "Epoch 0 train RMSE: 2.0692E+04\n",
      "Epoch 100 train RMSE: 2.0727E+04\n",
      "Epoch 200 train RMSE: 2.0705E+04\n",
      "Epoch 300 train RMSE: 2.0709E+04\n",
      "Epoch 400 train RMSE: 2.0690E+04\n",
      "Epoch 500 train RMSE: 2.0730E+04\n",
      "Epoch 600 train RMSE: 2.0674E+04\n",
      "Epoch 700 train RMSE: 2.0718E+04\n",
      "Epoch 800 train RMSE: 2.0683E+04\n",
      "Epoch 900 train RMSE: 2.0749E+04\n",
      "Epoch 1000 train RMSE: 2.0645E+04\n",
      "Epoch 1100 train RMSE: 2.0724E+04\n",
      "Epoch 1200 train RMSE: 2.0648E+04\n",
      "Epoch 1300 train RMSE: 2.0725E+04\n",
      "Epoch 1400 train RMSE: 2.0707E+04\n",
      "Epoch 1500 train RMSE: 2.0659E+04\n",
      "Epoch 1600 train RMSE: 2.0695E+04\n",
      "Epoch 1700 train RMSE: 2.0727E+04\n",
      "Epoch 1800 train RMSE: 2.0711E+04\n",
      "Epoch 1900 train RMSE: 2.0679E+04\n",
      "Epoch 2000 train RMSE: 2.0665E+04\n",
      "Epoch 2100 train RMSE: 2.0655E+04\n",
      "Epoch 2200 train RMSE: 2.0741E+04\n",
      "Epoch 2300 train RMSE: 2.0696E+04\n",
      "Epoch 2400 train RMSE: 2.0737E+04\n",
      "Epoch 2500 train RMSE: 2.0738E+04\n",
      "Epoch 2600 train RMSE: 2.0667E+04\n",
      "Epoch 2700 train RMSE: 2.0693E+04\n",
      "Epoch 2800 train RMSE: 2.0716E+04\n",
      "Epoch 2900 train RMSE: 2.0711E+04\n",
      "Epoch 3000 train RMSE: 2.0715E+04\n",
      "Epoch 3100 train RMSE: 2.0730E+04\n",
      "Epoch 3200 train RMSE: 2.0678E+04\n",
      "Epoch 3300 train RMSE: 2.0708E+04\n",
      "Epoch 3400 train RMSE: 2.0679E+04\n",
      "Epoch 3500 train RMSE: 2.0698E+04\n",
      "Epoch 3600 train RMSE: 2.0715E+04\n",
      "Epoch 3700 train RMSE: 2.0672E+04\n",
      "Epoch 3800 train RMSE: 2.0708E+04\n",
      "Epoch 3900 train RMSE: 2.0694E+04\n",
      "Epoch 4000 train RMSE: 2.0730E+04\n",
      "Epoch 4100 train RMSE: 2.0662E+04\n",
      "Epoch 4200 train RMSE: 2.0707E+04\n",
      "Epoch 4300 train RMSE: 2.0688E+04\n",
      "Epoch 4400 train RMSE: 2.0710E+04\n",
      "Epoch 4500 train RMSE: 2.0736E+04\n",
      "Epoch 4600 train RMSE: 2.0701E+04\n",
      "Epoch 4700 train RMSE: 2.0716E+04\n",
      "Epoch 4800 train RMSE: 2.0705E+04\n",
      "Epoch 4900 train RMSE: 2.0685E+04\n",
      "Epoch 5000 train RMSE: 2.0676E+04\n"
     ]
    }
   ],
   "source": [
    "model.train()\n",
    "\n",
    "for epoch in range(5001):\n",
    "    step = 0\n",
    "    loss_list = []\n",
    "    for encoder_inputs, labels in train_loader:\n",
    "        y_hat = model(encoder_inputs, static_edge_index)         # Get model predictions\n",
    "        loss = loss_fn(y_hat, labels) # Mean squared error #loss = torch.mean((y_hat-labels)**2)  sqrt to change it to rmse\n",
    "        loss.backward()\n",
    "        optimizer.step()\n",
    "        optimizer.zero_grad()\n",
    "        step= step+ 1\n",
    "        loss_list.append(loss.item())\n",
    "        if step % 100 == 0 :\n",
    "            print(sum(loss_list)/len(loss_list))\n",
    "    if epoch % 100 == 0 :\n",
    "        print(\"Epoch {} train RMSE: {:.4E}\".format(epoch, sum(loss_list)/len(loss_list)))"
   ]
  },
  {
   "cell_type": "code",
   "execution_count": null,
   "id": "22909c90-8fd4-46f1-843f-636864e9c846",
   "metadata": {},
   "outputs": [],
   "source": []
  },
  {
   "cell_type": "code",
   "execution_count": null,
   "id": "9723970c-2d16-4b14-bf4d-c6f100f276a1",
   "metadata": {},
   "outputs": [],
   "source": []
  },
  {
   "cell_type": "markdown",
   "id": "76556eb3-c13f-4cb7-ab7f-6c00757ab36c",
   "metadata": {},
   "source": [
    "# Eval"
   ]
  },
  {
   "cell_type": "code",
   "execution_count": 27,
   "id": "7ab0f3b3-8cfa-4096-8b77-607d4ba21c87",
   "metadata": {},
   "outputs": [
    {
     "name": "stdout",
     "output_type": "stream",
     "text": [
      "Test MSE: 20705.5338\n"
     ]
    }
   ],
   "source": [
    "model.eval()\n",
    "step = 0\n",
    "# Store for analysis\n",
    "total_loss = []\n",
    "for encoder_inputs, labels in train_loader:\n",
    "    # Get model predictions\n",
    "    y_hat = model(encoder_inputs, static_edge_index)\n",
    "    # Mean squared error\n",
    "    loss = loss_fn(y_hat, labels)\n",
    "    total_loss.append(loss.item())\n",
    "    # Store for analysis below\n",
    "    #test_labels.append(labels)\n",
    "    #predictions.append(y_hat)\n",
    "\n",
    "print(\"Test MSE: {:.4f}\".format(sum(total_loss)/len(total_loss)))"
   ]
  },
  {
   "cell_type": "code",
   "execution_count": null,
   "id": "fdb41fee-dde8-44e0-8a53-658625f51e6a",
   "metadata": {},
   "outputs": [],
   "source": []
  },
  {
   "cell_type": "code",
   "execution_count": 30,
   "id": "880babbf-5d74-4535-8a92-9c435a7a6fca",
   "metadata": {},
   "outputs": [
    {
     "name": "stdout",
     "output_type": "stream",
     "text": [
      "Data points:, (32,)\n"
     ]
    }
   ],
   "source": [
    "sensor = 9\n",
    "timestep = 0\n",
    "preds = np.asarray([pred[sensor][timestep].detach().cpu().numpy() for pred in y_hat])\n",
    "labs  = np.asarray([label[sensor][timestep].cpu().numpy() for label in labels])\n",
    "print(\"Data points:,\", preds.shape)"
   ]
  },
  {
   "cell_type": "code",
   "execution_count": 31,
   "id": "21ff7720-1141-4b0a-8f8e-a5f97f8dcec8",
   "metadata": {},
   "outputs": [
    {
     "data": {
      "text/plain": [
       "<Axes: >"
      ]
     },
     "execution_count": 31,
     "metadata": {},
     "output_type": "execute_result"
    },
    {
     "data": {
      "image/png": "[encoded data removed]",
      "text/plain": [
       "<Figure size 2000x500 with 1 Axes>"
      ]
     },
     "metadata": {},
     "output_type": "display_data"
    }
   ],
   "source": [
    "\n",
    "plt.figure(figsize=(20,5))\n",
    "sns.lineplot(data=preds, label=\"pred\")\n",
    "sns.lineplot(data=labs, label=\"true\")"
   ]
  },
  {
   "cell_type": "code",
   "execution_count": null,
   "id": "cf1567f8-08e7-48c1-955d-fe3065614987",
   "metadata": {},
   "outputs": [],
   "source": []
  }
 ],
 "metadata": {
  "kernelspec": {
   "display_name": "Python 3 (ipykernel)",
   "language": "python",
   "name": "python3"
  },
  "language_info": {
   "codemirror_mode": {
    "name": "ipython",
    "version": 3
   },
   "file_extension": ".py",
   "mimetype": "text/x-python",
   "name": "python",
   "nbconvert_exporter": "python",
   "pygments_lexer": "ipython3",
   "version": "3.10.14"
  }
 },
 "nbformat": 4,
 "nbformat_minor": 5
}
