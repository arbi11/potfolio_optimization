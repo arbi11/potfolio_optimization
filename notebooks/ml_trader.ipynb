{
 "cells": [
  {
   "cell_type": "code",
   "execution_count": 1,
   "id": "1508d22c-dd1c-4bd8-992f-10adaa12e59b",
   "metadata": {},
   "outputs": [
    {
     "name": "stderr",
     "output_type": "stream",
     "text": [
      "2024-09-22 00:47:12 | lumibot.credentials | WARNING | \u001b[33mNo .env file found. This is ok if you are using environment variables or secrets (like on Replit, AWS, etc), but if you are not, please create a .env file in the root directory of the project.\u001b[0m\n"
     ]
    }
   ],
   "source": [
    "from lumibot.brokers import Alpaca\n",
    "from lumibot.backtesting import YahooDataBacktesting\n",
    "from lumibot.strategies.strategy import Strategy\n",
    "from lumibot.traders import Trader\n",
    "from alpaca_trade_api import REST\n",
    "from timedelta import Timedelta\n",
    "\n",
    "from datetime import datetime\n",
    "from pathlib import Path"
   ]
  },
  {
   "cell_type": "code",
   "execution_count": 2,
   "id": "d14e8957-749c-4b12-b961-96d3f79f2f02",
   "metadata": {},
   "outputs": [],
   "source": [
    "notebook_dir = Path('.')\n",
    "file_path = notebook_dir.absolute().parent / 'data' / 'secrets.txt'\n",
    "\n",
    "secret_dict = {}\n",
    "with open(file_path, 'r') as file:\n",
    "    for line in file:\n",
    "        line = line.strip()\n",
    "        if '=' in line:\n",
    "            key, value = line.split('=', 1)\n",
    "            key = key.strip()\n",
    "            value = value.strip().strip('\"')\n",
    "            secret_dict[key] = value\n",
    "\n",
    "# print(secret_dict)"
   ]
  },
  {
   "cell_type": "code",
   "execution_count": 3,
   "id": "768257c8-4b3c-4aee-9248-fdd41fed4853",
   "metadata": {},
   "outputs": [],
   "source": [
    "API_KEY = secret_dict['API_KEY']\n",
    "API_SECRET = secret_dict['API_SECRET']\n",
    "BASE_URL = secret_dict['BASE_URL']"
   ]
  },
  {
   "cell_type": "code",
   "execution_count": 4,
   "id": "7b55f795-ffe7-4e31-9e88-4adfff90a701",
   "metadata": {},
   "outputs": [],
   "source": [
    "ALPACA_CREDS = {\n",
    "    \"API_KEY\":API_KEY,\n",
    "    \"API_SECRET\":API_SECRET,\n",
    "    \"PAPER\" : True\n",
    "}"
   ]
  },
  {
   "cell_type": "code",
   "execution_count": 5,
   "id": "6ac236f2-569e-4dc5-acfc-cb6836df29a4",
   "metadata": {},
   "outputs": [
    {
     "name": "stderr",
     "output_type": "stream",
     "text": [
      "C:\\Users\\akhan147\\Anaconda3\\envs\\trader\\lib\\site-packages\\tqdm\\auto.py:21: TqdmWarning: IProgress not found. Please update jupyter and ipywidgets. See https://ipywidgets.readthedocs.io/en/stable/user_install.html\n",
      "  from .autonotebook import tqdm as notebook_tqdm\n",
      "C:\\Users\\akhan147\\Anaconda3\\envs\\trader\\lib\\site-packages\\transformers\\tokenization_utils_base.py:1601: FutureWarning: `clean_up_tokenization_spaces` was not set. It will be set to `True` by default. This behavior will be depracted in transformers v4.45, and will be then set to `False` by default. For more details check this issue: https://github.com/huggingface/transformers/issues/31884\n",
      "  warnings.warn(\n"
     ]
    },
    {
     "name": "stdout",
     "output_type": "stream",
     "text": [
      "tensor(0.9979, grad_fn=<SelectBackward0>) negative\n",
      "False\n"
     ]
    }
   ],
   "source": [
    "from transformers import AutoTokenizer, AutoModelForSequenceClassification\n",
    "import torch\n",
    "from typing import Tuple \n",
    "device = \"cuda:0\" if torch.cuda.is_available() else \"cpu\"\n",
    "\n",
    "tokenizer = AutoTokenizer.from_pretrained(\"ProsusAI/finbert\")\n",
    "model = AutoModelForSequenceClassification.from_pretrained(\"ProsusAI/finbert\").to(device)\n",
    "labels = [\"positive\", \"negative\", \"neutral\"]\n",
    "\n",
    "def estimate_sentiment(news):\n",
    "    if news:\n",
    "        tokens = tokenizer(news, return_tensors=\"pt\", padding=True).to(device)\n",
    "\n",
    "        result = model(tokens[\"input_ids\"], attention_mask=tokens[\"attention_mask\"])[\n",
    "            \"logits\"\n",
    "        ]\n",
    "        result = torch.nn.functional.softmax(torch.sum(result, 0), dim=-1)\n",
    "        probability = result[torch.argmax(result)]\n",
    "        sentiment = labels[torch.argmax(result)]\n",
    "        return probability, sentiment\n",
    "    else:\n",
    "        return 0, labels[-1]\n",
    "\n",
    "\n",
    "if __name__ == \"__main__\":\n",
    "    tensor, sentiment = estimate_sentiment(['markets responded negatively to the news!','traders were displeased!'])\n",
    "    print(tensor, sentiment)\n",
    "    print(torch.cuda.is_available())"
   ]
  },
  {
   "cell_type": "code",
   "execution_count": 6,
   "id": "f37da157-f36e-44aa-a020-1ea195d126bf",
   "metadata": {},
   "outputs": [],
   "source": [
    "class MLTrader(Strategy):\n",
    "    # We start the bot. Initialize method will run once.\n",
    "    def initialize(self, symbol:str='SPY', \n",
    "                   cash_at_risk:float=0.5\n",
    "                  ):\n",
    "        self.symbol=symbol\n",
    "        self.sleeptime = '24H' # how frequently we want to trade\n",
    "        self.last_trade = None # capture last trade. in case undo some sell/buy\n",
    "        self.cash_at_risk = cash_at_risk # how much of our cash balance we want to risk at every trade\n",
    "        self.api = REST(base_url= BASE_URL, \n",
    "                        key_id=API_KEY,\n",
    "                        secret_key=API_SECRET\n",
    "                       )\n",
    "        \n",
    "    def position_sizing(self):\n",
    "        cash = self.get_cash()\n",
    "        last_price = self.get_last_price(self.symbol)\n",
    "        quantity = round(cash * self.cash_at_risk / last_price, 0)\n",
    "\n",
    "        return cash, last_price, quantity\n",
    "\n",
    "    def get_dates(self):\n",
    "        today = self.get_datetime()\n",
    "        three_days_prior = today - Timedelta(days=3)\n",
    "        return today.strftime('%Y-%m-%d'), three_days_prior.strftime('%Y-%m-%d')\n",
    "        \n",
    "    \n",
    "    def get_sentiment(self):\n",
    "        today, three_days_prior = self.get_dates()\n",
    "        news = self.api.get_news(symbol=self.symbol,\n",
    "                                 start = three_days_prior,\n",
    "                                 end = today\n",
    "                                )\n",
    "        news = [ev.__dict__[\"_raw\"][\"headline\"] for ev in news]\n",
    "        probability, sentiment = estimate_sentiment(news)\n",
    "        return probability, sentiment\n",
    "        \n",
    "    \n",
    "    # every time we get a tick\n",
    "    def on_trading_iteration(self):\n",
    "        cash, last_price, quantity = self.position_sizing()\n",
    "        probability, sentiment = self.get_sentiment()\n",
    "\n",
    "        if cash > last_price:\n",
    "            if sentiment == 'positive' and probability > 0.999:\n",
    "                if self.last_trade == \"sell\": \n",
    "                    self.sell_all() \n",
    "                order = self.create_order(\n",
    "                    self.symbol,\n",
    "                    quantity, # how many we want to buy\n",
    "                    'buy',\n",
    "                    type = 'bracket', # options: limit, bracket\n",
    "                    take_profit_price = last_price*1.20,\n",
    "                    stop_loss_price = last_price*0.95\n",
    "                \n",
    "                )\n",
    "                self.submit_order(order)\n",
    "                self.last_trade = 'buy'\n",
    "\n",
    "\n",
    "        elif sentiment == 'negative' and probability > 0.999:\n",
    "            if self.last_trade == \"buy\": \n",
    "                self.sell_all() \n",
    "            order = self.create_order(\n",
    "                self.symbol,\n",
    "                quantity, # how many we want to buy\n",
    "                'sell',\n",
    "                type = 'bracket', # options: limit, bracket\n",
    "                take_profit_price = last_price*0.8,\n",
    "                stop_loss_price = last_price*1.05\n",
    "            \n",
    "            )\n",
    "            self.submit_order(order)\n",
    "            self.last_trade = 'sell'"
   ]
  },
  {
   "cell_type": "code",
   "execution_count": 7,
   "id": "f446b744-614d-4089-b565-ab4afdd575a4",
   "metadata": {},
   "outputs": [],
   "source": [
    "# add image for bracket loss"
   ]
  },
  {
   "cell_type": "code",
   "execution_count": 8,
   "id": "80363b4a-443c-41ae-8e7e-af51b072b955",
   "metadata": {},
   "outputs": [],
   "source": [
    "start_date = datetime(2020, 1, 1)\n",
    "end_date = datetime(2023, 12, 31)"
   ]
  },
  {
   "cell_type": "code",
   "execution_count": null,
   "id": "f48d21d5-4c4e-43f1-ade7-abf0caa77012",
   "metadata": {},
   "outputs": [],
   "source": []
  },
  {
   "cell_type": "code",
   "execution_count": 9,
   "id": "f282d743-9911-4d18-9a3c-409649b6037b",
   "metadata": {},
   "outputs": [
    {
     "name": "stderr",
     "output_type": "stream",
     "text": [
      "2024-09-22 00:47:17 | asyncio | INFO | [unknown] Waiting for the socket stream connection to be established, \n",
      "                method _stream_established must be called\n",
      "2024-09-22 00:47:18 | alpaca.trading.stream | INFO | started trading stream\n",
      "2024-09-22 00:47:18 | alpaca.trading.stream | INFO | starting trading websocket connection\n"
     ]
    },
    {
     "name": "stdout",
     "output_type": "stream",
     "text": [
      "2024-09-22 00:49:37,145: alpaca.trading.stream: INFO: connected to: wss://paper-api.alpaca.markets/stream\n"
     ]
    }
   ],
   "source": [
    "broker = Alpaca(ALPACA_CREDS)"
   ]
  },
  {
   "cell_type": "code",
   "execution_count": 10,
   "id": "b5ff5b23-7b67-4bc5-97f8-e6daf5869022",
   "metadata": {},
   "outputs": [],
   "source": [
    "strategy = MLTrader(name='mlstrat',\n",
    "                    broker=broker,\n",
    "                    parameters = {'symbol' : 'SPY',\n",
    "                                  'cash_at_risk':0.5 # higher number means more cash per trade --> more risk taken\n",
    "                                  \n",
    "                                 \n",
    "                                 }\n",
    "                   )"
   ]
  },
  {
   "cell_type": "code",
   "execution_count": 12,
   "id": "3c566285-c973-4fbd-8b3f-a3594e680966",
   "metadata": {},
   "outputs": [
    {
     "name": "stdout",
     "output_type": "stream",
     "text": [
      "Starting backtest for MLTrader...\n",
      "Progress |\u001b[32m██████████████████████████████████████████████████████████████████\u001b[0m| 100.00%  [Elapsed: 0:06:46 ETA: 0:00:00] \n",
      "Creating trades plot...\n",
      "\n",
      "Creating indicators plot...\n",
      "\n",
      "Creating tearsheet...\n"
     ]
    },
    {
     "data": {
      "text/plain": [
       "{'cagr': 0.037902653648064666,\n",
       " 'volatility': 0.06188076707275991,\n",
       " 'sharpe': -0.22991545244258188,\n",
       " 'max_drawdown': {'drawdown': 0.10640172510503991,\n",
       "  'date': Timestamp('2023-10-26 09:30:00-0400', tz='America/New_York')},\n",
       " 'romad': 0.3562221722499999,\n",
       " 'total_return': 0.160095617239991}"
      ]
     },
     "execution_count": 12,
     "metadata": {},
     "output_type": "execute_result"
    }
   ],
   "source": [
    "strategy.backtest(YahooDataBacktesting,\n",
    "                 start_date,\n",
    "                 end_date,\n",
    "                 parameters={})"
   ]
  },
  {
   "cell_type": "code",
   "execution_count": null,
   "id": "b8aef7f3-a865-4b28-ab9e-7b72318e0232",
   "metadata": {},
   "outputs": [],
   "source": []
  },
  {
   "cell_type": "code",
   "execution_count": null,
   "id": "93b3cefa-27ac-4df4-bdaa-1e181ca5e4a2",
   "metadata": {},
   "outputs": [],
   "source": []
  },
  {
   "cell_type": "code",
   "execution_count": null,
   "id": "69c3b7a6-d139-482f-a01f-7802e3e1c5f0",
   "metadata": {},
   "outputs": [],
   "source": []
  }
 ],
 "metadata": {
  "kernelspec": {
   "display_name": "Python 3 (ipykernel)",
   "language": "python",
   "name": "python3"
  },
  "language_info": {
   "codemirror_mode": {
    "name": "ipython",
    "version": 3
   },
   "file_extension": ".py",
   "mimetype": "text/x-python",
   "name": "python",
   "nbconvert_exporter": "python",
   "pygments_lexer": "ipython3",
   "version": "3.10.14"
  }
 },
 "nbformat": 4,
 "nbformat_minor": 5
}
