{
 "cells": [
  {
   "cell_type": "code",
   "execution_count": 54,
   "id": "84bd0020-8378-4e87-ac5f-235e49e7effe",
   "metadata": {},
   "outputs": [],
   "source": [
    "import pandas as pd\n",
    "from pathlib import Path"
   ]
  },
  {
   "cell_type": "markdown",
   "id": "24879017-3237-4422-ba25-7a02671d52ce",
   "metadata": {},
   "source": [
    "# Load Data"
   ]
  },
  {
   "cell_type": "code",
   "execution_count": 58,
   "id": "8e98f55a-2870-41d3-961e-97a09d20f1f9",
   "metadata": {},
   "outputs": [
    {
     "name": "stdout",
     "output_type": "stream",
     "text": [
      "F:\\cc_data\\cc_transactions.csv\n"
     ]
    },
    {
     "data": {
      "text/html": [
       "<div>\n",
       "<style scoped>\n",
       "    .dataframe tbody tr th:only-of-type {\n",
       "        vertical-align: middle;\n",
       "    }\n",
       "\n",
       "    .dataframe tbody tr th {\n",
       "        vertical-align: top;\n",
       "    }\n",
       "\n",
       "    .dataframe thead th {\n",
       "        text-align: right;\n",
       "    }\n",
       "</style>\n",
       "<table border=\"1\" class=\"dataframe\">\n",
       "  <thead>\n",
       "    <tr style=\"text-align: right;\">\n",
       "      <th></th>\n",
       "      <th>Description</th>\n",
       "      <th>Type of Transaction</th>\n",
       "    </tr>\n",
       "  </thead>\n",
       "  <tbody>\n",
       "    <tr>\n",
       "      <th>0</th>\n",
       "      <td>AMZN Mktp CA</td>\n",
       "      <td>Credit</td>\n",
       "    </tr>\n",
       "    <tr>\n",
       "      <th>1</th>\n",
       "      <td>AMZN Mktp CA</td>\n",
       "      <td>Credit</td>\n",
       "    </tr>\n",
       "  </tbody>\n",
       "</table>\n",
       "</div>"
      ],
      "text/plain": [
       "    Description Type of Transaction\n",
       "0  AMZN Mktp CA              Credit\n",
       "1  AMZN Mktp CA              Credit"
      ]
     },
     "execution_count": 58,
     "metadata": {},
     "output_type": "execute_result"
    }
   ],
   "source": [
    "p = Path(r\"F:\\cc_data\").resolve()\n",
    "file_loc = p.absolute() / 'cc_transactions.csv'\n",
    "print(file_loc)\n",
    "data = pd.read_csv(file_loc).drop(['Filter', 'Sub-description', 'Status', 'Amount', 'Date'], axis=1)\n",
    "# dropping these columns as they are not relevant for the task\n",
    "data.head(2)"
   ]
  },
  {
   "cell_type": "code",
   "execution_count": 17,
   "id": "009c2e7f-1680-4fba-9ddb-40e80bc2920d",
   "metadata": {},
   "outputs": [
    {
     "data": {
      "text/plain": [
       "575"
      ]
     },
     "execution_count": 17,
     "metadata": {},
     "output_type": "execute_result"
    }
   ],
   "source": [
    "data['Description'].nunique()"
   ]
  },
  {
   "cell_type": "markdown",
   "id": "d434f894-e413-4a84-be75-d9bd78e23a67",
   "metadata": {},
   "source": [
    "Total 575 unique categories"
   ]
  },
  {
   "cell_type": "code",
   "execution_count": 59,
   "id": "a57e4c3b-5904-42ca-975d-212a5cdfce63",
   "metadata": {},
   "outputs": [
    {
     "data": {
      "text/plain": [
       "Description\n",
       "JOE'S NO FRILLS #3156    91\n",
       "FRESHCO #3315            85\n",
       "Name: count, dtype: int64"
      ]
     },
     "execution_count": 59,
     "metadata": {},
     "output_type": "execute_result"
    }
   ],
   "source": [
    "data['Description'].value_counts()[:2]"
   ]
  },
  {
   "cell_type": "markdown",
   "id": "e6026913-3595-4711-9b5f-b824ecc6f363",
   "metadata": {},
   "source": [
    "# Local LLM\n",
    "\n",
    "* Install ollama from here: https://ollama.com/\n",
    "* Download the LLM base mode you want to use: `ollama pull mistral`\n",
    "* Use package `langchain_community`: `pip install langchain_community`"
   ]
  },
  {
   "cell_type": "code",
   "execution_count": 61,
   "id": "36ec30e8-4478-44d0-87cd-110a93ad7f11",
   "metadata": {},
   "outputs": [],
   "source": [
    "from langchain_community.llms import Ollama"
   ]
  },
  {
   "cell_type": "code",
   "execution_count": 62,
   "id": "cafdb659-a59e-403a-adcc-0e0daf48d6bf",
   "metadata": {},
   "outputs": [
    {
     "data": {
      "text/plain": [
       "'The answer to 5 + 10 is:\\n\\n15!\\n\\nWould you like me to help with anything else?'"
      ]
     },
     "execution_count": 62,
     "metadata": {},
     "output_type": "execute_result"
    }
   ],
   "source": [
    "llm = Ollama(model=\"llama3.1:latest\")\n",
    "llm.invoke(\"Hello, what is 5+10?\")"
   ]
  },
  {
   "cell_type": "markdown",
   "id": "eb7360e3-a00f-4edc-89ed-c2da9f4ea70e",
   "metadata": {},
   "source": [
    "Example prompt:"
   ]
  },
  {
   "cell_type": "code",
   "execution_count": 65,
   "id": "32d4dac7-58d7-4874-b529-fd839de6c5dc",
   "metadata": {},
   "outputs": [
    {
     "data": {
      "text/plain": [
       "'Can you add an appropriate category to the my expenses. Example: Spotify AB by Adyen --- Entertainment. \\nMake sure you follow the template of three dashes (---) seperating the input expense and your predicted category.\\nI am located in Toronto, Canada. \\nCategories should be less than 5 words. \\nHere is the one you need to categorize: AMZN Mktp CA'"
      ]
     },
     "execution_count": 65,
     "metadata": {},
     "output_type": "execute_result"
    }
   ],
   "source": [
    "prompt = \"\"\"Can you add an appropriate category to the my expenses. Example: Spotify AB by Adyen --- Entertainment. \n",
    "Make sure you follow the template of three dashes (---) seperating the input expense and your predicted category.\n",
    "I am located in Toronto, Canada. \n",
    "Categories should be less than 5 words. \n",
    "Here is the one you need to categorize: \"\"\" + unique_transactions[0]\n",
    "prompt"
   ]
  },
  {
   "cell_type": "markdown",
   "id": "bfdbeb93-95b7-450c-af49-4e03876134f5",
   "metadata": {},
   "source": [
    "* Why 3 dashes? Some transactions have a dash in the description. So easy to split later.\n",
    "* Why mention the city - make it more relevant. Sometime LLM mixed CA for California instead of Canada"
   ]
  },
  {
   "cell_type": "code",
   "execution_count": 66,
   "id": "c466ed17-ff20-4d03-afbd-6e11c96f4705",
   "metadata": {},
   "outputs": [
    {
     "name": "stdout",
     "output_type": "stream",
     "text": [
      "['Here is the categorized expense:', '', 'AMZN Mktp CA --- Online Shopping']\n"
     ]
    }
   ],
   "source": [
    "categories_df_all = pd.DataFrame(columns = ['Transaction vs category', 'Transaction', 'Category'])\n",
    "for inx, transaction in enumerate(unique_transactions):\n",
    "    try:\n",
    "        prompt = \"\"\"Can you add an appropriate category to the my expenses. Example: Spotify AB by Adyen --- Entertainment. \n",
    "        Make sure you follow the template of three dashes (---) seperating the input expense and your predicted category.\n",
    "        I am located in Toronto, Canada. \n",
    "        Categories should be less than 5 words. \n",
    "        Here is the one you need to categorize: \"\"\" + transaction\n",
    "        \n",
    "        response = llm.invoke(prompt)\n",
    "        response = response.split('\\n')\n",
    "        print(response)\n",
    "    \n",
    "        categories_item = pd.DataFrame({'Transaction vs category': response})\n",
    "        categories_item[['Transaction', 'Category']] = categories_item['Transaction vs category'].str.split('---', expand=True)\n",
    "        categories_df_all = pd.concat([categories_df_all, categories_item], ignore_index=True)\n",
    "        break\n",
    "    except Exception as e:\n",
    "        print('\\nError at : ', inx, transaction)\n",
    "        print('\\t', e, '\\n')\n",
    "        \n",
    "    "
   ]
  },
  {
   "cell_type": "markdown",
   "id": "7b1c3dd1-f831-4351-a7fb-4e20faf1438a",
   "metadata": {},
   "source": [
    "* Why `try-catch` block? Sometimes the llm doesnt return a proper category. In such case the splitting will result in an error\n",
    "* You can remove the break command to run this for all transactions.\n",
    "* Further to save time, pass in multiple transactions instead of 1 to categories in 1 prompt."
   ]
  },
  {
   "cell_type": "code",
   "execution_count": 67,
   "id": "e7f7d1c6-cdf9-4dff-b87a-537951c64f62",
   "metadata": {},
   "outputs": [
    {
     "data": {
      "text/html": [
       "<div>\n",
       "<style scoped>\n",
       "    .dataframe tbody tr th:only-of-type {\n",
       "        vertical-align: middle;\n",
       "    }\n",
       "\n",
       "    .dataframe tbody tr th {\n",
       "        vertical-align: top;\n",
       "    }\n",
       "\n",
       "    .dataframe thead th {\n",
       "        text-align: right;\n",
       "    }\n",
       "</style>\n",
       "<table border=\"1\" class=\"dataframe\">\n",
       "  <thead>\n",
       "    <tr style=\"text-align: right;\">\n",
       "      <th></th>\n",
       "      <th>Transaction vs category</th>\n",
       "      <th>Transaction</th>\n",
       "      <th>Category</th>\n",
       "    </tr>\n",
       "  </thead>\n",
       "  <tbody>\n",
       "    <tr>\n",
       "      <th>0</th>\n",
       "      <td>Here is the categorized expense:</td>\n",
       "      <td>Here is the categorized expense:</td>\n",
       "      <td>None</td>\n",
       "    </tr>\n",
       "    <tr>\n",
       "      <th>1</th>\n",
       "      <td></td>\n",
       "      <td></td>\n",
       "      <td>None</td>\n",
       "    </tr>\n",
       "    <tr>\n",
       "      <th>2</th>\n",
       "      <td>AMZN Mktp CA --- Online Shopping</td>\n",
       "      <td>AMZN Mktp CA</td>\n",
       "      <td>Online Shopping</td>\n",
       "    </tr>\n",
       "  </tbody>\n",
       "</table>\n",
       "</div>"
      ],
      "text/plain": [
       "            Transaction vs category                       Transaction  \\\n",
       "0  Here is the categorized expense:  Here is the categorized expense:   \n",
       "1                                                                       \n",
       "2  AMZN Mktp CA --- Online Shopping                     AMZN Mktp CA    \n",
       "\n",
       "           Category  \n",
       "0              None  \n",
       "1              None  \n",
       "2   Online Shopping  "
      ]
     },
     "execution_count": 67,
     "metadata": {},
     "output_type": "execute_result"
    }
   ],
   "source": [
    "categories_df_all"
   ]
  },
  {
   "cell_type": "markdown",
   "id": "24a0fe0f-9197-4f0a-bbef-c6beae095ea6",
   "metadata": {},
   "source": [
    "Remove unnecessary rows, where `Category` == None"
   ]
  },
  {
   "cell_type": "code",
   "execution_count": null,
   "id": "bae02488-7ca3-4486-8cc7-554b89b3c9b5",
   "metadata": {},
   "outputs": [],
   "source": []
  }
 ],
 "metadata": {
  "kernelspec": {
   "display_name": "Python 3 (ipykernel)",
   "language": "python",
   "name": "python3"
  },
  "language_info": {
   "codemirror_mode": {
    "name": "ipython",
    "version": 3
   },
   "file_extension": ".py",
   "mimetype": "text/x-python",
   "name": "python",
   "nbconvert_exporter": "python",
   "pygments_lexer": "ipython3",
   "version": "3.10.13"
  }
 },
 "nbformat": 4,
 "nbformat_minor": 5
}
