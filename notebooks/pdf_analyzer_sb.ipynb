{
 "cells": [
  {
   "cell_type": "code",
   "execution_count": 1,
   "id": "f10223bf-9084-488b-a453-48c2c06882b2",
   "metadata": {},
   "outputs": [
    {
     "name": "stderr",
     "output_type": "stream",
     "text": [
      "C:\\Users\\akhan147\\Anaconda3\\envs\\trader\\lib\\site-packages\\tqdm\\auto.py:21: TqdmWarning: IProgress not found. Please update jupyter and ipywidgets. See https://ipywidgets.readthedocs.io/en/stable/user_install.html\n",
      "  from .autonotebook import tqdm as notebook_tqdm\n"
     ]
    }
   ],
   "source": [
    "import os\n",
    "from huggingface_hub import hf_hub_download\n",
    "from pathlib import Path\n",
    "from time import time"
   ]
  },
  {
   "cell_type": "code",
   "execution_count": 2,
   "id": "b386e1ac-e277-4a3c-9eb9-f774f79586ee",
   "metadata": {},
   "outputs": [],
   "source": [
    "repo_dir = Path('.').absolute().parent\n"
   ]
  },
  {
   "cell_type": "markdown",
   "id": "55f7c8c4-31be-4e15-9a1e-65e07fff6deb",
   "metadata": {},
   "source": [
    "# Download a hugging face model & make a Ollama modelfile\n",
    "* Download huggingface CLI - [Hugging Face Hub](https://huggingface.co/docs/huggingface_hub/main/en/guides/cli)\n",
    "* Login to Hugging face - `huggingface-cli login --token $HUGGINGFACE_TOKEN`\n",
    "* `huggingface-cli whoami`\n",
    "* Download a llm model - specifically GGUF one - [GGUF model download](https://www.youtube.com/watch?v=7BH4C6-HP14)\n",
    "* Write a `modelfile` : `FROM ./huggingface_models/mistral-7b-instruct-v0.2.Q4_K_M.gguf`\n",
    "* Create a model: `ollama create mistrallite -f mistral_lite_modelfile`"
   ]
  },
  {
   "cell_type": "code",
   "execution_count": null,
   "id": "f8180f98-6fdf-499a-8144-b47339e282f1",
   "metadata": {},
   "outputs": [],
   "source": []
  },
  {
   "cell_type": "code",
   "execution_count": null,
   "id": "fd919f64-e0e7-4011-9edb-51ed0422cd43",
   "metadata": {},
   "outputs": [],
   "source": []
  },
  {
   "cell_type": "markdown",
   "id": "99992548-62e3-4238-98e3-8126b9157ca7",
   "metadata": {},
   "source": [
    "* First, we have our original data source, the PDFs.\n",
    "* This data is going to be split into small chunks and then transformed into an embedding and stored inside of the vector database.\n",
    "* Then when we want to ask a question, we'll also turn our query into an embedding.\n",
    "* This will let us fetch the most relevant entries from the database.\n",
    "* We can then use those entries together in a prompt and that's how we get our final response."
   ]
  },
  {
   "cell_type": "markdown",
   "id": "fd086d7c-7a01-42b8-9b3b-4b7ddc071243",
   "metadata": {},
   "source": [
    "# Load Docs"
   ]
  },
  {
   "cell_type": "code",
   "execution_count": 3,
   "id": "90ae46b8-bac4-4df9-b41e-5fbf5b8c958c",
   "metadata": {},
   "outputs": [],
   "source": [
    "from langchain.document_loaders.pdf import PyPDFDirectoryLoader\n",
    "\n",
    "DATA_PATH = r'F:\\cc_data\\SB'\n",
    "\n",
    "def load_documents():\n",
    "    document_loader = PyPDFDirectoryLoader(DATA_PATH)\n",
    "    return document_loader.load()"
   ]
  },
  {
   "cell_type": "code",
   "execution_count": 4,
   "id": "2226e1d4-2de4-43af-b984-745cf9540130",
   "metadata": {},
   "outputs": [
    {
     "name": "stdout",
     "output_type": "stream",
     "text": [
      "\n",
      " Time taken:  11.895373582839966\n"
     ]
    }
   ],
   "source": [
    "# Create (or update) the data store.\n",
    "start_time = time()\n",
    "\n",
    "documents = load_documents()\n",
    "print('\\n Time taken: ', time() - start_time)\n",
    "# documents[0]\n"
   ]
  },
  {
   "cell_type": "markdown",
   "id": "d70859c1-79fb-492a-8785-9a1c7377fba5",
   "metadata": {},
   "source": [
    "* So each document is basically an object containing the text content of each page in the PDF. \n",
    "* It also has some metadata attached, which tells you the page number and the source of the text."
   ]
  },
  {
   "cell_type": "code",
   "execution_count": 5,
   "id": "8dedeb69-b8a9-4e39-826e-847b3e7b1b8e",
   "metadata": {},
   "outputs": [
    {
     "name": "stdout",
     "output_type": "stream",
     "text": [
      " \n",
      "Scotiabank  First  Quarter  Press  Release  2024    1  \n",
      " \n",
      "First  Quarter  2024  Earnings  Release  \n",
      " \n",
      "Scotiabank  reports  first  quarter  results  \n",
      " \n",
      "All amounts  are in Canadian  dollars  and  are based  on our unaudited  Interim  Condensed  Consolidated  Financial  Statements  for the quarter  ended  January  31, 2024  and  \n",
      "related  notes  prepared  in accordance  with  International  Financial  Reporting  Standards  (IFRS)  as issued  by the International  Accounting  Standards  Board  (IASB),  unless  \n",
      "otherwise  noted.  Our  complete  First Quarter  2024  Report  to Shareholders,  including  our unaudited  interim  financial  statements  for the period  ended  January  31, 2024,  can \n",
      "also  be found  on the SEDAR+  website  at www.sedarplus.ca  and  on the EDG AR section  of the SEC’s  website  at www.sec.gov . Supplementary  Financial  Information  is also  \n",
      "available,  together  with  the First  Quarter  2024  Report  to Shareholders  on the Investor  Relations  page  at www.scotiabank.com . \n",
      " \n",
      "First  Quarter  2024  Highlights  on a Reported  Basis   \n",
      "(versus  Q1 2023)  First  Quar ter 2024  Highlights  on an Adjusted  Basis(1)  \n",
      "(versus  Q1 2023)  \n",
      "• Net income  of $2,199  million,  compared  to $1,758 million  \n",
      "• Earnings  per share  (diluted)  of $1.68 , compared  to $1.35 \n",
      "• Return  on equity(2) of 11.8%, compared  to 9.8% • Net income  of $2,212  million,  compared  to $2,352 million  \n",
      "• Earnings  per share  (diluted)  of $1.69 , compared  to $1.84  \n",
      "• Return  on equity  of 11.9%, compared  to 13.4% \n",
      "TORONTO,  February  27, 2024  — The Bank  of Nova  Scotia  (“Scotiabank”)  (TSX:  BNS;  NYSE:  BNS)  reported  first quarter  net income  of $2,199 million  \n",
      "compared  to $1,758 million  in the same  period  last year.  Diluted  earnings  per share  (EPS)  were  $1.68 , compared  to $1.35 in the same  period  a year  ago.  \n",
      "Adjusted  net income(1) for the first quarter  was $2,212 million  and diluted  EPS was $1.69, down  from  $1.84 last year.  Adjusted  return  on equity  was 11.9% \n",
      "compared  to 13.4% a year  ago.  \n",
      "“The Bank delivered  solid  earnings  this quarter  driven  by strong  revenue  growth,  margin  expansion  and expense  discipline.  I am encoura ged by the early  \n",
      "progress  against  our strategic  priorities,  and the further  strengthening  of our balance  sheet  metrics,”  said  Scott  Thomson,  President  and CEO  of \n",
      "Scotiabank .  \n",
      "Canadian  Banking  delivered  adjusted  earnings(1) of $1,096  million  this quarter  as solid  revenue  growth  from  margin  expansion,  continued  deposit  growth  \n",
      "and expense  management  were  partly  offset  by higher  provision  for credit  losses.  \n",
      "International  Banking  generated  adjusted  earnings(1) of $774  million.  The 32%  quarter -over -quarter  earnings  growth  was driven  by double -digit  revenue  \n",
      "growth,  partly  offset  by higher  provision  for credit  losses  and expenses . \n",
      "Global  Wealth  Management  adjusted  earnings(1) were  $377  million.  Higher  mutual  fund  fees  and lower  expenses  contributed  to 13%  earnings  growth  \n",
      "compared  to the prior  quarter . \n",
      "Global  Banking  and Markets  reported  earnings  of $439  million,  up 6% compared  to the prior  quarter.  Results  were  supported  by lower  provision  for credit  \n",
      "losses  and revenue  growth,  partly  offset  by higher  expenses . \n",
      "The Bank  reported  an increased  Common  Equity  Tier 1 (CET1)  capital  ratio(3) of 12.9 %, up from  11.5%  last year.  \n",
      "“We are making  positive  progress  towards  our goal  of delivering  sustainable,  long -term  value  for our shareholders.  With  the release  of our new  strategy  at \n",
      "our Investor  Day in December,  our team  of Scotiabankers  globally  are energized  and focused  on executing  our strategic  priorities,”  continued  Mr. \n",
      "Thomson . \n",
      " \n",
      " \n",
      " \n",
      " \n",
      " \n",
      " \n",
      " \n",
      " \n",
      "(1) Refer  to Non -GAAP  Measures  section  starting  on page  5.  \n",
      "(2) Refer  to page  50 of the Management’s  Discussion  & Analysis  in the Bank's  First  Quarter  2024  Report  to Shareholders,  available  on www.sedar plus.ca,  for an explanation  of \n",
      "the composition  of the measure.  Such  explanation  is incorporated  by reference  hereto.  \n",
      "(3) The  Q1 2024  regulatory  capital  ratios  are based  on Revised  Basel  III requiremen ts as determined  in accordance  with  OSFI  Guideline  - Capital  Adequacy  Requirements  \n",
      "(November  2023).  The  Q1 2023  regulatory  capital  ratios  were  prepared  in accordance  with  OSFI  Guideline  - Capital  Adequacy  Requirements  (November  2018).  \n",
      " \n",
      " \n"
     ]
    }
   ],
   "source": [
    "# Extract the page_content from each document\n",
    "page_contents = [doc.page_content for doc in documents]\n",
    "\n",
    "# If you want to access the page_content of the first document\n",
    "first_page_content = page_contents[0]\n",
    "print(first_page_content)"
   ]
  },
  {
   "cell_type": "markdown",
   "id": "56917bbc-3e03-47f9-b492-a18b6a36f5be",
   "metadata": {},
   "source": [
    "## Chunk"
   ]
  },
  {
   "cell_type": "code",
   "execution_count": 6,
   "id": "2d778c7d-bba2-4626-85fc-d29de0e4d5f1",
   "metadata": {},
   "outputs": [],
   "source": [
    "from langchain_text_splitters import RecursiveCharacterTextSplitter\n",
    "from langchain.schema.document import Document\n",
    "\n",
    "def split_documents(documents: list[Document]):\n",
    "    text_splitter = RecursiveCharacterTextSplitter(\n",
    "        chunk_size=800,\n",
    "        chunk_overlap=80,\n",
    "        length_function=len,\n",
    "        is_separator_regex=False,\n",
    "    )\n",
    "    return text_splitter.split_documents(documents)"
   ]
  },
  {
   "cell_type": "code",
   "execution_count": 7,
   "id": "cbef4073-702a-485f-bb43-6d44c211afe7",
   "metadata": {},
   "outputs": [
    {
     "name": "stdout",
     "output_type": "stream",
     "text": [
      "page_content='Scotiabank  First  Quarter  Press  Release  2024    1  \n",
      " \n",
      "First  Quarter  2024  Earnings  Release  \n",
      " \n",
      "Scotiabank  reports  first  quarter  results  \n",
      " \n",
      "All amounts  are in Canadian  dollars  and  are based  on our unaudited  Interim  Condensed  Consolidated  Financial  Statements  for the quarter  ended  January  31, 2024  and  \n",
      "related  notes  prepared  in accordance  with  International  Financial  Reporting  Standards  (IFRS)  as issued  by the International  Accounting  Standards  Board  (IASB),  unless  \n",
      "otherwise  noted.  Our  complete  First Quarter  2024  Report  to Shareholders,  including  our unaudited  interim  financial  statements  for the period  ended  January  31, 2024,  can' metadata={'source': 'F:\\\\cc_data\\\\SB\\\\Q124_Quarterly_Press_Release-EN.pdf', 'page': 0}\n",
      "\n",
      " Time taken:  11.88722825050354\n"
     ]
    }
   ],
   "source": [
    "start_time = time()\n",
    "\n",
    "documents = load_documents()\n",
    "chunks = split_documents(documents)\n",
    "print(chunks[0])\n",
    "\n",
    "print('\\n Time taken: ', time() - start_time)"
   ]
  },
  {
   "cell_type": "markdown",
   "id": "447d5c1a-2008-4344-8081-6bbd97aeee32",
   "metadata": {},
   "source": [
    "## Chuck Ids"
   ]
  },
  {
   "cell_type": "markdown",
   "id": "3f8e3542-d83a-42ee-b82e-153069c2e0be",
   "metadata": {},
   "source": [
    "We'll use the source path, the page number, and then the chunk number of that page."
   ]
  },
  {
   "cell_type": "code",
   "execution_count": 8,
   "id": "e0c82c87-0c6a-4001-b441-9276176fcdd9",
   "metadata": {},
   "outputs": [],
   "source": [
    "def calculate_chunk_ids(chunks):\n",
    "\n",
    "    # This will create IDs like \"data/monopoly.pdf:6:2\"\n",
    "    # Page Source : Page Number : Chunk Index\n",
    "\n",
    "    last_page_id = None\n",
    "    current_chunk_index = 0\n",
    "\n",
    "    for chunk in chunks:\n",
    "        source = chunk.metadata.get(\"source\")\n",
    "        source = source[source.find('SB') : ]\n",
    "        \n",
    "        page = chunk.metadata.get(\"page\")\n",
    "        \n",
    "        current_page_id = f\"{source}:{page}\"\n",
    "\n",
    "        # If the page ID is the same as the last one, increment the index.\n",
    "        if current_page_id == last_page_id:\n",
    "            current_chunk_index += 1\n",
    "        else:\n",
    "            current_chunk_index = 0\n",
    "\n",
    "        # Calculate the chunk ID.\n",
    "        chunk_id = f\"{current_page_id}:{current_chunk_index}\"\n",
    "        last_page_id = current_page_id\n",
    "\n",
    "        # Add it to the page meta-data.\n",
    "        chunk.metadata[\"id\"] = chunk_id\n",
    "\n",
    "    return chunks"
   ]
  },
  {
   "cell_type": "code",
   "execution_count": null,
   "id": "4c9036f7-a926-4515-953f-241fc9c8f188",
   "metadata": {},
   "outputs": [],
   "source": []
  },
  {
   "cell_type": "markdown",
   "id": "10f6aa0b-f51d-4a23-bec6-abb61f99a220",
   "metadata": {},
   "source": [
    "# Embedding Functions & VectorDB"
   ]
  },
  {
   "cell_type": "code",
   "execution_count": 9,
   "id": "99b7bc37-32cc-48a6-9f65-939e6f936d5d",
   "metadata": {},
   "outputs": [],
   "source": [
    "# function returns embedding function\n",
    "# used at 2 places - \n",
    "# The first is going to be when we create the database itself. \n",
    "# And the second is when we actually want to query the database\n",
    "\n",
    "from langchain_community.embeddings.ollama import OllamaEmbeddings\n",
    "# from langchain_community.embeddings.bedrock import BedrockEmbeddings\n",
    "\n",
    "\n",
    "def get_embedding_function():\n",
    "    # embeddings = BedrockEmbeddings(\n",
    "    #     credentials_profile_name=\"default\", region_name=\"us-east-1\"\n",
    "    # )\n",
    "    embeddings = OllamaEmbeddings(model=\"nomic-embed-text\") # if completely local\n",
    "    return embeddings"
   ]
  },
  {
   "cell_type": "code",
   "execution_count": 10,
   "id": "b075799a-7edc-4eaa-b936-d335d543b002",
   "metadata": {},
   "outputs": [],
   "source": [
    "CHROMA_PATH = r\"F:\\cc_data\\chroma_SB\"\n"
   ]
  },
  {
   "cell_type": "code",
   "execution_count": 11,
   "id": "5d4299eb-61f7-42e7-8bfa-6fb08ea6b54d",
   "metadata": {},
   "outputs": [],
   "source": [
    "from langchain.vectorstores.chroma import Chroma\n",
    "\n",
    "def add_to_chroma(chunks: list[Document]):\n",
    "    # Load the existing database.\n",
    "    db = Chroma(\n",
    "        persist_directory=CHROMA_PATH, embedding_function=get_embedding_function()\n",
    "    )\n",
    "\n",
    "    # Calculate Page IDs.\n",
    "    chunks_with_ids = calculate_chunk_ids(chunks)\n",
    "\n",
    "    # Add or Update the documents.\n",
    "    existing_items = db.get(include=[])  # IDs are always included by default\n",
    "    existing_ids = set(existing_items[\"ids\"])\n",
    "    print(f\"Number of existing documents in DB: {len(existing_ids)}\")\n",
    "\n",
    "    # Only add documents that don't exist in the DB.\n",
    "    new_chunks = []\n",
    "    for chunk in chunks_with_ids:\n",
    "        if chunk.metadata[\"id\"] not in existing_ids:\n",
    "            new_chunks.append(chunk)\n",
    "\n",
    "    if len(new_chunks):\n",
    "        print(f\"👉 Adding new documents: {len(new_chunks)}\")\n",
    "        new_chunk_ids = [chunk.metadata[\"id\"] for chunk in new_chunks]\n",
    "        db.add_documents(new_chunks, ids=new_chunk_ids)\n",
    "        db.persist()\n",
    "    else:\n",
    "        print(\"✅ No new documents to add\")"
   ]
  },
  {
   "cell_type": "code",
   "execution_count": 12,
   "id": "194c90c7-ed7e-42b7-8bb3-523359e7836a",
   "metadata": {},
   "outputs": [
    {
     "name": "stderr",
     "output_type": "stream",
     "text": [
      "C:\\Users\\akhan147\\AppData\\Local\\Temp\\ipykernel_3804\\2203180553.py:5: LangChainDeprecationWarning: The class `Chroma` was deprecated in LangChain 0.2.9 and will be removed in 1.0. An updated version of the class exists in the :class:`~langchain-chroma package and should be used instead. To use it run `pip install -U :class:`~langchain-chroma` and import as `from :class:`~langchain_chroma import Chroma``.\n",
      "  db = Chroma(\n"
     ]
    },
    {
     "name": "stdout",
     "output_type": "stream",
     "text": [
      "Number of existing documents in DB: 0\n",
      "👉 Adding new documents: 278\n",
      "\n",
      " Time taken:  767.7068340778351\n"
     ]
    },
    {
     "name": "stderr",
     "output_type": "stream",
     "text": [
      "C:\\Users\\akhan147\\AppData\\Local\\Temp\\ipykernel_3804\\2203180553.py:27: LangChainDeprecationWarning: Since Chroma 0.4.x the manual persistence method is no longer supported as docs are automatically persisted.\n",
      "  db.persist()\n"
     ]
    }
   ],
   "source": [
    "start_time = time()\n",
    "add_to_chroma(chunks)\n",
    "\n",
    "print('\\n Time taken: ', time() - start_time)"
   ]
  },
  {
   "cell_type": "code",
   "execution_count": null,
   "id": "4709a9db-0cf8-499d-b467-405303eee81d",
   "metadata": {},
   "outputs": [],
   "source": []
  },
  {
   "cell_type": "code",
   "execution_count": 13,
   "id": "260d1ab4-8aff-480c-b4b5-e97871cd575b",
   "metadata": {},
   "outputs": [],
   "source": [
    "import shutil\n",
    "import os\n",
    "def clear_database():\n",
    "    if os.path.exists(CHROMA_PATH):\n",
    "        shutil.rmtree(CHROMA_PATH)"
   ]
  },
  {
   "cell_type": "code",
   "execution_count": 14,
   "id": "c02acd29-9aff-49da-81c6-09a08f3224cf",
   "metadata": {},
   "outputs": [],
   "source": [
    "# clear_database()"
   ]
  },
  {
   "cell_type": "markdown",
   "id": "8b3903b8-e547-4f9e-b801-08e2f7134cd8",
   "metadata": {},
   "source": [
    "# Running RAG "
   ]
  },
  {
   "cell_type": "code",
   "execution_count": 15,
   "id": "cf9d73bc-9948-44f4-9590-0350e6e873cd",
   "metadata": {},
   "outputs": [],
   "source": [
    "PROMPT_TEMPLATE = \"\"\"\n",
    "Answer the question based only on the following context:\n",
    "\n",
    "{context}\n",
    "\n",
    "---\n",
    "\n",
    "Answer the question based on the above context: {question}\n",
    "\"\"\""
   ]
  },
  {
   "cell_type": "code",
   "execution_count": 16,
   "id": "17b3bf42-c906-4780-a34e-ddc15a2fcb0d",
   "metadata": {},
   "outputs": [],
   "source": [
    "from langchain.prompts import ChatPromptTemplate\n",
    "from langchain_community.llms.ollama import Ollama\n",
    "\n",
    "def query_rag(query_text: str):\n",
    "    # Prepare the DB.\n",
    "    embedding_function = get_embedding_function()\n",
    "    db = Chroma(persist_directory=CHROMA_PATH, embedding_function=embedding_function)\n",
    "\n",
    "    # Search the DB. Gives k most relevant chunks to the query\n",
    "    results = db.similarity_search_with_score(query_text, k=5)\n",
    "\n",
    "    context_text = \"\\n\\n---\\n\\n\".join([doc.page_content for doc, _score in results])\n",
    "    prompt_template = ChatPromptTemplate.from_template(PROMPT_TEMPLATE)\n",
    "    prompt = prompt_template.format(context=context_text, question=query_text)\n",
    "    # print(prompt)\n",
    "\n",
    "    model = Ollama(model=\"mistrallite:latest\")\n",
    "    response_text = model.invoke(prompt)\n",
    "\n",
    "    sources = [doc.metadata.get(\"id\", None) for doc, _score in results]\n",
    "    formatted_response = f\"Response: {response_text}\\nSources: {sources}\"\n",
    "    print(formatted_response)\n",
    "    return response_text, results"
   ]
  },
  {
   "cell_type": "code",
   "execution_count": 19,
   "id": "7164df30-de3d-480c-9bec-fd856d42ea1d",
   "metadata": {},
   "outputs": [
    {
     "name": "stdout",
     "output_type": "stream",
     "text": [
      "Response:  According to the provided context, the company's net income attributable to equity holders increased by $102 million or 10% from Q2 2024 to Q3 2024. This was primarily due to higher revenues, partly offset by higher non-interest expenses and provision for credit losses.\n",
      "\n",
      "Compared to Q3 2023, the company experienced a net loss of $729 million compared to a net loss of $299 million last year. The higher loss of $166 million was due mainly to lower revenues driven by higher funding costs, partly offset by higher revenue from liquid assets and a lower taxable equivalent basis gross-up as the Bank no longer claims the dividend received deduction on Canadian shares that are mark-to-market property.\n",
      "\n",
      "Therefore, the company's financial performance improved from Q3 2023 to Q3 2024, despite experiencing a loss in both quarters. However, it should be noted that the comparison between Q3 2024 and Q2 2024 only shows an increase in net income attributable to equity holders, but no information is provided on the magnitude of the revenues or expenses in each quarter to determine if the improvement was significant.\n",
      "\n",
      "It's also worth noting that the financial performance discussion in the context is presented on a constant dollar basis, which recalculates prior period amounts using current period average foreign currency rates as a non-GAAP financial measure. The Bank believes this measurement is useful for readers to assess ongoing business performance without the impact of foreign currency translation.\n",
      "Sources: ['SB\\\\Q324_Quarterly_Press_Release-EN.pdf:2:6', 'SB\\\\Q324_Quarterly_Press_Release-EN.pdf:2:0', 'SB\\\\Q324_Quarterly_Press_Release-EN.pdf:1:4', 'SB\\\\Q224_Quarterly_Press_Release-EN.pdf:2:6', 'SB\\\\Q124_Quarterly_Press_Release-EN.pdf:1:5']\n",
      "\n",
      " Time taken:  87.61354279518127\n"
     ]
    }
   ],
   "source": [
    "start_time = time()\n",
    "\n",
    "query_text = 'How did the quater 3 compare with quater 2 and 1 for the company'\n",
    "response_text, results = query_rag(query_text)\n",
    "\n",
    "print('\\n Time taken: ', time() - start_time)"
   ]
  },
  {
   "cell_type": "code",
   "execution_count": 20,
   "id": "ce51e4ba-530f-459e-9577-6580539d0f0d",
   "metadata": {},
   "outputs": [
    {
     "data": {
      "text/plain": [
       "[(Document(metadata={'id': 'SB\\\\Q324_Quarterly_Press_Release-EN.pdf:2:6', 'page': 2, 'source': 'F:\\\\cc_data\\\\SB\\\\Q324_Quarterly_Press_Release-EN.pdf'}, page_content='Other   \\nQ3 2024  vs Q3 2023   \\nNet income  attributable  to equity  holders  was a net loss of $729  million,  compared  to a net loss of $299  million  last year.   Adjusted  net income  \\nattributable  to equity  holders  was a net loss of $465  million  compared  to a net loss of $299  million  last year.  The higher  loss of $166  million  was due \\nmainly  to lower  revenues  driven  by higher  funding  costs . These  were  partly  offset  by higher  revenue  from  liquid  assets  and a lower  taxable  equivalent  \\nbasis  (TEB)  gross -up as the Bank  no longer  claims  the dividend  received  deduction  on Canadian  shares  that  are mark -to-market  property.  The TEB  gross -\\nup is offset  in income  taxes .  \\nQ3 2024  vs Q2 2024'),\n",
       "  384.5665222078829),\n",
       " (Document(metadata={'id': 'SB\\\\Q324_Quarterly_Press_Release-EN.pdf:2:0', 'page': 2, 'source': 'F:\\\\cc_data\\\\SB\\\\Q324_Quarterly_Press_Release-EN.pdf'}, page_content='Scotiabank  Third  Quarter  Press  Release  2024    3 Financial  Performance  on a Constant  Dollar  Basis   \\nThe discussion  below  on the results  of operations  is on a constant  dollar  basis.  Under  the constant  dollar  basis,  prior  period  amounts  are recalculated  using  \\ncurrent  period  average  foreign  currency  rates,  which  is a non-GAAP  financial  measure  (refer  to Non -GAAP  Measures  starting  on page  6). The Bank  believes  \\nthat  constant  dollar  is useful  for readers  in assessing  ongoing  business  performance  without  the impact  of foreign  currency  translation  and  is used  by \\nmanagement  to assess  the performance  of the business  segment.  \\nQ3 2024  vs Q3 2023'),\n",
       "  385.2183532714844),\n",
       " (Document(metadata={'id': 'SB\\\\Q324_Quarterly_Press_Release-EN.pdf:1:4', 'page': 1, 'source': 'F:\\\\cc_data\\\\SB\\\\Q324_Quarterly_Press_Release-EN.pdf'}, page_content='Q3 2024  vs Q2 2024   \\nNet income  attributable  to equity  holders  increased  $102  million  or 10%.  The increase  was due primarily  to higher  revenues,  partly  offset  by higher  non-\\ninterest  expenses  and provision  for credit  losses.   \\nYear -to-date  Q3 2024  vs Year -to-date  Q3 2023   \\nNet income  attributable  to equity  holders  was $3,213  million  compared  to $3,191  million , up 1%. Adjusted  net income  was $3,215  million,  an increase  of \\n$21 million  or 1%. The increase  was due primarily  to higher  revenues,  partly  offset  by higher  provision  for credit  losses  and non-interest  expenses .  \\nInternational  Banking   \\nQ3 2024  vs Q3 2023'),\n",
       "  385.6072998046875),\n",
       " (Document(metadata={'id': 'SB\\\\Q224_Quarterly_Press_Release-EN.pdf:2:6', 'page': 2, 'source': 'F:\\\\cc_data\\\\SB\\\\Q224_Quarterly_Press_Release-EN.pdf'}, page_content='Other   \\nQ2 2024  vs Q2 2023   \\nNet income  attributable  to equity  holders  was a net loss of $421  million,  compared  to a net loss of $323  million  last year.  The higher  loss of $98  million  was \\ndue mainly to lower  revenues,  partly  offset  by lower  non-interest  expenses.   The decrease  in revenue  was due mainly  to higher  funding  costs,  partly  offset  \\nby higher  income  from  liquid  assets  and a lower  taxable  equivalent  basis  (TEB)  gross -up as the Bank  no longe r claims  the dividend  received  deduction  on \\nCanadian  shares  that  are mark -to-market  property.  The TEB  gross -up is offset  in income  taxes .  \\nQ2 2024  vs Q1 2024'),\n",
       "  389.948486328125),\n",
       " (Document(metadata={'id': 'SB\\\\Q124_Quarterly_Press_Release-EN.pdf:1:5', 'page': 1, 'source': 'F:\\\\cc_data\\\\SB\\\\Q124_Quarterly_Press_Release-EN.pdf'}, page_content='or 35%.  The increase  was due primarily  to higher  non-interest  income  and net interest  income,  partly  offset by higher  provision  for credit  losses,  non-\\ninterest  expenses  and income  taxes .  \\nFinancial  Performance  on a Constant  Dollar  Basis   \\nThe discussion  below  on the results  of operations  is on a constant  dollar  basis.  Under  the constant  dollar  basis,  prior  period  amounts  are recalculated  using  \\ncurrent  period  average  foreign  currency  rates,  which  is a non-GAAP  financial  measure  (refer  to Non -GAAP  Measures  starting  on page  5). The Bank  believes  \\nthat  constant  dollar  is useful  for readers  in assessing  ongoing  business  performance  without  the impact  of foreign  currency  translation  and is used  by'),\n",
       "  393.64605712890625)]"
      ]
     },
     "execution_count": 20,
     "metadata": {},
     "output_type": "execute_result"
    }
   ],
   "source": [
    "results"
   ]
  },
  {
   "cell_type": "code",
   "execution_count": null,
   "id": "cacfb581-6bab-48c0-b7ce-9080d3edd2c4",
   "metadata": {},
   "outputs": [],
   "source": []
  }
 ],
 "metadata": {
  "kernelspec": {
   "display_name": "Python 3 (ipykernel)",
   "language": "python",
   "name": "python3"
  },
  "language_info": {
   "codemirror_mode": {
    "name": "ipython",
    "version": 3
   },
   "file_extension": ".py",
   "mimetype": "text/x-python",
   "name": "python",
   "nbconvert_exporter": "python",
   "pygments_lexer": "ipython3",
   "version": "3.10.14"
  }
 },
 "nbformat": 4,
 "nbformat_minor": 5
}
