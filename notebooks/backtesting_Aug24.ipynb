{
 "cells": [
  {
   "cell_type": "code",
   "execution_count": 1,
   "id": "ab6131a3-c732-4996-a6fb-caa176bfa9ba",
   "metadata": {},
   "outputs": [],
   "source": [
    "import pandas as pd\n",
    "import numpy as np\n",
    "from pathlib import Path\n",
    "\n",
    "import vectorbt as vbt"
   ]
  },
  {
   "cell_type": "code",
   "execution_count": 9,
   "id": "afecbec7-5201-43ce-9a6e-ad3e3c36f1a8",
   "metadata": {},
   "outputs": [
    {
     "data": {
      "text/plain": [
       "(WindowsPath('G:/My Drive/Slate/Notes_G/Finance Job/python for finance/potfolio_optimization/notebooks'),\n",
       " WindowsPath('G:/My Drive/Slate/Notes_G/Finance Job/python for finance/potfolio_optimization/notebooks/data'))"
      ]
     },
     "execution_count": 9,
     "metadata": {},
     "output_type": "execute_result"
    }
   ],
   "source": [
    "current_dir = Path('.')\n",
    "data_dir = current_dir.parent / 'data'\n",
    "current_dir.absolute(), data_dir.absolute()"
   ]
  },
  {
   "cell_type": "code",
   "execution_count": null,
   "id": "a9b3af8e-155d-49ed-b207-c97b66c2fd88",
   "metadata": {},
   "outputs": [],
   "source": []
  }
 ],
 "metadata": {
  "kernelspec": {
   "display_name": "Python 3 (ipykernel)",
   "language": "python",
   "name": "python3"
  },
  "language_info": {
   "codemirror_mode": {
    "name": "ipython",
    "version": 3
   },
   "file_extension": ".py",
   "mimetype": "text/x-python",
   "name": "python",
   "nbconvert_exporter": "python",
   "pygments_lexer": "ipython3",
   "version": "3.10.13"
  }
 },
 "nbformat": 4,
 "nbformat_minor": 5
}
