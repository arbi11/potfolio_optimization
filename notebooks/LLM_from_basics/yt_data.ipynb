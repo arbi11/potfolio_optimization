{
 "cells": [
  {
   "cell_type": "code",
   "execution_count": 10,
   "id": "e663e7a5-9270-49fb-94d7-25d4643eed5c",
   "metadata": {},
   "outputs": [
    {
     "data": {
      "text/plain": [
       "'2.5.1'"
      ]
     },
     "execution_count": 10,
     "metadata": {},
     "output_type": "execute_result"
    }
   ],
   "source": [
    "from pathlib import Path\n",
    "import pandas as pd\n",
    "import torch\n",
    "import io\n",
    "\n",
    "from IPython.display import clear_output\n",
    "\n",
    "torch.__version__"
   ]
  },
  {
   "cell_type": "code",
   "execution_count": 2,
   "id": "b02ac97e-36de-4c6f-b425-74366e778e90",
   "metadata": {},
   "outputs": [],
   "source": [
    "data_dir = Path(r'F:\\cc_data\\yt_data')\n",
    "output_locn = str(data_dir)"
   ]
  },
  {
   "cell_type": "markdown",
   "id": "5e59ecbf-7ee4-4557-9bfc-e49a0bdf0806",
   "metadata": {},
   "source": [
    "# Downloading Videos and Extracting Audio"
   ]
  },
  {
   "cell_type": "markdown",
   "id": "548d9fe1-0b00-41bc-91d2-a8e586e3d2c5",
   "metadata": {},
   "source": [
    "## Option 1 - With PyTubeFix"
   ]
  },
  {
   "cell_type": "code",
   "execution_count": 3,
   "id": "078349a1-a955-4b84-928f-f70536bd02cd",
   "metadata": {},
   "outputs": [],
   "source": [
    "from pytubefix import YouTube\n",
    "from pytubefix.cli import on_progress"
   ]
  },
  {
   "cell_type": "code",
   "execution_count": 4,
   "id": "506812de-c646-41f5-b28d-fd7d28436152",
   "metadata": {},
   "outputs": [
    {
     "name": "stdout",
     "output_type": "stream",
     "text": [
      "How To Build A Monster Dividend Portfolio | Ep. 325 How_To_Build_A_Monster_Dividend_Portfolio_Ep_325\n",
      "I Just Bought $30,000 Of This Stock I_Just_Bought_30_000_Of_This_Stock| 100.0%\n",
      "We're Off To An Amazing Start We_re_Off_To_An_Amazing_Start███████████| 100.0%\n",
      "5 Stocks To Buy And Hold Forever 5_Stocks_To_Buy_And_Hold_Forever█████| 100.0%\n",
      "The Stock Market Has Become Overvalued The_Stock_Market_Has_Become_Overvalued%\n",
      "I Just Broke A New Record I_Just_Broke_A_New_Record███████████████████| 100.0%\n",
      " ↳ |██████████████████████████████████████████████████████████████████| 100.0%\r"
     ]
    }
   ],
   "source": [
    "import re\n",
    "\n",
    "def replace_with_underscore(text):\n",
    "    # Replace all non-alphanumeric characters (including spaces) with underscores\n",
    "    return re.sub(r'\\W+', '_', text)\n",
    "\n",
    "url_list = [\"https://www.youtube.com/watch?v=mQS1tCQUiAM\",\n",
    "            \"https://www.youtube.com/watch?v=-OIi7O3cYAg\",\n",
    "            \"https://www.youtube.com/watch?v=xutQXlphLiM\",\n",
    "            \"https://www.youtube.com/watch?v=j9OHzRypRVs\",\n",
    "            \"https://www.youtube.com/watch?v=RFiPUS9-cN0\",\n",
    "            \"https://www.youtube.com/watch?v=iCXAT6ZZHuM\"\n",
    "           ]\n",
    "download_list = []\n",
    "title_list = []\n",
    "\n",
    "for url in url_list:\n",
    "    yt = YouTube(url, on_progress_callback = on_progress)\n",
    "    \n",
    "    title = replace_with_underscore(yt.title)\n",
    "    print(yt.title, title)\n",
    "    \n",
    "    video_output = data_dir / f\"{title}.mp4\"\n",
    "\n",
    "    try:\n",
    "        ys = yt.streams.get_highest_resolution()\n",
    "        ys.download(output_path = data_dir, filename = f\"{title}\")\n",
    "        \n",
    "        ys_audio = yt.streams.get_audio_only()\n",
    "        ys_audio.download(output_path = data_dir, filename = f\"{title}\")\n",
    "\n",
    "        download_list.append(video_output)\n",
    "        title_list.append(title)\n",
    "\n",
    "    except:\n",
    "        print(f'Download failed for {title}')\n"
   ]
  },
  {
   "cell_type": "code",
   "execution_count": null,
   "id": "a17268d8-9eb9-4cf8-a30a-e969c92ac283",
   "metadata": {},
   "outputs": [],
   "source": []
  },
  {
   "cell_type": "markdown",
   "id": "a3d9d79c-2886-4592-b10b-67090e5e9f2a",
   "metadata": {},
   "source": [
    "## Option 2 - PyTubeFix and MoviePy\n"
   ]
  },
  {
   "cell_type": "code",
   "execution_count": 5,
   "id": "16a7bdc5-650b-4de6-bb0f-e794bb950963",
   "metadata": {},
   "outputs": [],
   "source": [
    "from moviepy.editor import VideoFileClip\n",
    "\n",
    "for title in title_list:\n",
    "\n",
    "    video_output = data_dir / f\"{title}.mp4\"\n",
    "    \n",
    "    video_clip = VideoFileClip(str(video_output)) # purely to give us access to methods\n",
    "    assert video_clip.audio is not None\n",
    "    \n",
    "    video_clip.audio.write_audiofile(str(data_dir / f\"{title}.mp3\"))\n",
    "    video_clip.close()\n",
    "    \n",
    "    clear_output()"
   ]
  },
  {
   "cell_type": "code",
   "execution_count": 1,
   "id": "7c01577e-4797-4c82-950d-b46e27b4a5bf",
   "metadata": {},
   "outputs": [
    {
     "ename": "NameError",
     "evalue": "name 'data_dir' is not defined",
     "output_type": "error",
     "traceback": [
      "\u001b[1;31m---------------------------------------------------------------------------\u001b[0m",
      "\u001b[1;31mNameError\u001b[0m                                 Traceback (most recent call last)",
      "Cell \u001b[1;32mIn[1], line 3\u001b[0m\n\u001b[0;32m      1\u001b[0m \u001b[38;5;28;01mfrom\u001b[39;00m \u001b[38;5;21;01mmoviepy\u001b[39;00m\u001b[38;5;21;01m.\u001b[39;00m\u001b[38;5;21;01meditor\u001b[39;00m \u001b[38;5;28;01mimport\u001b[39;00m AudioFileClip\n\u001b[1;32m----> 3\u001b[0m audio_input \u001b[38;5;241m=\u001b[39m data_dir \u001b[38;5;241m/\u001b[39m \u001b[38;5;124mf\u001b[39m\u001b[38;5;124m\"\u001b[39m\u001b[38;5;132;01m{\u001b[39;00mtitle\u001b[38;5;132;01m}\u001b[39;00m\u001b[38;5;124m.m4a\u001b[39m\u001b[38;5;124m\"\u001b[39m\n\u001b[0;32m      5\u001b[0m audio_clip \u001b[38;5;241m=\u001b[39m AudioFileClip(\u001b[38;5;28mstr\u001b[39m(audio_input))\n\u001b[0;32m      6\u001b[0m \u001b[38;5;28;01massert\u001b[39;00m audio_clip \u001b[38;5;129;01mis\u001b[39;00m \u001b[38;5;129;01mnot\u001b[39;00m \u001b[38;5;28;01mNone\u001b[39;00m\n",
      "\u001b[1;31mNameError\u001b[0m: name 'data_dir' is not defined"
     ]
    }
   ],
   "source": []
  },
  {
   "cell_type": "code",
   "execution_count": null,
   "id": "e111458c-92fb-4a15-8727-2a8e26c80e81",
   "metadata": {},
   "outputs": [],
   "source": []
  },
  {
   "cell_type": "markdown",
   "id": "c985cc38-e489-4331-995c-22e02bd2d1f8",
   "metadata": {},
   "source": [
    "# Transcribing Audio to Text"
   ]
  },
  {
   "cell_type": "code",
   "execution_count": 6,
   "id": "456a9652-a42e-4695-b5a0-6b69d9bc92e8",
   "metadata": {},
   "outputs": [
    {
     "name": "stdout",
     "output_type": "stream",
     "text": [
      "F:\\cc_data\\yt_data\\5_Stocks_To_Buy_And_Hold_Forever.mp3 5_Stocks_To_Buy_And_Hold_Forever\n",
      "F:\\cc_data\\yt_data\\How_To_Build_A_Monster_Dividend_Portfolio_Ep_325.mp3 How_To_Build_A_Monster_Dividend_Portfolio_Ep_325\n",
      "F:\\cc_data\\yt_data\\I_Just_Bought_30_000_Of_This_Stock.mp3 I_Just_Bought_30_000_Of_This_Stock\n",
      "F:\\cc_data\\yt_data\\I_Just_Broke_A_New_Record.mp3 I_Just_Broke_A_New_Record\n",
      "F:\\cc_data\\yt_data\\The_Stock_Market_Has_Become_Overvalued.mp3 The_Stock_Market_Has_Become_Overvalued\n",
      "F:\\cc_data\\yt_data\\We_re_Off_To_An_Amazing_Start.mp3 We_re_Off_To_An_Amazing_Start\n"
     ]
    }
   ],
   "source": [
    "for mp3_file in Path(output_locn).glob(f'*.mp3'):\n",
    "    title = str(mp3_file)\n",
    "    title = title[title.find('yt_data') +8: title.find('.mp3')]\n",
    "\n",
    "    print(mp3_file, title)"
   ]
  },
  {
   "cell_type": "code",
   "execution_count": 7,
   "id": "8bccaf41-960a-4422-a2b5-bd5c76759483",
   "metadata": {},
   "outputs": [
    {
     "name": "stdout",
     "output_type": "stream",
     "text": [
      "File exists\n"
     ]
    }
   ],
   "source": [
    "mp3_file_loc = data_dir / f\"{title}.m4a\"\n",
    "\n",
    "if mp3_file_loc.exists():\n",
    "    print(\"File exists\")\n",
    "else:\n",
    "    print(\"File does not exist\")"
   ]
  },
  {
   "cell_type": "code",
   "execution_count": 11,
   "id": "bb04fa98-c2a7-4f91-a4f9-ce5e6a777442",
   "metadata": {},
   "outputs": [],
   "source": [
    "import speech_recognition as sr\n",
    "from pydub import AudioSegment\n",
    "import ffmpeg\n",
    "\n",
    "def divide_chunks(sound, segment_size_secs=60):\n",
    "    \"\"\" Split audio file into 60s chunks \"\"\"\n",
    "    \n",
    "    segment_size_ms = segment_size_secs*1000\n",
    "    for start_idx in range(0, len(sound), segment_size_ms):\n",
    "        # Yield a chunk of audio data from start_idx to start_idx + segment_size_ms\n",
    "        yield sound[start_idx:start_idx + segment_size_ms]\n",
    "\n",
    "def transcribe_audio(mp3_file, title, language=\"en-US\"):\n",
    "    \"\"\" Use Speech Recognition API with Google Web Speech API\n",
    "    to convert audio dialog to text \"\"\"\n",
    "    recogniser = sr.Recognizer()      \n",
    "    transcription_extracts = {}\n",
    "\n",
    "    print(f\"Converting {mp3_file}\")\n",
    "\n",
    "    audio = AudioSegment.from_file(mp3_file)\n",
    "    # If AudioSegment is not working - e.g. due to broken mp3 headers - we\n",
    "    # can use ffmpeg as a workaround. However, it's a lot slower.\n",
    "    # ffmpeg.input(mp3_file).output(wav_file).run() # Convert with ffmpeg\n",
    "    # print(f\"Successfully converted {mp3_file} to {wav_file}.\")\n",
    "    # audio = AudioSegment.from_wav(wav_file) # Read the audio\n",
    "\n",
    "    segments = list(divide_chunks(audio, segment_size_secs=60)) # split the wav into 60s segments     \n",
    "    for index, chunk in enumerate(segments):\n",
    "        with io.BytesIO() as wav_io:\n",
    "            chunk.export(wav_io, format='wav')\n",
    "            wav_io.seek(0)  # Move to the start of the BytesIO object before reading from it\n",
    "                    \n",
    "            with sr.AudioFile(wav_io) as source:\n",
    "                audio_data = recogniser.record(source)\n",
    "\n",
    "            try:\n",
    "                extracted = recogniser.recognize_google(audio_data, language=language)\n",
    "                print(f\"Chunk {index} extracted.\")\n",
    "                transcription_extracts[index] = extracted\n",
    "            except sr.UnknownValueError:\n",
    "                    # Log the unknown value error and continue\n",
    "                print(f\"Chunk {index}: Could not understand the audio. Maybe it was empty.\")\n",
    "        \n",
    "    print(\"Extract:\")\n",
    "    for idx, extract in transcription_extracts.items():\n",
    "        print(f\"{idx}: {extract}\")\n",
    "\n",
    "    # Save as JSON file\n",
    "    with open(data_dir/ f'{title}.json', 'w') as json_file:\n",
    "        json.dump(transcription_extracts, json_file)\n",
    "\n",
    "    # Save as TXT file\n",
    "    with open(data_dir/ f'{title}.txt', 'w') as txt_file:\n",
    "        for idx, extract in transcription_extracts.items():\n",
    "            txt_file.write(f\"{idx}: {extract}\\n\")\n",
    "\n",
    "    # Save as CSV file using pandas\n",
    "    df = pd.DataFrame(list(transcription_extracts.items()), columns=['Chunk', 'Transcription'])\n",
    "    df.to_csv(data_dir / f'{title}.csv', index=False)\n",
    "\n",
    "    clear_output()"
   ]
  },
  {
   "cell_type": "code",
   "execution_count": 12,
   "id": "8230e7bc-b83e-422e-8724-1140941676fc",
   "metadata": {},
   "outputs": [
    {
     "name": "stdout",
     "output_type": "stream",
     "text": [
      "Converting F:\\cc_data\\yt_data\\5_Stocks_To_Buy_And_Hold_Forever.mp3\n",
      "Chunk 0 extracted.\n",
      "Chunk 1 extracted.\n",
      "Chunk 2 extracted.\n"
     ]
    },
    {
     "ename": "ConnectionAbortedError",
     "evalue": "[WinError 10053] An established connection was aborted by the software in your host machine",
     "output_type": "error",
     "traceback": [
      "\u001b[1;31m---------------------------------------------------------------------------\u001b[0m",
      "\u001b[1;31mConnectionAbortedError\u001b[0m                    Traceback (most recent call last)",
      "Cell \u001b[1;32mIn[12], line 4\u001b[0m\n\u001b[0;32m      2\u001b[0m title \u001b[38;5;241m=\u001b[39m \u001b[38;5;28mstr\u001b[39m(mp3_file)\n\u001b[0;32m      3\u001b[0m title \u001b[38;5;241m=\u001b[39m title[title\u001b[38;5;241m.\u001b[39mfind(\u001b[38;5;124m'\u001b[39m\u001b[38;5;124myt_data\u001b[39m\u001b[38;5;124m'\u001b[39m) \u001b[38;5;241m+\u001b[39m\u001b[38;5;241m8\u001b[39m: title\u001b[38;5;241m.\u001b[39mfind(\u001b[38;5;124m'\u001b[39m\u001b[38;5;124m.mp3\u001b[39m\u001b[38;5;124m'\u001b[39m)]\n\u001b[1;32m----> 4\u001b[0m transcribe_audio(\u001b[38;5;28mstr\u001b[39m(mp3_file), title)\n",
      "Cell \u001b[1;32mIn[11], line 38\u001b[0m, in \u001b[0;36mtranscribe_audio\u001b[1;34m(mp3_file, title, language)\u001b[0m\n\u001b[0;32m     35\u001b[0m     audio_data \u001b[38;5;241m=\u001b[39m recogniser\u001b[38;5;241m.\u001b[39mrecord(source)\n\u001b[0;32m     37\u001b[0m \u001b[38;5;28;01mtry\u001b[39;00m:\n\u001b[1;32m---> 38\u001b[0m     extracted \u001b[38;5;241m=\u001b[39m recogniser\u001b[38;5;241m.\u001b[39mrecognize_google(audio_data, language\u001b[38;5;241m=\u001b[39mlanguage)\n\u001b[0;32m     39\u001b[0m     \u001b[38;5;28mprint\u001b[39m(\u001b[38;5;124mf\u001b[39m\u001b[38;5;124m\"\u001b[39m\u001b[38;5;124mChunk \u001b[39m\u001b[38;5;132;01m{\u001b[39;00mindex\u001b[38;5;132;01m}\u001b[39;00m\u001b[38;5;124m extracted.\u001b[39m\u001b[38;5;124m\"\u001b[39m)\n\u001b[0;32m     40\u001b[0m     transcription_extracts[index] \u001b[38;5;241m=\u001b[39m extracted\n",
      "File \u001b[1;32m~\\Anaconda3\\envs\\base11\\Lib\\site-packages\\speech_recognition\\recognizers\\google.py:256\u001b[0m, in \u001b[0;36mrecognize_legacy\u001b[1;34m(recognizer, audio_data, key, language, pfilter, show_all, with_confidence, endpoint)\u001b[0m\n\u001b[0;32m    251\u001b[0m request_builder \u001b[38;5;241m=\u001b[39m create_request_builder(\n\u001b[0;32m    252\u001b[0m     endpoint\u001b[38;5;241m=\u001b[39mendpoint, key\u001b[38;5;241m=\u001b[39mkey, language\u001b[38;5;241m=\u001b[39mlanguage, filter_level\u001b[38;5;241m=\u001b[39mpfilter\n\u001b[0;32m    253\u001b[0m )\n\u001b[0;32m    254\u001b[0m request \u001b[38;5;241m=\u001b[39m request_builder\u001b[38;5;241m.\u001b[39mbuild(audio_data)\n\u001b[1;32m--> 256\u001b[0m response_text \u001b[38;5;241m=\u001b[39m obtain_transcription(\n\u001b[0;32m    257\u001b[0m     request, timeout\u001b[38;5;241m=\u001b[39mrecognizer\u001b[38;5;241m.\u001b[39moperation_timeout\n\u001b[0;32m    258\u001b[0m )\n\u001b[0;32m    260\u001b[0m output_parser \u001b[38;5;241m=\u001b[39m OutputParser(\n\u001b[0;32m    261\u001b[0m     show_all\u001b[38;5;241m=\u001b[39mshow_all, with_confidence\u001b[38;5;241m=\u001b[39mwith_confidence\n\u001b[0;32m    262\u001b[0m )\n\u001b[0;32m    263\u001b[0m \u001b[38;5;28;01mreturn\u001b[39;00m output_parser\u001b[38;5;241m.\u001b[39mparse(response_text)\n",
      "File \u001b[1;32m~\\Anaconda3\\envs\\base11\\Lib\\site-packages\\speech_recognition\\recognizers\\google.py:222\u001b[0m, in \u001b[0;36mobtain_transcription\u001b[1;34m(request, timeout)\u001b[0m\n\u001b[0;32m    218\u001b[0m \u001b[38;5;28;01mexcept\u001b[39;00m URLError \u001b[38;5;28;01mas\u001b[39;00m e:\n\u001b[0;32m    219\u001b[0m     \u001b[38;5;28;01mraise\u001b[39;00m RequestError(\n\u001b[0;32m    220\u001b[0m         \u001b[38;5;124m\"\u001b[39m\u001b[38;5;124mrecognition connection failed: \u001b[39m\u001b[38;5;132;01m{}\u001b[39;00m\u001b[38;5;124m\"\u001b[39m\u001b[38;5;241m.\u001b[39mformat(e\u001b[38;5;241m.\u001b[39mreason)\n\u001b[0;32m    221\u001b[0m     )\n\u001b[1;32m--> 222\u001b[0m \u001b[38;5;28;01mreturn\u001b[39;00m response\u001b[38;5;241m.\u001b[39mread()\u001b[38;5;241m.\u001b[39mdecode(\u001b[38;5;124m\"\u001b[39m\u001b[38;5;124mutf-8\u001b[39m\u001b[38;5;124m\"\u001b[39m)\n",
      "File \u001b[1;32m~\\Anaconda3\\envs\\base11\\Lib\\http\\client.py:467\u001b[0m, in \u001b[0;36mHTTPResponse.read\u001b[1;34m(self, amt)\u001b[0m\n\u001b[0;32m    464\u001b[0m     \u001b[38;5;28;01mreturn\u001b[39;00m \u001b[38;5;124mb\u001b[39m\u001b[38;5;124m\"\u001b[39m\u001b[38;5;124m\"\u001b[39m\n\u001b[0;32m    466\u001b[0m \u001b[38;5;28;01mif\u001b[39;00m \u001b[38;5;28mself\u001b[39m\u001b[38;5;241m.\u001b[39mchunked:\n\u001b[1;32m--> 467\u001b[0m     \u001b[38;5;28;01mreturn\u001b[39;00m \u001b[38;5;28mself\u001b[39m\u001b[38;5;241m.\u001b[39m_read_chunked(amt)\n\u001b[0;32m    469\u001b[0m \u001b[38;5;28;01mif\u001b[39;00m amt \u001b[38;5;129;01mis\u001b[39;00m \u001b[38;5;129;01mnot\u001b[39;00m \u001b[38;5;28;01mNone\u001b[39;00m:\n\u001b[0;32m    470\u001b[0m     \u001b[38;5;28;01mif\u001b[39;00m \u001b[38;5;28mself\u001b[39m\u001b[38;5;241m.\u001b[39mlength \u001b[38;5;129;01mis\u001b[39;00m \u001b[38;5;129;01mnot\u001b[39;00m \u001b[38;5;28;01mNone\u001b[39;00m \u001b[38;5;129;01mand\u001b[39;00m amt \u001b[38;5;241m>\u001b[39m \u001b[38;5;28mself\u001b[39m\u001b[38;5;241m.\u001b[39mlength:\n\u001b[0;32m    471\u001b[0m         \u001b[38;5;66;03m# clip the read to the \"end of response\"\u001b[39;00m\n",
      "File \u001b[1;32m~\\Anaconda3\\envs\\base11\\Lib\\http\\client.py:590\u001b[0m, in \u001b[0;36mHTTPResponse._read_chunked\u001b[1;34m(self, amt)\u001b[0m\n\u001b[0;32m    588\u001b[0m \u001b[38;5;28;01mtry\u001b[39;00m:\n\u001b[0;32m    589\u001b[0m     \u001b[38;5;28;01mwhile\u001b[39;00m \u001b[38;5;28;01mTrue\u001b[39;00m:\n\u001b[1;32m--> 590\u001b[0m         chunk_left \u001b[38;5;241m=\u001b[39m \u001b[38;5;28mself\u001b[39m\u001b[38;5;241m.\u001b[39m_get_chunk_left()\n\u001b[0;32m    591\u001b[0m         \u001b[38;5;28;01mif\u001b[39;00m chunk_left \u001b[38;5;129;01mis\u001b[39;00m \u001b[38;5;28;01mNone\u001b[39;00m:\n\u001b[0;32m    592\u001b[0m             \u001b[38;5;28;01mbreak\u001b[39;00m\n",
      "File \u001b[1;32m~\\Anaconda3\\envs\\base11\\Lib\\http\\client.py:573\u001b[0m, in \u001b[0;36mHTTPResponse._get_chunk_left\u001b[1;34m(self)\u001b[0m\n\u001b[0;32m    571\u001b[0m     \u001b[38;5;28mself\u001b[39m\u001b[38;5;241m.\u001b[39m_safe_read(\u001b[38;5;241m2\u001b[39m)  \u001b[38;5;66;03m# toss the CRLF at the end of the chunk\u001b[39;00m\n\u001b[0;32m    572\u001b[0m \u001b[38;5;28;01mtry\u001b[39;00m:\n\u001b[1;32m--> 573\u001b[0m     chunk_left \u001b[38;5;241m=\u001b[39m \u001b[38;5;28mself\u001b[39m\u001b[38;5;241m.\u001b[39m_read_next_chunk_size()\n\u001b[0;32m    574\u001b[0m \u001b[38;5;28;01mexcept\u001b[39;00m \u001b[38;5;167;01mValueError\u001b[39;00m:\n\u001b[0;32m    575\u001b[0m     \u001b[38;5;28;01mraise\u001b[39;00m IncompleteRead(\u001b[38;5;124mb\u001b[39m\u001b[38;5;124m'\u001b[39m\u001b[38;5;124m'\u001b[39m)\n",
      "File \u001b[1;32m~\\Anaconda3\\envs\\base11\\Lib\\http\\client.py:533\u001b[0m, in \u001b[0;36mHTTPResponse._read_next_chunk_size\u001b[1;34m(self)\u001b[0m\n\u001b[0;32m    531\u001b[0m \u001b[38;5;28;01mdef\u001b[39;00m \u001b[38;5;21m_read_next_chunk_size\u001b[39m(\u001b[38;5;28mself\u001b[39m):\n\u001b[0;32m    532\u001b[0m     \u001b[38;5;66;03m# Read the next chunk size from the file\u001b[39;00m\n\u001b[1;32m--> 533\u001b[0m     line \u001b[38;5;241m=\u001b[39m \u001b[38;5;28mself\u001b[39m\u001b[38;5;241m.\u001b[39mfp\u001b[38;5;241m.\u001b[39mreadline(_MAXLINE \u001b[38;5;241m+\u001b[39m \u001b[38;5;241m1\u001b[39m)\n\u001b[0;32m    534\u001b[0m     \u001b[38;5;28;01mif\u001b[39;00m \u001b[38;5;28mlen\u001b[39m(line) \u001b[38;5;241m>\u001b[39m _MAXLINE:\n\u001b[0;32m    535\u001b[0m         \u001b[38;5;28;01mraise\u001b[39;00m LineTooLong(\u001b[38;5;124m\"\u001b[39m\u001b[38;5;124mchunk size\u001b[39m\u001b[38;5;124m\"\u001b[39m)\n",
      "File \u001b[1;32m~\\Anaconda3\\envs\\base11\\Lib\\socket.py:718\u001b[0m, in \u001b[0;36mSocketIO.readinto\u001b[1;34m(self, b)\u001b[0m\n\u001b[0;32m    716\u001b[0m \u001b[38;5;28;01mwhile\u001b[39;00m \u001b[38;5;28;01mTrue\u001b[39;00m:\n\u001b[0;32m    717\u001b[0m     \u001b[38;5;28;01mtry\u001b[39;00m:\n\u001b[1;32m--> 718\u001b[0m         \u001b[38;5;28;01mreturn\u001b[39;00m \u001b[38;5;28mself\u001b[39m\u001b[38;5;241m.\u001b[39m_sock\u001b[38;5;241m.\u001b[39mrecv_into(b)\n\u001b[0;32m    719\u001b[0m     \u001b[38;5;28;01mexcept\u001b[39;00m timeout:\n\u001b[0;32m    720\u001b[0m         \u001b[38;5;28mself\u001b[39m\u001b[38;5;241m.\u001b[39m_timeout_occurred \u001b[38;5;241m=\u001b[39m \u001b[38;5;28;01mTrue\u001b[39;00m\n",
      "\u001b[1;31mConnectionAbortedError\u001b[0m: [WinError 10053] An established connection was aborted by the software in your host machine"
     ]
    }
   ],
   "source": [
    "for mp3_file in Path(output_locn).glob(f'*.mp3'):\n",
    "    title = str(mp3_file)\n",
    "    title = title[title.find('yt_data') +8: title.find('.mp3')]\n",
    "    transcribe_audio(str(mp3_file), title)"
   ]
  },
  {
   "cell_type": "code",
   "execution_count": null,
   "id": "76d588fe-f1e8-4c9c-9068-3b68241fafb6",
   "metadata": {},
   "outputs": [],
   "source": []
  },
  {
   "cell_type": "code",
   "execution_count": null,
   "id": "b3074ad2-33f1-46c8-a488-9fb1cce0c267",
   "metadata": {},
   "outputs": [],
   "source": []
  }
 ],
 "metadata": {
  "kernelspec": {
   "display_name": "Python 3 (ipykernel)",
   "language": "python",
   "name": "python3"
  },
  "language_info": {
   "codemirror_mode": {
    "name": "ipython",
    "version": 3
   },
   "file_extension": ".py",
   "mimetype": "text/x-python",
   "name": "python",
   "nbconvert_exporter": "python",
   "pygments_lexer": "ipython3",
   "version": "3.11.10"
  }
 },
 "nbformat": 4,
 "nbformat_minor": 5
}
