{
 "cells": [
  {
   "cell_type": "code",
   "execution_count": 45,
   "id": "e663e7a5-9270-49fb-94d7-25d4643eed5c",
   "metadata": {},
   "outputs": [
    {
     "data": {
      "text/plain": [
       "'2.5.1'"
      ]
     },
     "execution_count": 45,
     "metadata": {},
     "output_type": "execute_result"
    }
   ],
   "source": [
    "from pathlib import Path\n",
    "import torch\n",
    "\n",
    "from IPython.display import clear_output\n",
    "\n",
    "torch.__version__"
   ]
  },
  {
   "cell_type": "code",
   "execution_count": 46,
   "id": "b02ac97e-36de-4c6f-b425-74366e778e90",
   "metadata": {},
   "outputs": [],
   "source": [
    "data_dir = Path(r'F:\\cc_data\\yt_data')\n",
    "output_locn = str(data_dir)"
   ]
  },
  {
   "cell_type": "markdown",
   "id": "5e59ecbf-7ee4-4557-9bfc-e49a0bdf0806",
   "metadata": {},
   "source": [
    "# Downloading Videos and Extracting Audio"
   ]
  },
  {
   "cell_type": "markdown",
   "id": "548d9fe1-0b00-41bc-91d2-a8e586e3d2c5",
   "metadata": {},
   "source": [
    "## Option 1 - With PyTubeFix"
   ]
  },
  {
   "cell_type": "code",
   "execution_count": 47,
   "id": "078349a1-a955-4b84-928f-f70536bd02cd",
   "metadata": {},
   "outputs": [],
   "source": [
    "from pytubefix import YouTube\n",
    "from pytubefix.cli import on_progress"
   ]
  },
  {
   "cell_type": "code",
   "execution_count": 51,
   "id": "506812de-c646-41f5-b28d-fd7d28436152",
   "metadata": {},
   "outputs": [
    {
     "name": "stdout",
     "output_type": "stream",
     "text": [
      "How To Build A Monster Dividend Portfolio | Ep. 325 How_To_Build_A_Monster_Dividend_Portfolio_Ep_325\n",
      "I Just Bought $30,000 Of This Stock I_Just_Bought_30_000_Of_This_Stock| 100.0%\n",
      "We're Off To An Amazing Start We_re_Off_To_An_Amazing_Start███████████| 100.0%\n",
      "5 Stocks To Buy And Hold Forever 5_Stocks_To_Buy_And_Hold_Forever█████| 100.0%\n",
      "The Stock Market Has Become Overvalued The_Stock_Market_Has_Become_Overvalued%\n",
      "I Just Broke A New Record I_Just_Broke_A_New_Record███████████████████| 100.0%\n",
      " ↳ |██████████████████████████████████████████████████████████████████| 100.0%\r"
     ]
    }
   ],
   "source": [
    "import re\n",
    "\n",
    "def replace_with_underscore(text):\n",
    "    # Replace all non-alphanumeric characters (including spaces) with underscores\n",
    "    return re.sub(r'\\W+', '_', text)\n",
    "\n",
    "url_list = [\"https://www.youtube.com/watch?v=mQS1tCQUiAM\",\n",
    "            \"https://www.youtube.com/watch?v=-OIi7O3cYAg\",\n",
    "            \"https://www.youtube.com/watch?v=xutQXlphLiM\",\n",
    "            \"https://www.youtube.com/watch?v=j9OHzRypRVs\",\n",
    "            \"https://www.youtube.com/watch?v=RFiPUS9-cN0\",\n",
    "            \"https://www.youtube.com/watch?v=iCXAT6ZZHuM\"\n",
    "           ]\n",
    "download_list = []\n",
    "title_list = []\n",
    "\n",
    "for url in url_list:\n",
    "    yt = YouTube(url, on_progress_callback = on_progress)\n",
    "    \n",
    "    title = replace_with_underscore(yt.title)\n",
    "    print(yt.title, title)\n",
    "    \n",
    "    video_output = data_dir / f\"{title}.mp4\"\n",
    "\n",
    "    try:\n",
    "        ys = yt.streams.get_highest_resolution()\n",
    "        ys.download(output_path = data_dir, filename = f\"{title}\")\n",
    "        \n",
    "        ys_audio = yt.streams.get_audio_only()\n",
    "        ys_audio.download(output_path = data_dir, filename = f\"{title}\")\n",
    "\n",
    "        download_list.append(video_output)\n",
    "        title_list.append(title)\n",
    "\n",
    "    except:\n",
    "        print(f'Download failed for {title}')\n"
   ]
  },
  {
   "cell_type": "code",
   "execution_count": null,
   "id": "a17268d8-9eb9-4cf8-a30a-e969c92ac283",
   "metadata": {},
   "outputs": [],
   "source": []
  },
  {
   "cell_type": "markdown",
   "id": "a3d9d79c-2886-4592-b10b-67090e5e9f2a",
   "metadata": {},
   "source": [
    "## Option 2 - PyTubeFix and MoviePy\n"
   ]
  },
  {
   "cell_type": "code",
   "execution_count": 52,
   "id": "16a7bdc5-650b-4de6-bb0f-e794bb950963",
   "metadata": {},
   "outputs": [],
   "source": [
    "from moviepy.editor import VideoFileClip\n",
    "\n",
    "for title in title_list:\n",
    "\n",
    "    video_output = data_dir / f\"{title}.mp4\"\n",
    "    \n",
    "    video_clip = VideoFileClip(str(video_output)) # purely to give us access to methods\n",
    "    assert video_clip.audio is not None\n",
    "    \n",
    "    video_clip.audio.write_audiofile(str(data_dir / f\"{title}.mp3\"))\n",
    "    video_clip.close()\n",
    "    \n",
    "    clear_output()"
   ]
  },
  {
   "cell_type": "code",
   "execution_count": null,
   "id": "7c01577e-4797-4c82-950d-b46e27b4a5bf",
   "metadata": {},
   "outputs": [],
   "source": []
  },
  {
   "cell_type": "code",
   "execution_count": null,
   "id": "e111458c-92fb-4a15-8727-2a8e26c80e81",
   "metadata": {},
   "outputs": [],
   "source": []
  },
  {
   "cell_type": "markdown",
   "id": "c985cc38-e489-4331-995c-22e02bd2d1f8",
   "metadata": {},
   "source": [
    "# Transcribing Audio to Text"
   ]
  },
  {
   "cell_type": "code",
   "execution_count": 57,
   "id": "456a9652-a42e-4695-b5a0-6b69d9bc92e8",
   "metadata": {},
   "outputs": [
    {
     "name": "stdout",
     "output_type": "stream",
     "text": [
      "F:\\cc_data\\yt_data\\5_Stocks_To_Buy_And_Hold_Forever.mp3 5_Stocks_To_Buy_And_Hold_Forever\n",
      "F:\\cc_data\\yt_data\\How_To_Build_A_Monster_Dividend_Portfolio_Ep_325.mp3 How_To_Build_A_Monster_Dividend_Portfolio_Ep_325\n",
      "F:\\cc_data\\yt_data\\I_Just_Bought_30_000_Of_This_Stock.mp3 I_Just_Bought_30_000_Of_This_Stock\n",
      "F:\\cc_data\\yt_data\\I_Just_Broke_A_New_Record.mp3 I_Just_Broke_A_New_Record\n",
      "F:\\cc_data\\yt_data\\The_Stock_Market_Has_Become_Overvalued.mp3 The_Stock_Market_Has_Become_Overvalued\n",
      "F:\\cc_data\\yt_data\\v1.mp3 v1\n",
      "F:\\cc_data\\yt_data\\We_re_Off_To_An_Amazing_Start.mp3 We_re_Off_To_An_Amazing_Start\n"
     ]
    }
   ],
   "source": [
    "for mp3_file in Path(output_locn).glob(f'*.mp3'):\n",
    "    title = str(mp3_file)\n",
    "    title = title[title.find('yt_data') +8: title.find('.mp3')]\n",
    "\n",
    "    print(mp3_file, title)"
   ]
  },
  {
   "cell_type": "code",
   "execution_count": 58,
   "id": "8bccaf41-960a-4422-a2b5-bd5c76759483",
   "metadata": {},
   "outputs": [
    {
     "name": "stdout",
     "output_type": "stream",
     "text": [
      "File exists\n"
     ]
    }
   ],
   "source": [
    "mp3_file_loc = data_dir / f\"{title}.m4a\"\n",
    "\n",
    "if mp3_file_loc.exists():\n",
    "    print(\"File exists\")\n",
    "else:\n",
    "    print(\"File does not exist\")"
   ]
  },
  {
   "cell_type": "code",
   "execution_count": 63,
   "id": "bb04fa98-c2a7-4f91-a4f9-ce5e6a777442",
   "metadata": {},
   "outputs": [],
   "source": [
    "import speech_recognition as sr\n",
    "from pydub import AudioSegment\n",
    "import ffmpeg\n",
    "\n",
    "def divide_chunks(sound, segment_size_secs=60):\n",
    "    \"\"\" Split audio file into 60s chunks \"\"\"\n",
    "    \n",
    "    segment_size_ms = segment_size_secs*1000\n",
    "    for start_idx in range(0, len(sound), segment_size_ms):\n",
    "        # Yield a chunk of audio data from start_idx to start_idx + segment_size_ms\n",
    "        yield sound[start_idx:start_idx + segment_size_ms]\n",
    "\n",
    "def transcribe_audio(mp3_file, title, language=\"en-US\"):\n",
    "    \"\"\" Use Speech Recognition API with Google Web Speech API\n",
    "    to convert audio dialog to text \"\"\"\n",
    "    recogniser = sr.Recognizer()      \n",
    "    transcription_extracts = {}\n",
    "\n",
    "    print(f\"Converting {mp3_file}\")\n",
    "\n",
    "    audio = AudioSegment.from_file(mp3_file)\n",
    "    # If AudioSegment is not working - e.g. due to broken mp3 headers - we\n",
    "    # can use ffmpeg as a workaround. However, it's a lot slower.\n",
    "    # ffmpeg.input(mp3_file).output(wav_file).run() # Convert with ffmpeg\n",
    "    # print(f\"Successfully converted {mp3_file} to {wav_file}.\")\n",
    "    # audio = AudioSegment.from_wav(wav_file) # Read the audio\n",
    "\n",
    "    segments = list(divide_chunks(audio, segment_size_secs=60)) # split the wav into 60s segments     \n",
    "    for index, chunk in enumerate(segments):\n",
    "        with io.BytesIO() as wav_io:\n",
    "            chunk.export(wav_io, format='wav')\n",
    "            wav_io.seek(0)  # Move to the start of the BytesIO object before reading from it\n",
    "                    \n",
    "            with sr.AudioFile(wav_io) as source:\n",
    "                audio_data = recogniser.record(source)\n",
    "\n",
    "            try:\n",
    "                extracted = recogniser.recognize_google(audio_data, language=language)\n",
    "                print(f\"Chunk {index} extracted.\")\n",
    "                transcription_extracts[index] = extracted\n",
    "            except sr.UnknownValueError:\n",
    "                    # Log the unknown value error and continue\n",
    "                print(f\"Chunk {index}: Could not understand the audio. Maybe it was empty.\")\n",
    "        \n",
    "    print(\"Extract:\")\n",
    "    for idx, extract in transcription_extracts.items():\n",
    "        print(f\"{idx}: {extract}\")\n",
    "\n",
    "    # Save as JSON file\n",
    "    with open(data_dir/ f'{title}.json', 'w') as json_file:\n",
    "        json.dump(transcription_extracts, json_file)\n",
    "\n",
    "    # Save as TXT file\n",
    "    with open(data_dir/ f'{title}.txt', 'w') as txt_file:\n",
    "        for idx, extract in transcription_extracts.items():\n",
    "            txt_file.write(f\"{idx}: {extract}\\n\")\n",
    "\n",
    "    # Save as CSV file using pandas\n",
    "    df = pd.DataFrame(list(transcription_extracts.items()), columns=['Chunk', 'Transcription'])\n",
    "    df.to_csv(data_dir / f'{title}.csv', index=False)\n",
    "\n",
    "    clear_output()"
   ]
  },
  {
   "cell_type": "code",
   "execution_count": 64,
   "id": "8230e7bc-b83e-422e-8724-1140941676fc",
   "metadata": {},
   "outputs": [
    {
     "name": "stdout",
     "output_type": "stream",
     "text": [
      "Converting F:\\cc_data\\yt_data\\5_Stocks_To_Buy_And_Hold_Forever.mp3\n",
      "Chunk 0 extracted.\n",
      "Chunk 1 extracted.\n",
      "Chunk 2 extracted.\n",
      "Chunk 3 extracted.\n",
      "Chunk 4 extracted.\n",
      "Chunk 5 extracted.\n",
      "Chunk 6 extracted.\n",
      "Chunk 7 extracted.\n",
      "Chunk 8 extracted.\n",
      "Chunk 9 extracted.\n",
      "Chunk 10 extracted.\n",
      "Chunk 11 extracted.\n",
      "Chunk 12 extracted.\n",
      "Chunk 13 extracted.\n",
      "Chunk 14 extracted.\n",
      "Chunk 15 extracted.\n",
      "Chunk 16 extracted.\n",
      "Extract:\n",
      "0: everyone would like to have a portfolio of companies that we can hold forever that's the ideal investment a company that you can buy into one time in your life and watch it grow forever and ever I consider myself a buy-and-hold investor and in my portfolio I'm always looking for companies that I could potentially hold for the rest of my life after all holding companies for a long period of time is exactly what we've been instructed to do by the best investors alive Warren Buffett has famously said that our favorite holding period is forever Peter Lynch one of the best stock Pickers to have ever lived said you only need one or two good stocks a decade you don't need a lot of action now with my stocks I'm trying to do the same thing buying companies that I can potentially hold my entire life but it seems like overtime this is getting more difficult especially in 2024 the Buy and Hold strategy is becoming more and more difficult as companies come and go and part of the reason why this is becoming increasingly challenging is because companies themselves are having shorter and shorter life spans and this problem of shortening lifespan of companies is probably\n",
      "1: Christian you imagine a recent study by Mackenzie found that the average lifespan of companies listed in the S&P 500 was 61 years in 1958 today it's less than 18 years Mackenzie notes that most of these companies end up disappearing in the S&P 500 over a decade time because they're either bought out their merge or they'll go bankrupt like Enron and Lehman Brothers with companies living less Long than ever and going out of the S&P 500 instead of in 61 years now and only 18 it makes sense that the average US Equity holding period has also declined rapidly over the past 20 years back in 1977 investors held stocks on average for five years now today investors hold on average for only 10 months so if you're investing like me today you face unique challenges of an index it's always turning over a new Holdings there's always new companies to buy there's always new relevant stories and different things to invest in and this can become overwhelming and discouraging in fact many investors may just\n",
      "2: choose the index believing that there's no way to hold individual stocks long-term but I don't believe investors should be discouraged even though this Market brings us unique challenges there's still many companies that will endure for decades in this episode I'll be going over examples of five different companies to buy and hold forever and what makes these companies different than most others so go ahead and jump in and we'll start off with stock number one the number one stock to buy and hold forever is Microsoft and I place this against the Alternatives which are Apple and Google Microsoft is a better Buy and Hold company forever than Google or Apple and I'll explain why when I'm looking at companies that I can potentially hold forever one of the biggest challenge is understanding the long-term durability of their remote currently apple has a wide mouth the companies in a fantastic position and their dominance in the iPhone is what's really created this ecosystem emote surrounding this company now Apple has also transitioned to a software company we seen that happen over time as they've grown their services this is stuff like their applicant insurance but primarily\n",
      "3: this comes down to the App Store they funnel all of their major transactions on their device through the app store which they take a cut from so we see the service is growing over time now Apple makes money through a lot of different software but the biggest income for apple is there hardware and historically Hardware sellers like apple have not had long-term durability there's not many that have existed for 40 or 50 or 60 years continually selling the best hardware that exists Apple's done a fantastic job now but Hardware companies have a history of disruption companies like apple have come and gone before companies that have kept the lead for a couple decades then they got beat out on the next transitional technology meta is wanting to create the next tech platform with their glasses with their goggles with their Raven Glasses they're doing everything they can to take the mantle for apple and although it seems very unlikely that that will happen today this type of thing can possibly happen in the future Harbor\n",
      "4: friends can't change and if Apple doesn't make the right Investments they could be disrupted the other alternative I looked at Harris Google as a potential lifelong cold I really like Google I think the companies that are low valuation and I think it has a very bright future but trying to contrast it with Microsoft Google doesn't hold up Google's revenue and operating income is highly concentrated into advertising specifically in their search products this high level of concentration is good when they're able to protect their business but it does leave ongoing challenge of Google constantly innovating and staying at the top of the trends the biggest thing I like about Google right now is the cloud business growing over time but that is a small portion of the overall business Google is a wonderful business but it's just not as long-term predictable as Microsoft Microsoft is the essence of durability the stock has three equally sized Revenue pass all of which have very high margins the productivity in business software is highly integrated into the S&P 500 Fortune 500 companies virtually every single\n",
      "5: company Works hand in hand with Microsoft trying to surpass products like Excel is nearly impossible at this point then you have the intelligence Cloud Microsoft cloud business is much bigger than Google's and it's growing very fast their intelligence Cloud brings a lot of predictability to the company and then Microsoft does have a portion and personal Computing and Hardware that said a much smaller ratio than Apple the majority of Microsoft's Revenue comes from subscription billing or long-term contracts highly recurring Revenue with baked in price increases making Microsoft overall one of the most predictable Revenue growing companies in the world and while they're revenue is Diversified by different products it's also Diversified geographically the company is all over the world they get half the revenue outside of the US it's not just the US that's reliant on my Microsoft it's the entire Globe Microsoft is great at fighting off competitors they've proven their mouth over and over again with almost ease with the gross margins of the business\n",
      "6: is one of the things they focus on is keeping them right at 70% and they've basically done that for the entire past 10 years there are gross margins rarely ever dip below 70% with 80% of the revenue being reoccurring or subscription-based with the big majority of products being in secular growth Trends and critically important to companies I consider Microsoft a lifelong cold for that reason Microsoft has become one of the bigger companies in my portfolio it's a big winner today and even though it has a lofty valuation I don't plan on selling now the second Buy and Hold stock is one that you may have guessed it's Costco when looking at Costco I think it's important to compare the relative business models between this one and good Alternatives like Walmart or Target Walmart and Target are two excellent companies but they have some key differences between those business models and Costco one of the key questions that you ask yourself when looking at a company that you could truly buy and hold forever is how easy is it for them to defend their business model and the business model of Costco I believe is one of the easiest ones\n",
      "7: to defend Costco is not a seller of goods that's not the way that they view their business model they view themselves as a buying agent on behalf of their customers their goal in mission is to get their customers the lowest prices possible their goal is to have the overall lowest margins in the industry and share the economics not what the investors but with the customers with Costco's business model of having a membership and selling bulk items they can still dish out a lot of free cash flow while offering consumers the lowest margins on their purchases consumers get the best deal on a per dollar basis of what they're buying while Costco still make money and without the pure membership model Walmart and Target can't possibly replicate this business model companies like Target and Walmart relate primarily on the margin of their sales to make their money so when sales start to go down margins get tired the company has fluctuations and cash flows fortunately for Costco they don't have to worry about that even though the sales make up the majority of Revenue the profits mostly come\n",
      "8: from the membership this membership Revenue smooth out the inherent volatility of the retail business so even though Walmart and Target are both excellent companies and great competitors Costco still stands as uniquely positioned company to hold for a lifetime the number 3 by and hold stock forever is Berkshire Berkshire Hathaway is so different than other companies that I really couldn't think of a comparable company for a company to be buying hold it needs to be virtually indestructible and the Fortress that Warren Buffett and Charlie Munger have architected is certainly in that category there's no realistic way to destroy Berkshire Hathaway and the last trailing 12 months Berkshire did 370 billion dollars in revenue and that revenues also highly Diversified maybe more so than any other business in existence for sure does of subsidiaries these are wholly owned companies and Logistics materials and food and real estate and clothing insurance companies Furniture companies jet rental companies natural gas companies Berkshire has a massive energy business and they also owned one off company\n",
      "9: like See's candy that are highly profitable these one-off companies have returned billions to Berkshire over the years their holy on subsidiaries are constant operating cash flow generating machines but then they also have significant investments in publicly traded equities they own Ally Financial on Amazon and American Express Apple Bank of America and so on and so forth Berkshire has built up a sizable publicly traded portfolio between the two Berkshire has growing operating income and generates billions of dollars of free cash flow that are continually reinvested back into the business or put into their large Storehouse of cash berkshire's cashed it was at a very high level before last quarter when they had 188 billion dollars of cash having nearly $200 billion dollars of cash in and of itself is crazy for any single company this cash alone has a bigger market cap in the majority of companies in the S&P 500 but then Berkshire Toledo Ohio went to 27\n",
      "10: 6 billion dollars and between that and their operating income constantly flowing into Cash means that Berkshire is getting closer to 300 million in cash that's more cash than the US Federal Reserve has on their balance sheet between the diverse and reliable forms of Revenue and a balance sheet that's worth nearly $300 billion dollars Berkshire is an indestructible company the only real risk to berkshire's future is the management and even with improper management this company still likely to survive for a lifetime and number four we have three companies that have dominant market share and are de facto monopolies FICO asml and S&P Global but out of the three the best long-term hold is S&P Global now don't get me wrong fight going to SML are incredibly good companies and I believe they have very Bright Futures I think investors will continue to do well in these companies so we have no bad companies in this mix but when I have FICO compared against S&P Global I do see some notable differences in their business model one of which is that FICO has relied on their revenue growth and profit growth primarily\n",
      "11: non-aggressive price increases and this is something that brings a lot of scrutiny when a companies raising their prices way above the rate of inflation at rates of 50 or even 100% per year especially when they have a dominant Market position that brings scrutiny to the company's practices Josh Hawley and other senators are turning their attention to fico's competitive advantages alleging that fico's harming consumers by pushing across these price increases as a monopoly now nothing's really happened since that letter and maybe the Senate won't investigate it but either way over time it's not good for a company to make money by doing aggressive that come at the odds of their customers price increases are expected in finding any business but when they're done to the level that FICO has it's going to draw a lot of negative attention and scrutiny Fighters take in the capital allocation approach of taking out a lot of cheap debt to buy back their stock and of course that was a very profitable trade if you're an investor two years ago in the stock but that means\n",
      "12: play situation where they have a weekend balance sheet and a lot of interest payments to pay on top of their operating expenses and the last consideration is that FICO is mostly used within the us although it does have some international application although it's a monopoly within the US it does not have the same pricing power outside of the US asml is another top company that I considered for a buy-and-hold forever portfolio the company makes incredibly complex technology it has a dominant mode lithography is used in the creation of every major chip and there's a few big semi companies that rely on is technology so they've carved out a nice position for themselves the big risk in the long-term durability of SML is the complexity in running the business SML requires some of the most smart people in the world to run this company and even smarter people to make adaptations and innovate on new technology any company that requires this level of expertise to run and Advance Auto Parts of their talent being stolen by Woody competitors when we compare either of the\n",
      "13: is the S&P Global even though S&P Global may not grow quite as fast and it may not have quite as much pricing power the company does have a lot of long-term durable characteristics first of all the diversification of Revenue with every company that we're looking at that has the potential of being a Buy and Hold company we want ones that have extremely durable and reliable predictable Revenue S&P Global has that with their different Revenue lines in particular their rating business and their indices business out of all the lines of business these two forms of Revenue are virtually indestructible the ratings business much like FICO is a credit rating but not for individuals it's for entire companies unlike FICO the ratings business for recipe Global is a global rating business it is just as popular outside of the us as it is within the US those type of common language Network effects are incredibly difficult to disrupt another virtually indestructible portion of this company is the indices S&P Global owns the Dow Jones which has the S&P 500\n",
      "14: so as long as you think the S&P 500 will be the primary Benchmark S&P Global has a continually growing licensed Revenue based off of those indices and even outside of the ratings and the indices the other forms of their business are also not bad at all and the market intelligence business certainly does face competition but even so the market intelligence is a high margin highly profitable business with long-term secular growth Trends with S&P Global owning the most popular indices in the world having a toll booth on the rating of global debt and being in the business of selling unique data to customers on a repeat basis it's very unlikely to see this company disrupted over the next 30 Years the number five Buy and Hold stock is between Visa Mastercard and American Express the big digital payment networks of these three I've selected Visa as the most likely to be a buy and hold forever while all three of these companies will likely exist for a lifetime Visa is the most unlikely to be disrupted and that is because on a pure Network basis Visa is the largest the scale of their network is almost incomprehensible while it's true that\n",
      "15: reset MasterCard and American Express are continually looked at by the government and the government is always trying to impose more strict regulations and better prices for merchants it's also true that these companies have simply reached two critical of a scale the scale that they operate in the US is too large to be completely shut down by the government and frankly when it comes right down to it people like their credit cards and their debit cards people like debit card rewards they like credit card rewards once a customer has a credit card and they start earning rewards in their Bank those credit card rewards become part of their life so the thought of that ever being taken away from the American Consumer is incredibly unlikely MasterCard and American Express her formidable competitors to visa and they have some variance in their business model American Express operates more is a fully fledged bank and entire ecosystem and while that's a very good business model that's arguably more competitive than what this is doing MasterCard is growing quickly especially but Visa owns the biggest market share within the US new payment methods will come and go\n",
      "16: will there be new Innovations in this space and that may frighten investors from visa from time to time but customers will want their credit card rewards and banks will want to issue credit cards as well that combination should sustain visas growth for at least the next 20 years so overall these are the five companies that I considered to have nearly unbreakable modes the duration of the stocks are very long the likelihood of them ever being disrupted is incredibly low there's certainly ones worth considering adding to the portfolio and never looking back but that's all for this time hope you enjoyed and I'll see you in the next one\n"
     ]
    },
    {
     "ename": "NameError",
     "evalue": "name 'pd' is not defined",
     "output_type": "error",
     "traceback": [
      "\u001b[1;31m---------------------------------------------------------------------------\u001b[0m",
      "\u001b[1;31mNameError\u001b[0m                                 Traceback (most recent call last)",
      "Cell \u001b[1;32mIn[64], line 4\u001b[0m\n\u001b[0;32m      2\u001b[0m title \u001b[38;5;241m=\u001b[39m \u001b[38;5;28mstr\u001b[39m(mp3_file)\n\u001b[0;32m      3\u001b[0m title \u001b[38;5;241m=\u001b[39m title[title\u001b[38;5;241m.\u001b[39mfind(\u001b[38;5;124m'\u001b[39m\u001b[38;5;124myt_data\u001b[39m\u001b[38;5;124m'\u001b[39m) \u001b[38;5;241m+\u001b[39m\u001b[38;5;241m8\u001b[39m: title\u001b[38;5;241m.\u001b[39mfind(\u001b[38;5;124m'\u001b[39m\u001b[38;5;124m.mp3\u001b[39m\u001b[38;5;124m'\u001b[39m)]\n\u001b[1;32m----> 4\u001b[0m transcribe_audio(\u001b[38;5;28mstr\u001b[39m(mp3_file), title)\n",
      "Cell \u001b[1;32mIn[63], line 59\u001b[0m, in \u001b[0;36mtranscribe_audio\u001b[1;34m(mp3_file, title, language)\u001b[0m\n\u001b[0;32m     56\u001b[0m         txt_file\u001b[38;5;241m.\u001b[39mwrite(\u001b[38;5;124mf\u001b[39m\u001b[38;5;124m\"\u001b[39m\u001b[38;5;132;01m{\u001b[39;00midx\u001b[38;5;132;01m}\u001b[39;00m\u001b[38;5;124m: \u001b[39m\u001b[38;5;132;01m{\u001b[39;00mextract\u001b[38;5;132;01m}\u001b[39;00m\u001b[38;5;130;01m\\n\u001b[39;00m\u001b[38;5;124m\"\u001b[39m)\n\u001b[0;32m     58\u001b[0m \u001b[38;5;66;03m# Save as CSV file using pandas\u001b[39;00m\n\u001b[1;32m---> 59\u001b[0m df \u001b[38;5;241m=\u001b[39m pd\u001b[38;5;241m.\u001b[39mDataFrame(\u001b[38;5;28mlist\u001b[39m(transcription_extracts\u001b[38;5;241m.\u001b[39mitems()), columns\u001b[38;5;241m=\u001b[39m[\u001b[38;5;124m'\u001b[39m\u001b[38;5;124mChunk\u001b[39m\u001b[38;5;124m'\u001b[39m, \u001b[38;5;124m'\u001b[39m\u001b[38;5;124mTranscription\u001b[39m\u001b[38;5;124m'\u001b[39m])\n\u001b[0;32m     60\u001b[0m df\u001b[38;5;241m.\u001b[39mto_csv(data_dir \u001b[38;5;241m/\u001b[39m \u001b[38;5;124mf\u001b[39m\u001b[38;5;124m'\u001b[39m\u001b[38;5;132;01m{\u001b[39;00mtitle\u001b[38;5;132;01m}\u001b[39;00m\u001b[38;5;124m.csv\u001b[39m\u001b[38;5;124m'\u001b[39m, index\u001b[38;5;241m=\u001b[39m\u001b[38;5;28;01mFalse\u001b[39;00m)\n\u001b[0;32m     62\u001b[0m clear_output()\n",
      "\u001b[1;31mNameError\u001b[0m: name 'pd' is not defined"
     ]
    }
   ],
   "source": [
    "for mp3_file in Path(output_locn).glob(f'*.mp3'):\n",
    "    title = str(mp3_file)\n",
    "    title = title[title.find('yt_data') +8: title.find('.mp3')]\n",
    "    transcribe_audio(str(mp3_file), title)"
   ]
  },
  {
   "cell_type": "code",
   "execution_count": null,
   "id": "76d588fe-f1e8-4c9c-9068-3b68241fafb6",
   "metadata": {},
   "outputs": [],
   "source": []
  },
  {
   "cell_type": "code",
   "execution_count": null,
   "id": "b3074ad2-33f1-46c8-a488-9fb1cce0c267",
   "metadata": {},
   "outputs": [],
   "source": []
  }
 ],
 "metadata": {
  "kernelspec": {
   "display_name": "Python 3 (ipykernel)",
   "language": "python",
   "name": "python3"
  },
  "language_info": {
   "codemirror_mode": {
    "name": "ipython",
    "version": 3
   },
   "file_extension": ".py",
   "mimetype": "text/x-python",
   "name": "python",
   "nbconvert_exporter": "python",
   "pygments_lexer": "ipython3",
   "version": "3.11.10"
  }
 },
 "nbformat": 4,
 "nbformat_minor": 5
}
