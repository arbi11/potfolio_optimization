{
 "cells": [
  {
   "cell_type": "code",
   "execution_count": 45,
   "id": "e663e7a5-9270-49fb-94d7-25d4643eed5c",
   "metadata": {},
   "outputs": [
    {
     "data": {
      "text/plain": [
       "'2.5.1'"
      ]
     },
     "execution_count": 45,
     "metadata": {},
     "output_type": "execute_result"
    }
   ],
   "source": [
    "from pathlib import Path\n",
    "import torch\n",
    "\n",
    "from IPython.display import clear_output\n",
    "\n",
    "torch.__version__"
   ]
  },
  {
   "cell_type": "code",
   "execution_count": 46,
   "id": "b02ac97e-36de-4c6f-b425-74366e778e90",
   "metadata": {},
   "outputs": [],
   "source": [
    "data_dir = Path(r'F:\\cc_data\\yt_data')\n",
    "output_locn = str(data_dir)"
   ]
  },
  {
   "cell_type": "markdown",
   "id": "5e59ecbf-7ee4-4557-9bfc-e49a0bdf0806",
   "metadata": {},
   "source": [
    "# Downloading Videos and Extracting Audio"
   ]
  },
  {
   "cell_type": "markdown",
   "id": "548d9fe1-0b00-41bc-91d2-a8e586e3d2c5",
   "metadata": {},
   "source": [
    "## Option 1 - With PyTubeFix"
   ]
  },
  {
   "cell_type": "code",
   "execution_count": 47,
   "id": "078349a1-a955-4b84-928f-f70536bd02cd",
   "metadata": {},
   "outputs": [],
   "source": [
    "from pytubefix import YouTube\n",
    "from pytubefix.cli import on_progress"
   ]
  },
  {
   "cell_type": "code",
   "execution_count": 51,
   "id": "506812de-c646-41f5-b28d-fd7d28436152",
   "metadata": {},
   "outputs": [
    {
     "name": "stdout",
     "output_type": "stream",
     "text": [
      "How To Build A Monster Dividend Portfolio | Ep. 325 How_To_Build_A_Monster_Dividend_Portfolio_Ep_325\n",
      "I Just Bought $30,000 Of This Stock I_Just_Bought_30_000_Of_This_Stock| 100.0%\n",
      "We're Off To An Amazing Start We_re_Off_To_An_Amazing_Start███████████| 100.0%\n",
      "5 Stocks To Buy And Hold Forever 5_Stocks_To_Buy_And_Hold_Forever█████| 100.0%\n",
      "The Stock Market Has Become Overvalued The_Stock_Market_Has_Become_Overvalued%\n",
      "I Just Broke A New Record I_Just_Broke_A_New_Record███████████████████| 100.0%\n",
      " ↳ |██████████████████████████████████████████████████████████████████| 100.0%\r"
     ]
    }
   ],
   "source": [
    "import re\n",
    "\n",
    "def replace_with_underscore(text):\n",
    "    # Replace all non-alphanumeric characters (including spaces) with underscores\n",
    "    return re.sub(r'\\W+', '_', text)\n",
    "\n",
    "url_list = [\"https://www.youtube.com/watch?v=mQS1tCQUiAM\",\n",
    "            \"https://www.youtube.com/watch?v=-OIi7O3cYAg\",\n",
    "            \"https://www.youtube.com/watch?v=xutQXlphLiM\",\n",
    "            \"https://www.youtube.com/watch?v=j9OHzRypRVs\",\n",
    "            \"https://www.youtube.com/watch?v=RFiPUS9-cN0\",\n",
    "            \"https://www.youtube.com/watch?v=iCXAT6ZZHuM\"\n",
    "           ]\n",
    "download_list = []\n",
    "title_list = []\n",
    "\n",
    "for url in url_list:\n",
    "    yt = YouTube(url, on_progress_callback = on_progress)\n",
    "    \n",
    "    title = replace_with_underscore(yt.title)\n",
    "    print(yt.title, title)\n",
    "    \n",
    "    video_output = data_dir / f\"{title}.mp4\"\n",
    "\n",
    "    try:\n",
    "        ys = yt.streams.get_highest_resolution()\n",
    "        ys.download(output_path = data_dir, filename = f\"{title}\")\n",
    "        \n",
    "        ys_audio = yt.streams.get_audio_only()\n",
    "        ys_audio.download(output_path = data_dir, filename = f\"{title}\")\n",
    "\n",
    "        download_list.append(video_output)\n",
    "        title_list.append(title)\n",
    "\n",
    "    except:\n",
    "        print(f'Download failed for {title}')\n"
   ]
  },
  {
   "cell_type": "code",
   "execution_count": null,
   "id": "a17268d8-9eb9-4cf8-a30a-e969c92ac283",
   "metadata": {},
   "outputs": [],
   "source": []
  },
  {
   "cell_type": "markdown",
   "id": "a3d9d79c-2886-4592-b10b-67090e5e9f2a",
   "metadata": {},
   "source": [
    "## Option 2 - PyTubeFix and MoviePy\n"
   ]
  },
  {
   "cell_type": "code",
   "execution_count": 52,
   "id": "16a7bdc5-650b-4de6-bb0f-e794bb950963",
   "metadata": {},
   "outputs": [],
   "source": [
    "from moviepy.editor import VideoFileClip\n",
    "\n",
    "for title in title_list:\n",
    "\n",
    "    video_output = data_dir / f\"{title}.mp4\"\n",
    "    \n",
    "    video_clip = VideoFileClip(str(video_output)) # purely to give us access to methods\n",
    "    assert video_clip.audio is not None\n",
    "    \n",
    "    video_clip.audio.write_audiofile(str(data_dir / f\"{title}.mp3\"))\n",
    "    video_clip.close()\n",
    "    \n",
    "    clear_output()"
   ]
  },
  {
   "cell_type": "code",
   "execution_count": null,
   "id": "7c01577e-4797-4c82-950d-b46e27b4a5bf",
   "metadata": {},
   "outputs": [],
   "source": []
  },
  {
   "cell_type": "code",
   "execution_count": null,
   "id": "e111458c-92fb-4a15-8727-2a8e26c80e81",
   "metadata": {},
   "outputs": [],
   "source": []
  },
  {
   "cell_type": "markdown",
   "id": "c985cc38-e489-4331-995c-22e02bd2d1f8",
   "metadata": {},
   "source": [
    "# Transcribing Audio to Text"
   ]
  },
  {
   "cell_type": "code",
   "execution_count": 53,
   "id": "456a9652-a42e-4695-b5a0-6b69d9bc92e8",
   "metadata": {},
   "outputs": [
    {
     "name": "stdout",
     "output_type": "stream",
     "text": [
      "F:\\cc_data\\yt_data\\5_Stocks_To_Buy_And_Hold_Forever.mp3\n",
      "F:\\cc_data\\yt_data\\How_To_Build_A_Monster_Dividend_Portfolio_Ep_325.mp3\n",
      "F:\\cc_data\\yt_data\\I_Just_Bought_30_000_Of_This_Stock.mp3\n",
      "F:\\cc_data\\yt_data\\I_Just_Broke_A_New_Record.mp3\n",
      "F:\\cc_data\\yt_data\\The_Stock_Market_Has_Become_Overvalued.mp3\n",
      "F:\\cc_data\\yt_data\\v1.mp3\n",
      "F:\\cc_data\\yt_data\\We_re_Off_To_An_Amazing_Start.mp3\n"
     ]
    }
   ],
   "source": [
    "for mp3_file in Path(output_locn).glob(f'*.mp3'):\n",
    "    print(mp3_file)"
   ]
  },
  {
   "cell_type": "code",
   "execution_count": 37,
   "id": "8bccaf41-960a-4422-a2b5-bd5c76759483",
   "metadata": {},
   "outputs": [
    {
     "name": "stdout",
     "output_type": "stream",
     "text": [
      "File exists\n"
     ]
    }
   ],
   "source": [
    "mp3_file_loc = data_dir / f\"{title}.m4a\"\n",
    "\n",
    "if mp3_file_loc.exists():\n",
    "    print(\"File exists\")\n",
    "else:\n",
    "    print(\"File does not exist\")"
   ]
  },
  {
   "cell_type": "code",
   "execution_count": 43,
   "id": "bb04fa98-c2a7-4f91-a4f9-ce5e6a777442",
   "metadata": {},
   "outputs": [
    {
     "name": "stdout",
     "output_type": "stream",
     "text": [
      "Converting F:\\cc_data\\yt_data\\v1.mp3\n",
      "Chunk 0 extracted.\n",
      "Chunk 1 extracted.\n",
      "Chunk 2 extracted.\n",
      "Chunk 3 extracted.\n",
      "Chunk 4 extracted.\n",
      "Chunk 5 extracted.\n",
      "Chunk 6 extracted.\n",
      "Chunk 7 extracted.\n",
      "Chunk 8 extracted.\n",
      "Chunk 9 extracted.\n",
      "Chunk 10 extracted.\n",
      "Chunk 11 extracted.\n",
      "Chunk 12 extracted.\n",
      "Chunk 13 extracted.\n",
      "Chunk 14 extracted.\n",
      "Chunk 15 extracted.\n",
      "Chunk 16 extracted.\n",
      "Chunk 17 extracted.\n",
      "Chunk 18 extracted.\n",
      "Chunk 19 extracted.\n",
      "Chunk 20 extracted.\n",
      "Chunk 21 extracted.\n",
      "Chunk 22 extracted.\n",
      "Chunk 23 extracted.\n",
      "Chunk 24 extracted.\n",
      "Chunk 25 extracted.\n",
      "Chunk 26 extracted.\n",
      "Chunk 27 extracted.\n",
      "Chunk 28 extracted.\n",
      "Chunk 29 extracted.\n",
      "Chunk 30 extracted.\n",
      "Chunk 31 extracted.\n",
      "Chunk 32 extracted.\n",
      "Chunk 33 extracted.\n",
      "Chunk 34 extracted.\n",
      "Chunk 35 extracted.\n",
      "Chunk 36 extracted.\n",
      "Chunk 37 extracted.\n",
      "Chunk 38 extracted.\n",
      "Chunk 39 extracted.\n",
      "Chunk 40 extracted.\n",
      "Chunk 41 extracted.\n",
      "Chunk 42 extracted.\n",
      "Chunk 43: Could not understand the audio. Maybe it was empty.\n",
      "Extract:\n",
      "0: everyone would love to have a monster dividend portfolio one that spits out huge dividends day after day thousands and thousands of dollars a portfolio of businesses that produces so much income every single week every month that you can live off of it it completely subsidizes and replaces your active income dividends after all our passive income it's money that you make without having to lift a finger you have to do the initial up front work you have to buy the investment but once you've done that you're set you earn passive income via dividend this is not only what my entire portfolio centered around but it's also my ultimate goal to get to the point where I'm no longer reliant on active work we're working is an opportunity it's a choice it's not a requirement that is the goal of passive income now I've been building this portfolio publicly for some time I do it under public scrutiny you can see the changes that I make you can see the buys that I do and you can see the cells that I make but in this\n",
      "1: so I'd like to do something a bit different than show you just the most recent trades I'm making I'd rather show you the lessons that I've learned in building a monster dividend portfolio over the past four years I want to go over what I think are the biggest mistakes that dividend investors are making what I think are the biggest things they should be focusing on and how I believe investors today can get to their goals as fast as possible so this is going to be a good one we're going to be going over five years of investing and summarizing my best lessons in this episode now of course we have some other news to get to as well Mark Zuckerberg is on the move has released their initial plans to compete with Twitter so Matt is doing what they do historically which is copy other social media competitors and they do this very effectively I'll be giving you my opinion on this Twitter copycat and on the subject of meta and Mark Zuckerberg we get a seat in detail what Mark Zuckerberg's initial response was of the Vision Pro I have a lot of thoughts on\n",
      "2: so will be going into this as well and then it's Friday the day where we turned a tick tock to get the best tips on finance and investing and this tip is specifically on house hacking this is the all-time best house hacking hack ever so we'll be looking at this and I'll be giving my reaction here at the end of this episode so as always if you like this type of content if you like the transparency we have her make sure to thumbs up the video subscribe to the channel and let's go ahead and Jump Right In first of all we'll start off with building a monster dividend portfolio this is something that I've been trying to work on for five years now I've been focusing my portfolio around building up passive income that's Remain the ultimate end goal of this portfolio and while doing that over the past five years and having the opportunity to run a YouTube channel and spending an incredible amount of time studying investing I've been able to see a lot of things that work at a lot of things that don't work when trying to do this so what I hope to do is basically share everything that I've learned along the way\n",
      "3: I want to start off with the basics when we're building a monster dividend portfolio there's three basic ways that this works three basic ways that it compounds and I've gone over this in previous video so I'll just go over it briefly first of all we buy into companies that pay a dividend this is the first way that we grow a dividend portfolio and along with number one hair I would say that an important step is having a consistent income to begin with you can't leap over to passive income without having an active income so you need to have a stable job you need to have a stable income and you need to have your budgeting down so that you have money every single week to add to your portfolio once you have that money you need to start putting it to work and put it to work as soon as frequent as you can step one by companies that pay a dividend that pays you the initial dividend yield the initial dividend yield is what gets the ball rolling you have money flowing into your account for example in this\n",
      "4: I've earned a total of 21,594 in dividends these have been growing the entire time that I've been investing this number always goes up it never goes down companies are always paying me dividends Step 2 was pretty basic we reinvest the dividend once a company pays you out cash flow use it to buy other companies that you can consider to be high return opportunities so as you have money flowing in every single week and every month and dividend payments look through your portfolio and see which ones are offering the best opportunity at a given time my way of doing this is I use something called the dip finder it's a tool that I build where basically just shows which companies are in a dip at a given time I can select different time metrics hair like last month and I can see which companies are doing really well and which companies are struggling a bit these are all of my core Holdings so when I select the last month I can see right here that Canadian Pacific MasterCard and the red they've gone down over\n",
      "5: play past 30 days S&P Global on the other hand has gone on a pretty good run Microsoft is doing great apples doing great Costco's doing good Texas Roadhouse is doing good so these companies that are up a lot over the past 30 days I'm going to avoid I'll just let them continue to run and then I'll buy the companies that I think are really good that have gone down in value and guess what just a couple days ago I bought more Vichy I bought more because it's trading down and I think it offers Great Value this is me following number two taking the dividends that I'm paid and reinvesting it into the best high return opportunity then we have number three the company growing the dividend over time so this changes the criteria in which we choose companies to invest in we don't only want companies that pay a dividend we want companies that pay a growing dividend and buying I mean growing beyond the rate of inflation we can take a Verizon as a counterexample here this company does pay a dividend and the dividend is technically growing it's been\n",
      "6: volume by 2.39% but unfortunately inflation has been above 2.39% even if we were really charitable and said that inflation was only 2% this dividend is flat it's really not growing at all the dividend payment adjusted for inflation is the exact same today that it was a decade ago so while Verizon pays a dividend it does not pay a growing dividend on the other hand every single company within my portfolio every one of them pays not only a steady dividend they pay a growing dividend I can take S&P Global for example S&P Global pays a consistent growing dividend and it has done so for years and the dividend is growing far above the rate of inflation at 12% MasterCard pays a very consistent dividend and it's growing at a very rapid rate 25% per year and like I said this is the same for every company into it Apple Microsoft beachy Texas Roadhouse Costco so on and so forth all of them pay consistent and growing dividends and that step three and these are the three basic steps of building a monster\n",
      "7: do you have a portfolio you buy companies that pay a dividend you reinvest that money from the dividends back into companies that pay dividends and it grows their dividend income and then importantly you try to focus on companies that not only pay a consistent dividend but they pay a growing dividend far above the rate of inflation all of these three together are really powerful the compounding effect they have is almost magical in fact I'm reading this book that's an in-depth study on Buffett's life called the snowball and extensively goes through his entire history and one of the things that points out is that he's basically a dividend growth investor throughout his entire life especially his early life he was always accumulating stakes in companies that pay him cash flow Buffet use that excess cash flow dot that is literally the snowball its buffets investing strategy the reason that Berkshire doesn't pay a dividend\n",
      "8: it's because Buffett is playing the role of the investor reinvesting the cash flows but otherwise he's running the company in the exact same way as a dividend growth investor buying good companies that pay excess cash reinvesting that cash to buy more companies and focusing on companies that can really grow that cash pile over time the magical effect of this is a strong compounding Snowball Effect know that seems simple enough but even given those instructions what I notice is a lot of dividend investors make some very critical errors and that's where I want to go over where dividend investors are failing where they're falling short and when I give these critiques a lot of these criticisms are basically criticizing myself 5 years ago I was making a lot of these same mistakes that I have since corrected so let me go ahead and go through him the first thing that I say that dividend investors make a mistake on is the focus on starting yield the starting yield is what the company is yield is\n",
      "9: right now today that is the main focus of a lot of dividend investors they seek companies that will instantly give them a high starting yield and a lot of companies that have a high starting yield are not the best companies we can look at a lot of different examples here we can look at Verizon again as an example of this this is a company that lures investors in with a very high starting dividend yield a yield of 7.31% so you may look at this and think wow I buy 100 dollars of this and I get seven dollars and 31 cents back every single year that's pretty good that's a much higher yield than than a company like MasterCard so Verizon is the better bet I'm getting more cash flow through owning this company the temptation to buy into companies with these very happy starting yields without looking at the fundamental drivers of the company leads to lots of underperformance Verizon has been a horrible company to own going down 28% over the past five years in the past\n",
      "10: 10 years even with dividends this company is basically given no returns so that's 7% juicy starting yield you're getting has given you absolutely no returns over the past 10 years as the rest of the market has raised up and why is that well for one Verizon really hasn't grown Revenue that much in the past 10 years the cash flows look very similar over the past 20 years they've been deluding shareholders as well to finance their operations and they have a breathtaking amount of debt the amount of debt is literally over 100 billion dollars so this giant Telecom company that's luring investors in is really nothing more than a value trap the company has caught investors and kept them there in a company that's producing 0 returning periods of time and this isn't the only one to do this we have Investments like 18t this is one investment that I was in I barely eat out a return on this company by simply luckily timing the buy and sell it but overall AT&T was not an attractive investment\n",
      "11: what really lured me into AT&T was the same thing that lured many other investors into this company the starting dividend yield of nearly 7% the high very high starting yield that was so it's just so tempting to buy into companies where you think you're going to get paid back that much every single year what it really turns out to be where you're waiting around hoping that the company will at least maintain its value while it pays out this cash flow and the case of Verizon and AT&T the company is fundamentals are very poor the competitive Dynamics are very poor the profitability the balance sheet are very poor and the Investments as a result stumble AT&T down 41% over the past decade and they recently just slashed their dividend to half of what it used to be making it so that even the people that were in this company for the dividend are not getting their payday anymore so the number one mistake here is crucial to avoid for every investor don't focus on\n",
      "12: Garden Guild if your major focus is finding companies with high starting yields most of those companies are Pathways their roads down to companies that are many cases value traps in fact I would argue that the higher the starting yield the more likely the company is to become a value trap it's not the case in every company some companies do have that magical mix of a high starting yield while still being an attractive Growth Company but in most cases High starting yields mean value traps ironically one of the things that I get criticized the most on my channel is that I'm a dividend investor the focus is too much on companies with low starting yields I recently bought into S&P Global S&P Global only has a 0.95% starting yield it's very low this isn't any AT&T or Verizon I also bought into MasterCard MasterCard has even a lower starting yield 0.61% no not all companies that I buy have very little starting yields some of them are a bit higher in the restaurant category Texas Road\n",
      "13: this was a company that I bought that at the time I was buying it had a 2.5% starting dividend yield this one has a decent yield but it's still no Verizon or AT&T but either way a lot of my companies have a lower starting yields than most dividend investors and this is done intentionally the companies that I'm focusing on are not value traps they're not companies that have flat risky or low growth dividends they are companies that have the economic capability to grow their dividends at very rapid rates wild Texas Roadhouse only has a starting dividend yield of 2% that's no more close to Verizon or AT&T it has something different than Verizon or AT&T the dividends growing and it's growing at a very very fast rate back in 2011 the dividend was only eight pennies per share 8 cents per share and then the most recent dividend 10 years later is 55 cents per share its compounded at an annualized rate of 16.4% per year\n",
      "14: so the dividend is four or five times bigger than it was a decade ago four or five times bigger that means that the investors that bought 10 years ago now have a yield on cost of over 8% higher than the Verizon or AT&T dividend and while they've had that incredible dividend growth four or five Shing their dividend payment they've also had a massive capital appreciation 347 % so investors in Texas Roadhouse are sitting much more pretty than the investors in Verizon or AT&T the ones that were suckered in to the high starting yields have flat dividend payments or ones that are being cut companies that have made any games and they overall have total returns that are naked the investors that instead focus on companies that can grow their dividend payment have a dividend payment that's four or five times what it was 10 years ago and games and capital appreciation that are 350% the evidence routinely favors companies that focus on dividend growth not companies that focus on\n",
      "15: Play Starting yields we can take MasterCard as another example this is one that a lot of dividend investors will criticized for having a very low starting yield only 0.61% it seems insignificant at first look but when you consider the actual growth of the dividend over time it puts things into context back in 2011 the dividend payment was two pennies per share over the past 5 years like Texas Roadhouse they've been growing the dividend at around 18% per year when you compound something even at a low starting base at 20% per year the growth is astronomical that compounding turns a very low starting yield to a very high dividend payment in a short amount of time going from two pennies to half a dollar in 10 years what does remind me of is the experiments with Children of delayed gratification whether they can wait a minute to get a marshmallow or two marshmallows a couple minutes later the kids that were willing to delayed gratification a little bit longer had overall better returns\n",
      "16: I think it's investors we get tested in the same way are you really needing that high starting yield right now today or can you delay that gratification a little bit invest in very good companies that will 5x your dividend payment over the next 10 years give you capital appreciation and a boosted amount of income at the same time the way to judge if a company is able to pay you a growing dividend over the next decade is all about the financials of the company if you use quantum.com as an example to look at a company we have Texas Roadhouse how do I judge of Texas Roadhouse can pay me a growing dividend over time well there's a couple important things I can look at first of all is the growth profile of the company we look at the revenue growth is the revenue growing on a consistent basis of the rate of inflation in the case of Texas Roadhouse that is a yes and it's growing organically not through Acquisitions so it's growing every single year year year year over year at 12:56 the next\n",
      "17: can we look at is the free cash flow growth of the company in the case of Texas Roadhouse is this growing on a semi consistent basis yes it is in fact it's growing at a very fast speed 15% over the past 10 years the cash flows are the initial thing the company has to pay the dividend so if the free cash flow is not growing and the dividend is growing that just means that the company's paying you a higher percentage of their free cash flow and eventually they cannot maintain that they'll have to cut it like they did with Intel while Texas Roadhouse is growing the free cash flow over time leading to a fast-growing dividend companies like Intel had cash flows that were shrinking they were flat for a long period of time then they went down and so did the dividend the dividend follows the cash flows if the cash flows grow very fast the dividend will grow fast if the cash flows shrink the dividend will shrink so back to Texas Roadhouse we look at the cash flows we look at the net income growth we look at the earnings per share growth this is a good growth profile\n",
      "18: give me confidence that this company has a long history they have the recipe of growth the management has been able to do this on a consistent basis and aside from a lot of things you hear past results in specific companies is oftentimes indicative of future results especially if the same situation environment exists nothing has really changed competitively in terms of Texas Roadhouse so I expect similar levels of growth in the future and then finally the balance sheet is a huge indicator of a company's ability to pay future dividends in the case of Texas Roadhouse we can take a look at their cash and debt they have more cash than debt right now in fact last quarter Texas Roadhouse paid off the remainder of all of their long-term debt so they have zero long-term debt the only thing they have in terms of liabilities is their Capital leases which are basically rental payments on their restaurant's but this is it they have a lot of cash they have no longer term debt which gives them an incredible amount of flexibility\n",
      "19: in their Capital allocation so not only do I have incredible confidence that this company can continue to pay a dividend I have lots of confidence that they can grow it at a continually attractive rate and this all comes down to the financials and economics of a company invest in companies that are paying a dividend that have growing revenues cash flows net income earnings per share companies that have declining share count and strong balance sheets those are the ones that will be able to continually pay growing dividends in the future so I believe dividend investors would be well served to stop focusing their efforts so much on high starting guilds instead focus on companies that have everything in place to have strong organic dividend growth for a long period of time in the future companies that can do this have great economics good competitive Dynamics companies that have very strong balance sheets these are ones that lead to Alpha to outperformance these are the strong dividends that pay year after year after year the ones that have the highest starting yields the ones that are value traps they often\n",
      "20: I need investors down the worst route where they're stuck in a company where the only reason they own it is a dividend and they eventually capitulate and end up selling it we've all been in those companies at one point or another so it's time to focus on better companies now the next big mistake that I see a lot of dividend investors making is over diversification now diversification is not all bad I don't think you should be all in a single company that is overall very risky there's two different types of basic risks in the stock market their specific risk what are specific to accompany meaning the management team the chance the company does fraud the chance to company gets out competed by a different company those are all specific risks to a specific company but then there's systematic risk systematic risk is the risk of the overall World economy things like pandemics things like Wars things like famine these are systematic risks that we really can't diversify away from so diversification is\n",
      "21: is an opportunity for us to lower the amount of risk of specific risks specific to any singular company but the data shows empirically that once you have over 7 to 10 different companies the specific risk is basically Diversified a way to the max extent it's mostly gone at that point and Beyond then layering on more and more companies 10 Campania full of tons of different companies without the benefit of any measurable risk reduction not only are you not really getting any additional benefit of reducing specific risk but you're also getting the downside of having an overly complex portfolio of a group of companies that you can't possibly pay attention to extensively so you're making individual Investments but your spreading them out across so many companies that you really can't keep up with all of\n",
      "22: in my portfolio I've tried to mimic it where I'm getting the most bang for my buck I have 10 cor positions S&P Global MasterCard into it Microsoft and Apple that's five Vichy Costco Texas Roadhouse Canadian Pacific and Union Pacific right at 10 core positions I'm getting the maximum benefit of reducing specific risk I'm writing that nice part of the curve there but I also don't have so many companies that I can't possibly keep track of them I can keep track of 10 so I do believe in being Diversified but not being over Diversified and a lot of portfolios I see from dividend investors are portfolios with 50 different companies so many companies that have the time I think these investors can't even remember the amount of companies they have in their portfolios if you're doing that you're just lazily investing putting money into dozens and dozens of companies without properly doing research on them and then finally the last thing that I see a lot of dividend investors doing that I think is a mist\n",
      "23: is investing into bad Industries bad companies and bad Industries now this can come off as a very harsh criticism me saying that these are bad companies but this is just my opinion I do think a lot of the Investments That dividend investors buy are in companies that are a lot of Industrials their Capital intensive they're overly complex a lot of these industries are incredibly difficult to operate in and I've made this same mistake before so I'm criticizing other people's Investments I'm criticizing my previous Investments as well I used to own 300 dollars of Boeing it was one of my first Investments I viewed the company as this big duopoly with Airbus it was just one of the big companies that seemed like it was unbeatable to me but what I quickly learned is that Boeing is an incredibly complex company it has an entire chain of events that has to happen huge manufacturing processes tons of quality assurance tons of liability potential lawsuits long-term contracts the amount of complexity in this business is\n",
      "24: incredible running it would be trying to run a small country so Boeing's one of these companies it's incredibly complex difficult to understand very Capital intensive and has tons of various risk factors that investors can't properly put into their analysis there's no way you can accurately quantify the amount of risk in this company and I see the same thing with a lot of other industries that I consider to not be the greatest Industries to invest in Intel being an example of how unpredictable it is to be a chipmaker and videos leading the race right now and videos what's drawing everybody's attention but intel was King not too long ago they control the world with chips and now how far they've fallen and I see so many investors getting drawn into these companies 3M another company having a high dividend yield that's been one that so far has been a value trap for a long period of time down 9% over the past 10 years the company that I have been gravitating to and I've been trying to urge investors to gravitate to are ones that are more simple and have economics\n",
      "25: is that are better for longer periods of time S&P Global shares a monopoly between them and Moody's both companies benefit mutually I've been bullish on Microsoft for a long period of time a company that has great competitive Dynamics by virtue of its massive monopolistic mode even Costco's a company that seemingly more expensive but it's more predictable and it has a more simple business model that's easier to operate and easier to execute it's much easier to open up a new warehouse and sell some memberships than it is to try to create the next big aircraft so my final piece of advice for dividend investors is to focus on industries that are overall good Industries where everybody's winning in that industry where you're fishing in a good Pond not trying to pick winners amongst losers focus on companies that aren't Capital intensive or overly complex what are simple and predictable if we do this I think we'll have better returns overall and I think that dividend investing will be looked at more favorably overall it won't be so associated with buying slow growing\n",
      "26: complex companies that are many cases value traps this is what I've been doing with my portfolio it's the strategy that I've been merging over to and I think it more closely mimics and aligns with what Warren Buffett did his entire career especially his early career focusing on companies that not only paid him cash loans but they had strong organic growth profiles that would pay him growing cash flows in the future and then reinvesting those cash flows into other good opportunities so that's my thoughts overall on this issue and my biggest advice of what I've learned over the past five years let me know what you think if you disagree that's fine but let me know either way I would be happy to discuss in the comments now moving on we have some big news from Mark Zuckerberg making some big moves he's now competing directly with employees a standalone app at plans to launch through Instagram to compete with Twitter now it's interesting wattage there they say it's a standalone app but they're going to launch it through Instagram we'll get to what that means\n",
      "27: in a miniature they say that this was revealed by Chris Cox the chief product officer Cox told employees that meta has heard from craters and public figures who want a quote saintly run platform the people that I think want a saintly run platform are a lot of I think politicians that don't like that Elon is running Twitter they don't like that he's running the platform it's a highly political thing so people have very very strong views on Elon some people don't like them if they don't like him they don't want to support the platform so they want an alternative those people are the one that are saying that elon's not saying he's not running the company saintly so they want an alternative and is there to the rescue the company is in talks to have people such as Oprah Winfrey and Dolly llama commit to using the app adding that helps to launch it quote as soon as we can and the app is internally codenamed project 922 a person familiar with the software said why did they name it that I have no clue it sounds kind of cool but\n",
      "28: we don't know anything about the name there so we don't have much details on this but let me make a very early judgment here based on the history that I've studied with meta this is what they're best at this is right in their wheelhouse this is what they consider to be their superpower they can take different features from different social media they can integrate it or rebuild it and then they can push major usage and engagement on it has proven their ability to do this over and over and over again reels and stories were features that they took from different platforms they integrated it on to an existing platform to great success but this is a bit of a more aggressive challenge they're not only trying to just integrate a new feature they're trying to completely replicate Twitter and do it better and build it to a successful platform so this is what they're good at but I think this is a bit more aggressive I think it's a bit more risky but I'm still going to side on the side of meta I think they'll be able to pull this off I think they'll be able to push major\n",
      "29: play engagement and usage on the Twitter competitor and the reason being is that they've proven again that they're incredibly good at this what they're doing is they're launching it through Instagram so what I assume they're going to be doing with this is there going to be using your information you've already given them on Instagram to auto-populate accounts on this new Twitter competitor now that you have your account already made you already have the onboarding process done all you have to do is just log in and open it up you have your Twitter copy account is removing all the friction by using all the information they already have to bridge the gap between Instagram and the Twitter competitor if they did it that way that would be a brilliant move by Metallica and make the chances of success even greater for this so we don't know if this is going to be ultimately successful so far but if I was a mad investor I would be pretty bullish on this I do think it's something that's going to be a likely success no on the same subject of meta and Mark Zuckerberg we get\n",
      "30: let's see his initial first public reaction to the Apple Vision Pro headset a little bit of background between Mark Zuckerberg and apple Mark Zuckerberg is very calm and he's very level-headed in the way that he talks about Apple and the way that he talks about Tim Cook but I believe strongly the underneath this very calm demeanor there is a certain hatred that he has for Apple I don't think that he only dislikes the company and has a friendly competition with him I think he has utter disdain for them Apple has been bullying meta mercilessly doing add changes doing things that hurt his business and take billions of dollars out of his company his employees and his wallet and he doesn't like that Mark Zuckerberg is incredibly competitive he's shown that both his personal life and his business life he doesn't like being beholden to Apple in order to circumvent apple and their App Store policies Mark Zuckerberg has been looking for ways to go around the hardware Monopoly the Apple has and his way of doing that is not through the phone\n",
      "31: phone not through the laptop but through the headset he believes that this is the next generation of computing he's come out with the Oculus he's made massive investments into this category in hopes to have his own physical platform where he no longer has to operate through Apple's App Store Monopoly but then we have apple releasing The Vision Pro in my estimation I think the Apple did what they do best they came out with a premium item that has higher resolution lower latency has very good specs very good build quality and overall seems like a highly polished device it comes in at a more expensive price point and that's the major Focus but here we have the head-to-head battle between met and Oculus in all of his various headsets and the Apple Vision Pro here's what Zuckerberg said in his initial reaction seeing the Vision Pro release a few thoughts I mean first I do think that this is a\n",
      "32: turn the level of validation for the category right where we were the primary folks out there before saying hey I think that this you know virtual reality augmented reality mixed reality this is going to be a big part of the next Computing platform I think having Apple come in and share that Vision will make a lot of people who are fans of their products really consider that and then the first one that he makes is one a product and category validation by Apple entering in to the are VR headset game they have thus validated that category of product is being a valid product and that logic seems simple I think this is a very good go-to reaction by Mark Zuckerberg the problem is this is the reaction that literally every CEO says when Apple steps into their category and competes directly\n",
      "33: take for example when Apple stepped into fitness they offer a fitness service called Fitness Plus Peloton was already in this game they're the biggest ones by far in this category the Peloton CEO was one of optimism saying that it's quote quite a legitimization of Fitness content that is the big headline their apple entering into the category is a good thing it legitimizes Fitness content and its overall going to lead to Greater sales for Peloton but the stock price since this was posted for Peloton is down around 70% and there's no evidence whatsoever that Apple entering in to Fitness content has helped Peloton whatsoever all it's done is created a massive competitor to something that they uniquely owned companies should be able to legitimize their own products without having the biggest most powerful company in the world compete directly with him when Apple computer with Amazon with the fire phone it didn't help them and it certainly didn't help the zoo when they\n",
      "34: repeat it with Microsoft when Apple steps in and competes head first with a separate company saying it legitimizes a category is a nice thing to say but I don't see a lot of evidence that that's the case the next thing that he moves on to is the big price point really consider that and then of course the the 3500 price on the one hand I get it for with all the stuff that they're trying to pack in there on the other hand a lot of people aren't going to find that to be affordable Apple's headset at 3500 is unaffordable way too expensive for most people this reminds me a little bit of Steve Ballmer being asked about the iphone please let me ask you about the iPhone was getting some traction and Steve Jobs the first thing that comes out of his mouth in criticism of Apple being a legitimate\n",
      "35: Predator to Microsoft was $500 at the time that was extremely expensive for phone far more expensive than any competitor or any existing phone on the market and apple was likewise scoffed at and mocked for being way too expensive and far Out Of Reach of other people know Mark Zuckerberg doesn't say this with as mocking of a tone but the concern is very similar so I think there's a chance that that them coming in actually increases demand for the overall space that is actually the primary beneficiary of that because a lot of the people who might say Hey you know this I think I'm going to give another consideration to this so you know now I understand maybe what mixed reality is more and inquest 3 is the best one on the market that I can that I can afford and it's great also right it's I think that that's and you know in our own way I think we're in there are a lot of features that we have where we're leaving on maybe in a way the Vision Pro will create more demand for\n",
      "36: but I don't typically see that the case throughout history when people want an Apple device they don't say I want an iPad but the iPad's a little too expensive so I'm going to go get a Kindle I'm going to go get I'm going to go get a Fire tablet that's not often the case there's always a secondary Market maybe that will happen in some cases but in most cases when real users want to pay for a real device they get the thing that they want they have different ways of financing different ways of saving different ways of paying for it if someone really wants to get an iPhone they're going to find a way to get it and then obviously over time the companies are just focused on some different things right Apple has always think focused on building really kind of high-end things whereas our Focus has been on it's just we have a more democratic ethos we want to build things that are accessible to a wider number of people and we've sold\n",
      "37: Winds of millions of quest devices my understanding just based on Rumours I don't have any special knowledge on this is that apple is building about 1 million of their of their device right so the next thing he brings up is one of accessibility his company is building stuff it's accessible by many many people it's not priced out of them this is another argument that looking at the data it falls flat he's painting apple as this company that only sells premium devices to only a very small number of users apples install base over the past seven years has estimated from 1 billion installed devices to over 2 billion installed devices are so undemocratic and so inaccessible then why do they have an install base of device is that exceeds 2 billion that doesn't stack up obviously lots of people are able to get apples devices lots of people from various income levels we kind of from different places where\n",
      "38: play focused on social interaction communication being more active Fitness there's gaming there are those things now whereas I think a lot of the use cases that you saw in in Apple's launch material were more around people sitting you know people looking at screens which are great I think that you will replace your laptop over time with with with with a headset but but I think in terms of kind of how the different use cases that the companies are going after and they're a bit different for for where we are right now this is another reaction that I think is a little soft I think it's a bit weak he's trying to paint apples device is being antisocial and his device is being very very social but when we looked at the actual presentation there's not much distinction in terms of social capability Apple demonstrated plenty of social apps with FaceTime 3D videoing looking at a wall of people on friends and real time\n",
      "39: there's lots of this type of thing of them standing up and being active as they're working and a big thing to keep in mind is the hardware and device capability is just the product that's able to launch the apps the app Builders will get into the Vision Pro now and build many social apps I anticipate that on the Vision Pro on Apple's devices there will be just as many social capabilities as there are on metis now overall I like the fact that Mark Zuckerberg will sit down and speak so candidly about his reaction and about his goals and Ambitions I think it's good that he's competing with apple but if I have to pick the overall winner of who I think would dominate this Market my vote still stands with apple I think they'll have much bigger market share of the overall economics of this device category similar with how they do with the tablet with the MacBook with the phone with the airpods with every other device category that they're in I see no big distinction with headsets now finally we get to the most important part of the show this is where we get our best tips our\n",
      "40: best advice financially this is one on the best house hacking tip ever which comes at a very important time because right now it's difficult to get into homes they're very expensive this person right here has a solution for it always complaining about how expensive housing is they say it's so unaffordable they can't afford it 20% down is just too much for them I think they're just making excuses in my opinion let me tell you what how much is a 2000 down payment on a 1 million dollar house 200,000 how many kidneys do you have to all right that caught me off guard there a little bit he went from what is the down payment on a million dollar home a 20% down payment and now we're talking about I think I heard kidneys how many kidneys do you have we went from house hacking to now human biology let's go ahead and keep listening care I think I know what direction he's going but let's let's take a look how many kidneys does\n",
      "41: the average person need to survive one how much do you think that you could sell a kidney for in the black market today 250 300 350 on the black market for a quarter million now I have no way of verifying this I have not looked into the price of a kidney maybe this is correct that's a lot of money $250,000 but I'd still rather have my kidneys and instead of trying to do some type of illegal surgery but regardless let's just assume for a minute this is accurate information\n",
      "42: 3 years you make your money back you buy your kidney back you reinsert it back into your body now what now you have two kidneys and and you have a 1 million I don't know what to say I normally am critical of these type of tiktoks I think that some of them are a little silly but this one's pretty genius I must admit you only have to risk death twice by taking your kidney and selling it in the black market a surgery that I can't imagine being done with the best doctors or surgeons but then you also have to reinstall it back into your body and reconnect it which I can't imagine as well as being a great surgery and by the way I think surgeries are someone expensive so how did that 25000000 some of its probably going to the surgeon or whatever is doing the surgery it's like he may be leaving out a few details there but there we have it the most extreme house acting tip I've ever heard that's all for this episode have a great weekend I'll see you in the next one\n"
     ]
    }
   ],
   "source": [
    "import speech_recognition as sr\n",
    "from pydub import AudioSegment\n",
    "import ffmpeg\n",
    "\n",
    "def divide_chunks(sound, segment_size_secs=60):\n",
    "    \"\"\" Split audio file into 60s chunks \"\"\"\n",
    "    \n",
    "    segment_size_ms = segment_size_secs*1000\n",
    "    for start_idx in range(0, len(sound), segment_size_ms):\n",
    "        # Yield a chunk of audio data from start_idx to start_idx + segment_size_ms\n",
    "        yield sound[start_idx:start_idx + segment_size_ms]\n",
    "\n",
    "def transcribe_audio(mp3_file, title):\n",
    "    \"\"\" Use Speech Recognition API with Google Web Speech API\n",
    "    to convert audio dialog to text \"\"\"\n",
    "    recogniser = sr.Recognizer()      \n",
    "    all_transcription_extracts = {}\n",
    "\n",
    "    print(f\"Converting {mp3_file}\")\n",
    "\n",
    "    audio = AudioSegment.from_file(mp3_file)\n",
    "    # If AudioSegment is not working - e.g. due to broken mp3 headers - we\n",
    "    # can use ffmpeg as a workaround. However, it's a lot slower.\n",
    "    # ffmpeg.input(mp3_file).output(wav_file).run() # Convert with ffmpeg\n",
    "    # print(f\"Successfully converted {mp3_file} to {wav_file}.\")\n",
    "    # audio = AudioSegment.from_wav(wav_file) # Read the audio\n",
    "\n",
    "    segments = list(divide_chunks(audio, segment_size_secs=60)) # split the wav into 60s segments     \n",
    "    all_transcription_extracts[title] = {}\n",
    "    for index, chunk in enumerate(segments):\n",
    "        with io.BytesIO() as wav_io:\n",
    "            chunk.export(wav_io, format='wav')\n",
    "            wav_io.seek(0)  # Move to the start of the BytesIO object before reading from it\n",
    "                    \n",
    "            with sr.AudioFile(wav_io) as source:\n",
    "                audio_data = recogniser.record(source)\n",
    "\n",
    "            try:\n",
    "                extracted = recogniser.recognize_google(audio_data, language=language)\n",
    "                print(f\"Chunk {index} extracted.\")\n",
    "                all_transcription_extracts[title][index] = extracted\n",
    "            except sr.UnknownValueError:\n",
    "                    # Log the unknown value error and continue\n",
    "                print(f\"Chunk {index}: Could not understand the audio. Maybe it was empty.\")\n",
    "        \n",
    "    print(\"Extract:\")\n",
    "    for idx, extract in all_transcription_extracts[title].items():\n",
    "        print(f\"{idx}: {extract}\")\n",
    "\n",
    "    # Save as JSON file\n",
    "    with open(output_locn/ f'{title}.json', 'w') as json_file:\n",
    "        json.dump(all_transcription_extracts[title], json_file)\n",
    "\n",
    "    # Save as TXT file\n",
    "    with open(output_locn/ f'{title}.txt', 'w') as txt_file:\n",
    "        for idx, extract in all_transcription_extracts[title].items():\n",
    "            txt_file.write(f\"{idx}: {extract}\\n\")\n",
    "\n",
    "    # Save as CSV file using pandas\n",
    "    df = pd.DataFrame(list(all_transcription_extracts[title].items()), columns=['Chunk', 'Transcription'])\n",
    "    df.to_csv(output_locn / f'{title}.csv', index=False)\n",
    "\n",
    "\n",
    "for mp3_file in Path(output_locn).glob(f'*.mp3'):\n",
    "    transcribe_audio(str(mp3_file), )\n",
    "\n"
   ]
  },
  {
   "cell_type": "code",
   "execution_count": 44,
   "id": "ffc52867-6042-417c-a9db-f4e34f0b63d6",
   "metadata": {},
   "outputs": [
    {
     "ename": "NameError",
     "evalue": "name 'transcription_extracts' is not defined",
     "output_type": "error",
     "traceback": [
      "\u001b[1;31m---------------------------------------------------------------------------\u001b[0m",
      "\u001b[1;31mNameError\u001b[0m                                 Traceback (most recent call last)",
      "Cell \u001b[1;32mIn[44], line 1\u001b[0m\n\u001b[1;32m----> 1\u001b[0m transcription_extracts\n",
      "\u001b[1;31mNameError\u001b[0m: name 'transcription_extracts' is not defined"
     ]
    }
   ],
   "source": [
    "transcription_extracts"
   ]
  },
  {
   "cell_type": "code",
   "execution_count": null,
   "id": "76d588fe-f1e8-4c9c-9068-3b68241fafb6",
   "metadata": {},
   "outputs": [],
   "source": []
  },
  {
   "cell_type": "code",
   "execution_count": null,
   "id": "b3074ad2-33f1-46c8-a488-9fb1cce0c267",
   "metadata": {},
   "outputs": [],
   "source": []
  }
 ],
 "metadata": {
  "kernelspec": {
   "display_name": "Python 3 (ipykernel)",
   "language": "python",
   "name": "python3"
  },
  "language_info": {
   "codemirror_mode": {
    "name": "ipython",
    "version": 3
   },
   "file_extension": ".py",
   "mimetype": "text/x-python",
   "name": "python",
   "nbconvert_exporter": "python",
   "pygments_lexer": "ipython3",
   "version": "3.11.10"
  }
 },
 "nbformat": 4,
 "nbformat_minor": 5
}
