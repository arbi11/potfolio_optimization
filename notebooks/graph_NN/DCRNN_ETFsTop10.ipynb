{
 "cells": [
  {
   "cell_type": "code",
   "execution_count": 1,
   "id": "225127a3-9130-4517-8947-f3b1091baee1",
   "metadata": {},
   "outputs": [],
   "source": [
    "import pandas as pd\n",
    "import numpy as np\n",
    "import matplotlib.pyplot as plt\n",
    "import seaborn as sns\n",
    "import networkx as nx\n",
    "import datetime\n",
    "import yfinance as yf\n"
   ]
  },
  {
   "cell_type": "code",
   "execution_count": 2,
   "id": "b3979297-611a-4ff2-b518-62ee92b84222",
   "metadata": {},
   "outputs": [
    {
     "name": "stderr",
     "output_type": "stream",
     "text": [
      "C:\\Users\\akhan147\\Anaconda3\\envs\\trader\\lib\\site-packages\\tqdm\\auto.py:21: TqdmWarning: IProgress not found. Please update jupyter and ipywidgets. See https://ipywidgets.readthedocs.io/en/stable/user_install.html\n",
      "  from .autonotebook import tqdm as notebook_tqdm\n"
     ]
    }
   ],
   "source": [
    "import torch\n",
    "import torch.nn as nn\n",
    "import torch.nn.functional as F\n",
    "from torch_geometric.nn import GCNConv\n",
    "from torch_geometric_temporal.nn.recurrent import A3TGCN2\n",
    "from torch_geometric_temporal.signal import temporal_signal_split"
   ]
  },
  {
   "cell_type": "code",
   "execution_count": 3,
   "id": "3687dfcd-6438-4860-bdf4-98ca25725ec9",
   "metadata": {},
   "outputs": [],
   "source": [
    "from pathlib import Path\n",
    "data_dir = Path(r'F:\\cc_data')\n",
    "model_dir = data_dir.absolute() / 'models'"
   ]
  },
  {
   "cell_type": "code",
   "execution_count": 4,
   "id": "eb76c5da-f638-49bd-80bf-1f55b6cba8dd",
   "metadata": {},
   "outputs": [],
   "source": [
    "# GPU support\n",
    "DEVICE = torch.device('cpu') # cuda\n",
    "shuffle=True\n",
    "batch_size = 32"
   ]
  },
  {
   "cell_type": "markdown",
   "id": "f8e1acba-13e6-4ef2-87ed-d8c109e5a339",
   "metadata": {},
   "source": [
    "# Data"
   ]
  },
  {
   "cell_type": "code",
   "execution_count": null,
   "id": "ea3974db-7f3c-4fe7-803c-7a9c195fe8c3",
   "metadata": {},
   "outputs": [],
   "source": []
  },
  {
   "cell_type": "code",
   "execution_count": 5,
   "id": "45c92741-59bc-4734-8d4c-908765acf2b9",
   "metadata": {},
   "outputs": [],
   "source": [
    "start = datetime.datetime(2020, 1, 1)\n",
    "end_train = datetime.datetime(2024, 4, 1)\n",
    "end_test = datetime.datetime.now()"
   ]
  },
  {
   "cell_type": "markdown",
   "id": "e89eb6ec-672a-4230-975b-81740c5603f0",
   "metadata": {},
   "source": [
    "\n",
    "|Rank\t| Symbol |\tFund | Name |\n",
    "|---|---|----|----|\n",
    "|1\t| SPY\t| SPDR S&P 500 ETF Trust |\n",
    "|2\t| IVV\t| iShares Core S&P 500 ETF |\n",
    "|3\t| VOO\t| Vanguard S&P 500 ETF|\n",
    "|4\t| VTI\t| Vanguard Total Stock Market ETF|\n",
    "|5\t| QQQ\t| Invesco QQQ Trust Series I|\n",
    "|6\t| VEA\t| Vanguard FTSE Developed Markets ETF|\n",
    "|7\t| VUG\t| Vanguard Growth ETF|\n",
    "|8\t| VTV\t| Vanguard Value ETF|\n",
    "|9\t| IEFA\t| iShares Core MSCI EAFE ETF|\n",
    "|10\t| AGG\t| iShares Core U.S. Aggregate Bond ETF"
   ]
  },
  {
   "cell_type": "markdown",
   "id": "8c57bab1-0c31-4d12-ac67-f5d33eab5380",
   "metadata": {},
   "source": [
    "[Top ETFs](https://www.marketwatch.com/tools/top-25-etfs)"
   ]
  },
  {
   "cell_type": "code",
   "execution_count": 6,
   "id": "f25d2796-cc30-40ce-bbd2-62837891d5f0",
   "metadata": {},
   "outputs": [
    {
     "name": "stderr",
     "output_type": "stream",
     "text": [
      "[*********************100%***********************]  10 of 10 completed\n",
      "[*********************100%***********************]  10 of 10 completed\n"
     ]
    },
    {
     "data": {
      "text/html": [
       "<div>\n",
       "<style scoped>\n",
       "    .dataframe tbody tr th:only-of-type {\n",
       "        vertical-align: middle;\n",
       "    }\n",
       "\n",
       "    .dataframe tbody tr th {\n",
       "        vertical-align: top;\n",
       "    }\n",
       "\n",
       "    .dataframe thead tr th {\n",
       "        text-align: left;\n",
       "    }\n",
       "\n",
       "    .dataframe thead tr:last-of-type th {\n",
       "        text-align: right;\n",
       "    }\n",
       "</style>\n",
       "<table border=\"1\" class=\"dataframe\">\n",
       "  <thead>\n",
       "    <tr>\n",
       "      <th>Price</th>\n",
       "      <th colspan=\"10\" halign=\"left\">Adj Close</th>\n",
       "      <th>...</th>\n",
       "      <th colspan=\"10\" halign=\"left\">Volume</th>\n",
       "    </tr>\n",
       "    <tr>\n",
       "      <th>Ticker</th>\n",
       "      <th>AGG</th>\n",
       "      <th>IEFA</th>\n",
       "      <th>IVV</th>\n",
       "      <th>QQQ</th>\n",
       "      <th>SPY</th>\n",
       "      <th>VEA</th>\n",
       "      <th>VOO</th>\n",
       "      <th>VTI</th>\n",
       "      <th>VTV</th>\n",
       "      <th>VUG</th>\n",
       "      <th>...</th>\n",
       "      <th>AGG</th>\n",
       "      <th>IEFA</th>\n",
       "      <th>IVV</th>\n",
       "      <th>QQQ</th>\n",
       "      <th>SPY</th>\n",
       "      <th>VEA</th>\n",
       "      <th>VOO</th>\n",
       "      <th>VTI</th>\n",
       "      <th>VTV</th>\n",
       "      <th>VUG</th>\n",
       "    </tr>\n",
       "    <tr>\n",
       "      <th>Date</th>\n",
       "      <th></th>\n",
       "      <th></th>\n",
       "      <th></th>\n",
       "      <th></th>\n",
       "      <th></th>\n",
       "      <th></th>\n",
       "      <th></th>\n",
       "      <th></th>\n",
       "      <th></th>\n",
       "      <th></th>\n",
       "      <th></th>\n",
       "      <th></th>\n",
       "      <th></th>\n",
       "      <th></th>\n",
       "      <th></th>\n",
       "      <th></th>\n",
       "      <th></th>\n",
       "      <th></th>\n",
       "      <th></th>\n",
       "      <th></th>\n",
       "      <th></th>\n",
       "    </tr>\n",
       "  </thead>\n",
       "  <tbody>\n",
       "    <tr>\n",
       "      <th>2020-01-02 00:00:00+00:00</th>\n",
       "      <td>99.801193</td>\n",
       "      <td>57.861580</td>\n",
       "      <td>302.929230</td>\n",
       "      <td>209.976089</td>\n",
       "      <td>302.208588</td>\n",
       "      <td>38.784161</td>\n",
       "      <td>276.999268</td>\n",
       "      <td>153.396149</td>\n",
       "      <td>106.480392</td>\n",
       "      <td>179.231506</td>\n",
       "      <td>...</td>\n",
       "      <td>6791400</td>\n",
       "      <td>10523100</td>\n",
       "      <td>4070500</td>\n",
       "      <td>30969400</td>\n",
       "      <td>59151200</td>\n",
       "      <td>8229000</td>\n",
       "      <td>3142400</td>\n",
       "      <td>3291100</td>\n",
       "      <td>1634700</td>\n",
       "      <td>1035800</td>\n",
       "    </tr>\n",
       "    <tr>\n",
       "      <th>2020-01-03 00:00:00+00:00</th>\n",
       "      <td>100.093468</td>\n",
       "      <td>57.141933</td>\n",
       "      <td>300.599152</td>\n",
       "      <td>208.052750</td>\n",
       "      <td>299.920258</td>\n",
       "      <td>38.312687</td>\n",
       "      <td>274.975677</td>\n",
       "      <td>152.419876</td>\n",
       "      <td>105.631660</td>\n",
       "      <td>177.999710</td>\n",
       "      <td>...</td>\n",
       "      <td>3664300</td>\n",
       "      <td>9663700</td>\n",
       "      <td>4290400</td>\n",
       "      <td>27518900</td>\n",
       "      <td>77709700</td>\n",
       "      <td>9697300</td>\n",
       "      <td>3247900</td>\n",
       "      <td>3625400</td>\n",
       "      <td>1401600</td>\n",
       "      <td>909800</td>\n",
       "    </tr>\n",
       "    <tr>\n",
       "      <th>2020-01-06 00:00:00+00:00</th>\n",
       "      <td>100.013748</td>\n",
       "      <td>57.343781</td>\n",
       "      <td>301.787415</td>\n",
       "      <td>209.393280</td>\n",
       "      <td>301.064453</td>\n",
       "      <td>38.443645</td>\n",
       "      <td>276.006012</td>\n",
       "      <td>152.940582</td>\n",
       "      <td>105.764275</td>\n",
       "      <td>179.144211</td>\n",
       "      <td>...</td>\n",
       "      <td>8131600</td>\n",
       "      <td>7468300</td>\n",
       "      <td>4212000</td>\n",
       "      <td>21655300</td>\n",
       "      <td>55653900</td>\n",
       "      <td>8579400</td>\n",
       "      <td>2777100</td>\n",
       "      <td>6813800</td>\n",
       "      <td>1546300</td>\n",
       "      <td>773700</td>\n",
       "    </tr>\n",
       "    <tr>\n",
       "      <th>2020-01-07 00:00:00+00:00</th>\n",
       "      <td>99.907486</td>\n",
       "      <td>57.212143</td>\n",
       "      <td>300.961182</td>\n",
       "      <td>209.364105</td>\n",
       "      <td>300.217926</td>\n",
       "      <td>38.382534</td>\n",
       "      <td>275.244843</td>\n",
       "      <td>152.577942</td>\n",
       "      <td>105.357574</td>\n",
       "      <td>179.086044</td>\n",
       "      <td>...</td>\n",
       "      <td>2883000</td>\n",
       "      <td>5815100</td>\n",
       "      <td>3632500</td>\n",
       "      <td>22139300</td>\n",
       "      <td>40496400</td>\n",
       "      <td>7884600</td>\n",
       "      <td>2251800</td>\n",
       "      <td>2498400</td>\n",
       "      <td>1422200</td>\n",
       "      <td>848800</td>\n",
       "    </tr>\n",
       "    <tr>\n",
       "      <th>2020-01-08 00:00:00+00:00</th>\n",
       "      <td>99.792328</td>\n",
       "      <td>57.343781</td>\n",
       "      <td>302.492920</td>\n",
       "      <td>210.937744</td>\n",
       "      <td>301.817963</td>\n",
       "      <td>38.434914</td>\n",
       "      <td>276.665039</td>\n",
       "      <td>153.331070</td>\n",
       "      <td>105.605125</td>\n",
       "      <td>180.492416</td>\n",
       "      <td>...</td>\n",
       "      <td>7323100</td>\n",
       "      <td>8249700</td>\n",
       "      <td>3912100</td>\n",
       "      <td>26397300</td>\n",
       "      <td>68296000</td>\n",
       "      <td>9948100</td>\n",
       "      <td>3719500</td>\n",
       "      <td>4244800</td>\n",
       "      <td>1401700</td>\n",
       "      <td>667200</td>\n",
       "    </tr>\n",
       "  </tbody>\n",
       "</table>\n",
       "<p>5 rows × 60 columns</p>\n",
       "</div>"
      ],
      "text/plain": [
       "Price                       Adj Close                                     \\\n",
       "Ticker                            AGG       IEFA         IVV         QQQ   \n",
       "Date                                                                       \n",
       "2020-01-02 00:00:00+00:00   99.801193  57.861580  302.929230  209.976089   \n",
       "2020-01-03 00:00:00+00:00  100.093468  57.141933  300.599152  208.052750   \n",
       "2020-01-06 00:00:00+00:00  100.013748  57.343781  301.787415  209.393280   \n",
       "2020-01-07 00:00:00+00:00   99.907486  57.212143  300.961182  209.364105   \n",
       "2020-01-08 00:00:00+00:00   99.792328  57.343781  302.492920  210.937744   \n",
       "\n",
       "Price                                                                     \\\n",
       "Ticker                            SPY        VEA         VOO         VTI   \n",
       "Date                                                                       \n",
       "2020-01-02 00:00:00+00:00  302.208588  38.784161  276.999268  153.396149   \n",
       "2020-01-03 00:00:00+00:00  299.920258  38.312687  274.975677  152.419876   \n",
       "2020-01-06 00:00:00+00:00  301.064453  38.443645  276.006012  152.940582   \n",
       "2020-01-07 00:00:00+00:00  300.217926  38.382534  275.244843  152.577942   \n",
       "2020-01-08 00:00:00+00:00  301.817963  38.434914  276.665039  153.331070   \n",
       "\n",
       "Price                                              ...   Volume            \\\n",
       "Ticker                            VTV         VUG  ...      AGG      IEFA   \n",
       "Date                                               ...                      \n",
       "2020-01-02 00:00:00+00:00  106.480392  179.231506  ...  6791400  10523100   \n",
       "2020-01-03 00:00:00+00:00  105.631660  177.999710  ...  3664300   9663700   \n",
       "2020-01-06 00:00:00+00:00  105.764275  179.144211  ...  8131600   7468300   \n",
       "2020-01-07 00:00:00+00:00  105.357574  179.086044  ...  2883000   5815100   \n",
       "2020-01-08 00:00:00+00:00  105.605125  180.492416  ...  7323100   8249700   \n",
       "\n",
       "Price                                                                     \\\n",
       "Ticker                         IVV       QQQ       SPY      VEA      VOO   \n",
       "Date                                                                       \n",
       "2020-01-02 00:00:00+00:00  4070500  30969400  59151200  8229000  3142400   \n",
       "2020-01-03 00:00:00+00:00  4290400  27518900  77709700  9697300  3247900   \n",
       "2020-01-06 00:00:00+00:00  4212000  21655300  55653900  8579400  2777100   \n",
       "2020-01-07 00:00:00+00:00  3632500  22139300  40496400  7884600  2251800   \n",
       "2020-01-08 00:00:00+00:00  3912100  26397300  68296000  9948100  3719500   \n",
       "\n",
       "Price                                                 \n",
       "Ticker                         VTI      VTV      VUG  \n",
       "Date                                                  \n",
       "2020-01-02 00:00:00+00:00  3291100  1634700  1035800  \n",
       "2020-01-03 00:00:00+00:00  3625400  1401600   909800  \n",
       "2020-01-06 00:00:00+00:00  6813800  1546300   773700  \n",
       "2020-01-07 00:00:00+00:00  2498400  1422200   848800  \n",
       "2020-01-08 00:00:00+00:00  4244800  1401700   667200  \n",
       "\n",
       "[5 rows x 60 columns]"
      ]
     },
     "execution_count": 6,
     "metadata": {},
     "output_type": "execute_result"
    }
   ],
   "source": [
    "import yfinance as yf\n",
    "\n",
    "tickers = [\"SPY\", \"IVV\", \"VOO\", \"VTI\", \"QQQ\", \"VEA\", \"VUG\", \"VTV\", \"IEFA\", \"AGG\"]\n",
    "\n",
    "df_train = yf.download(tickers, start=start, end=end_train)\n",
    "df_test = yf.download(tickers, start=end_train, end=end_test)\n",
    "df_train.head()"
   ]
  },
  {
   "cell_type": "code",
   "execution_count": 7,
   "id": "5c11c4cf-fdf8-40b8-8231-0a2eb7cdff0b",
   "metadata": {},
   "outputs": [
    {
     "data": {
      "text/plain": [
       "['F:\\\\cc_data\\\\models\\\\scaler.pkl']"
      ]
     },
     "execution_count": 7,
     "metadata": {},
     "output_type": "execute_result"
    }
   ],
   "source": [
    "import joblib\n",
    "from sklearn.preprocessing import MinMaxScaler, StandardScaler\n",
    "\n",
    "scaler = StandardScaler()\n",
    "\n",
    "scaled_train_data = scaler.fit_transform(df_train)\n",
    "scaled_test_data = scaler.transform(df_test)\n",
    "\n",
    "joblib.dump(scaler, model_dir / 'scaler.pkl')"
   ]
  },
  {
   "cell_type": "code",
   "execution_count": 8,
   "id": "679ea98a-15cd-4a90-997c-24fb19f629e5",
   "metadata": {},
   "outputs": [
    {
     "data": {
      "text/plain": [
       "((1067, 60), (129, 60))"
      ]
     },
     "execution_count": 8,
     "metadata": {},
     "output_type": "execute_result"
    }
   ],
   "source": [
    "df_train = pd.DataFrame(scaled_train_data, index=df_train.index, columns= df_train.columns)\n",
    "df_test = pd.DataFrame(scaled_test_data, index=df_test.index, columns= df_test.columns)\n",
    "df_train.shape, df_test.shape"
   ]
  },
  {
   "cell_type": "code",
   "execution_count": 9,
   "id": "527dee72-ee4e-46ed-808b-63db27047d16",
   "metadata": {},
   "outputs": [
    {
     "data": {
      "text/html": [
       "<div>\n",
       "<style scoped>\n",
       "    .dataframe tbody tr th:only-of-type {\n",
       "        vertical-align: middle;\n",
       "    }\n",
       "\n",
       "    .dataframe tbody tr th {\n",
       "        vertical-align: top;\n",
       "    }\n",
       "\n",
       "    .dataframe thead tr th {\n",
       "        text-align: left;\n",
       "    }\n",
       "\n",
       "    .dataframe thead tr:last-of-type th {\n",
       "        text-align: right;\n",
       "    }\n",
       "</style>\n",
       "<table border=\"1\" class=\"dataframe\">\n",
       "  <thead>\n",
       "    <tr>\n",
       "      <th>Price</th>\n",
       "      <th colspan=\"10\" halign=\"left\">Adj Close</th>\n",
       "      <th>...</th>\n",
       "      <th colspan=\"10\" halign=\"left\">Volume</th>\n",
       "    </tr>\n",
       "    <tr>\n",
       "      <th>Ticker</th>\n",
       "      <th>AGG</th>\n",
       "      <th>IEFA</th>\n",
       "      <th>IVV</th>\n",
       "      <th>QQQ</th>\n",
       "      <th>SPY</th>\n",
       "      <th>VEA</th>\n",
       "      <th>VOO</th>\n",
       "      <th>VTI</th>\n",
       "      <th>VTV</th>\n",
       "      <th>VUG</th>\n",
       "      <th>...</th>\n",
       "      <th>AGG</th>\n",
       "      <th>IEFA</th>\n",
       "      <th>IVV</th>\n",
       "      <th>QQQ</th>\n",
       "      <th>SPY</th>\n",
       "      <th>VEA</th>\n",
       "      <th>VOO</th>\n",
       "      <th>VTI</th>\n",
       "      <th>VTV</th>\n",
       "      <th>VUG</th>\n",
       "    </tr>\n",
       "    <tr>\n",
       "      <th>Date</th>\n",
       "      <th></th>\n",
       "      <th></th>\n",
       "      <th></th>\n",
       "      <th></th>\n",
       "      <th></th>\n",
       "      <th></th>\n",
       "      <th></th>\n",
       "      <th></th>\n",
       "      <th></th>\n",
       "      <th></th>\n",
       "      <th></th>\n",
       "      <th></th>\n",
       "      <th></th>\n",
       "      <th></th>\n",
       "      <th></th>\n",
       "      <th></th>\n",
       "      <th></th>\n",
       "      <th></th>\n",
       "      <th></th>\n",
       "      <th></th>\n",
       "      <th></th>\n",
       "    </tr>\n",
       "  </thead>\n",
       "  <tbody>\n",
       "    <tr>\n",
       "      <th>2020-01-02 00:00:00+00:00</th>\n",
       "      <td>0.078589</td>\n",
       "      <td>-0.502013</td>\n",
       "      <td>-1.434128</td>\n",
       "      <td>-1.821196</td>\n",
       "      <td>-1.435897</td>\n",
       "      <td>-0.616525</td>\n",
       "      <td>-1.435763</td>\n",
       "      <td>-1.441904</td>\n",
       "      <td>-0.947610</td>\n",
       "      <td>-1.711985</td>\n",
       "      <td>...</td>\n",
       "      <td>-0.165613</td>\n",
       "      <td>-0.031850</td>\n",
       "      <td>-0.403814</td>\n",
       "      <td>-0.940624</td>\n",
       "      <td>-0.658449</td>\n",
       "      <td>-0.603358</td>\n",
       "      <td>-0.624026</td>\n",
       "      <td>-0.329823</td>\n",
       "      <td>-0.882999</td>\n",
       "      <td>-0.051753</td>\n",
       "    </tr>\n",
       "    <tr>\n",
       "      <th>2020-01-03 00:00:00+00:00</th>\n",
       "      <td>0.127959</td>\n",
       "      <td>-0.605562</td>\n",
       "      <td>-1.473384</td>\n",
       "      <td>-1.854182</td>\n",
       "      <td>-1.474698</td>\n",
       "      <td>-0.714246</td>\n",
       "      <td>-1.473020</td>\n",
       "      <td>-1.475327</td>\n",
       "      <td>-0.994208</td>\n",
       "      <td>-1.740928</td>\n",
       "      <td>...</td>\n",
       "      <td>-1.218044</td>\n",
       "      <td>-0.165705</td>\n",
       "      <td>-0.323507</td>\n",
       "      <td>-1.093035</td>\n",
       "      <td>-0.219528</td>\n",
       "      <td>-0.431776</td>\n",
       "      <td>-0.583297</td>\n",
       "      <td>-0.173955</td>\n",
       "      <td>-1.077259</td>\n",
       "      <td>-0.282331</td>\n",
       "    </tr>\n",
       "    <tr>\n",
       "      <th>2020-01-06 00:00:00+00:00</th>\n",
       "      <td>0.114493</td>\n",
       "      <td>-0.576518</td>\n",
       "      <td>-1.453365</td>\n",
       "      <td>-1.831191</td>\n",
       "      <td>-1.455297</td>\n",
       "      <td>-0.687103</td>\n",
       "      <td>-1.454050</td>\n",
       "      <td>-1.457501</td>\n",
       "      <td>-0.986927</td>\n",
       "      <td>-1.714037</td>\n",
       "      <td>...</td>\n",
       "      <td>0.285435</td>\n",
       "      <td>-0.507647</td>\n",
       "      <td>-0.352139</td>\n",
       "      <td>-1.352033</td>\n",
       "      <td>-0.741162</td>\n",
       "      <td>-0.562411</td>\n",
       "      <td>-0.765055</td>\n",
       "      <td>1.312639</td>\n",
       "      <td>-0.956669</td>\n",
       "      <td>-0.531391</td>\n",
       "    </tr>\n",
       "    <tr>\n",
       "      <th>2020-01-07 00:00:00+00:00</th>\n",
       "      <td>0.096544</td>\n",
       "      <td>-0.595459</td>\n",
       "      <td>-1.467284</td>\n",
       "      <td>-1.831692</td>\n",
       "      <td>-1.469650</td>\n",
       "      <td>-0.699769</td>\n",
       "      <td>-1.468064</td>\n",
       "      <td>-1.469916</td>\n",
       "      <td>-1.009257</td>\n",
       "      <td>-1.715403</td>\n",
       "      <td>...</td>\n",
       "      <td>-1.480993</td>\n",
       "      <td>-0.765139</td>\n",
       "      <td>-0.563770</td>\n",
       "      <td>-1.330655</td>\n",
       "      <td>-1.099646</td>\n",
       "      <td>-0.643603</td>\n",
       "      <td>-0.967855</td>\n",
       "      <td>-0.699420</td>\n",
       "      <td>-1.060091</td>\n",
       "      <td>-0.393960</td>\n",
       "    </tr>\n",
       "    <tr>\n",
       "      <th>2020-01-08 00:00:00+00:00</th>\n",
       "      <td>0.077092</td>\n",
       "      <td>-0.576518</td>\n",
       "      <td>-1.441479</td>\n",
       "      <td>-1.804703</td>\n",
       "      <td>-1.442520</td>\n",
       "      <td>-0.688912</td>\n",
       "      <td>-1.441916</td>\n",
       "      <td>-1.444132</td>\n",
       "      <td>-0.995665</td>\n",
       "      <td>-1.682359</td>\n",
       "      <td>...</td>\n",
       "      <td>0.013332</td>\n",
       "      <td>-0.385941</td>\n",
       "      <td>-0.461661</td>\n",
       "      <td>-1.142576</td>\n",
       "      <td>-0.442168</td>\n",
       "      <td>-0.402468</td>\n",
       "      <td>-0.401229</td>\n",
       "      <td>0.114841</td>\n",
       "      <td>-1.077175</td>\n",
       "      <td>-0.726284</td>\n",
       "    </tr>\n",
       "  </tbody>\n",
       "</table>\n",
       "<p>5 rows × 60 columns</p>\n",
       "</div>"
      ],
      "text/plain": [
       "Price                     Adj Close                                          \\\n",
       "Ticker                          AGG      IEFA       IVV       QQQ       SPY   \n",
       "Date                                                                          \n",
       "2020-01-02 00:00:00+00:00  0.078589 -0.502013 -1.434128 -1.821196 -1.435897   \n",
       "2020-01-03 00:00:00+00:00  0.127959 -0.605562 -1.473384 -1.854182 -1.474698   \n",
       "2020-01-06 00:00:00+00:00  0.114493 -0.576518 -1.453365 -1.831191 -1.455297   \n",
       "2020-01-07 00:00:00+00:00  0.096544 -0.595459 -1.467284 -1.831692 -1.469650   \n",
       "2020-01-08 00:00:00+00:00  0.077092 -0.576518 -1.441479 -1.804703 -1.442520   \n",
       "\n",
       "Price                                                                        \\\n",
       "Ticker                          VEA       VOO       VTI       VTV       VUG   \n",
       "Date                                                                          \n",
       "2020-01-02 00:00:00+00:00 -0.616525 -1.435763 -1.441904 -0.947610 -1.711985   \n",
       "2020-01-03 00:00:00+00:00 -0.714246 -1.473020 -1.475327 -0.994208 -1.740928   \n",
       "2020-01-06 00:00:00+00:00 -0.687103 -1.454050 -1.457501 -0.986927 -1.714037   \n",
       "2020-01-07 00:00:00+00:00 -0.699769 -1.468064 -1.469916 -1.009257 -1.715403   \n",
       "2020-01-08 00:00:00+00:00 -0.688912 -1.441916 -1.444132 -0.995665 -1.682359   \n",
       "\n",
       "Price                      ...    Volume                                \\\n",
       "Ticker                     ...       AGG      IEFA       IVV       QQQ   \n",
       "Date                       ...                                           \n",
       "2020-01-02 00:00:00+00:00  ... -0.165613 -0.031850 -0.403814 -0.940624   \n",
       "2020-01-03 00:00:00+00:00  ... -1.218044 -0.165705 -0.323507 -1.093035   \n",
       "2020-01-06 00:00:00+00:00  ...  0.285435 -0.507647 -0.352139 -1.352033   \n",
       "2020-01-07 00:00:00+00:00  ... -1.480993 -0.765139 -0.563770 -1.330655   \n",
       "2020-01-08 00:00:00+00:00  ...  0.013332 -0.385941 -0.461661 -1.142576   \n",
       "\n",
       "Price                                                                        \\\n",
       "Ticker                          SPY       VEA       VOO       VTI       VTV   \n",
       "Date                                                                          \n",
       "2020-01-02 00:00:00+00:00 -0.658449 -0.603358 -0.624026 -0.329823 -0.882999   \n",
       "2020-01-03 00:00:00+00:00 -0.219528 -0.431776 -0.583297 -0.173955 -1.077259   \n",
       "2020-01-06 00:00:00+00:00 -0.741162 -0.562411 -0.765055  1.312639 -0.956669   \n",
       "2020-01-07 00:00:00+00:00 -1.099646 -0.643603 -0.967855 -0.699420 -1.060091   \n",
       "2020-01-08 00:00:00+00:00 -0.442168 -0.402468 -0.401229  0.114841 -1.077175   \n",
       "\n",
       "Price                                \n",
       "Ticker                          VUG  \n",
       "Date                                 \n",
       "2020-01-02 00:00:00+00:00 -0.051753  \n",
       "2020-01-03 00:00:00+00:00 -0.282331  \n",
       "2020-01-06 00:00:00+00:00 -0.531391  \n",
       "2020-01-07 00:00:00+00:00 -0.393960  \n",
       "2020-01-08 00:00:00+00:00 -0.726284  \n",
       "\n",
       "[5 rows x 60 columns]"
      ]
     },
     "execution_count": 9,
     "metadata": {},
     "output_type": "execute_result"
    }
   ],
   "source": [
    "df_train.head()"
   ]
  },
  {
   "cell_type": "code",
   "execution_count": null,
   "id": "35a4ca6b-c7bf-40b1-83b6-226932facd10",
   "metadata": {},
   "outputs": [],
   "source": []
  },
  {
   "cell_type": "markdown",
   "id": "d8ad607e-4aac-47e4-9702-77a6cd2693ef",
   "metadata": {},
   "source": [
    "* `1194` : trading days\n",
    "* (1194, 60) --> (1194, 10, 6, 15) \n",
    "* 1194 : num_samples,\n",
    "* 10 : etfs,\n",
    "* 6 : OHLC, Add CLose, Volume,\n",
    "* 15 : bicket size (days), for time being only 1"
   ]
  },
  {
   "cell_type": "code",
   "execution_count": null,
   "id": "88d80d1c-ba48-43a0-9a63-9c9d9fd2b3f0",
   "metadata": {},
   "outputs": [],
   "source": []
  },
  {
   "cell_type": "code",
   "execution_count": 10,
   "id": "f0845da4-002f-42ae-aacd-aba44284c6a6",
   "metadata": {},
   "outputs": [
    {
     "data": {
      "text/plain": [
       "(Timestamp('2020-01-02 00:00:00+0000', tz='UTC'),\n",
       " Timestamp('2024-03-28 00:00:00+0000', tz='UTC'))"
      ]
     },
     "execution_count": 10,
     "metadata": {},
     "output_type": "execute_result"
    }
   ],
   "source": [
    "df_train.index.min(), df_train.index.max()"
   ]
  },
  {
   "cell_type": "code",
   "execution_count": 11,
   "id": "5d0c675c-f9dd-4178-a027-a183e6335e03",
   "metadata": {},
   "outputs": [
    {
     "data": {
      "text/plain": [
       "(Timestamp('2024-04-01 00:00:00+0000', tz='UTC'),\n",
       " Timestamp('2024-10-02 00:00:00+0000', tz='UTC'))"
      ]
     },
     "execution_count": 11,
     "metadata": {},
     "output_type": "execute_result"
    }
   ],
   "source": [
    "df_test.index.min(), df_test.index.max()"
   ]
  },
  {
   "cell_type": "code",
   "execution_count": 12,
   "id": "4e7ae600-543f-4c86-9319-42893fa0214d",
   "metadata": {},
   "outputs": [],
   "source": [
    "# df.columns"
   ]
  },
  {
   "cell_type": "code",
   "execution_count": 13,
   "id": "9a679d45-4358-4de1-a4c4-2071d924aa11",
   "metadata": {},
   "outputs": [],
   "source": [
    "df_train.to_csv(data_dir / 'top10_etf_train.csv')\n",
    "df_test.to_csv(data_dir / 'top10_etf_test.csv')"
   ]
  },
  {
   "cell_type": "code",
   "execution_count": 14,
   "id": "138150d7-1c4b-4da2-a345-391760eb7ab6",
   "metadata": {},
   "outputs": [
    {
     "data": {
      "text/plain": [
       "(129, 60)"
      ]
     },
     "execution_count": 14,
     "metadata": {},
     "output_type": "execute_result"
    }
   ],
   "source": [
    "data_numpy_test = df_test.values\n",
    "data_numpy_test.shape"
   ]
  },
  {
   "cell_type": "code",
   "execution_count": 15,
   "id": "4dbee1bc-2e9c-4315-9ae3-1eb4b02da223",
   "metadata": {},
   "outputs": [
    {
     "data": {
      "text/plain": [
       "(1067, 60)"
      ]
     },
     "execution_count": 15,
     "metadata": {},
     "output_type": "execute_result"
    }
   ],
   "source": [
    "data_numpy = df_train.values\n",
    "data_numpy.shape"
   ]
  },
  {
   "cell_type": "code",
   "execution_count": 16,
   "id": "59a2426e-41c7-43a4-9096-b943404b2f37",
   "metadata": {},
   "outputs": [],
   "source": [
    "arrays = {}\n",
    "arrays_test = {}\n",
    "for level in df_train.columns.levels[1]:\n",
    "    arrays[level] = df_train.xs(level, axis=1, level=1).to_numpy()\n",
    "    arrays_test[level] = df_test.xs(level, axis=1, level=1).to_numpy()"
   ]
  },
  {
   "cell_type": "code",
   "execution_count": 17,
   "id": "0334be23-a238-4bd7-b0e9-1082be9ccb47",
   "metadata": {},
   "outputs": [
    {
     "data": {
      "text/plain": [
       "dict_keys(['AGG', 'IEFA', 'IVV', 'QQQ', 'SPY', 'VEA', 'VOO', 'VTI', 'VTV', 'VUG'])"
      ]
     },
     "execution_count": 17,
     "metadata": {},
     "output_type": "execute_result"
    }
   ],
   "source": [
    "arrays.keys()"
   ]
  },
  {
   "cell_type": "code",
   "execution_count": 18,
   "id": "395c99f6-9762-432f-b1ed-bbb1e8762f8a",
   "metadata": {},
   "outputs": [
    {
     "data": {
      "text/plain": [
       "(1067, 6)"
      ]
     },
     "execution_count": 18,
     "metadata": {},
     "output_type": "execute_result"
    }
   ],
   "source": [
    "arrays['AGG'].shape"
   ]
  },
  {
   "cell_type": "code",
   "execution_count": null,
   "id": "61bae5a9-37b1-4c72-b646-9324ea6f36b9",
   "metadata": {},
   "outputs": [],
   "source": []
  },
  {
   "cell_type": "markdown",
   "id": "1baf57e4-9e4c-440a-b4ac-92eb0fd0dcca",
   "metadata": {},
   "source": [
    "# Tabular data --> Temporal Graph data"
   ]
  },
  {
   "cell_type": "code",
   "execution_count": 19,
   "id": "a09e07be-663f-4089-a15b-139f65bd7bb4",
   "metadata": {},
   "outputs": [],
   "source": [
    "num_timesteps_in = 15\n",
    "num_timesteps_out = 5"
   ]
  },
  {
   "cell_type": "code",
   "execution_count": 20,
   "id": "6c28749a-7998-48e3-be51-a6a62d9cee0d",
   "metadata": {},
   "outputs": [
    {
     "data": {
      "text/plain": [
       "1048"
      ]
     },
     "execution_count": 20,
     "metadata": {},
     "output_type": "execute_result"
    }
   ],
   "source": [
    "indices = [(i, i + num_timesteps_in + num_timesteps_out) for i in range(data_numpy.shape[0] - num_timesteps_in - num_timesteps_out + 1)]\n",
    "len(indices)"
   ]
  },
  {
   "cell_type": "code",
   "execution_count": 21,
   "id": "db594012-34bf-427f-a5fe-090f7c2a7233",
   "metadata": {},
   "outputs": [
    {
     "data": {
      "text/plain": [
       "[(0, 20), (1, 21), (2, 22), (3, 23), (4, 24)]"
      ]
     },
     "execution_count": 21,
     "metadata": {},
     "output_type": "execute_result"
    }
   ],
   "source": [
    "indices[:5]"
   ]
  },
  {
   "cell_type": "code",
   "execution_count": 22,
   "id": "0c3f16b7-7fd1-4c29-a7fe-eb40f053a99c",
   "metadata": {},
   "outputs": [
    {
     "data": {
      "text/plain": [
       "[(1043, 1063), (1044, 1064), (1045, 1065), (1046, 1066), (1047, 1067)]"
      ]
     },
     "execution_count": 22,
     "metadata": {},
     "output_type": "execute_result"
    }
   ],
   "source": [
    "indices[-5:]"
   ]
  },
  {
   "cell_type": "code",
   "execution_count": null,
   "id": "c96a89d2-9737-470b-94dc-8195d6598cda",
   "metadata": {},
   "outputs": [],
   "source": []
  },
  {
   "cell_type": "code",
   "execution_count": 23,
   "id": "29b52222-77af-4146-a031-3dfd94295441",
   "metadata": {},
   "outputs": [
    {
     "data": {
      "text/plain": [
       "((1048, 10, 15), (1048, 10, 5))"
      ]
     },
     "execution_count": 23,
     "metadata": {},
     "output_type": "execute_result"
    }
   ],
   "source": [
    "features = []\n",
    "targets = []\n",
    "for i, j in indices:\n",
    "    \n",
    "    features_bucket_list = []\n",
    "    target_bucket_list = []\n",
    "    \n",
    "    for etf in arrays.keys():\n",
    "        features_bucket_list.append(arrays[etf][i : i+num_timesteps_in, 0].T)\n",
    "        target_bucket_list.append(arrays[etf][i+num_timesteps_in : j, 0].T)\n",
    "    \n",
    "    features_array_stack = np.stack(features_bucket_list, axis=0)\n",
    "    target_array_stack = np.stack(target_bucket_list, axis=0)\n",
    "    \n",
    "    features.append(features_array_stack)\n",
    "    targets.append(target_array_stack)\n",
    "\n",
    "train_input = np.stack(features, axis=0)\n",
    "train_target = np.stack(targets, axis=0)\n",
    "\n",
    "train_input.shape, train_target.shape"
   ]
  },
  {
   "cell_type": "code",
   "execution_count": null,
   "id": "7bb54672-7caa-449c-af06-13476a9efabb",
   "metadata": {},
   "outputs": [],
   "source": []
  },
  {
   "cell_type": "code",
   "execution_count": 24,
   "id": "8a54df9e-e2cd-46fc-aed3-b4308fa8ef04",
   "metadata": {},
   "outputs": [
    {
     "data": {
      "text/plain": [
       "110"
      ]
     },
     "execution_count": 24,
     "metadata": {},
     "output_type": "execute_result"
    }
   ],
   "source": [
    "indices = [(i, i + num_timesteps_in + num_timesteps_out) for i in range(data_numpy_test.shape[0] - num_timesteps_in - num_timesteps_out + 1)]\n",
    "len(indices)"
   ]
  },
  {
   "cell_type": "code",
   "execution_count": 25,
   "id": "dd3fc02c-20e1-4180-b08f-ba897bdc3363",
   "metadata": {},
   "outputs": [
    {
     "data": {
      "text/plain": [
       "[(0, 20), (1, 21), (2, 22), (3, 23), (4, 24)]"
      ]
     },
     "execution_count": 25,
     "metadata": {},
     "output_type": "execute_result"
    }
   ],
   "source": [
    "indices[:5]"
   ]
  },
  {
   "cell_type": "code",
   "execution_count": 26,
   "id": "6c1fbfba-83c2-4616-9376-706d9ee0e336",
   "metadata": {},
   "outputs": [
    {
     "data": {
      "text/plain": [
       "[(105, 125), (106, 126), (107, 127), (108, 128), (109, 129)]"
      ]
     },
     "execution_count": 26,
     "metadata": {},
     "output_type": "execute_result"
    }
   ],
   "source": [
    "indices[-5:]"
   ]
  },
  {
   "cell_type": "code",
   "execution_count": 27,
   "id": "762ec60a-c004-4330-a079-91e3873a1135",
   "metadata": {},
   "outputs": [
    {
     "data": {
      "text/plain": [
       "((110, 10, 15), (110, 10, 5))"
      ]
     },
     "execution_count": 27,
     "metadata": {},
     "output_type": "execute_result"
    }
   ],
   "source": [
    "features = []\n",
    "targets = []\n",
    "for i, j in indices:\n",
    "    \n",
    "    features_bucket_list = []\n",
    "    target_bucket_list = []\n",
    "    \n",
    "    for etf in arrays_test.keys():\n",
    "        features_bucket_list.append(arrays_test[etf][i : i+num_timesteps_in, 0].T)\n",
    "        target_bucket_list.append(arrays_test[etf][i+num_timesteps_in : j, 0].T)\n",
    "    \n",
    "    features_array_stack = np.stack(features_bucket_list, axis=0)\n",
    "    target_array_stack = np.stack(target_bucket_list, axis=0)\n",
    "    \n",
    "    features.append(features_array_stack)\n",
    "    targets.append(target_array_stack)\n",
    "\n",
    "test_input = np.stack(features, axis=0)\n",
    "test_target = np.stack(targets, axis=0)\n",
    "\n",
    "test_input.shape, test_target.shape"
   ]
  },
  {
   "cell_type": "code",
   "execution_count": null,
   "id": "3a3276de-aebd-4016-a991-25baf1978e55",
   "metadata": {},
   "outputs": [],
   "source": []
  },
  {
   "cell_type": "code",
   "execution_count": null,
   "id": "d8a1203f-5527-44bb-a304-ee36ae6f37c4",
   "metadata": {},
   "outputs": [],
   "source": []
  },
  {
   "cell_type": "code",
   "execution_count": 28,
   "id": "122a1b37-1303-4acf-b6f8-80b13cf51901",
   "metadata": {},
   "outputs": [
    {
     "data": {
      "text/plain": [
       "110"
      ]
     },
     "execution_count": 28,
     "metadata": {},
     "output_type": "execute_result"
    }
   ],
   "source": [
    "len(targets)"
   ]
  },
  {
   "cell_type": "code",
   "execution_count": 29,
   "id": "3bb81472-727c-4117-b0b9-31c3250176c8",
   "metadata": {},
   "outputs": [
    {
     "data": {
      "text/plain": [
       "((1048, 10, 15), (1048, 10, 5))"
      ]
     },
     "execution_count": 29,
     "metadata": {},
     "output_type": "execute_result"
    }
   ],
   "source": [
    "train_input.shape, train_target.shape"
   ]
  },
  {
   "cell_type": "code",
   "execution_count": 30,
   "id": "fc05ec13-c988-4011-aa1f-04bbf126152c",
   "metadata": {},
   "outputs": [
    {
     "data": {
      "text/plain": [
       "((10, 15), (10, 5))"
      ]
     },
     "execution_count": 30,
     "metadata": {},
     "output_type": "execute_result"
    }
   ],
   "source": [
    "features_array_stack.shape, target_array_stack.shape"
   ]
  },
  {
   "cell_type": "code",
   "execution_count": 31,
   "id": "208d9d96-aa83-4afc-b15b-b879648f5ad5",
   "metadata": {},
   "outputs": [
    {
     "data": {
      "text/plain": [
       "(10, 10)"
      ]
     },
     "execution_count": 31,
     "metadata": {},
     "output_type": "execute_result"
    }
   ],
   "source": [
    "len(features_bucket_list), len(target_bucket_list)"
   ]
  },
  {
   "cell_type": "code",
   "execution_count": 32,
   "id": "fc1a891b-7584-45d2-9f68-ba68e237b8c3",
   "metadata": {},
   "outputs": [
    {
     "data": {
      "text/plain": [
       "((15,), (5,))"
      ]
     },
     "execution_count": 32,
     "metadata": {},
     "output_type": "execute_result"
    }
   ],
   "source": [
    "features_bucket_list[0].shape, target_bucket_list[0].shape"
   ]
  },
  {
   "cell_type": "code",
   "execution_count": null,
   "id": "892a4574-43a3-4862-9d87-97adb4322180",
   "metadata": {},
   "outputs": [],
   "source": []
  },
  {
   "cell_type": "markdown",
   "id": "9c630c5e-21e0-45c9-b278-cee1a23d7f2e",
   "metadata": {},
   "source": [
    "# DataLoaders"
   ]
  },
  {
   "cell_type": "code",
   "execution_count": 33,
   "id": "3a88f601-9c52-497a-9272-7c386858efe3",
   "metadata": {},
   "outputs": [],
   "source": [
    "# train_input = np.array(train_dataset.features) # (27399, 207, 2, 12) --> (, 10, 6, 15)\n",
    "# train_target = np.array(train_dataset.targets) # (27399, 207, 12) --> (, 10, 15)\n",
    "train_x_tensor = torch.from_numpy(train_input).type(torch.FloatTensor).to(DEVICE)  # (B, N, F, T)\n",
    "train_target_tensor = torch.from_numpy(train_target).type(torch.FloatTensor).to(DEVICE)  # (B, N, T)\n",
    "train_dataset_new = torch.utils.data.TensorDataset(train_x_tensor, train_target_tensor)\n",
    "train_loader = torch.utils.data.DataLoader(train_dataset_new, batch_size=batch_size, shuffle=shuffle,drop_last=True)"
   ]
  },
  {
   "cell_type": "code",
   "execution_count": 34,
   "id": "5c9f16a7-0051-4c7f-8bad-4e7d89b5e882",
   "metadata": {},
   "outputs": [],
   "source": [
    "test_x_tensor = torch.from_numpy(test_input).type(torch.FloatTensor).to(DEVICE)  # (B, N, F, T)\n",
    "test_target_tensor = torch.from_numpy(test_target).type(torch.FloatTensor).to(DEVICE)  # (B, N, T)\n",
    "test_dataset_new = torch.utils.data.TensorDataset(test_x_tensor, test_target_tensor)\n",
    "test_loader = torch.utils.data.DataLoader(test_dataset_new, batch_size=batch_size, shuffle=shuffle,drop_last=True)"
   ]
  },
  {
   "cell_type": "markdown",
   "id": "f4a2cb40-c85a-4fc1-ab40-c1692001fd57",
   "metadata": {},
   "source": [
    "# Training"
   ]
  },
  {
   "cell_type": "code",
   "execution_count": 35,
   "id": "50f902eb-86f3-4d72-8435-e20f6ee0ce3c",
   "metadata": {},
   "outputs": [
    {
     "data": {
      "text/plain": [
       "(1048, 10, 15)"
      ]
     },
     "execution_count": 35,
     "metadata": {},
     "output_type": "execute_result"
    }
   ],
   "source": [
    "train_input.shape"
   ]
  },
  {
   "cell_type": "code",
   "execution_count": null,
   "id": "06237619-c036-49ec-aa41-c48d3a2ace1f",
   "metadata": {},
   "outputs": [],
   "source": []
  },
  {
   "cell_type": "code",
   "execution_count": 36,
   "id": "b0242383-550f-43d4-a4d0-c0836cac30bb",
   "metadata": {},
   "outputs": [],
   "source": [
    "num_nodes = 10"
   ]
  },
  {
   "cell_type": "code",
   "execution_count": 37,
   "id": "d49515a1-61fc-4579-b4af-1aaea00d9939",
   "metadata": {},
   "outputs": [
    {
     "data": {
      "text/plain": [
       "torch.Size([2, 100])"
      ]
     },
     "execution_count": 37,
     "metadata": {},
     "output_type": "execute_result"
    }
   ],
   "source": [
    "edge_index = torch.tensor([(i, j) for i in range(num_nodes) for j in range(num_nodes)], dtype=torch.long).t().contiguous()\n",
    "edge_index.shape"
   ]
  },
  {
   "cell_type": "code",
   "execution_count": 38,
   "id": "fc4a60e6-47cb-4679-bd60-9b12a8a73c9a",
   "metadata": {},
   "outputs": [
    {
     "data": {
      "text/plain": [
       "(100,)"
      ]
     },
     "execution_count": 38,
     "metadata": {},
     "output_type": "execute_result"
    }
   ],
   "source": [
    "edge_attr = np.ones(edge_index.shape[1])\n",
    "edge_attr.shape"
   ]
  },
  {
   "cell_type": "code",
   "execution_count": 39,
   "id": "2134aae8-e48e-48fb-a921-c0815efb4e21",
   "metadata": {},
   "outputs": [],
   "source": [
    "from torch_geometric_temporal.signal import StaticGraphTemporalSignal\n",
    "\n",
    "# Create a StaticGraphTemporalSignal object\n",
    "# dataset = StaticGraphTemporalSignal(edge_index=edge_index, edge_weight=None, features=[train_input], targets=[train_target])\n",
    "# dataset_test = StaticGraphTemporalSignal(edge_index=edge_index, edge_weight=None, features=[test_input], targets=[test_target])\n",
    "\n",
    "dataset = StaticGraphTemporalSignal(edge_index, edge_attr, train_input, train_target)\n",
    "dataset_test = StaticGraphTemporalSignal(edge_index, edge_attr, test_input, test_target)"
   ]
  },
  {
   "cell_type": "code",
   "execution_count": null,
   "id": "4d061a8c-14b1-4037-a3af-d3b8a86177df",
   "metadata": {},
   "outputs": [],
   "source": []
  },
  {
   "cell_type": "code",
   "execution_count": 40,
   "id": "2a21a2d0-464b-4b6c-8fdf-c41e7a81bdb6",
   "metadata": {},
   "outputs": [],
   "source": [
    "def mean_absolute_error(y_true, y_pred):\n",
    "    return torch.mean(torch.abs(y_true - y_pred))\n",
    "\n",
    "def mean_absolute_percentage_error(y_true, y_pred):\n",
    "    return torch.mean(torch.abs((y_true - y_pred) / y_true)) * 100"
   ]
  },
  {
   "cell_type": "markdown",
   "id": "05f9aa41-1be9-4eba-b9ad-4f5731c570d6",
   "metadata": {},
   "source": [
    "## DCRNN"
   ]
  },
  {
   "cell_type": "code",
   "execution_count": null,
   "id": "a062299b-efdd-4497-801f-815656406b95",
   "metadata": {},
   "outputs": [],
   "source": []
  },
  {
   "cell_type": "code",
   "execution_count": 41,
   "id": "d0ac2773-9640-4176-9d3b-9dd5a68e0694",
   "metadata": {},
   "outputs": [],
   "source": [
    "import torch\n",
    "import torch.nn.functional as F\n",
    "from torch_geometric_temporal.nn.recurrent import DCRNN\n",
    "\n",
    "class DCRNNModel(torch.nn.Module):\n",
    "    def __init__(self, node_features, output_len):\n",
    "        super(DCRNNModel, self).__init__()\n",
    "        self.dcrnn = DCRNN(node_features, 32, 1)\n",
    "        self.linear = torch.nn.Linear(32, output_len)\n",
    "\n",
    "    def forward(self, x, edge_index, edge_weight):\n",
    "        h = self.dcrnn(x, edge_index, edge_weight)\n",
    "        h = F.relu(h)\n",
    "        h = self.linear(h)\n",
    "        return h"
   ]
  },
  {
   "cell_type": "code",
   "execution_count": 42,
   "id": "e9bf2c3d-e848-442c-9b24-3db5161b051d",
   "metadata": {},
   "outputs": [],
   "source": [
    "def evaluate_model(model, val_loader):\n",
    "    loss = 0\n",
    "    step = 0\n",
    "    val_mape, val_mae = [], []\n",
    "    \n",
    "    model.eval()\n",
    "    with torch.no_grad():\n",
    "        for snapshot in val_loader:\n",
    "            # snapshot = snapshot.to(device)\n",
    "            y_hat = model(snapshot.x, snapshot.edge_index, snapshot.edge_attr)\n",
    "            loss = loss + torch.mean(torch.abs(y_hat-snapshot.y)) \n",
    "            val_mape.append(mean_absolute_percentage_error(snapshot.y, y_hat))\n",
    "            val_mae.append(mean_absolute_error(snapshot.y, y_hat))\n",
    "            step += 1\n",
    "        loss = loss / (step + 1)\n",
    "    \n",
    "    # print(\"Val MAE: {:.4f}\".format(loss.item()))\n",
    "    return loss, val_mape, val_mae"
   ]
  },
  {
   "cell_type": "code",
   "execution_count": 43,
   "id": "95c18238-20bd-46c4-b6ae-dbf9b32164b2",
   "metadata": {},
   "outputs": [],
   "source": [
    "for snapshot in dataset:\n",
    "    static_edge_index = snapshot.edge_index.to(DEVICE)\n",
    "    break;"
   ]
  },
  {
   "cell_type": "code",
   "execution_count": 44,
   "id": "ba33ebaa-47d3-4dd0-bf06-551a27ae4b5b",
   "metadata": {},
   "outputs": [],
   "source": [
    "for snapshot in dataset:\n",
    "    static_edge_index = snapshot.edge_index.to(DEVICE)\n",
    "    break;"
   ]
  },
  {
   "cell_type": "code",
   "execution_count": 45,
   "id": "0b73111f-9a43-43a5-ba4d-4bb6dce1db5b",
   "metadata": {},
   "outputs": [
    {
     "data": {
      "text/plain": [
       "Data(x=[10, 15], edge_index=[2, 100], edge_attr=[100], y=[10, 5])"
      ]
     },
     "execution_count": 45,
     "metadata": {},
     "output_type": "execute_result"
    }
   ],
   "source": [
    "next(iter(dataset))\n"
   ]
  },
  {
   "cell_type": "code",
   "execution_count": 46,
   "id": "e23ccfeb-fd09-4c8d-8649-0dcec5bcc841",
   "metadata": {},
   "outputs": [
    {
     "name": "stdout",
     "output_type": "stream",
     "text": [
      "<class 'list'>\n",
      "2\n",
      "torch.Size([32, 10, 15]) torch.Size([32, 10, 5])\n"
     ]
    }
   ],
   "source": [
    "for time, snapshot in enumerate(train_loader):\n",
    "    print(type(snapshot))\n",
    "    print(len(snapshot))\n",
    "    print(snapshot[0].shape, snapshot[1].shape)\n",
    "    break\n",
    "        \n",
    "        # # snapshot = snapshot.to(device)\n",
    "        # y_hat = dcrnn_model(snapshot.x, snapshot.edge_index, snapshot.edge_attr)\n",
    "        # loss = loss + torch.mean(torch.abs(y_hat-snapshot.y))"
   ]
  },
  {
   "cell_type": "code",
   "execution_count": 47,
   "id": "7bd5a93e-0e3e-4b0d-90d2-8f8a5923c5da",
   "metadata": {},
   "outputs": [
    {
     "name": "stdout",
     "output_type": "stream",
     "text": [
      "Epoch 0                 train RMSE: 8.1546E-01,                 MAE: 8.1546E-01,                 MAPE: 165.84%\n",
      "\t \t Val RMSE: 1.9365E+00,                 MAE: 1.9541E+00,                 MAPE: 93.30%\n",
      "\t \t Best model saved with validation loss: 1.9365\n",
      "\t \t Best model saved with validation loss: 1.6894\n",
      "\t \t Best model saved with validation loss: 1.4707\n",
      "\t \t Best model saved with validation loss: 1.2756\n",
      "\t \t Best model saved with validation loss: 1.0982\n",
      "\t \t Best model saved with validation loss: 0.9527\n",
      "\t \t Best model saved with validation loss: 0.8520\n",
      "\t \t Best model saved with validation loss: 0.8155\n",
      "Epoch 10                 train RMSE: 4.5148E-01,                 MAE: 4.5148E-01,                 MAPE: 176.65%\n",
      "\t \t Val RMSE: 1.1606E+00,                 MAE: 9.6897E-01,                 MAPE: 58.81%\n",
      "Epoch 20                 train RMSE: 3.7077E-01,                 MAE: 3.7077E-01,                 MAPE: 180.27%\n",
      "\t \t Val RMSE: 1.1632E+00,                 MAE: 1.0812E+00,                 MAPE: 52.28%\n",
      "Epoch 30                 train RMSE: 3.2070E-01,                 MAE: 3.2070E-01,                 MAPE: 164.47%\n",
      "\t \t Val RMSE: 1.1027E+00,                 MAE: 9.5126E-01,                 MAPE: 43.43%\n",
      "\t \t Best model saved with validation loss: 0.8092\n",
      "\t \t Best model saved with validation loss: 0.7941\n",
      "\t \t Best model saved with validation loss: 0.7674\n",
      "\t \t Best model saved with validation loss: 0.7345\n",
      "Epoch 40                 train RMSE: 2.8185E-01,                 MAE: 2.8185E-01,                 MAPE: 146.25%\n",
      "\t \t Val RMSE: 1.0321E+00,                 MAE: 7.1509E-01,                 MAPE: 32.15%\n",
      "\t \t Best model saved with validation loss: 0.7087\n",
      "\t \t Best model saved with validation loss: 0.6983\n",
      "\t \t Best model saved with validation loss: 0.6968\n",
      "\t \t Best model saved with validation loss: 0.6771\n",
      "\t \t Best model saved with validation loss: 0.6392\n",
      "\t \t Best model saved with validation loss: 0.6141\n",
      "\t \t Best model saved with validation loss: 0.6117\n",
      "\t \t Best model saved with validation loss: 0.6104\n",
      "\t \t Best model saved with validation loss: 0.5866\n",
      "\t \t Best model saved with validation loss: 0.5650\n",
      "Epoch 50                 train RMSE: 2.5297E-01,                 MAE: 2.5297E-01,                 MAPE: 131.75%\n",
      "\t \t Val RMSE: 9.5245E-01,                 MAE: 5.6525E-01,                 MAPE: 26.11%\n",
      "\t \t Best model saved with validation loss: 0.5602\n",
      "\t \t Best model saved with validation loss: 0.5579\n",
      "\t \t Best model saved with validation loss: 0.5328\n",
      "\t \t Best model saved with validation loss: 0.5089\n",
      "\t \t Best model saved with validation loss: 0.5071\n",
      "\t \t Best model saved with validation loss: 0.4931\n",
      "\t \t Best model saved with validation loss: 0.4845\n",
      "\t \t Best model saved with validation loss: 0.4834\n",
      "Epoch 60                 train RMSE: 2.3196E-01,                 MAE: 2.3196E-01,                 MAPE: 121.87%\n",
      "\t \t Val RMSE: 8.7881E-01,                 MAE: 4.6892E-01,                 MAPE: 22.20%\n",
      "\t \t Best model saved with validation loss: 0.4647\n",
      "\t \t Best model saved with validation loss: 0.4522\n",
      "\t \t Best model saved with validation loss: 0.4472\n",
      "\t \t Best model saved with validation loss: 0.4431\n",
      "\t \t Best model saved with validation loss: 0.4342\n",
      "\t \t Best model saved with validation loss: 0.4317\n",
      "Epoch 70                 train RMSE: 2.1553E-01,                 MAE: 2.1553E-01,                 MAPE: 115.06%\n",
      "\t \t Val RMSE: 8.1766E-01,                 MAE: 4.2424E-01,                 MAPE: 20.34%\n",
      "\t \t Best model saved with validation loss: 0.4204\n",
      "\t \t Best model saved with validation loss: 0.4180\n",
      "\t \t Best model saved with validation loss: 0.4137\n",
      "\t \t Best model saved with validation loss: 0.4008\n",
      "\t \t Best model saved with validation loss: 0.3983\n",
      "\t \t Best model saved with validation loss: 0.3942\n",
      "\t \t Best model saved with validation loss: 0.3832\n",
      "\t \t Best model saved with validation loss: 0.3730\n",
      "Epoch 80                 train RMSE: 2.0249E-01,                 MAE: 2.0249E-01,                 MAPE: 109.93%\n",
      "\t \t Val RMSE: 7.6489E-01,                 MAE: 3.6512E-01,                 MAPE: 18.10%\n",
      "\t \t Best model saved with validation loss: 0.3618\n",
      "\t \t Best model saved with validation loss: 0.3589\n",
      "\t \t Best model saved with validation loss: 0.3525\n",
      "\t \t Best model saved with validation loss: 0.3465\n",
      "\t \t Best model saved with validation loss: 0.3444\n",
      "\t \t Best model saved with validation loss: 0.3359\n",
      "\t \t Best model saved with validation loss: 0.3212\n",
      "\t \t Best model saved with validation loss: 0.2849\n",
      "Epoch 90                 train RMSE: 1.9207E-01,                 MAE: 1.9207E-01,                 MAPE: 105.85%\n",
      "\t \t Val RMSE: 7.1844E-01,                 MAE: 3.9135E-01,                 MAPE: 19.46%\n",
      "\t \t Best model saved with validation loss: 0.2787\n",
      "\t \t Best model saved with validation loss: 0.2728\n",
      "Epoch 100                 train RMSE: 1.8388E-01,                 MAE: 1.8388E-01,                 MAPE: 102.62%\n",
      "\t \t Val RMSE: 6.7821E-01,                 MAE: 2.8777E-01,                 MAPE: 15.08%\n",
      "\t \t Best model saved with validation loss: 0.2668\n",
      "Epoch 110                 train RMSE: 1.7694E-01,                 MAE: 1.7694E-01,                 MAPE: 99.93%\n",
      "\t \t Val RMSE: 6.4357E-01,                 MAE: 2.6235E-01,                 MAPE: 14.12%\n",
      "\t \t Best model saved with validation loss: 0.2600\n",
      "\t \t Best model saved with validation loss: 0.2561\n",
      "\t \t Best model saved with validation loss: 0.2540\n",
      "Epoch 120                 train RMSE: 1.7094E-01,                 MAE: 1.7094E-01,                 MAPE: 97.69%\n",
      "\t \t Val RMSE: 6.1298E-01,                 MAE: 2.7969E-01,                 MAPE: 14.92%\n",
      "\t \t Best model saved with validation loss: 0.2500\n",
      "\t \t Best model saved with validation loss: 0.2464\n",
      "\t \t Best model saved with validation loss: 0.2426\n",
      "Epoch 130                 train RMSE: 1.6573E-01,                 MAE: 1.6573E-01,                 MAPE: 95.82%\n",
      "\t \t Val RMSE: 5.8579E-01,                 MAE: 2.5661E-01,                 MAPE: 14.04%\n",
      "\t \t Best model saved with validation loss: 0.2407\n",
      "\t \t Best model saved with validation loss: 0.2310\n",
      "\t \t Best model saved with validation loss: 0.2250\n",
      "\t \t Best model saved with validation loss: 0.2214\n",
      "Epoch 140                 train RMSE: 1.6123E-01,                 MAE: 1.6123E-01,                 MAPE: 94.23%\n",
      "\t \t Val RMSE: 5.6127E-01,                 MAE: 2.2238E-01,                 MAPE: 12.80%\n",
      "\t \t Best model saved with validation loss: 0.2204\n",
      "\t \t Best model saved with validation loss: 0.2177\n",
      "\t \t Best model saved with validation loss: 0.2136\n",
      "\t \t Best model saved with validation loss: 0.2116\n",
      "Epoch 150                 train RMSE: 1.5732E-01,                 MAE: 1.5732E-01,                 MAPE: 92.87%\n",
      "\t \t Val RMSE: 5.3939E-01,                 MAE: 2.1513E-01,                 MAPE: 12.50%\n",
      "\t \t Best model saved with validation loss: 0.2108\n",
      "\t \t Best model saved with validation loss: 0.2053\n",
      "\t \t Best model saved with validation loss: 0.1991\n",
      "Epoch 160                 train RMSE: 1.5388E-01,                 MAE: 1.5388E-01,                 MAPE: 91.67%\n",
      "\t \t Val RMSE: 5.1971E-01,                 MAE: 2.0687E-01,                 MAPE: 12.16%\n",
      "\t \t Best model saved with validation loss: 0.1970\n",
      "Epoch 170                 train RMSE: 1.5079E-01,                 MAE: 1.5079E-01,                 MAPE: 90.59%\n",
      "\t \t Val RMSE: 5.0174E-01,                 MAE: 1.8506E-01,                 MAPE: 11.46%\n",
      "\t \t Best model saved with validation loss: 0.1834\n",
      "\t \t Best model saved with validation loss: 0.1787\n",
      "Epoch 180                 train RMSE: 1.4809E-01,                 MAE: 1.4809E-01,                 MAPE: 89.65%\n",
      "\t \t Val RMSE: 4.8577E-01,                 MAE: 2.2853E-01,                 MAPE: 13.06%\n",
      "Epoch 190                 train RMSE: 1.4559E-01,                 MAE: 1.4559E-01,                 MAPE: 88.79%\n",
      "\t \t Val RMSE: 4.7098E-01,                 MAE: 2.1222E-01,                 MAPE: 12.45%\n",
      "\t \t Best model saved with validation loss: 0.1755\n",
      "Epoch 200                 train RMSE: 1.4333E-01,                 MAE: 1.4333E-01,                 MAPE: 88.01%\n",
      "\t \t Val RMSE: 4.5728E-01,                 MAE: 1.8390E-01,                 MAPE: 11.37%\n",
      "\t \t Best model saved with validation loss: 0.1723\n",
      "\t \t Best model saved with validation loss: 0.1685\n",
      "Epoch 210                 train RMSE: 1.4127E-01,                 MAE: 1.4127E-01,                 MAPE: 87.31%\n",
      "\t \t Val RMSE: 4.4481E-01,                 MAE: 1.9978E-01,                 MAPE: 12.00%\n",
      "\t \t Best model saved with validation loss: 0.1663\n",
      "Epoch 220                 train RMSE: 1.3940E-01,                 MAE: 1.3940E-01,                 MAPE: 86.66%\n",
      "\t \t Val RMSE: 4.3325E-01,                 MAE: 1.8730E-01,                 MAPE: 11.49%\n",
      "\t \t Best model saved with validation loss: 0.1648\n",
      "\t \t Best model saved with validation loss: 0.1614\n",
      "Epoch 230                 train RMSE: 1.3769E-01,                 MAE: 1.3769E-01,                 MAPE: 86.07%\n",
      "\t \t Val RMSE: 4.2263E-01,                 MAE: 1.8770E-01,                 MAPE: 11.54%\n",
      "\t \t Best model saved with validation loss: 0.1603\n",
      "Epoch 240                 train RMSE: 1.3611E-01,                 MAE: 1.3611E-01,                 MAPE: 85.53%\n",
      "\t \t Val RMSE: 4.1278E-01,                 MAE: 1.7439E-01,                 MAPE: 11.11%\n",
      "Epoch 250                 train RMSE: 1.3471E-01,                 MAE: 1.3470E-01,                 MAPE: 85.03%\n",
      "\t \t Val RMSE: 4.0372E-01,                 MAE: 1.9867E-01,                 MAPE: 11.94%\n",
      "\t \t Best model saved with validation loss: 0.1576\n",
      "Epoch 260                 train RMSE: 1.3337E-01,                 MAE: 1.3337E-01,                 MAPE: 84.55%\n",
      "\t \t Val RMSE: 3.9512E-01,                 MAE: 1.5934E-01,                 MAPE: 10.49%\n",
      "Epoch 270                 train RMSE: 1.3212E-01,                 MAE: 1.3212E-01,                 MAPE: 84.13%\n",
      "\t \t Val RMSE: 3.8726E-01,                 MAE: 2.0727E-01,                 MAPE: 12.33%\n",
      "\t \t Best model saved with validation loss: 0.1536\n",
      "Epoch 280                 train RMSE: 1.3097E-01,                 MAE: 1.3097E-01,                 MAPE: 83.73%\n",
      "\t \t Val RMSE: 3.7974E-01,                 MAE: 1.5758E-01,                 MAPE: 10.44%\n",
      "\t \t Best model saved with validation loss: 0.1530\n",
      "Epoch 290                 train RMSE: 1.2987E-01,                 MAE: 1.2987E-01,                 MAPE: 83.37%\n",
      "\t \t Val RMSE: 3.7281E-01,                 MAE: 1.9934E-01,                 MAPE: 12.00%\n",
      "\t \t Best model saved with validation loss: 0.1513\n",
      "Epoch 300                 train RMSE: 1.2887E-01,                 MAE: 1.2887E-01,                 MAPE: 83.01%\n",
      "\t \t Val RMSE: 3.6615E-01,                 MAE: 1.5183E-01,                 MAPE: 10.24%\n",
      "\t \t Best model saved with validation loss: 0.1505\n",
      "\t \t Best model saved with validation loss: 0.1499\n",
      "Epoch 310                 train RMSE: 1.2794E-01,                 MAE: 1.2793E-01,                 MAPE: 82.69%\n",
      "\t \t Val RMSE: 3.6004E-01,                 MAE: 1.9697E-01,                 MAPE: 11.89%\n",
      "Epoch 320                 train RMSE: 1.2705E-01,                 MAE: 1.2705E-01,                 MAPE: 82.38%\n",
      "\t \t Val RMSE: 3.5417E-01,                 MAE: 1.6806E-01,                 MAPE: 10.83%\n",
      "Epoch 330                 train RMSE: 1.2621E-01,                 MAE: 1.2621E-01,                 MAPE: 82.10%\n",
      "\t \t Val RMSE: 3.4863E-01,                 MAE: 1.7479E-01,                 MAPE: 11.07%\n",
      "\t \t Best model saved with validation loss: 0.1474\n",
      "Epoch 340                 train RMSE: 1.2541E-01,                 MAE: 1.2541E-01,                 MAPE: 81.82%\n",
      "\t \t Val RMSE: 3.4329E-01,                 MAE: 1.4336E-01,                 MAPE: 9.90%\n",
      "\t \t Best model saved with validation loss: 0.1421\n",
      "Epoch 350                 train RMSE: 1.2466E-01,                 MAE: 1.2466E-01,                 MAPE: 81.57%\n",
      "\t \t Val RMSE: 3.3841E-01,                 MAE: 1.9901E-01,                 MAPE: 12.06%\n",
      "Epoch 360                 train RMSE: 1.2396E-01,                 MAE: 1.2396E-01,                 MAPE: 81.33%\n",
      "\t \t Val RMSE: 3.3365E-01,                 MAE: 1.4806E-01,                 MAPE: 10.04%\n",
      "Epoch 370                 train RMSE: 1.2330E-01,                 MAE: 1.2330E-01,                 MAPE: 81.10%\n",
      "\t \t Val RMSE: 3.2922E-01,                 MAE: 1.8026E-01,                 MAPE: 11.29%\n",
      "Epoch 380                 train RMSE: 1.2266E-01,                 MAE: 1.2266E-01,                 MAPE: 80.88%\n",
      "\t \t Val RMSE: 3.2493E-01,                 MAE: 1.5802E-01,                 MAPE: 10.43%\n",
      "Epoch 390                 train RMSE: 1.2204E-01,                 MAE: 1.2204E-01,                 MAPE: 80.68%\n",
      "\t \t Val RMSE: 3.2086E-01,                 MAE: 1.8379E-01,                 MAPE: 11.41%\n",
      "Epoch 400                 train RMSE: 1.2146E-01,                 MAE: 1.2146E-01,                 MAPE: 80.48%\n",
      "\t \t Val RMSE: 3.1696E-01,                 MAE: 1.8571E-01,                 MAPE: 11.51%\n",
      "Epoch 410                 train RMSE: 1.2091E-01,                 MAE: 1.2091E-01,                 MAPE: 80.29%\n",
      "\t \t Val RMSE: 3.1321E-01,                 MAE: 1.7821E-01,                 MAPE: 11.17%\n",
      "\t \t Best model saved with validation loss: 0.1387\n",
      "Epoch 420                 train RMSE: 1.2039E-01,                 MAE: 1.2039E-01,                 MAPE: 80.11%\n",
      "\t \t Val RMSE: 3.0963E-01,                 MAE: 1.5979E-01,                 MAPE: 10.51%\n",
      "Epoch 430                 train RMSE: 1.1989E-01,                 MAE: 1.1989E-01,                 MAPE: 79.94%\n",
      "\t \t Val RMSE: 3.0622E-01,                 MAE: 1.5444E-01,                 MAPE: 10.34%\n",
      "\t \t Best model saved with validation loss: 0.1384\n",
      "Epoch 440                 train RMSE: 1.1942E-01,                 MAE: 1.1942E-01,                 MAPE: 79.78%\n",
      "\t \t Val RMSE: 3.0297E-01,                 MAE: 1.5857E-01,                 MAPE: 10.41%\n",
      "Epoch 450                 train RMSE: 1.1895E-01,                 MAE: 1.1895E-01,                 MAPE: 79.62%\n",
      "\t \t Val RMSE: 2.9985E-01,                 MAE: 1.6459E-01,                 MAPE: 10.68%\n",
      "\t \t Best model saved with validation loss: 0.1372\n",
      "Epoch 460                 train RMSE: 1.1850E-01,                 MAE: 1.1850E-01,                 MAPE: 79.47%\n",
      "\t \t Val RMSE: 2.9685E-01,                 MAE: 1.5600E-01,                 MAPE: 10.35%\n",
      "Epoch 470                 train RMSE: 1.1808E-01,                 MAE: 1.1808E-01,                 MAPE: 79.33%\n",
      "\t \t Val RMSE: 2.9396E-01,                 MAE: 1.6425E-01,                 MAPE: 10.65%\n",
      "Epoch 480                 train RMSE: 1.1767E-01,                 MAE: 1.1767E-01,                 MAPE: 79.20%\n",
      "\t \t Val RMSE: 2.9116E-01,                 MAE: 1.4747E-01,                 MAPE: 10.01%\n",
      "Epoch 490                 train RMSE: 1.1728E-01,                 MAE: 1.1728E-01,                 MAPE: 79.06%\n",
      "\t \t Val RMSE: 2.8848E-01,                 MAE: 1.4222E-01,                 MAPE: 9.86%\n"
     ]
    }
   ],
   "source": [
    "dcrnn_model = DCRNNModel(node_features = train_input.shape[-1], \n",
    "                         output_len = train_target.shape[-1]\n",
    "                        ).to(DEVICE)\n",
    "\n",
    "optimizer = torch.optim.Adam(dcrnn_model.parameters(), lr=0.01)\n",
    "device = torch.device(\"cuda\") if torch.cuda.is_available() else torch.device(\"cpu\")\n",
    "\n",
    "train_losses, val_losses = [], []\n",
    "train_mape, train_mae = [], []\n",
    "\n",
    "best_model = None\n",
    "best_va_loss = 1E6\n",
    "\n",
    "for epoch in range(500):\n",
    "    loss = 0\n",
    "    \n",
    "    dcrnn_model.train()\n",
    "    for time, snapshot in enumerate(dataset):\n",
    "        snapshot = snapshot.to(device)\n",
    "        y_hat = dcrnn_model(snapshot.x, snapshot.edge_index, snapshot.edge_attr)\n",
    "        loss = loss + torch.mean(torch.abs(y_hat-snapshot.y))\n",
    "        train_mape.append(mean_absolute_percentage_error(snapshot.y, y_hat))\n",
    "        train_mae.append(mean_absolute_error(snapshot.y, y_hat))\n",
    "    \n",
    "    loss = loss / (time+1)\n",
    "    loss.backward()\n",
    "    optimizer.step()\n",
    "    optimizer.zero_grad()\n",
    "    \n",
    "    train_losses.append(loss.item())\n",
    "\n",
    "    va_loss, val_mape, val_mae = evaluate_model(dcrnn_model, dataset_test)\n",
    "    val_losses.append(va_loss.item())\n",
    "    \n",
    "    if epoch % 10 == 0 :\n",
    "        print(f\"Epoch {epoch} \\\n",
    "                train RMSE: {sum(train_losses)/len(train_losses):.4E}, \\\n",
    "                MAE: {sum(train_mae)/len(train_mae):.4E}, \\\n",
    "                MAPE: {sum(train_mape)/len(train_mape):.2f}%\"\n",
    "             )\n",
    "        print(f\"\\t \\t Val RMSE: {sum(val_losses)/len(val_losses):.4E}, \\\n",
    "                MAE: {sum(val_mae)/len(val_mae):.4E}, \\\n",
    "                MAPE: {sum(val_mape)/len(val_mape):.2f}%\"\n",
    "             )\n",
    "\n",
    "    if va_loss < best_va_loss:\n",
    "        best_va_loss = va_loss\n",
    "        best_model_state = dcrnn_model.state_dict()\n",
    "        torch.save(best_model_state, model_dir.absolute() / 'best_dcrnn_model.pth')\n",
    "        print(\"\\t \\t Best model saved with validation loss: {:.4f}\".format(va_loss.item()))\n",
    "\n",
    "    "
   ]
  },
  {
   "cell_type": "code",
   "execution_count": null,
   "id": "5694128a-7998-481f-9465-87f5be974ed1",
   "metadata": {},
   "outputs": [],
   "source": []
  },
  {
   "cell_type": "code",
   "execution_count": 48,
   "id": "bd97e780-b3e8-4ab7-96a5-97763cef5c0f",
   "metadata": {},
   "outputs": [
    {
     "data": {
      "image/png": "[encoded data removed]",
      "text/plain": [
       "<Figure size 1000x700 with 1 Axes>"
      ]
     },
     "metadata": {},
     "output_type": "display_data"
    }
   ],
   "source": [
    "import matplotlib.pyplot as plt\n",
    "plt.figure(figsize=(10,7))\n",
    "plt.plot(range(1, len(train_losses)+1), train_losses, label='Train Loss')\n",
    "plt.plot(range(1, len(val_losses)+1), val_losses, label='Val Loss')\n",
    "plt.legend(loc=\"upper left\")\n",
    "plt.show()"
   ]
  },
  {
   "cell_type": "code",
   "execution_count": 49,
   "id": "90317f78-a7d7-46c8-a40e-bc0a1c9061de",
   "metadata": {},
   "outputs": [
    {
     "name": "stderr",
     "output_type": "stream",
     "text": [
      "C:\\Users\\akhan147\\AppData\\Local\\Temp\\ipykernel_37232\\4188512238.py:1: FutureWarning: You are using `torch.load` with `weights_only=False` (the current default value), which uses the default pickle module implicitly. It is possible to construct malicious pickle data which will execute arbitrary code during unpickling (See https://github.com/pytorch/pytorch/blob/main/SECURITY.md#untrusted-models for more details). In a future release, the default value for `weights_only` will be flipped to `True`. This limits the functions that could be executed during unpickling. Arbitrary objects will no longer be allowed to be loaded via this mode unless they are explicitly allowlisted by the user via `torch.serialization.add_safe_globals`. We recommend you start setting `weights_only=True` for any use case where you don't have full control of the loaded file. Please open an issue on GitHub for any issues related to this experimental feature.\n",
      "  dcrnn_model.load_state_dict(torch.load(model_dir.absolute() / 'best_dcrnn_model.pth'))\n"
     ]
    },
    {
     "data": {
      "text/plain": [
       "<All keys matched successfully>"
      ]
     },
     "execution_count": 49,
     "metadata": {},
     "output_type": "execute_result"
    }
   ],
   "source": [
    "dcrnn_model.load_state_dict(torch.load(model_dir.absolute() / 'best_dcrnn_model.pth'))\n"
   ]
  },
  {
   "cell_type": "code",
   "execution_count": null,
   "id": "de3b9a76-d1fd-4842-a5c5-9c618085ab98",
   "metadata": {},
   "outputs": [],
   "source": []
  },
  {
   "cell_type": "markdown",
   "id": "17f8cd44-7774-4de5-b880-a610915a094e",
   "metadata": {},
   "source": [
    "# Eval"
   ]
  },
  {
   "cell_type": "markdown",
   "id": "ddc8a081-9197-4ac4-8f10-e478cd8461ac",
   "metadata": {},
   "source": [
    "## Test set"
   ]
  },
  {
   "cell_type": "code",
   "execution_count": 50,
   "id": "7eea4656-6430-439f-8cec-cbb7d7043063",
   "metadata": {},
   "outputs": [],
   "source": [
    "\"\"\"Make predictions for test data\"\"\"\n",
    "dcrnn_model.eval()\n",
    "\n",
    "y_preds = list()\n",
    "y_true = list()\n",
    "\n",
    "for snapshot in dataset_test:\n",
    "    y = snapshot.y.cpu().numpy()\n",
    "    y_pred = dcrnn_model(snapshot.x, snapshot.edge_index, \n",
    "                         snapshot.edge_attr\n",
    "                        ).view(len(snapshot.x), -1).cpu().detach().numpy()\n",
    "\n",
    "    # y = np.array((y * std_speed) +  mean_speed)\n",
    "    # y_pred = np.array((y_pred * std_speed) +  mean_speed)\n",
    "    y_preds.extend(list(y_pred))\n",
    "    y_true.extend(list(y))\n",
    "    \n",
    "y_preds = np.array(y_preds)\n",
    "y_true = np.array(y_true)\n",
    "y_preds = y_preds.reshape(int(y_preds.shape[0]/(10)), 10, 5)\n",
    "y_true = y_true.reshape(int(y_true.shape[0]/(10)), 10, 5)"
   ]
  },
  {
   "cell_type": "code",
   "execution_count": 51,
   "id": "253fc735-0241-4fe0-a2a9-e3456412fbaf",
   "metadata": {},
   "outputs": [
    {
     "data": {
      "text/plain": [
       "((110, 10, 5), (110, 10, 5))"
      ]
     },
     "execution_count": 51,
     "metadata": {},
     "output_type": "execute_result"
    }
   ],
   "source": [
    "y_preds.shape, y_true.shape"
   ]
  },
  {
   "cell_type": "code",
   "execution_count": 52,
   "id": "6387cbdd-aa1b-48e7-bfe5-9e368ddb7719",
   "metadata": {},
   "outputs": [],
   "source": [
    "plt.style.use('ggplot')\n"
   ]
  },
  {
   "cell_type": "code",
   "execution_count": 53,
   "id": "0f383619-6bda-4918-9784-d35c98f5a52d",
   "metadata": {},
   "outputs": [
    {
     "data": {
      "image/png": "[encoded data removed]",
      "text/plain": [
       "<Figure size 1000x700 with 1 Axes>"
      ]
     },
     "metadata": {},
     "output_type": "display_data"
    }
   ],
   "source": [
    "\"\"\"show one sensor time series only first time step\"\"\"\n",
    "y_sample = y_true[:, 2, 0]\n",
    "y_pred_sample = y_preds[:, 2, 0]\n",
    "\n",
    "plt.figure(figsize=(10,7))\n",
    "plt.plot(range(len(y_sample)), y_sample, label='Ground Truth')\n",
    "plt.plot(range(len(y_pred_sample)), y_pred_sample, label='Predictions')\n",
    "plt.xlabel('Time')\n",
    "plt.ylabel('Adj Close')\n",
    "plt.legend(loc=\"upper left\")\n",
    "plt.show()"
   ]
  },
  {
   "cell_type": "code",
   "execution_count": null,
   "id": "69495f1f-8f5c-4f98-91c5-ac5df9f7ce10",
   "metadata": {},
   "outputs": [],
   "source": []
  },
  {
   "cell_type": "code",
   "execution_count": null,
   "id": "ca722b97-7aa6-4fea-91a8-9d2fc8416729",
   "metadata": {},
   "outputs": [],
   "source": []
  },
  {
   "cell_type": "code",
   "execution_count": null,
   "id": "8db52fe9-4f4d-401a-979a-79370471ee55",
   "metadata": {},
   "outputs": [],
   "source": []
  },
  {
   "cell_type": "code",
   "execution_count": null,
   "id": "4a590c35-e6c8-454c-985b-92102bdb2ed8",
   "metadata": {},
   "outputs": [],
   "source": []
  },
  {
   "cell_type": "markdown",
   "id": "cac486ac-caa0-4f4e-9827-cc40fa9a2c4e",
   "metadata": {},
   "source": [
    "## Train set"
   ]
  },
  {
   "cell_type": "code",
   "execution_count": null,
   "id": "a3505663-96a0-4c46-8374-f9d3ce5b6431",
   "metadata": {},
   "outputs": [],
   "source": []
  },
  {
   "cell_type": "code",
   "execution_count": null,
   "id": "b3cce01a-6623-4379-ad9b-d7660053295e",
   "metadata": {},
   "outputs": [],
   "source": []
  },
  {
   "cell_type": "code",
   "execution_count": 56,
   "id": "03c67100-e663-4363-8cbe-ff768c02b68c",
   "metadata": {},
   "outputs": [],
   "source": [
    "\"\"\"Make predictions for test data\"\"\"\n",
    "dcrnn_model.eval()\n",
    "\n",
    "y_preds = list()\n",
    "y_true = list()\n",
    "\n",
    "for snapshot in dataset:\n",
    "    y = snapshot.y.cpu().numpy()\n",
    "    y_pred = dcrnn_model(snapshot.x, snapshot.edge_index, \n",
    "                         snapshot.edge_attr\n",
    "                        ).view(len(snapshot.x), -1).cpu().detach().numpy()\n",
    "\n",
    "    # y = np.array((y * std_speed) +  mean_speed)\n",
    "    # y_pred = np.array((y_pred * std_speed) +  mean_speed)\n",
    "    y_preds.extend(list(y_pred))\n",
    "    y_true.extend(list(y))\n",
    "    \n",
    "y_preds = np.array(y_preds)\n",
    "y_true = np.array(y_true)\n",
    "y_preds = y_preds.reshape(int(y_preds.shape[0]/(10)), 10, 5)\n",
    "y_true = y_true.reshape(int(y_true.shape[0]/(10)), 10, 5)"
   ]
  },
  {
   "cell_type": "code",
   "execution_count": 57,
   "id": "ec37dd06-75f8-42ea-a53e-e3ea884b73bf",
   "metadata": {},
   "outputs": [
    {
     "data": {
      "text/plain": [
       "((1048, 10, 5), (1048, 10, 5))"
      ]
     },
     "execution_count": 57,
     "metadata": {},
     "output_type": "execute_result"
    }
   ],
   "source": [
    "y_preds.shape, y_true.shape"
   ]
  },
  {
   "cell_type": "code",
   "execution_count": 58,
   "id": "2c7912d5-8851-42d7-9836-42a7400366d7",
   "metadata": {},
   "outputs": [],
   "source": [
    "plt.style.use('ggplot')\n"
   ]
  },
  {
   "cell_type": "code",
   "execution_count": 59,
   "id": "cd16dc89-e62c-403e-9163-62be61ecf839",
   "metadata": {},
   "outputs": [
    {
     "data": {
      "image/png": "[encoded data removed]",
      "text/plain": [
       "<Figure size 1000x700 with 1 Axes>"
      ]
     },
     "metadata": {},
     "output_type": "display_data"
    }
   ],
   "source": [
    "\"\"\"show one sensor time series only first time step\"\"\"\n",
    "y_sample = y_true[:, 2, 0]\n",
    "y_pred_sample = y_preds[:, 2, 0]\n",
    "\n",
    "plt.figure(figsize=(10,7))\n",
    "plt.plot(range(len(y_sample)), y_sample, label='Ground Truth')\n",
    "plt.plot(range(len(y_pred_sample)), y_pred_sample, label='Predictions')\n",
    "plt.xlabel('Time')\n",
    "plt.ylabel('Adj Close')\n",
    "plt.legend(loc=\"upper left\")\n",
    "plt.show()"
   ]
  },
  {
   "cell_type": "code",
   "execution_count": null,
   "id": "3db05816-90fb-4527-8c6d-12adad72697f",
   "metadata": {},
   "outputs": [],
   "source": []
  }
 ],
 "metadata": {
  "kernelspec": {
   "display_name": "Python 3 (ipykernel)",
   "language": "python",
   "name": "python3"
  },
  "language_info": {
   "codemirror_mode": {
    "name": "ipython",
    "version": 3
   },
   "file_extension": ".py",
   "mimetype": "text/x-python",
   "name": "python",
   "nbconvert_exporter": "python",
   "pygments_lexer": "ipython3",
   "version": "3.10.14"
  }
 },
 "nbformat": 4,
 "nbformat_minor": 5
}
