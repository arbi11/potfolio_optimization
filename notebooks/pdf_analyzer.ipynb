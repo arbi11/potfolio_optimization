{
 "cells": [
  {
   "cell_type": "code",
   "execution_count": 1,
   "id": "d65eb6c2-15e7-4dd1-a1b4-6799f6ed9a10",
   "metadata": {},
   "outputs": [],
   "source": [
    "import os\n",
    "from pathlib import Path\n",
    "from time import time"
   ]
  },
  {
   "cell_type": "code",
   "execution_count": 2,
   "id": "4b0b97ff-2068-4b42-b689-9b0e106da3ce",
   "metadata": {},
   "outputs": [],
   "source": [
    "repo_dir = Path('.').absolute().parent\n"
   ]
  },
  {
   "cell_type": "code",
   "execution_count": 3,
   "id": "5512fc22-8faf-4170-85c7-3b9191372991",
   "metadata": {},
   "outputs": [],
   "source": [
    "from langchain_community.llms.ollama import Ollama\n",
    "\n",
    "llm = Ollama(model=\"mistrallite:latest\")\n",
    "\n",
    "prompt = 'What is the profit firm earned'\n",
    "response_text = llm.invoke(prompt)"
   ]
  },
  {
   "cell_type": "code",
   "execution_count": 4,
   "id": "1a8b2395-1a8a-428e-848b-c1ca8b039358",
   "metadata": {},
   "outputs": [],
   "source": [
    "from llama_index.core import VectorStoreIndex\n",
    "# from llama_index.readers.download_loader import download_loader\n"
   ]
  },
  {
   "cell_type": "code",
   "execution_count": 6,
   "id": "ef2d848d-e52b-4f78-bf4c-05e3c68d935f",
   "metadata": {},
   "outputs": [],
   "source": [
    "from langchain_community.embeddings.ollama import OllamaEmbeddings\n",
    "\n",
    "def get_embedding_function():\n",
    "    # embeddings = BedrockEmbeddings(\n",
    "    #     credentials_profile_name=\"default\", region_name=\"us-east-1\"\n",
    "    # )\n",
    "    embeddings = OllamaEmbeddings(model=\"nomic-embed-text\") # if completely local\n",
    "    return embeddings"
   ]
  },
  {
   "cell_type": "code",
   "execution_count": 7,
   "id": "0ac515fc-eadc-4ffe-a47f-899debcf7ffe",
   "metadata": {},
   "outputs": [
    {
     "name": "stdout",
     "output_type": "stream",
     "text": [
      "\n",
      " Time taken:  24.381906032562256\n"
     ]
    }
   ],
   "source": [
    "# Pinecone - similar to chroma\n",
    "# document is tokenized and loaded into chroma for querying later\n",
    "# This allows you to perform similarity search using similarity metrics \n",
    "# like euclidean distance \n",
    "\n",
    "from langchain.vectorstores.chroma import Chroma\n",
    "from langchain.document_loaders import PyPDFLoader\n",
    "\n",
    "start_time = time()\n",
    "\n",
    "loader = PyPDFLoader(r'F:\\cc_data\\annualreport.pdf')\n",
    "# split pages from pdf\n",
    "pages = loader.load_and_split()\n",
    "pages[0]\n",
    "print('\\n Time taken: ', time() - start_time)\n",
    "\n",
    "# load documents int vector database aka chromaDB\n",
    "# store = Chroma.from_documents(pages, collection_name='annual_report')\n"
   ]
  },
  {
   "cell_type": "code",
   "execution_count": 8,
   "id": "fe181983-d12c-4f4d-880d-0de8424d498b",
   "metadata": {},
   "outputs": [
    {
     "data": {
      "text/plain": [
       "Document(metadata={'source': 'F:\\\\cc_data\\\\annualreport.pdf', 'page': 1}, page_content='2022 Annual General Meeting\\nMacquarie Group Limited’s 2022 AGM will be held at 10:30 am on \\nThursday, 28 July 2022.\\nDetails of the meeting will be sent to shareholders separately.\\nCover image\\nMacquarie manages investments in infrastructure integral to \\nthe US economy. Long Beach Container Terminal is part of the \\ncombined port complex of Los Angeles and Long Beach, the \\nlargest cargo gateway in North America.\\nMacquarie is a global financial \\nservices group operating in \\n33\\xa0markets in asset management, \\nretail and business banking, wealth \\nmanagement, leasing and asset \\nfinancing, market access, commodity \\ntrading, renewables development, \\nspecialist advice, access to capital \\nand principal investment.')"
      ]
     },
     "execution_count": 8,
     "metadata": {},
     "output_type": "execute_result"
    }
   ],
   "source": [
    "pages[1]\n"
   ]
  },
  {
   "cell_type": "code",
   "execution_count": 9,
   "id": "c6406a47-c3f6-4029-9c1d-62fe9fd81fa2",
   "metadata": {},
   "outputs": [],
   "source": [
    "def calculate_chunk_ids(chunks):\n",
    "\n",
    "    # This will create IDs like \"data/monopoly.pdf:6:2\"\n",
    "    # Page Source : Page Number : Chunk Index\n",
    "\n",
    "    last_page_id = None\n",
    "    current_chunk_index = 0\n",
    "\n",
    "    for chunk in chunks:\n",
    "        source = chunk.metadata.get(\"source\")\n",
    "        source = source[source.find('annualreport') : ]\n",
    "        \n",
    "        page = chunk.metadata.get(\"page\")\n",
    "        \n",
    "        current_page_id = f\"{source}:{page}\"\n",
    "\n",
    "        # If the page ID is the same as the last one, increment the index.\n",
    "        if current_page_id == last_page_id:\n",
    "            current_chunk_index += 1\n",
    "        else:\n",
    "            current_chunk_index = 0\n",
    "\n",
    "        # Calculate the chunk ID.\n",
    "        chunk_id = f\"{current_page_id}:{current_chunk_index}\"\n",
    "        last_page_id = current_page_id\n",
    "\n",
    "        # Add it to the page meta-data.\n",
    "        chunk.metadata[\"id\"] = chunk_id\n",
    "\n",
    "    return chunks"
   ]
  },
  {
   "cell_type": "code",
   "execution_count": 10,
   "id": "25e4e1dc-bb46-4c68-b992-767256b5fec8",
   "metadata": {},
   "outputs": [],
   "source": [
    "CHROMA_PATH = r'F:\\cc_data\\chroma_AnnualReport'"
   ]
  },
  {
   "cell_type": "code",
   "execution_count": 11,
   "id": "d1aecf9e-25b2-4be0-be59-58ce070220d7",
   "metadata": {},
   "outputs": [],
   "source": [
    "from langchain.vectorstores.chroma import Chroma\n",
    "from langchain.schema.document import Document\n",
    "\n",
    "def add_to_chroma(chunks: list[Document]):\n",
    "    # Load the existing database.\n",
    "    db = Chroma(\n",
    "        persist_directory=CHROMA_PATH, \n",
    "        embedding_function=get_embedding_function()\n",
    "    )\n",
    "\n",
    "    # Calculate Page IDs.\n",
    "    chunks_with_ids = calculate_chunk_ids(chunks)\n",
    "\n",
    "    # Add or Update the documents.\n",
    "    existing_items = db.get(include=[])  # IDs are always included by default\n",
    "    existing_ids = set(existing_items[\"ids\"])\n",
    "    print(f\"Number of existing documents in DB: {len(existing_ids)}\")\n",
    "\n",
    "    # Only add documents that don't exist in the DB.\n",
    "    new_chunks = []\n",
    "    for chunk in chunks_with_ids:\n",
    "        if chunk.metadata[\"id\"] not in existing_ids:\n",
    "            new_chunks.append(chunk)\n",
    "\n",
    "    if len(new_chunks):\n",
    "        print(f\"👉 Adding new documents: {len(new_chunks)}\")\n",
    "        new_chunk_ids = [chunk.metadata[\"id\"] for chunk in new_chunks]\n",
    "        db.add_documents(new_chunks, ids=new_chunk_ids)\n",
    "        db.persist()\n",
    "    else:\n",
    "        print(\"✅ No new documents to add\")"
   ]
  },
  {
   "cell_type": "code",
   "execution_count": 12,
   "id": "384379ff-ea34-475e-a6a5-459c0ab6fe1a",
   "metadata": {},
   "outputs": [
    {
     "name": "stderr",
     "output_type": "stream",
     "text": [
      "C:\\Users\\akhan147\\AppData\\Local\\Temp\\ipykernel_20800\\2271573457.py:6: LangChainDeprecationWarning: The class `Chroma` was deprecated in LangChain 0.2.9 and will be removed in 1.0. An updated version of the class exists in the :class:`~langchain-chroma package and should be used instead. To use it run `pip install -U :class:`~langchain-chroma` and import as `from :class:`~langchain_chroma import Chroma``.\n",
      "  db = Chroma(\n"
     ]
    },
    {
     "name": "stdout",
     "output_type": "stream",
     "text": [
      "Number of existing documents in DB: 0\n",
      "👉 Adding new documents: 403\n",
      "\n",
      " Time taken:  874.8912787437439\n"
     ]
    },
    {
     "name": "stderr",
     "output_type": "stream",
     "text": [
      "C:\\Users\\akhan147\\AppData\\Local\\Temp\\ipykernel_20800\\2271573457.py:29: LangChainDeprecationWarning: Since Chroma 0.4.x the manual persistence method is no longer supported as docs are automatically persisted.\n",
      "  db.persist()\n"
     ]
    }
   ],
   "source": [
    "start_time = time()\n",
    "add_to_chroma(pages)\n",
    "\n",
    "print('\\n Time taken: ', time() - start_time)"
   ]
  },
  {
   "cell_type": "code",
   "execution_count": null,
   "id": "551e77a5-00c2-40c3-8efd-7177596a5c4f",
   "metadata": {},
   "outputs": [],
   "source": []
  },
  {
   "cell_type": "code",
   "execution_count": 13,
   "id": "4e878c12-c4d1-41b0-a3c2-0e1dd95df669",
   "metadata": {},
   "outputs": [],
   "source": [
    "import shutil\n",
    "import os\n",
    "def clear_database():\n",
    "    if os.path.exists(CHROMA_PATH):\n",
    "        shutil.rmtree(CHROMA_PATH)"
   ]
  },
  {
   "cell_type": "code",
   "execution_count": 14,
   "id": "a59c4de7-4c2e-4b90-95e1-53bfade0c3ba",
   "metadata": {},
   "outputs": [],
   "source": [
    "# clear_database()"
   ]
  },
  {
   "cell_type": "code",
   "execution_count": null,
   "id": "eca45300-e0fc-4773-b767-6ac11d1b3913",
   "metadata": {},
   "outputs": [],
   "source": []
  },
  {
   "cell_type": "code",
   "execution_count": 15,
   "id": "ec81c738-8d98-47c1-b14b-7e74137194de",
   "metadata": {},
   "outputs": [],
   "source": [
    "PROMPT_TEMPLATE = \"\"\"\n",
    "Answer the question based only on the following context:\n",
    "\n",
    "{context}\n",
    "\n",
    "---\n",
    "\n",
    "Answer the question based on the above context: {question}\n",
    "\"\"\""
   ]
  },
  {
   "cell_type": "code",
   "execution_count": 22,
   "id": "eab2f94c-6c3f-4c87-8478-1201e93953f7",
   "metadata": {},
   "outputs": [],
   "source": [
    "from langchain.prompts import ChatPromptTemplate\n",
    "from langchain_community.llms.ollama import Ollama\n",
    "\n",
    "def query_rag(query_text: str):\n",
    "    # Prepare the DB.\n",
    "    embedding_function = get_embedding_function()\n",
    "    db = Chroma(persist_directory=CHROMA_PATH, embedding_function=embedding_function)\n",
    "\n",
    "    # Search the DB. Gives k most relevant chunks to the query\n",
    "    results = db.similarity_search_with_score(query_text, k=5)\n",
    "\n",
    "    context_text = \"\\n\\n---\\n\\n\".join([doc.page_content for doc, _score in results])\n",
    "    prompt_template = ChatPromptTemplate.from_template(PROMPT_TEMPLATE)\n",
    "    prompt = prompt_template.format(context=context_text, question=query_text)\n",
    "    # print(prompt)\n",
    "\n",
    "    model = Ollama(model=\"mistrallite:latest\")\n",
    "    response_text = model.invoke(prompt)\n",
    "\n",
    "    sources = [doc.metadata.get(\"id\", None) for doc, _score in results]\n",
    "    formatted_response = f\"Response: {response_text}\\nSources: {sources}\"\n",
    "    print(formatted_response)\n",
    "    return response_text, results"
   ]
  },
  {
   "cell_type": "code",
   "execution_count": 23,
   "id": "6392a35e-8ee6-4155-8aba-8e5819e64d0b",
   "metadata": {},
   "outputs": [
    {
     "name": "stdout",
     "output_type": "stream",
     "text": [
      "Response:  The net profit of the company for FY2022 was $A4,706 million.\n",
      "Sources: ['annualreport.pdf:164:0', 'annualreport.pdf:163:0', 'annualreport.pdf:159:0', 'annualreport.pdf:23:0', 'annualreport.pdf:15:0']\n",
      "\n",
      " Time taken:  21.364450454711914\n"
     ]
    }
   ],
   "source": [
    "start_time = time()\n",
    "\n",
    "query_text = 'What was the net profit of the company?'\n",
    "response_text, results = query_rag(query_text)\n",
    "\n",
    "print('\\n Time taken: ', time() - start_time)"
   ]
  },
  {
   "cell_type": "code",
   "execution_count": 24,
   "id": "cffad2c5-f924-4bad-9a31-b8703140aaf7",
   "metadata": {},
   "outputs": [
    {
     "data": {
      "text/plain": [
       "[(Document(metadata={'id': 'annualreport.pdf:164:0', 'page': 164, 'source': 'F:\\\\cc_data\\\\annualreport.pdf'}, page_content='163Macquarie Group Limited and its subsidiaries\\u20032022 Annual ReportFurther Information Directors’ Report Governance About Financial Report\\nNote 3 \\nSegment reporting  continued\\n(i) Operating segments  continued\\nThe following is an analysis of the Consolidated Entity’s revenue and results by reportable segment:\\nMacquarie Asset \\nManagementBanking and  \\nFinancial ServicesCommodities and  \\nGlobal Markets Macquarie Capital Corporate Total\\n$m $m $m $m $m $m\\nCONSOLIDATED 2022\\nNet interest and trading (expense)/income (241) 1,972 4,732 327 66 6,856\\nFee and commission income/(expense) 4,063 457 507 1,893 (33) 6,887\\nNet operating lease income 63 – 335 – 4 402\\nShare of net profits/(losses) from associates and joint\\xa0ventures 268 (2) 40 (67) 1 240\\nNet other operating income:\\nCredit and other impairment reversals/(charges) 112 22 (65) (573) (5) (509)\\nOther operating income and charges 182 11 625 2,623 7 3,448\\nInternal management revenue/(charges) 37 1 5 10 (53) –\\nNet operating income 4,484 2,461 6,179 4,213 (13) 17,324\\nTotal operating expenses (2,329) (1,460) (2,268) (1,572) (3,156) (10,785)\\nOperating profit/(loss) before income tax 2,155 1,001 3,911 2,641 (3,169) 6,539\\nIncome tax expense – – – – (1,586) (1,586)\\n(Profit)/loss attributable to non-controlling interests (5) – – (241) (1) (247)\\nNet profit/(loss) contribution 2,150 1,001 3,911 2,400 (4,756) 4,706\\nReportable segment assets 9,678 111,103 172,698 25,443 80,254 399,176\\nCONSOLIDATED 2021\\nNet interest and trading (expense)/income (249) 1,746 3,856 69 255 5,677\\nFee and commission income/(expense) 2,921 419 485 1,387 (36) 5,176\\nNet operating lease income 79 – 383 – 4 466\\nShare of net (losses)/profits from associates and joint\\xa0ventures (12) (3) 43 (35) 4 (3)\\nNet other operating income:\\nNet credit and other impairment reversals/(charges) 85 (115) (237) (229) (28) (524)\\nOther operating income and charges 699 30 153 1,025 75 1,982\\nInternal management revenue/(charges) 31 1 (5) 31 (58) –\\nNet operating income 3,554 2,078 4,678 2,248 216 12,774\\nTotal operating expenses (1,474) (1,307) (2,077) (1,614) (2,395) (8,867)\\nOperating profit/(loss) before income tax 2,080 771 2,601 634 (2,179) 3,907\\nIncome tax expense – – – – (899) (899)\\n(Profit)/loss attributable to non-controlling interests (6) – – 17 (4) 7\\nNet profit/(loss) contribution 2,074 771 2,601 651 (3,082) 3,015\\nReportable segment assets 5,927 90,226 94,972 19,342 35,186 245,653'),\n",
       "  307.13763427734375),\n",
       " (Document(metadata={'id': 'annualreport.pdf:163:0', 'page': 163, 'source': 'F:\\\\cc_data\\\\annualreport.pdf'}, page_content='162\\nNotes to the financial statements \\nFor the financial year ended 31 March 2022 continuedNote 3 \\nSegment reporting  continued\\n(i) Operating segments  continued\\nThe following is an analysis of the Consolidated Entity’s revenue and results by reportable segment:\\nMacquarie Asset \\nManagementBanking and  \\nFinancial ServicesCommodities and  \\nGlobal Markets Macquarie Capital Corporate Total\\n$m $m $m $m $m $m\\nCONSOLIDATED 2022\\nNet interest and trading (expense)/income (241) 1,972 4,732 327 66 6,856\\nFee and commission income/(expense) 4,063 457 507 1,893 (33) 6,887\\nNet operating lease income 63 – 335 – 4 402\\nShare of net profits/(losses) from associates and joint\\xa0ventures 268 (2) 40 (67) 1 240\\nNet other operating income:\\nCredit and other impairment reversals/(charges) 112 22 (65) (573) (5) (509)\\nOther operating income and charges 182 11 625 2,623 7 3,448\\nInternal management revenue/(charges) 37 1 5 10 (53) –\\nNet operating income 4,484 2,461 6,179 4,213 (13) 17,324\\nTotal operating expenses (2,329) (1,460) (2,268) (1,572) (3,156) (10,785)\\nOperating profit/(loss) before income tax 2,155 1,001 3,911 2,641 (3,169) 6,539\\nIncome tax expense – – – – (1,586) (1,586)\\n(Profit)/loss attributable to non-controlling interests (5) – – (241) (1) (247)\\nNet profit/(loss) contribution 2,150 1,001 3,911 2,400 (4,756) 4,706\\nReportable segment assets 9,678 111,103 172,698 25,443 80,254 399,176\\nCONSOLIDATED 2021\\nNet interest and trading (expense)/income (249) 1,746 3,856 69 255 5,677\\nFee and commission income/(expense) 2,921 419 485 1,387 (36) 5,176\\nNet operating lease income 79 – 383 – 4 466\\nShare of net (losses)/profits from associates and joint\\xa0ventures (12) (3) 43 (35) 4 (3)\\nNet other operating income:\\nNet credit and other impairment reversals/(charges) 85 (115) (237) (229) (28) (524)\\nOther operating income and charges 699 30 153 1,025 75 1,982\\nInternal management revenue/(charges) 31 1 (5) 31 (58) –\\nNet operating income 3,554 2,078 4,678 2,248 216 12,774\\nTotal operating expenses (1,474) (1,307) (2,077) (1,614) (2,395) (8,867)\\nOperating profit/(loss) before income tax 2,080 771 2,601 634 (2,179) 3,907\\nIncome tax expense – – – – (899) (899)\\n(Profit)/loss attributable to non-controlling interests (6) – – 17 (4) 7\\nNet profit/(loss) contribution 2,074 771 2,601 651 (3,082) 3,015\\nReportable segment assets 5,927 90,226 94,972 19,342 35,186 245,653'),\n",
       "  311.9465637207031),\n",
       " (Document(metadata={'id': 'annualreport.pdf:159:0', 'page': 159, 'source': 'F:\\\\cc_data\\\\annualreport.pdf'}, page_content='158\\nNotes to the financial statements \\nFor the financial year ended 31 March 2022 continuedNote 2 \\nOperating profit before income tax continued\\nCONSOLIDATED COMPANY\\n2022 2021 2022 2021\\n$m $m $m $m\\nEmployment expenses\\nSalary and related costs including commissions, superannuation \\nand\\xa0performance-related profit share (5,627) (4,522) (4) (4)\\nShare-based payments(1)(659) (582) – –\\nProvision for long service leave and annual leave (78) (86) – –\\nTotal compensation expenses (6,364) (5,190) (4) (4)\\nOther employment expenses including on-costs, staff procurement and \\nstaff training (361) (327) – –\\nTotal employment expenses (6,725) (5,517) (4) (4)\\nBrokerage, commission and fee expenses\\nBrokerage and other trading-related fee expenses (748) (643) – –\\nOther fee and commission expenses (281) (236) – –\\nTotal brokerage, commission and fee expenses (1,029) (879) – –\\nNon ‑salary technology expenses\\nInformation services (210) (216) – –\\nDepreciation on own use assets: equipment (Note 15) (31) (27) – –\\nService provider and other non-salary technology expenses (685) (538) – –\\nTotal non-salary technology expenses (926) (781) – –\\nOther operating expenses\\nOccupancy expenses\\nLease expenses (155) (172) – –\\nDepreciation on own use assets: buildings, furniture, fittings and\\xa0leasehold \\nimprovements (Note 15) (63) (67) – –\\nOther occupancy expenses (139) (143) – –\\nTotal occupancy expenses (357) (382) – –\\nOther expenses\\nProfessional fees (576) (495) – –\\nIndirect and other taxes (170) (154) – –\\nAdvertising and promotional expenses (178) (100) – –\\nAmortisation of intangible assets (134) (63) – –\\nAudit fees (64) (55) – –\\nOther (626) (441) (6) (4)\\nTotal other expenses (1,748) (1,308) (6) (4)\\nTotal other operating expenses (2,105) (1,690) (6) (4)\\nTotal operating expenses (10,785) (8,867) (10) (8)\\nOperating profit before income tax 6,539 3,907 1,417 734\\n(1) Includes share-based payment related expenses of $41\\xa0million (2021: $50\\xa0million gain) for cash settled awards.'),\n",
       "  313.5274658203125),\n",
       " (Document(metadata={'id': 'annualreport.pdf:23:0', 'page': 23, 'source': 'F:\\\\cc_data\\\\annualreport.pdf'}, page_content='22Group performance\\nOverviewOperating and Financial Review\\nReview of group performance and financial position\\nFULL YEAR TO \\n31\\xa0Mar\\xa022 31 Mar 21 Movement\\n$Am $Am %\\nNet operating income 17,324 12,774 36\\nOperating expenses (10,785) (8,867) 22\\nIncome tax expense (1,586) (899) 76\\n(Profit)/loss attributable to non-controlling interests (247) 7 *\\nProfit attributable to ordinary equity holders 4,706 3,015 56Profit attributable to \\nordinary equity holders \\nof $A 4,706 \\xa0million for the \\nyear ended 31\\xa0March\\xa02022 \\nincreased 56 % from \\n$A3,015\\xa0million in the \\nprior\\xa0year.'),\n",
       "  333.5436706542969),\n",
       " (Document(metadata={'id': 'annualreport.pdf:15:0', 'page': 15, 'source': 'F:\\\\cc_data\\\\annualreport.pdf'}, page_content='14FY2022 net profit\\n$A4,706 m\\n  56% on prior year\\nFY2022 net operating income\\n$A17,324 m\\n  36% on prior yearFY2022 operating expenses\\n$A10,785 m\\n  22% on prior year\\nFY2022 earnings per share\\n$A12.72\\n  51% on prior yearFY2022 return on equity\\n18.7%\\n  from 14.3% in prior year\\nFY2022 dividends per share\\n$A6.22\\n (40% franked)\\n  32% on prior yearFY2022 effective tax rate\\n25.2%\\n   from 23.0%  \\nin prior yearAssets under management\\n$A774.8b\\n   from $A563.5b  \\nas at 31\\xa0March 2021Financial Highlights'),\n",
       "  340.4920654296875)]"
      ]
     },
     "execution_count": 24,
     "metadata": {},
     "output_type": "execute_result"
    }
   ],
   "source": [
    "results"
   ]
  },
  {
   "cell_type": "code",
   "execution_count": null,
   "id": "54a3a60a-9ec3-4dfd-8924-6f9f86a4f5ef",
   "metadata": {},
   "outputs": [],
   "source": []
  },
  {
   "cell_type": "code",
   "execution_count": null,
   "id": "5465f297-c88a-47d8-92da-0c2e1c954b5c",
   "metadata": {},
   "outputs": [],
   "source": []
  },
  {
   "cell_type": "code",
   "execution_count": null,
   "id": "68fa5fee-1092-4bde-9782-7c7db3070091",
   "metadata": {},
   "outputs": [],
   "source": []
  },
  {
   "cell_type": "code",
   "execution_count": 25,
   "id": "0c676c19-3d06-4c6d-8e84-1d4a381dbde5",
   "metadata": {},
   "outputs": [
    {
     "name": "stdout",
     "output_type": "stream",
     "text": [
      "Response:  Macquarie, a global financial institution, has taken several initiatives towards sustainability in response to the challenge of climate change. Here are some of the key areas of their approach:\n",
      "\n",
      "1. Developing and investing in green energy: Macquarage is committed to growing renewable energy capacity and has developed, constructed, operated, and financed over 50 GW of green energy projects around the world. They have invested $A2.3 billion into green energy projects in the past five years, including some that are no longer on their balance sheet but continue to generate green energy.\n",
      "2. Creating climate resilient infrastructure: Macquarie is focusing on climate resilience and adaptation by investing in climate-specific risk assessments, revised operating procedures, physical enhancements, industrial technologies, and training for its portfolio companies, properties, and farmland. They are also designing new infrastructure projects with climate resilience in mind to deal with extreme weather events and rising sea levels.\n",
      "3. Enabling the decarbonisation of customers, clients, and portfolio companies: Macquarie is increasing its efforts to help its customers, clients, and portfolio companies take action towards decarbonisation. They have developed financing and risk management solutions in areas such as batteries, renewable fuels, clean transportation, and carbon offsets to help businesses enhance their sustainability commitments.\n",
      "4. Aligning activities to net zero: Macquarie has made a commitment to align its business operations and financing activities with the objective of enabling and accelerating the world's pathway to net zero by 2050. They have established a dedicated cross-group Net Zero Program team to assess their lending and equity clients' climate footprint and are on track to release their first net zero plan by the end of 2022.\n",
      "Sources: ['annualreport.pdf:59:0', 'annualreport.pdf:14:0', 'annualreport.pdf:13:0', 'annualreport.pdf:69:0', 'annualreport.pdf:51:0']\n",
      "\n",
      " Time taken:  86.95342707633972\n"
     ]
    }
   ],
   "source": [
    "start_time = time()\n",
    "\n",
    "query_text = 'What initiatives were taken by bank towards sustainability?'\n",
    "query_rag(query_text)\n",
    "\n",
    "print('\\n Time taken: ', time() - start_time)"
   ]
  },
  {
   "cell_type": "code",
   "execution_count": null,
   "id": "cebbe23f-951b-47e9-8675-959d539eb312",
   "metadata": {},
   "outputs": [],
   "source": []
  },
  {
   "cell_type": "code",
   "execution_count": 26,
   "id": "7e605ea4-b77c-4d4a-8f2d-f08ce6f35398",
   "metadata": {},
   "outputs": [
    {
     "name": "stdout",
     "output_type": "stream",
     "text": [
      "Response:  Based on the information provided in the text, the bank's financial performance for the year ended March 31, 2022, is summarized as follows:\n",
      "\n",
      "The bank reported a net operating income of $17,324 million for the year, which represents a 36% increase from the previous year's net operating income of $12,774 million. Operating expenses also increased by 22%, from $8,867 million in the prior year to $10,785 million in the current year. However, income tax expense increased significantly, from $899 million in the previous year to $1,586 million in the current year, leading to an overall profit attributable to ordinary equity holders of $4,706 million, a 56% increase from the prior year's profit of $3,015 million.\n",
      "\n",
      "It is important to note that this summary only provides information about the bank's net operating income, operating expenses, and income tax expense. The text also mentions the importance of assessing the business model, including whether sales activity is consistent with a held-to-collect business model, determining if cash flows generated by financial assets meet the criteria for solely payments of principal and interest (SPPI), and making judgments regarding compensation for early termination of contracts, among other factors. However, this information was not included in the provided summary of the bank's financial performance.\n",
      "Sources: ['annualreport.pdf:275:0', 'annualreport.pdf:274:0', 'annualreport.pdf:154:0', 'annualreport.pdf:275:1', 'annualreport.pdf:23:0']\n",
      "\n",
      " Time taken:  71.54961562156677\n"
     ]
    }
   ],
   "source": [
    "start_time = time()\n",
    "\n",
    "query_text = 'Summarize the financial performance of the bank'\n",
    "query_rag(query_text)\n",
    "\n",
    "print('\\n Time taken: ', time() - start_time)"
   ]
  },
  {
   "cell_type": "code",
   "execution_count": null,
   "id": "1c805b5f-59bb-4c3f-9c4b-ab506f4a5665",
   "metadata": {},
   "outputs": [],
   "source": []
  },
  {
   "cell_type": "code",
   "execution_count": null,
   "id": "d79e3010-4577-4576-ab71-ba3827a94dfb",
   "metadata": {},
   "outputs": [],
   "source": []
  },
  {
   "cell_type": "code",
   "execution_count": null,
   "id": "aac7e258-63a5-4fd9-a19a-df2ecfb0ab8b",
   "metadata": {},
   "outputs": [],
   "source": []
  }
 ],
 "metadata": {
  "kernelspec": {
   "display_name": "Python 3 (ipykernel)",
   "language": "python",
   "name": "python3"
  },
  "language_info": {
   "codemirror_mode": {
    "name": "ipython",
    "version": 3
   },
   "file_extension": ".py",
   "mimetype": "text/x-python",
   "name": "python",
   "nbconvert_exporter": "python",
   "pygments_lexer": "ipython3",
   "version": "3.10.14"
  }
 },
 "nbformat": 4,
 "nbformat_minor": 5
}
