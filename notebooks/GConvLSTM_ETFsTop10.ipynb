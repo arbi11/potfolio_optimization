{
 "cells": [
  {
   "cell_type": "code",
   "execution_count": 1,
   "id": "225127a3-9130-4517-8947-f3b1091baee1",
   "metadata": {},
   "outputs": [],
   "source": [
    "import pandas as pd\n",
    "import numpy as np\n",
    "import matplotlib.pyplot as plt\n",
    "import seaborn as sns\n",
    "import networkx as nx\n",
    "import datetime\n",
    "import yfinance as yf\n"
   ]
  },
  {
   "cell_type": "code",
   "execution_count": 2,
   "id": "b3979297-611a-4ff2-b518-62ee92b84222",
   "metadata": {},
   "outputs": [
    {
     "name": "stderr",
     "output_type": "stream",
     "text": [
      "C:\\Users\\akhan147\\Anaconda3\\envs\\trader\\lib\\site-packages\\tqdm\\auto.py:21: TqdmWarning: IProgress not found. Please update jupyter and ipywidgets. See https://ipywidgets.readthedocs.io/en/stable/user_install.html\n",
      "  from .autonotebook import tqdm as notebook_tqdm\n"
     ]
    }
   ],
   "source": [
    "import torch\n",
    "import torch.nn as nn\n",
    "import torch.nn.functional as F\n",
    "from torch_geometric_temporal.signal import temporal_signal_split"
   ]
  },
  {
   "cell_type": "code",
   "execution_count": 3,
   "id": "3687dfcd-6438-4860-bdf4-98ca25725ec9",
   "metadata": {},
   "outputs": [],
   "source": [
    "from pathlib import Path\n",
    "data_dir = Path(r'F:\\cc_data')\n",
    "model_dir = data_dir.absolute() / 'models'"
   ]
  },
  {
   "cell_type": "code",
   "execution_count": 4,
   "id": "eb76c5da-f638-49bd-80bf-1f55b6cba8dd",
   "metadata": {},
   "outputs": [],
   "source": [
    "# GPU support\n",
    "DEVICE = torch.device('cpu') # cuda\n",
    "shuffle=True\n",
    "batch_size = 32"
   ]
  },
  {
   "cell_type": "markdown",
   "id": "f8e1acba-13e6-4ef2-87ed-d8c109e5a339",
   "metadata": {},
   "source": [
    "# Data"
   ]
  },
  {
   "cell_type": "code",
   "execution_count": null,
   "id": "ea3974db-7f3c-4fe7-803c-7a9c195fe8c3",
   "metadata": {},
   "outputs": [],
   "source": []
  },
  {
   "cell_type": "code",
   "execution_count": 5,
   "id": "45c92741-59bc-4734-8d4c-908765acf2b9",
   "metadata": {},
   "outputs": [],
   "source": [
    "start = datetime.datetime(2020, 1, 1)\n",
    "end_train = datetime.datetime(2024, 4, 1)\n",
    "end_test = datetime.datetime.now()"
   ]
  },
  {
   "cell_type": "markdown",
   "id": "e89eb6ec-672a-4230-975b-81740c5603f0",
   "metadata": {},
   "source": [
    "\n",
    "|Rank\t| Symbol |\tFund | Name |\n",
    "|---|---|----|----|\n",
    "|1\t| SPY\t| SPDR S&P 500 ETF Trust |\n",
    "|2\t| IVV\t| iShares Core S&P 500 ETF |\n",
    "|3\t| VOO\t| Vanguard S&P 500 ETF|\n",
    "|4\t| VTI\t| Vanguard Total Stock Market ETF|\n",
    "|5\t| QQQ\t| Invesco QQQ Trust Series I|\n",
    "|6\t| VEA\t| Vanguard FTSE Developed Markets ETF|\n",
    "|7\t| VUG\t| Vanguard Growth ETF|\n",
    "|8\t| VTV\t| Vanguard Value ETF|\n",
    "|9\t| IEFA\t| iShares Core MSCI EAFE ETF|\n",
    "|10\t| AGG\t| iShares Core U.S. Aggregate Bond ETF"
   ]
  },
  {
   "cell_type": "markdown",
   "id": "8c57bab1-0c31-4d12-ac67-f5d33eab5380",
   "metadata": {},
   "source": [
    "[Top ETFs](https://www.marketwatch.com/tools/top-25-etfs)"
   ]
  },
  {
   "cell_type": "code",
   "execution_count": 6,
   "id": "f25d2796-cc30-40ce-bbd2-62837891d5f0",
   "metadata": {},
   "outputs": [
    {
     "name": "stderr",
     "output_type": "stream",
     "text": [
      "[*********************100%***********************]  10 of 10 completed\n",
      "[*********************100%***********************]  10 of 10 completed\n"
     ]
    },
    {
     "data": {
      "text/html": [
       "<div>\n",
       "<style scoped>\n",
       "    .dataframe tbody tr th:only-of-type {\n",
       "        vertical-align: middle;\n",
       "    }\n",
       "\n",
       "    .dataframe tbody tr th {\n",
       "        vertical-align: top;\n",
       "    }\n",
       "\n",
       "    .dataframe thead tr th {\n",
       "        text-align: left;\n",
       "    }\n",
       "\n",
       "    .dataframe thead tr:last-of-type th {\n",
       "        text-align: right;\n",
       "    }\n",
       "</style>\n",
       "<table border=\"1\" class=\"dataframe\">\n",
       "  <thead>\n",
       "    <tr>\n",
       "      <th>Price</th>\n",
       "      <th colspan=\"10\" halign=\"left\">Adj Close</th>\n",
       "      <th>...</th>\n",
       "      <th colspan=\"10\" halign=\"left\">Volume</th>\n",
       "    </tr>\n",
       "    <tr>\n",
       "      <th>Ticker</th>\n",
       "      <th>AGG</th>\n",
       "      <th>IEFA</th>\n",
       "      <th>IVV</th>\n",
       "      <th>QQQ</th>\n",
       "      <th>SPY</th>\n",
       "      <th>VEA</th>\n",
       "      <th>VOO</th>\n",
       "      <th>VTI</th>\n",
       "      <th>VTV</th>\n",
       "      <th>VUG</th>\n",
       "      <th>...</th>\n",
       "      <th>AGG</th>\n",
       "      <th>IEFA</th>\n",
       "      <th>IVV</th>\n",
       "      <th>QQQ</th>\n",
       "      <th>SPY</th>\n",
       "      <th>VEA</th>\n",
       "      <th>VOO</th>\n",
       "      <th>VTI</th>\n",
       "      <th>VTV</th>\n",
       "      <th>VUG</th>\n",
       "    </tr>\n",
       "    <tr>\n",
       "      <th>Date</th>\n",
       "      <th></th>\n",
       "      <th></th>\n",
       "      <th></th>\n",
       "      <th></th>\n",
       "      <th></th>\n",
       "      <th></th>\n",
       "      <th></th>\n",
       "      <th></th>\n",
       "      <th></th>\n",
       "      <th></th>\n",
       "      <th></th>\n",
       "      <th></th>\n",
       "      <th></th>\n",
       "      <th></th>\n",
       "      <th></th>\n",
       "      <th></th>\n",
       "      <th></th>\n",
       "      <th></th>\n",
       "      <th></th>\n",
       "      <th></th>\n",
       "      <th></th>\n",
       "    </tr>\n",
       "  </thead>\n",
       "  <tbody>\n",
       "    <tr>\n",
       "      <th>2020-01-02 00:00:00+00:00</th>\n",
       "      <td>99.801201</td>\n",
       "      <td>57.861572</td>\n",
       "      <td>302.929230</td>\n",
       "      <td>209.976120</td>\n",
       "      <td>302.208679</td>\n",
       "      <td>38.784164</td>\n",
       "      <td>276.999237</td>\n",
       "      <td>153.396179</td>\n",
       "      <td>106.480408</td>\n",
       "      <td>179.231476</td>\n",
       "      <td>...</td>\n",
       "      <td>6791400</td>\n",
       "      <td>10523100</td>\n",
       "      <td>4070500</td>\n",
       "      <td>30969400</td>\n",
       "      <td>59151200</td>\n",
       "      <td>8229000</td>\n",
       "      <td>3142400</td>\n",
       "      <td>3291100</td>\n",
       "      <td>1634700</td>\n",
       "      <td>1035800</td>\n",
       "    </tr>\n",
       "    <tr>\n",
       "      <th>2020-01-03 00:00:00+00:00</th>\n",
       "      <td>100.093475</td>\n",
       "      <td>57.141933</td>\n",
       "      <td>300.599182</td>\n",
       "      <td>208.052734</td>\n",
       "      <td>299.920319</td>\n",
       "      <td>38.312691</td>\n",
       "      <td>274.975708</td>\n",
       "      <td>152.419876</td>\n",
       "      <td>105.631668</td>\n",
       "      <td>177.999664</td>\n",
       "      <td>...</td>\n",
       "      <td>3664300</td>\n",
       "      <td>9663700</td>\n",
       "      <td>4290400</td>\n",
       "      <td>27518900</td>\n",
       "      <td>77709700</td>\n",
       "      <td>9697300</td>\n",
       "      <td>3247900</td>\n",
       "      <td>3625400</td>\n",
       "      <td>1401600</td>\n",
       "      <td>909800</td>\n",
       "    </tr>\n",
       "    <tr>\n",
       "      <th>2020-01-06 00:00:00+00:00</th>\n",
       "      <td>100.013802</td>\n",
       "      <td>57.343781</td>\n",
       "      <td>301.787415</td>\n",
       "      <td>209.393280</td>\n",
       "      <td>301.064423</td>\n",
       "      <td>38.443649</td>\n",
       "      <td>276.006042</td>\n",
       "      <td>152.940582</td>\n",
       "      <td>105.764275</td>\n",
       "      <td>179.144196</td>\n",
       "      <td>...</td>\n",
       "      <td>8131600</td>\n",
       "      <td>7468300</td>\n",
       "      <td>4212000</td>\n",
       "      <td>21655300</td>\n",
       "      <td>55653900</td>\n",
       "      <td>8579400</td>\n",
       "      <td>2777100</td>\n",
       "      <td>6813800</td>\n",
       "      <td>1546300</td>\n",
       "      <td>773700</td>\n",
       "    </tr>\n",
       "    <tr>\n",
       "      <th>2020-01-07 00:00:00+00:00</th>\n",
       "      <td>99.907471</td>\n",
       "      <td>57.212139</td>\n",
       "      <td>300.961243</td>\n",
       "      <td>209.364136</td>\n",
       "      <td>300.217957</td>\n",
       "      <td>38.382530</td>\n",
       "      <td>275.244812</td>\n",
       "      <td>152.577911</td>\n",
       "      <td>105.357590</td>\n",
       "      <td>179.086014</td>\n",
       "      <td>...</td>\n",
       "      <td>2883000</td>\n",
       "      <td>5815100</td>\n",
       "      <td>3632500</td>\n",
       "      <td>22139300</td>\n",
       "      <td>40496400</td>\n",
       "      <td>7884600</td>\n",
       "      <td>2251800</td>\n",
       "      <td>2498400</td>\n",
       "      <td>1422200</td>\n",
       "      <td>848800</td>\n",
       "    </tr>\n",
       "    <tr>\n",
       "      <th>2020-01-08 00:00:00+00:00</th>\n",
       "      <td>99.792389</td>\n",
       "      <td>57.343781</td>\n",
       "      <td>302.492889</td>\n",
       "      <td>210.937744</td>\n",
       "      <td>301.817932</td>\n",
       "      <td>38.434921</td>\n",
       "      <td>276.665009</td>\n",
       "      <td>153.331039</td>\n",
       "      <td>105.605141</td>\n",
       "      <td>180.492386</td>\n",
       "      <td>...</td>\n",
       "      <td>7323100</td>\n",
       "      <td>8249700</td>\n",
       "      <td>3912100</td>\n",
       "      <td>26397300</td>\n",
       "      <td>68296000</td>\n",
       "      <td>9948100</td>\n",
       "      <td>3719500</td>\n",
       "      <td>4244800</td>\n",
       "      <td>1401700</td>\n",
       "      <td>667200</td>\n",
       "    </tr>\n",
       "  </tbody>\n",
       "</table>\n",
       "<p>5 rows × 60 columns</p>\n",
       "</div>"
      ],
      "text/plain": [
       "Price                       Adj Close                                     \\\n",
       "Ticker                            AGG       IEFA         IVV         QQQ   \n",
       "Date                                                                       \n",
       "2020-01-02 00:00:00+00:00   99.801201  57.861572  302.929230  209.976120   \n",
       "2020-01-03 00:00:00+00:00  100.093475  57.141933  300.599182  208.052734   \n",
       "2020-01-06 00:00:00+00:00  100.013802  57.343781  301.787415  209.393280   \n",
       "2020-01-07 00:00:00+00:00   99.907471  57.212139  300.961243  209.364136   \n",
       "2020-01-08 00:00:00+00:00   99.792389  57.343781  302.492889  210.937744   \n",
       "\n",
       "Price                                                                     \\\n",
       "Ticker                            SPY        VEA         VOO         VTI   \n",
       "Date                                                                       \n",
       "2020-01-02 00:00:00+00:00  302.208679  38.784164  276.999237  153.396179   \n",
       "2020-01-03 00:00:00+00:00  299.920319  38.312691  274.975708  152.419876   \n",
       "2020-01-06 00:00:00+00:00  301.064423  38.443649  276.006042  152.940582   \n",
       "2020-01-07 00:00:00+00:00  300.217957  38.382530  275.244812  152.577911   \n",
       "2020-01-08 00:00:00+00:00  301.817932  38.434921  276.665009  153.331039   \n",
       "\n",
       "Price                                              ...   Volume            \\\n",
       "Ticker                            VTV         VUG  ...      AGG      IEFA   \n",
       "Date                                               ...                      \n",
       "2020-01-02 00:00:00+00:00  106.480408  179.231476  ...  6791400  10523100   \n",
       "2020-01-03 00:00:00+00:00  105.631668  177.999664  ...  3664300   9663700   \n",
       "2020-01-06 00:00:00+00:00  105.764275  179.144196  ...  8131600   7468300   \n",
       "2020-01-07 00:00:00+00:00  105.357590  179.086014  ...  2883000   5815100   \n",
       "2020-01-08 00:00:00+00:00  105.605141  180.492386  ...  7323100   8249700   \n",
       "\n",
       "Price                                                                     \\\n",
       "Ticker                         IVV       QQQ       SPY      VEA      VOO   \n",
       "Date                                                                       \n",
       "2020-01-02 00:00:00+00:00  4070500  30969400  59151200  8229000  3142400   \n",
       "2020-01-03 00:00:00+00:00  4290400  27518900  77709700  9697300  3247900   \n",
       "2020-01-06 00:00:00+00:00  4212000  21655300  55653900  8579400  2777100   \n",
       "2020-01-07 00:00:00+00:00  3632500  22139300  40496400  7884600  2251800   \n",
       "2020-01-08 00:00:00+00:00  3912100  26397300  68296000  9948100  3719500   \n",
       "\n",
       "Price                                                 \n",
       "Ticker                         VTI      VTV      VUG  \n",
       "Date                                                  \n",
       "2020-01-02 00:00:00+00:00  3291100  1634700  1035800  \n",
       "2020-01-03 00:00:00+00:00  3625400  1401600   909800  \n",
       "2020-01-06 00:00:00+00:00  6813800  1546300   773700  \n",
       "2020-01-07 00:00:00+00:00  2498400  1422200   848800  \n",
       "2020-01-08 00:00:00+00:00  4244800  1401700   667200  \n",
       "\n",
       "[5 rows x 60 columns]"
      ]
     },
     "execution_count": 6,
     "metadata": {},
     "output_type": "execute_result"
    }
   ],
   "source": [
    "import yfinance as yf\n",
    "\n",
    "tickers = [\"SPY\", \"IVV\", \"VOO\", \"VTI\", \"QQQ\", \"VEA\", \"VUG\", \"VTV\", \"IEFA\", \"AGG\"]\n",
    "\n",
    "df_train = yf.download(tickers, start=start, end=end_train)\n",
    "df_test = yf.download(tickers, start=end_train, end=end_test)\n",
    "df_train.head()"
   ]
  },
  {
   "cell_type": "code",
   "execution_count": 7,
   "id": "5c11c4cf-fdf8-40b8-8231-0a2eb7cdff0b",
   "metadata": {},
   "outputs": [
    {
     "data": {
      "text/plain": [
       "['F:\\\\cc_data\\\\models\\\\scaler.pkl']"
      ]
     },
     "execution_count": 7,
     "metadata": {},
     "output_type": "execute_result"
    }
   ],
   "source": [
    "import joblib\n",
    "from sklearn.preprocessing import MinMaxScaler, StandardScaler\n",
    "\n",
    "scaler = StandardScaler()\n",
    "\n",
    "scaled_train_data = scaler.fit_transform(df_train)\n",
    "scaled_test_data = scaler.transform(df_test)\n",
    "\n",
    "joblib.dump(scaler, model_dir / 'scaler.pkl')"
   ]
  },
  {
   "cell_type": "code",
   "execution_count": 8,
   "id": "679ea98a-15cd-4a90-997c-24fb19f629e5",
   "metadata": {},
   "outputs": [
    {
     "data": {
      "text/plain": [
       "((1067, 60), (129, 60))"
      ]
     },
     "execution_count": 8,
     "metadata": {},
     "output_type": "execute_result"
    }
   ],
   "source": [
    "df_train = pd.DataFrame(scaled_train_data, index=df_train.index, columns= df_train.columns)\n",
    "df_test = pd.DataFrame(scaled_test_data, index=df_test.index, columns= df_test.columns)\n",
    "df_train.shape, df_test.shape"
   ]
  },
  {
   "cell_type": "code",
   "execution_count": 9,
   "id": "527dee72-ee4e-46ed-808b-63db27047d16",
   "metadata": {},
   "outputs": [
    {
     "data": {
      "text/html": [
       "<div>\n",
       "<style scoped>\n",
       "    .dataframe tbody tr th:only-of-type {\n",
       "        vertical-align: middle;\n",
       "    }\n",
       "\n",
       "    .dataframe tbody tr th {\n",
       "        vertical-align: top;\n",
       "    }\n",
       "\n",
       "    .dataframe thead tr th {\n",
       "        text-align: left;\n",
       "    }\n",
       "\n",
       "    .dataframe thead tr:last-of-type th {\n",
       "        text-align: right;\n",
       "    }\n",
       "</style>\n",
       "<table border=\"1\" class=\"dataframe\">\n",
       "  <thead>\n",
       "    <tr>\n",
       "      <th>Price</th>\n",
       "      <th colspan=\"10\" halign=\"left\">Adj Close</th>\n",
       "      <th>...</th>\n",
       "      <th colspan=\"10\" halign=\"left\">Volume</th>\n",
       "    </tr>\n",
       "    <tr>\n",
       "      <th>Ticker</th>\n",
       "      <th>AGG</th>\n",
       "      <th>IEFA</th>\n",
       "      <th>IVV</th>\n",
       "      <th>QQQ</th>\n",
       "      <th>SPY</th>\n",
       "      <th>VEA</th>\n",
       "      <th>VOO</th>\n",
       "      <th>VTI</th>\n",
       "      <th>VTV</th>\n",
       "      <th>VUG</th>\n",
       "      <th>...</th>\n",
       "      <th>AGG</th>\n",
       "      <th>IEFA</th>\n",
       "      <th>IVV</th>\n",
       "      <th>QQQ</th>\n",
       "      <th>SPY</th>\n",
       "      <th>VEA</th>\n",
       "      <th>VOO</th>\n",
       "      <th>VTI</th>\n",
       "      <th>VTV</th>\n",
       "      <th>VUG</th>\n",
       "    </tr>\n",
       "    <tr>\n",
       "      <th>Date</th>\n",
       "      <th></th>\n",
       "      <th></th>\n",
       "      <th></th>\n",
       "      <th></th>\n",
       "      <th></th>\n",
       "      <th></th>\n",
       "      <th></th>\n",
       "      <th></th>\n",
       "      <th></th>\n",
       "      <th></th>\n",
       "      <th></th>\n",
       "      <th></th>\n",
       "      <th></th>\n",
       "      <th></th>\n",
       "      <th></th>\n",
       "      <th></th>\n",
       "      <th></th>\n",
       "      <th></th>\n",
       "      <th></th>\n",
       "      <th></th>\n",
       "      <th></th>\n",
       "    </tr>\n",
       "  </thead>\n",
       "  <tbody>\n",
       "    <tr>\n",
       "      <th>2020-01-02 00:00:00+00:00</th>\n",
       "      <td>0.078591</td>\n",
       "      <td>-0.502014</td>\n",
       "      <td>-1.434128</td>\n",
       "      <td>-1.821195</td>\n",
       "      <td>-1.435895</td>\n",
       "      <td>-0.616524</td>\n",
       "      <td>-1.435763</td>\n",
       "      <td>-1.441903</td>\n",
       "      <td>-0.947609</td>\n",
       "      <td>-1.711986</td>\n",
       "      <td>...</td>\n",
       "      <td>-0.165613</td>\n",
       "      <td>-0.031850</td>\n",
       "      <td>-0.403814</td>\n",
       "      <td>-0.940624</td>\n",
       "      <td>-0.658449</td>\n",
       "      <td>-0.603358</td>\n",
       "      <td>-0.624026</td>\n",
       "      <td>-0.329823</td>\n",
       "      <td>-0.882999</td>\n",
       "      <td>-0.051753</td>\n",
       "    </tr>\n",
       "    <tr>\n",
       "      <th>2020-01-03 00:00:00+00:00</th>\n",
       "      <td>0.127960</td>\n",
       "      <td>-0.605562</td>\n",
       "      <td>-1.473383</td>\n",
       "      <td>-1.854182</td>\n",
       "      <td>-1.474697</td>\n",
       "      <td>-0.714245</td>\n",
       "      <td>-1.473019</td>\n",
       "      <td>-1.475327</td>\n",
       "      <td>-0.994208</td>\n",
       "      <td>-1.740929</td>\n",
       "      <td>...</td>\n",
       "      <td>-1.218044</td>\n",
       "      <td>-0.165705</td>\n",
       "      <td>-0.323507</td>\n",
       "      <td>-1.093035</td>\n",
       "      <td>-0.219528</td>\n",
       "      <td>-0.431776</td>\n",
       "      <td>-0.583297</td>\n",
       "      <td>-0.173955</td>\n",
       "      <td>-1.077259</td>\n",
       "      <td>-0.282331</td>\n",
       "    </tr>\n",
       "    <tr>\n",
       "      <th>2020-01-06 00:00:00+00:00</th>\n",
       "      <td>0.114502</td>\n",
       "      <td>-0.576518</td>\n",
       "      <td>-1.453365</td>\n",
       "      <td>-1.831191</td>\n",
       "      <td>-1.455297</td>\n",
       "      <td>-0.687102</td>\n",
       "      <td>-1.454049</td>\n",
       "      <td>-1.457501</td>\n",
       "      <td>-0.986927</td>\n",
       "      <td>-1.714037</td>\n",
       "      <td>...</td>\n",
       "      <td>0.285435</td>\n",
       "      <td>-0.507647</td>\n",
       "      <td>-0.352139</td>\n",
       "      <td>-1.352033</td>\n",
       "      <td>-0.741162</td>\n",
       "      <td>-0.562411</td>\n",
       "      <td>-0.765055</td>\n",
       "      <td>1.312639</td>\n",
       "      <td>-0.956669</td>\n",
       "      <td>-0.531391</td>\n",
       "    </tr>\n",
       "    <tr>\n",
       "      <th>2020-01-07 00:00:00+00:00</th>\n",
       "      <td>0.096541</td>\n",
       "      <td>-0.595460</td>\n",
       "      <td>-1.467283</td>\n",
       "      <td>-1.831691</td>\n",
       "      <td>-1.469650</td>\n",
       "      <td>-0.699770</td>\n",
       "      <td>-1.468064</td>\n",
       "      <td>-1.469917</td>\n",
       "      <td>-1.009256</td>\n",
       "      <td>-1.715404</td>\n",
       "      <td>...</td>\n",
       "      <td>-1.480993</td>\n",
       "      <td>-0.765139</td>\n",
       "      <td>-0.563770</td>\n",
       "      <td>-1.330655</td>\n",
       "      <td>-1.099646</td>\n",
       "      <td>-0.643603</td>\n",
       "      <td>-0.967855</td>\n",
       "      <td>-0.699420</td>\n",
       "      <td>-1.060091</td>\n",
       "      <td>-0.393960</td>\n",
       "    </tr>\n",
       "    <tr>\n",
       "      <th>2020-01-08 00:00:00+00:00</th>\n",
       "      <td>0.077102</td>\n",
       "      <td>-0.576518</td>\n",
       "      <td>-1.441479</td>\n",
       "      <td>-1.804703</td>\n",
       "      <td>-1.442520</td>\n",
       "      <td>-0.688911</td>\n",
       "      <td>-1.441917</td>\n",
       "      <td>-1.444133</td>\n",
       "      <td>-0.995664</td>\n",
       "      <td>-1.682359</td>\n",
       "      <td>...</td>\n",
       "      <td>0.013332</td>\n",
       "      <td>-0.385941</td>\n",
       "      <td>-0.461661</td>\n",
       "      <td>-1.142576</td>\n",
       "      <td>-0.442168</td>\n",
       "      <td>-0.402468</td>\n",
       "      <td>-0.401229</td>\n",
       "      <td>0.114841</td>\n",
       "      <td>-1.077175</td>\n",
       "      <td>-0.726284</td>\n",
       "    </tr>\n",
       "  </tbody>\n",
       "</table>\n",
       "<p>5 rows × 60 columns</p>\n",
       "</div>"
      ],
      "text/plain": [
       "Price                     Adj Close                                          \\\n",
       "Ticker                          AGG      IEFA       IVV       QQQ       SPY   \n",
       "Date                                                                          \n",
       "2020-01-02 00:00:00+00:00  0.078591 -0.502014 -1.434128 -1.821195 -1.435895   \n",
       "2020-01-03 00:00:00+00:00  0.127960 -0.605562 -1.473383 -1.854182 -1.474697   \n",
       "2020-01-06 00:00:00+00:00  0.114502 -0.576518 -1.453365 -1.831191 -1.455297   \n",
       "2020-01-07 00:00:00+00:00  0.096541 -0.595460 -1.467283 -1.831691 -1.469650   \n",
       "2020-01-08 00:00:00+00:00  0.077102 -0.576518 -1.441479 -1.804703 -1.442520   \n",
       "\n",
       "Price                                                                        \\\n",
       "Ticker                          VEA       VOO       VTI       VTV       VUG   \n",
       "Date                                                                          \n",
       "2020-01-02 00:00:00+00:00 -0.616524 -1.435763 -1.441903 -0.947609 -1.711986   \n",
       "2020-01-03 00:00:00+00:00 -0.714245 -1.473019 -1.475327 -0.994208 -1.740929   \n",
       "2020-01-06 00:00:00+00:00 -0.687102 -1.454049 -1.457501 -0.986927 -1.714037   \n",
       "2020-01-07 00:00:00+00:00 -0.699770 -1.468064 -1.469917 -1.009256 -1.715404   \n",
       "2020-01-08 00:00:00+00:00 -0.688911 -1.441917 -1.444133 -0.995664 -1.682359   \n",
       "\n",
       "Price                      ...    Volume                                \\\n",
       "Ticker                     ...       AGG      IEFA       IVV       QQQ   \n",
       "Date                       ...                                           \n",
       "2020-01-02 00:00:00+00:00  ... -0.165613 -0.031850 -0.403814 -0.940624   \n",
       "2020-01-03 00:00:00+00:00  ... -1.218044 -0.165705 -0.323507 -1.093035   \n",
       "2020-01-06 00:00:00+00:00  ...  0.285435 -0.507647 -0.352139 -1.352033   \n",
       "2020-01-07 00:00:00+00:00  ... -1.480993 -0.765139 -0.563770 -1.330655   \n",
       "2020-01-08 00:00:00+00:00  ...  0.013332 -0.385941 -0.461661 -1.142576   \n",
       "\n",
       "Price                                                                        \\\n",
       "Ticker                          SPY       VEA       VOO       VTI       VTV   \n",
       "Date                                                                          \n",
       "2020-01-02 00:00:00+00:00 -0.658449 -0.603358 -0.624026 -0.329823 -0.882999   \n",
       "2020-01-03 00:00:00+00:00 -0.219528 -0.431776 -0.583297 -0.173955 -1.077259   \n",
       "2020-01-06 00:00:00+00:00 -0.741162 -0.562411 -0.765055  1.312639 -0.956669   \n",
       "2020-01-07 00:00:00+00:00 -1.099646 -0.643603 -0.967855 -0.699420 -1.060091   \n",
       "2020-01-08 00:00:00+00:00 -0.442168 -0.402468 -0.401229  0.114841 -1.077175   \n",
       "\n",
       "Price                                \n",
       "Ticker                          VUG  \n",
       "Date                                 \n",
       "2020-01-02 00:00:00+00:00 -0.051753  \n",
       "2020-01-03 00:00:00+00:00 -0.282331  \n",
       "2020-01-06 00:00:00+00:00 -0.531391  \n",
       "2020-01-07 00:00:00+00:00 -0.393960  \n",
       "2020-01-08 00:00:00+00:00 -0.726284  \n",
       "\n",
       "[5 rows x 60 columns]"
      ]
     },
     "execution_count": 9,
     "metadata": {},
     "output_type": "execute_result"
    }
   ],
   "source": [
    "df_train.head()"
   ]
  },
  {
   "cell_type": "code",
   "execution_count": null,
   "id": "35a4ca6b-c7bf-40b1-83b6-226932facd10",
   "metadata": {},
   "outputs": [],
   "source": []
  },
  {
   "cell_type": "markdown",
   "id": "d8ad607e-4aac-47e4-9702-77a6cd2693ef",
   "metadata": {},
   "source": [
    "* `1194` : trading days\n",
    "* (1194, 60) --> (1194, 10, 6, 15) \n",
    "* 1194 : num_samples,\n",
    "* 10 : etfs,\n",
    "* 6 : OHLC, Add CLose, Volume,\n",
    "* 15 : bicket size (days), for time being only 1"
   ]
  },
  {
   "cell_type": "code",
   "execution_count": null,
   "id": "88d80d1c-ba48-43a0-9a63-9c9d9fd2b3f0",
   "metadata": {},
   "outputs": [],
   "source": []
  },
  {
   "cell_type": "code",
   "execution_count": 10,
   "id": "f0845da4-002f-42ae-aacd-aba44284c6a6",
   "metadata": {},
   "outputs": [
    {
     "data": {
      "text/plain": [
       "(Timestamp('2020-01-02 00:00:00+0000', tz='UTC'),\n",
       " Timestamp('2024-03-28 00:00:00+0000', tz='UTC'))"
      ]
     },
     "execution_count": 10,
     "metadata": {},
     "output_type": "execute_result"
    }
   ],
   "source": [
    "df_train.index.min(), df_train.index.max()"
   ]
  },
  {
   "cell_type": "code",
   "execution_count": 11,
   "id": "5d0c675c-f9dd-4178-a027-a183e6335e03",
   "metadata": {},
   "outputs": [
    {
     "data": {
      "text/plain": [
       "(Timestamp('2024-04-01 00:00:00+0000', tz='UTC'),\n",
       " Timestamp('2024-10-02 00:00:00+0000', tz='UTC'))"
      ]
     },
     "execution_count": 11,
     "metadata": {},
     "output_type": "execute_result"
    }
   ],
   "source": [
    "df_test.index.min(), df_test.index.max()"
   ]
  },
  {
   "cell_type": "code",
   "execution_count": 12,
   "id": "4e7ae600-543f-4c86-9319-42893fa0214d",
   "metadata": {},
   "outputs": [],
   "source": [
    "# df.columns"
   ]
  },
  {
   "cell_type": "code",
   "execution_count": 13,
   "id": "9a679d45-4358-4de1-a4c4-2071d924aa11",
   "metadata": {},
   "outputs": [],
   "source": [
    "df_train.to_csv(data_dir / 'top10_etf_train.csv')\n",
    "df_test.to_csv(data_dir / 'top10_etf_test.csv')"
   ]
  },
  {
   "cell_type": "code",
   "execution_count": 14,
   "id": "138150d7-1c4b-4da2-a345-391760eb7ab6",
   "metadata": {},
   "outputs": [
    {
     "data": {
      "text/plain": [
       "(129, 60)"
      ]
     },
     "execution_count": 14,
     "metadata": {},
     "output_type": "execute_result"
    }
   ],
   "source": [
    "data_numpy_test = df_test.values\n",
    "data_numpy_test.shape"
   ]
  },
  {
   "cell_type": "code",
   "execution_count": 15,
   "id": "4dbee1bc-2e9c-4315-9ae3-1eb4b02da223",
   "metadata": {},
   "outputs": [
    {
     "data": {
      "text/plain": [
       "(1067, 60)"
      ]
     },
     "execution_count": 15,
     "metadata": {},
     "output_type": "execute_result"
    }
   ],
   "source": [
    "data_numpy = df_train.values\n",
    "data_numpy.shape"
   ]
  },
  {
   "cell_type": "code",
   "execution_count": 16,
   "id": "59a2426e-41c7-43a4-9096-b943404b2f37",
   "metadata": {},
   "outputs": [],
   "source": [
    "arrays = {}\n",
    "arrays_test = {}\n",
    "for level in df_train.columns.levels[1]:\n",
    "    arrays[level] = df_train.xs(level, axis=1, level=1).to_numpy()\n",
    "    arrays_test[level] = df_test.xs(level, axis=1, level=1).to_numpy()"
   ]
  },
  {
   "cell_type": "code",
   "execution_count": 17,
   "id": "0334be23-a238-4bd7-b0e9-1082be9ccb47",
   "metadata": {},
   "outputs": [
    {
     "data": {
      "text/plain": [
       "dict_keys(['AGG', 'IEFA', 'IVV', 'QQQ', 'SPY', 'VEA', 'VOO', 'VTI', 'VTV', 'VUG'])"
      ]
     },
     "execution_count": 17,
     "metadata": {},
     "output_type": "execute_result"
    }
   ],
   "source": [
    "arrays.keys()"
   ]
  },
  {
   "cell_type": "code",
   "execution_count": 18,
   "id": "395c99f6-9762-432f-b1ed-bbb1e8762f8a",
   "metadata": {},
   "outputs": [
    {
     "data": {
      "text/plain": [
       "(1067, 6)"
      ]
     },
     "execution_count": 18,
     "metadata": {},
     "output_type": "execute_result"
    }
   ],
   "source": [
    "arrays['AGG'].shape"
   ]
  },
  {
   "cell_type": "code",
   "execution_count": null,
   "id": "61bae5a9-37b1-4c72-b646-9324ea6f36b9",
   "metadata": {},
   "outputs": [],
   "source": []
  },
  {
   "cell_type": "markdown",
   "id": "1baf57e4-9e4c-440a-b4ac-92eb0fd0dcca",
   "metadata": {},
   "source": [
    "# Tabular data --> Temporal Graph data"
   ]
  },
  {
   "cell_type": "code",
   "execution_count": 19,
   "id": "a09e07be-663f-4089-a15b-139f65bd7bb4",
   "metadata": {},
   "outputs": [],
   "source": [
    "num_timesteps_in = 15\n",
    "num_timesteps_out = 5"
   ]
  },
  {
   "cell_type": "code",
   "execution_count": 20,
   "id": "6c28749a-7998-48e3-be51-a6a62d9cee0d",
   "metadata": {},
   "outputs": [
    {
     "data": {
      "text/plain": [
       "1048"
      ]
     },
     "execution_count": 20,
     "metadata": {},
     "output_type": "execute_result"
    }
   ],
   "source": [
    "indices = [(i, i + num_timesteps_in + num_timesteps_out) for i in range(data_numpy.shape[0] - num_timesteps_in - num_timesteps_out + 1)]\n",
    "len(indices)"
   ]
  },
  {
   "cell_type": "code",
   "execution_count": 21,
   "id": "db594012-34bf-427f-a5fe-090f7c2a7233",
   "metadata": {},
   "outputs": [
    {
     "data": {
      "text/plain": [
       "[(0, 20), (1, 21), (2, 22), (3, 23), (4, 24)]"
      ]
     },
     "execution_count": 21,
     "metadata": {},
     "output_type": "execute_result"
    }
   ],
   "source": [
    "indices[:5]"
   ]
  },
  {
   "cell_type": "code",
   "execution_count": 22,
   "id": "0c3f16b7-7fd1-4c29-a7fe-eb40f053a99c",
   "metadata": {},
   "outputs": [
    {
     "data": {
      "text/plain": [
       "[(1043, 1063), (1044, 1064), (1045, 1065), (1046, 1066), (1047, 1067)]"
      ]
     },
     "execution_count": 22,
     "metadata": {},
     "output_type": "execute_result"
    }
   ],
   "source": [
    "indices[-5:]"
   ]
  },
  {
   "cell_type": "code",
   "execution_count": null,
   "id": "c96a89d2-9737-470b-94dc-8195d6598cda",
   "metadata": {},
   "outputs": [],
   "source": []
  },
  {
   "cell_type": "code",
   "execution_count": 23,
   "id": "29b52222-77af-4146-a031-3dfd94295441",
   "metadata": {},
   "outputs": [
    {
     "data": {
      "text/plain": [
       "((1048, 10, 15), (1048, 10, 5))"
      ]
     },
     "execution_count": 23,
     "metadata": {},
     "output_type": "execute_result"
    }
   ],
   "source": [
    "features = []\n",
    "targets = []\n",
    "for i, j in indices:\n",
    "    \n",
    "    features_bucket_list = []\n",
    "    target_bucket_list = []\n",
    "    \n",
    "    for etf in arrays.keys():\n",
    "        features_bucket_list.append(arrays[etf][i : i+num_timesteps_in, 0].T)\n",
    "        target_bucket_list.append(arrays[etf][i+num_timesteps_in : j, 0].T)\n",
    "    \n",
    "    features_array_stack = np.stack(features_bucket_list, axis=0)\n",
    "    target_array_stack = np.stack(target_bucket_list, axis=0)\n",
    "    \n",
    "    features.append(features_array_stack)\n",
    "    targets.append(target_array_stack)\n",
    "\n",
    "train_input = np.stack(features, axis=0)\n",
    "train_target = np.stack(targets, axis=0)\n",
    "\n",
    "train_input.shape, train_target.shape"
   ]
  },
  {
   "cell_type": "code",
   "execution_count": null,
   "id": "7bb54672-7caa-449c-af06-13476a9efabb",
   "metadata": {},
   "outputs": [],
   "source": []
  },
  {
   "cell_type": "code",
   "execution_count": 24,
   "id": "8a54df9e-e2cd-46fc-aed3-b4308fa8ef04",
   "metadata": {},
   "outputs": [
    {
     "data": {
      "text/plain": [
       "110"
      ]
     },
     "execution_count": 24,
     "metadata": {},
     "output_type": "execute_result"
    }
   ],
   "source": [
    "indices = [(i, i + num_timesteps_in + num_timesteps_out) for i in range(data_numpy_test.shape[0] - num_timesteps_in - num_timesteps_out + 1)]\n",
    "len(indices)"
   ]
  },
  {
   "cell_type": "code",
   "execution_count": 25,
   "id": "dd3fc02c-20e1-4180-b08f-ba897bdc3363",
   "metadata": {},
   "outputs": [
    {
     "data": {
      "text/plain": [
       "[(0, 20), (1, 21), (2, 22), (3, 23), (4, 24)]"
      ]
     },
     "execution_count": 25,
     "metadata": {},
     "output_type": "execute_result"
    }
   ],
   "source": [
    "indices[:5]"
   ]
  },
  {
   "cell_type": "code",
   "execution_count": 26,
   "id": "6c1fbfba-83c2-4616-9376-706d9ee0e336",
   "metadata": {},
   "outputs": [
    {
     "data": {
      "text/plain": [
       "[(105, 125), (106, 126), (107, 127), (108, 128), (109, 129)]"
      ]
     },
     "execution_count": 26,
     "metadata": {},
     "output_type": "execute_result"
    }
   ],
   "source": [
    "indices[-5:]"
   ]
  },
  {
   "cell_type": "code",
   "execution_count": 27,
   "id": "762ec60a-c004-4330-a079-91e3873a1135",
   "metadata": {},
   "outputs": [
    {
     "data": {
      "text/plain": [
       "((110, 10, 15), (110, 10, 5))"
      ]
     },
     "execution_count": 27,
     "metadata": {},
     "output_type": "execute_result"
    }
   ],
   "source": [
    "features = []\n",
    "targets = []\n",
    "for i, j in indices:\n",
    "    \n",
    "    features_bucket_list = []\n",
    "    target_bucket_list = []\n",
    "    \n",
    "    for etf in arrays_test.keys():\n",
    "        features_bucket_list.append(arrays_test[etf][i : i+num_timesteps_in, 0].T)\n",
    "        target_bucket_list.append(arrays_test[etf][i+num_timesteps_in : j, 0].T)\n",
    "    \n",
    "    features_array_stack = np.stack(features_bucket_list, axis=0)\n",
    "    target_array_stack = np.stack(target_bucket_list, axis=0)\n",
    "    \n",
    "    features.append(features_array_stack)\n",
    "    targets.append(target_array_stack)\n",
    "\n",
    "test_input = np.stack(features, axis=0)\n",
    "test_target = np.stack(targets, axis=0)\n",
    "\n",
    "test_input.shape, test_target.shape"
   ]
  },
  {
   "cell_type": "code",
   "execution_count": null,
   "id": "3a3276de-aebd-4016-a991-25baf1978e55",
   "metadata": {},
   "outputs": [],
   "source": []
  },
  {
   "cell_type": "code",
   "execution_count": null,
   "id": "d8a1203f-5527-44bb-a304-ee36ae6f37c4",
   "metadata": {},
   "outputs": [],
   "source": []
  },
  {
   "cell_type": "code",
   "execution_count": 28,
   "id": "122a1b37-1303-4acf-b6f8-80b13cf51901",
   "metadata": {},
   "outputs": [
    {
     "data": {
      "text/plain": [
       "110"
      ]
     },
     "execution_count": 28,
     "metadata": {},
     "output_type": "execute_result"
    }
   ],
   "source": [
    "len(targets)"
   ]
  },
  {
   "cell_type": "code",
   "execution_count": 29,
   "id": "3bb81472-727c-4117-b0b9-31c3250176c8",
   "metadata": {},
   "outputs": [
    {
     "data": {
      "text/plain": [
       "((1048, 10, 15), (1048, 10, 5))"
      ]
     },
     "execution_count": 29,
     "metadata": {},
     "output_type": "execute_result"
    }
   ],
   "source": [
    "train_input.shape, train_target.shape"
   ]
  },
  {
   "cell_type": "code",
   "execution_count": 30,
   "id": "fc05ec13-c988-4011-aa1f-04bbf126152c",
   "metadata": {},
   "outputs": [
    {
     "data": {
      "text/plain": [
       "((10, 15), (10, 5))"
      ]
     },
     "execution_count": 30,
     "metadata": {},
     "output_type": "execute_result"
    }
   ],
   "source": [
    "features_array_stack.shape, target_array_stack.shape"
   ]
  },
  {
   "cell_type": "code",
   "execution_count": 31,
   "id": "208d9d96-aa83-4afc-b15b-b879648f5ad5",
   "metadata": {},
   "outputs": [
    {
     "data": {
      "text/plain": [
       "(10, 10)"
      ]
     },
     "execution_count": 31,
     "metadata": {},
     "output_type": "execute_result"
    }
   ],
   "source": [
    "len(features_bucket_list), len(target_bucket_list)"
   ]
  },
  {
   "cell_type": "code",
   "execution_count": 32,
   "id": "fc1a891b-7584-45d2-9f68-ba68e237b8c3",
   "metadata": {},
   "outputs": [
    {
     "data": {
      "text/plain": [
       "((15,), (5,))"
      ]
     },
     "execution_count": 32,
     "metadata": {},
     "output_type": "execute_result"
    }
   ],
   "source": [
    "features_bucket_list[0].shape, target_bucket_list[0].shape"
   ]
  },
  {
   "cell_type": "code",
   "execution_count": null,
   "id": "892a4574-43a3-4862-9d87-97adb4322180",
   "metadata": {},
   "outputs": [],
   "source": []
  },
  {
   "cell_type": "markdown",
   "id": "9c630c5e-21e0-45c9-b278-cee1a23d7f2e",
   "metadata": {},
   "source": [
    "# DataLoaders"
   ]
  },
  {
   "cell_type": "code",
   "execution_count": 33,
   "id": "3a88f601-9c52-497a-9272-7c386858efe3",
   "metadata": {},
   "outputs": [],
   "source": [
    "# train_input = np.array(train_dataset.features) # (27399, 207, 2, 12) --> (, 10, 6, 15)\n",
    "# train_target = np.array(train_dataset.targets) # (27399, 207, 12) --> (, 10, 15)\n",
    "train_x_tensor = torch.from_numpy(train_input).type(torch.FloatTensor).to(DEVICE)  # (B, N, F, T)\n",
    "train_target_tensor = torch.from_numpy(train_target).type(torch.FloatTensor).to(DEVICE)  # (B, N, T)\n",
    "train_dataset_new = torch.utils.data.TensorDataset(train_x_tensor, train_target_tensor)\n",
    "train_loader = torch.utils.data.DataLoader(train_dataset_new, batch_size=batch_size, shuffle=shuffle,drop_last=True)"
   ]
  },
  {
   "cell_type": "code",
   "execution_count": 34,
   "id": "5c9f16a7-0051-4c7f-8bad-4e7d89b5e882",
   "metadata": {},
   "outputs": [],
   "source": [
    "test_x_tensor = torch.from_numpy(test_input).type(torch.FloatTensor).to(DEVICE)  # (B, N, F, T)\n",
    "test_target_tensor = torch.from_numpy(test_target).type(torch.FloatTensor).to(DEVICE)  # (B, N, T)\n",
    "test_dataset_new = torch.utils.data.TensorDataset(test_x_tensor, test_target_tensor)\n",
    "test_loader = torch.utils.data.DataLoader(test_dataset_new, batch_size=batch_size, shuffle=shuffle,drop_last=True)"
   ]
  },
  {
   "cell_type": "markdown",
   "id": "f4a2cb40-c85a-4fc1-ab40-c1692001fd57",
   "metadata": {},
   "source": [
    "# Training"
   ]
  },
  {
   "cell_type": "code",
   "execution_count": 35,
   "id": "50f902eb-86f3-4d72-8435-e20f6ee0ce3c",
   "metadata": {},
   "outputs": [
    {
     "data": {
      "text/plain": [
       "(1048, 10, 15)"
      ]
     },
     "execution_count": 35,
     "metadata": {},
     "output_type": "execute_result"
    }
   ],
   "source": [
    "train_input.shape"
   ]
  },
  {
   "cell_type": "code",
   "execution_count": null,
   "id": "06237619-c036-49ec-aa41-c48d3a2ace1f",
   "metadata": {},
   "outputs": [],
   "source": []
  },
  {
   "cell_type": "code",
   "execution_count": 36,
   "id": "b0242383-550f-43d4-a4d0-c0836cac30bb",
   "metadata": {},
   "outputs": [],
   "source": [
    "num_nodes = 10"
   ]
  },
  {
   "cell_type": "code",
   "execution_count": 37,
   "id": "d49515a1-61fc-4579-b4af-1aaea00d9939",
   "metadata": {},
   "outputs": [
    {
     "data": {
      "text/plain": [
       "torch.Size([2, 100])"
      ]
     },
     "execution_count": 37,
     "metadata": {},
     "output_type": "execute_result"
    }
   ],
   "source": [
    "edge_index = torch.tensor([(i, j) for i in range(num_nodes) for j in range(num_nodes)], dtype=torch.long).t().contiguous()\n",
    "edge_index.shape"
   ]
  },
  {
   "cell_type": "code",
   "execution_count": 38,
   "id": "fc4a60e6-47cb-4679-bd60-9b12a8a73c9a",
   "metadata": {},
   "outputs": [
    {
     "data": {
      "text/plain": [
       "(100,)"
      ]
     },
     "execution_count": 38,
     "metadata": {},
     "output_type": "execute_result"
    }
   ],
   "source": [
    "edge_attr = np.ones(edge_index.shape[1])\n",
    "edge_attr.shape"
   ]
  },
  {
   "cell_type": "code",
   "execution_count": 39,
   "id": "2134aae8-e48e-48fb-a921-c0815efb4e21",
   "metadata": {},
   "outputs": [],
   "source": [
    "from torch_geometric_temporal.signal import StaticGraphTemporalSignal\n",
    "\n",
    "# Create a StaticGraphTemporalSignal object\n",
    "# dataset = StaticGraphTemporalSignal(edge_index=edge_index, edge_weight=None, features=[train_input], targets=[train_target])\n",
    "# dataset_test = StaticGraphTemporalSignal(edge_index=edge_index, edge_weight=None, features=[test_input], targets=[test_target])\n",
    "\n",
    "dataset = StaticGraphTemporalSignal(edge_index, edge_attr, train_input, train_target)\n",
    "dataset_test = StaticGraphTemporalSignal(edge_index, edge_attr, test_input, test_target)"
   ]
  },
  {
   "cell_type": "code",
   "execution_count": null,
   "id": "4d061a8c-14b1-4037-a3af-d3b8a86177df",
   "metadata": {},
   "outputs": [],
   "source": []
  },
  {
   "cell_type": "code",
   "execution_count": 40,
   "id": "2a21a2d0-464b-4b6c-8fdf-c41e7a81bdb6",
   "metadata": {},
   "outputs": [],
   "source": [
    "def mean_absolute_error(y_true, y_pred):\n",
    "    return torch.mean(torch.abs(y_true - y_pred))\n",
    "\n",
    "def mean_absolute_percentage_error(y_true, y_pred):\n",
    "    return torch.mean(torch.abs((y_true - y_pred) / y_true)) * 100"
   ]
  },
  {
   "cell_type": "markdown",
   "id": "05f9aa41-1be9-4eba-b9ad-4f5731c570d6",
   "metadata": {},
   "source": [
    "## GConvLSTM"
   ]
  },
  {
   "cell_type": "code",
   "execution_count": null,
   "id": "a062299b-efdd-4497-801f-815656406b95",
   "metadata": {},
   "outputs": [],
   "source": []
  },
  {
   "cell_type": "code",
   "execution_count": 56,
   "id": "d0ac2773-9640-4176-9d3b-9dd5a68e0694",
   "metadata": {},
   "outputs": [],
   "source": [
    "import torch\n",
    "import torch.nn.functional as F\n",
    "from torch_geometric_temporal.nn.recurrent import GConvLSTM\n",
    "\n",
    "class GConvLSTMModel(torch.nn.Module):\n",
    "    def __init__(self, node_features, output_len):\n",
    "        super(GConvLSTMModel, self).__init__()\n",
    "        self.dcrnn = GConvLSTM(node_features, 32, 1)\n",
    "        self.linear = torch.nn.Linear(32, output_len)\n",
    "\n",
    "    def forward(self, x, edge_index, edge_weight, h, c):\n",
    "        h_0, c_0 = self.dcrnn(x, edge_index, edge_weight, h, c)\n",
    "        h = F.relu(h_0)\n",
    "        h = self.linear(h_0)\n",
    "        return h, h_0, c_0"
   ]
  },
  {
   "cell_type": "code",
   "execution_count": 63,
   "id": "e9bf2c3d-e848-442c-9b24-3db5161b051d",
   "metadata": {},
   "outputs": [],
   "source": [
    "def evaluate_model(model, val_loader, h, c):\n",
    "    loss = 0\n",
    "    step = 0\n",
    "    val_mape, val_mae = [], []\n",
    "    \n",
    "    model.eval()\n",
    "    with torch.no_grad():\n",
    "        for snapshot in val_loader:\n",
    "            # snapshot = snapshot.to(device)\n",
    "            y_hat, h, c = model(snapshot.x, snapshot.edge_index, snapshot.edge_attr, h, c)\n",
    "            loss = loss + torch.mean(torch.abs(y_hat-snapshot.y)) \n",
    "            val_mape.append(mean_absolute_percentage_error(snapshot.y, y_hat))\n",
    "            val_mae.append(mean_absolute_error(snapshot.y, y_hat))\n",
    "            step += 1\n",
    "        loss = loss / (step + 1)\n",
    "    \n",
    "    # print(\"Val MAE: {:.4f}\".format(loss.item()))\n",
    "    return loss, val_mape, val_mae"
   ]
  },
  {
   "cell_type": "code",
   "execution_count": 64,
   "id": "95c18238-20bd-46c4-b6ae-dbf9b32164b2",
   "metadata": {},
   "outputs": [],
   "source": [
    "for snapshot in dataset:\n",
    "    static_edge_index = snapshot.edge_index.to(DEVICE)\n",
    "    break;"
   ]
  },
  {
   "cell_type": "code",
   "execution_count": 65,
   "id": "ba33ebaa-47d3-4dd0-bf06-551a27ae4b5b",
   "metadata": {},
   "outputs": [],
   "source": [
    "for snapshot in dataset:\n",
    "    static_edge_index = snapshot.edge_index.to(DEVICE)\n",
    "    break;"
   ]
  },
  {
   "cell_type": "code",
   "execution_count": 66,
   "id": "0b73111f-9a43-43a5-ba4d-4bb6dce1db5b",
   "metadata": {},
   "outputs": [
    {
     "data": {
      "text/plain": [
       "Data(x=[10, 15], edge_index=[2, 100], edge_attr=[100], y=[10, 5])"
      ]
     },
     "execution_count": 66,
     "metadata": {},
     "output_type": "execute_result"
    }
   ],
   "source": [
    "next(iter(dataset))\n"
   ]
  },
  {
   "cell_type": "code",
   "execution_count": 67,
   "id": "e23ccfeb-fd09-4c8d-8649-0dcec5bcc841",
   "metadata": {},
   "outputs": [
    {
     "name": "stdout",
     "output_type": "stream",
     "text": [
      "<class 'list'>\n",
      "2\n",
      "torch.Size([32, 10, 15]) torch.Size([32, 10, 5])\n"
     ]
    }
   ],
   "source": [
    "for time, snapshot in enumerate(train_loader):\n",
    "    print(type(snapshot))\n",
    "    print(len(snapshot))\n",
    "    print(snapshot[0].shape, snapshot[1].shape)\n",
    "    break\n",
    "        \n",
    "        # # snapshot = snapshot.to(device)\n",
    "        # y_hat = dcrnn_model(snapshot.x, snapshot.edge_index, snapshot.edge_attr)\n",
    "        # loss = loss + torch.mean(torch.abs(y_hat-snapshot.y))"
   ]
  },
  {
   "cell_type": "code",
   "execution_count": null,
   "id": "7bd5a93e-0e3e-4b0d-90d2-8f8a5923c5da",
   "metadata": {},
   "outputs": [
    {
     "name": "stdout",
     "output_type": "stream",
     "text": [
      "Epoch 0                 train RMSE: 8.7067E-01,                 MAE: 8.7067E-01,                 MAPE: 178.64%\n",
      "\t \t Val RMSE: 2.0766E+00,                 MAE: 2.0955E+00,                 MAPE: 99.73%\n",
      "\t \t Best model saved with validation loss: 2.0766\n",
      "\t \t Best model saved with validation loss: 1.8783\n",
      "\t \t Best model saved with validation loss: 1.6821\n",
      "\t \t Best model saved with validation loss: 1.5147\n",
      "\t \t Best model saved with validation loss: 1.3788\n",
      "\t \t Best model saved with validation loss: 1.2709\n",
      "\t \t Best model saved with validation loss: 1.1796\n",
      "\t \t Best model saved with validation loss: 1.1115\n",
      "\t \t Best model saved with validation loss: 1.0676\n",
      "\t \t Best model saved with validation loss: 0.9964\n",
      "Epoch 10                 train RMSE: 5.0484E-01,                 MAE: 5.0484E-01,                 MAPE: 181.87%\n",
      "\t \t Val RMSE: 1.3696E+00,                 MAE: 9.1742E-01,                 MAPE: 55.17%\n",
      "\t \t Best model saved with validation loss: 0.9092\n",
      "\t \t Best model saved with validation loss: 0.8520\n",
      "\t \t Best model saved with validation loss: 0.8079\n",
      "\t \t Best model saved with validation loss: 0.7525\n",
      "\t \t Best model saved with validation loss: 0.6787\n",
      "\t \t Best model saved with validation loss: 0.6115\n",
      "\t \t Best model saved with validation loss: 0.5720\n",
      "\t \t Best model saved with validation loss: 0.5257\n",
      "\t \t Best model saved with validation loss: 0.4685\n",
      "\t \t Best model saved with validation loss: 0.4300\n",
      "Epoch 20                 train RMSE: 3.6303E-01,                 MAE: 3.6303E-01,                 MAPE: 155.91%\n",
      "\t \t Val RMSE: 1.0081E+00,                 MAE: 4.0940E-01,                 MAPE: 22.20%\n",
      "\t \t Best model saved with validation loss: 0.4057\n",
      "\t \t Best model saved with validation loss: 0.3873\n",
      "\t \t Best model saved with validation loss: 0.3628\n",
      "\t \t Best model saved with validation loss: 0.3430\n",
      "\t \t Best model saved with validation loss: 0.3357\n",
      "\t \t Best model saved with validation loss: 0.3229\n",
      "\t \t Best model saved with validation loss: 0.2992\n",
      "\t \t Best model saved with validation loss: 0.2822\n",
      "\t \t Best model saved with validation loss: 0.2803\n",
      "Epoch 30                 train RMSE: 2.9106E-01,                 MAE: 2.9107E-01,                 MAPE: 136.81%\n",
      "\t \t Val RMSE: 7.8662E-01,                 MAE: 2.6119E-01,                 MAPE: 14.56%\n",
      "\t \t Best model saved with validation loss: 0.2588\n",
      "\t \t Best model saved with validation loss: 0.2399\n",
      "\t \t Best model saved with validation loss: 0.2369\n",
      "\t \t Best model saved with validation loss: 0.2364\n",
      "\t \t Best model saved with validation loss: 0.2246\n",
      "\t \t Best model saved with validation loss: 0.2196\n",
      "\t \t Best model saved with validation loss: 0.2190\n",
      "Epoch 40                 train RMSE: 2.4928E-01,                 MAE: 2.4928E-01,                 MAPE: 123.77%\n",
      "\t \t Val RMSE: 6.5052E-01,                 MAE: 2.3192E-01,                 MAPE: 13.25%\n",
      "\t \t Best model saved with validation loss: 0.2180\n",
      "\t \t Best model saved with validation loss: 0.2176\n",
      "\t \t Best model saved with validation loss: 0.2165\n",
      "\t \t Best model saved with validation loss: 0.2135\n",
      "Epoch 50                 train RMSE: 2.2212E-01,                 MAE: 2.2212E-01,                 MAPE: 115.02%\n",
      "\t \t Val RMSE: 5.6609E-01,                 MAE: 2.2307E-01,                 MAPE: 13.08%\n",
      "Epoch 60                 train RMSE: 2.0323E-01,                 MAE: 2.0323E-01,                 MAPE: 108.84%\n",
      "\t \t Val RMSE: 5.1095E-01,                 MAE: 2.2755E-01,                 MAPE: 13.37%\n",
      "Epoch 70                 train RMSE: 1.8953E-01,                 MAE: 1.8953E-01,                 MAPE: 104.36%\n",
      "\t \t Val RMSE: 4.7012E-01,                 MAE: 2.2265E-01,                 MAPE: 12.92%\n",
      "\t \t Best model saved with validation loss: 0.2124\n",
      "\t \t Best model saved with validation loss: 0.2062\n",
      "\t \t Best model saved with validation loss: 0.2062\n",
      "Epoch 80                 train RMSE: 1.7894E-01,                 MAE: 1.7894E-01,                 MAPE: 100.86%\n",
      "\t \t Val RMSE: 4.3823E-01,                 MAE: 2.0467E-01,                 MAPE: 12.20%\n",
      "\t \t Best model saved with validation loss: 0.2028\n",
      "\t \t Best model saved with validation loss: 0.2025\n",
      "\t \t Best model saved with validation loss: 0.1998\n",
      "\t \t Best model saved with validation loss: 0.1978\n",
      "Epoch 90                 train RMSE: 1.7042E-01,                 MAE: 1.7043E-01,                 MAPE: 98.00%\n",
      "\t \t Val RMSE: 4.1241E-01,                 MAE: 2.0392E-01,                 MAPE: 12.08%\n",
      "\t \t Best model saved with validation loss: 0.1964\n",
      "\t \t Best model saved with validation loss: 0.1914\n",
      "Epoch 100                 train RMSE: 1.6354E-01,                 MAE: 1.6354E-01,                 MAPE: 95.74%\n",
      "\t \t Val RMSE: 3.9130E-01,                 MAE: 1.9947E-01,                 MAPE: 12.04%\n",
      "Epoch 110                 train RMSE: 1.5768E-01,                 MAE: 1.5768E-01,                 MAPE: 93.84%\n",
      "\t \t Val RMSE: 3.7403E-01,                 MAE: 2.0135E-01,                 MAPE: 11.98%\n",
      "Epoch 120                 train RMSE: 1.5266E-01,                 MAE: 1.5266E-01,                 MAPE: 92.16%\n",
      "\t \t Val RMSE: 3.6003E-01,                 MAE: 2.0516E-01,                 MAPE: 12.12%\n",
      "Epoch 130                 train RMSE: 1.4842E-01,                 MAE: 1.4842E-01,                 MAPE: 90.72%\n",
      "\t \t Val RMSE: 3.4843E-01,                 MAE: 2.1771E-01,                 MAPE: 12.57%\n",
      "Epoch 140                 train RMSE: 1.4467E-01,                 MAE: 1.4467E-01,                 MAPE: 89.48%\n",
      "\t \t Val RMSE: 3.3837E-01,                 MAE: 2.0987E-01,                 MAPE: 12.25%\n",
      "Epoch 150                 train RMSE: 1.4155E-01,                 MAE: 1.4155E-01,                 MAPE: 88.43%\n",
      "\t \t Val RMSE: 3.3073E-01,                 MAE: 2.1722E-01,                 MAPE: 12.69%\n",
      "Epoch 160                 train RMSE: 1.3903E-01,                 MAE: 1.3903E-01,                 MAPE: 87.57%\n",
      "\t \t Val RMSE: 3.2502E-01,                 MAE: 2.1438E-01,                 MAPE: 12.44%\n",
      "Epoch 170                 train RMSE: 1.3663E-01,                 MAE: 1.3663E-01,                 MAPE: 86.81%\n",
      "\t \t Val RMSE: 3.1988E-01,                 MAE: 2.5803E-01,                 MAPE: 13.96%\n",
      "Epoch 180                 train RMSE: 1.3433E-01,                 MAE: 1.3433E-01,                 MAPE: 86.05%\n",
      "\t \t Val RMSE: 3.1386E-01,                 MAE: 2.0344E-01,                 MAPE: 12.21%\n",
      "Epoch 190                 train RMSE: 1.3219E-01,                 MAE: 1.3219E-01,                 MAPE: 85.37%\n",
      "\t \t Val RMSE: 3.0862E-01,                 MAE: 2.2324E-01,                 MAPE: 12.89%\n",
      "Epoch 200                 train RMSE: 1.3022E-01,                 MAE: 1.3022E-01,                 MAPE: 84.72%\n",
      "\t \t Val RMSE: 3.0419E-01,                 MAE: 2.1713E-01,                 MAPE: 12.66%\n",
      "Epoch 210                 train RMSE: 1.2841E-01,                 MAE: 1.2841E-01,                 MAPE: 84.17%\n",
      "\t \t Val RMSE: 2.9965E-01,                 MAE: 1.9357E-01,                 MAPE: 11.91%\n",
      "\t \t Best model saved with validation loss: 0.1902\n",
      "Epoch 220                 train RMSE: 1.2676E-01,                 MAE: 1.2676E-01,                 MAPE: 83.63%\n",
      "\t \t Val RMSE: 2.9513E-01,                 MAE: 1.9536E-01,                 MAPE: 11.78%\n",
      "Epoch 230                 train RMSE: 1.2522E-01,                 MAE: 1.2522E-01,                 MAPE: 83.11%\n",
      "\t \t Val RMSE: 2.9086E-01,                 MAE: 1.9972E-01,                 MAPE: 12.12%\n",
      "Epoch 240                 train RMSE: 1.2378E-01,                 MAE: 1.2378E-01,                 MAPE: 82.57%\n",
      "\t \t Val RMSE: 2.8724E-01,                 MAE: 2.0243E-01,                 MAPE: 12.17%\n",
      "Epoch 250                 train RMSE: 1.2244E-01,                 MAE: 1.2244E-01,                 MAPE: 82.06%\n",
      "\t \t Val RMSE: 2.8402E-01,                 MAE: 2.0895E-01,                 MAPE: 12.36%\n",
      "Epoch 260                 train RMSE: 1.2122E-01,                 MAE: 1.2122E-01,                 MAPE: 81.67%\n",
      "\t \t Val RMSE: 2.8130E-01,                 MAE: 2.2172E-01,                 MAPE: 12.89%\n",
      "Epoch 270                 train RMSE: 1.2005E-01,                 MAE: 1.2005E-01,                 MAPE: 81.30%\n",
      "\t \t Val RMSE: 2.7874E-01,                 MAE: 2.1117E-01,                 MAPE: 12.58%\n",
      "Epoch 280                 train RMSE: 1.1892E-01,                 MAE: 1.1892E-01,                 MAPE: 80.92%\n",
      "\t \t Val RMSE: 2.7642E-01,                 MAE: 2.0943E-01,                 MAPE: 12.68%\n",
      "Epoch 290                 train RMSE: 1.1787E-01,                 MAE: 1.1787E-01,                 MAPE: 80.52%\n",
      "\t \t Val RMSE: 2.7429E-01,                 MAE: 2.1823E-01,                 MAPE: 12.87%\n",
      "Epoch 300                 train RMSE: 1.1683E-01,                 MAE: 1.1683E-01,                 MAPE: 80.12%\n",
      "\t \t Val RMSE: 2.7252E-01,                 MAE: 2.1523E-01,                 MAPE: 12.76%\n",
      "Epoch 310                 train RMSE: 1.1583E-01,                 MAE: 1.1583E-01,                 MAPE: 79.74%\n",
      "\t \t Val RMSE: 2.7059E-01,                 MAE: 2.0820E-01,                 MAPE: 12.62%\n",
      "Epoch 320                 train RMSE: 1.1493E-01,                 MAE: 1.1493E-01,                 MAPE: 79.41%\n",
      "\t \t Val RMSE: 2.6958E-01,                 MAE: 2.5854E-01,                 MAPE: 14.39%\n",
      "Epoch 330                 train RMSE: 1.1404E-01,                 MAE: 1.1404E-01,                 MAPE: 79.06%\n",
      "\t \t Val RMSE: 2.6882E-01,                 MAE: 2.5078E-01,                 MAPE: 14.17%\n"
     ]
    }
   ],
   "source": [
    "gclstm_model = GConvLSTMModel(node_features = train_input.shape[-1], \n",
    "                              output_len = train_target.shape[-1]\n",
    "                             ).to(DEVICE)\n",
    "\n",
    "optimizer = torch.optim.Adam(gclstm_model.parameters(), lr=0.01)\n",
    "device = torch.device(\"cuda\") if torch.cuda.is_available() else torch.device(\"cpu\")\n",
    "\n",
    "train_losses, val_losses = [], []\n",
    "train_mape, train_mae = [], []\n",
    "\n",
    "best_model = None\n",
    "best_va_loss = 1E6\n",
    "\n",
    "for epoch in range(500):\n",
    "    loss = 0\n",
    "    h, c = None, None\n",
    "    \n",
    "    gclstm_model.train()\n",
    "    for time, snapshot in enumerate(dataset):\n",
    "        snapshot = snapshot.to(device)\n",
    "        y_hat, h, c = gclstm_model(snapshot.x, snapshot.edge_index, snapshot.edge_attr, h, c)\n",
    "        loss = loss + torch.mean(torch.abs(y_hat-snapshot.y))\n",
    "        train_mape.append(mean_absolute_percentage_error(snapshot.y, y_hat))\n",
    "        train_mae.append(mean_absolute_error(snapshot.y, y_hat))\n",
    "    \n",
    "    loss = loss / (time+1)\n",
    "    loss.backward()\n",
    "    optimizer.step()\n",
    "    optimizer.zero_grad()\n",
    "    \n",
    "    train_losses.append(loss.item())\n",
    "\n",
    "    va_loss, val_mape, val_mae = evaluate_model(gclstm_model, dataset_test, h, c)\n",
    "    val_losses.append(va_loss.item())\n",
    "    \n",
    "    if epoch % 10 == 0 :\n",
    "        print(f\"Epoch {epoch} \\\n",
    "                train RMSE: {sum(train_losses)/len(train_losses):.4E}, \\\n",
    "                MAE: {sum(train_mae)/len(train_mae):.4E}, \\\n",
    "                MAPE: {sum(train_mape)/len(train_mape):.2f}%\"\n",
    "             )\n",
    "        print(f\"\\t \\t Val RMSE: {sum(val_losses)/len(val_losses):.4E}, \\\n",
    "                MAE: {sum(val_mae)/len(val_mae):.4E}, \\\n",
    "                MAPE: {sum(val_mape)/len(val_mape):.2f}%\"\n",
    "             )\n",
    "\n",
    "    if va_loss < best_va_loss:\n",
    "        best_va_loss = va_loss\n",
    "        best_model_state = gclstm_model.state_dict()\n",
    "        torch.save(best_model_state, model_dir.absolute() / 'best_gclstm_model.pth')\n",
    "        print(\"\\t \\t Best model saved with validation loss: {:.4f}\".format(va_loss.item()))\n",
    "\n",
    "    "
   ]
  },
  {
   "cell_type": "code",
   "execution_count": null,
   "id": "5694128a-7998-481f-9465-87f5be974ed1",
   "metadata": {},
   "outputs": [],
   "source": []
  },
  {
   "cell_type": "code",
   "execution_count": null,
   "id": "bd97e780-b3e8-4ab7-96a5-97763cef5c0f",
   "metadata": {},
   "outputs": [],
   "source": [
    "import matplotlib.pyplot as plt\n",
    "plt.figure(figsize=(10,7))\n",
    "plt.plot(range(1, len(train_losses)+1), train_losses, label='Train Loss')\n",
    "plt.plot(range(1, len(val_losses)+1), val_losses, label='Val Loss')\n",
    "plt.legend(loc=\"upper left\")\n",
    "plt.show()"
   ]
  },
  {
   "cell_type": "code",
   "execution_count": null,
   "id": "90317f78-a7d7-46c8-a40e-bc0a1c9061de",
   "metadata": {},
   "outputs": [],
   "source": [
    "gclstm_model.load_state_dict(torch.load(model_dir.absolute() / 'best_gclstm_model.pth'))\n"
   ]
  },
  {
   "cell_type": "code",
   "execution_count": null,
   "id": "de3b9a76-d1fd-4842-a5c5-9c618085ab98",
   "metadata": {},
   "outputs": [],
   "source": []
  },
  {
   "cell_type": "markdown",
   "id": "17f8cd44-7774-4de5-b880-a610915a094e",
   "metadata": {},
   "source": [
    "# Eval"
   ]
  },
  {
   "cell_type": "markdown",
   "id": "ddc8a081-9197-4ac4-8f10-e478cd8461ac",
   "metadata": {},
   "source": [
    "## Test set"
   ]
  },
  {
   "cell_type": "code",
   "execution_count": null,
   "id": "7eea4656-6430-439f-8cec-cbb7d7043063",
   "metadata": {},
   "outputs": [],
   "source": [
    "\"\"\"Make predictions for test data\"\"\"\n",
    "gclstm_model.eval()\n",
    "\n",
    "y_preds = list()\n",
    "y_true = list()\n",
    "\n",
    "for snapshot in dataset_test:\n",
    "    y = snapshot.y.cpu().numpy()\n",
    "    y_pred = gclstm_model(snapshot.x, snapshot.edge_index, \n",
    "                         snapshot.edge_attr\n",
    "                        ).view(len(snapshot.x), -1).cpu().detach().numpy()\n",
    "\n",
    "    # y = np.array((y * std_speed) +  mean_speed)\n",
    "    # y_pred = np.array((y_pred * std_speed) +  mean_speed)\n",
    "    y_preds.extend(list(y_pred))\n",
    "    y_true.extend(list(y))\n",
    "    \n",
    "y_preds = np.array(y_preds)\n",
    "y_true = np.array(y_true)\n",
    "y_preds = y_preds.reshape(int(y_preds.shape[0]/(10)), 10, 5)\n",
    "y_true = y_true.reshape(int(y_true.shape[0]/(10)), 10, 5)"
   ]
  },
  {
   "cell_type": "code",
   "execution_count": null,
   "id": "253fc735-0241-4fe0-a2a9-e3456412fbaf",
   "metadata": {},
   "outputs": [],
   "source": [
    "y_preds.shape, y_true.shape"
   ]
  },
  {
   "cell_type": "code",
   "execution_count": null,
   "id": "6387cbdd-aa1b-48e7-bfe5-9e368ddb7719",
   "metadata": {},
   "outputs": [],
   "source": [
    "plt.style.use('ggplot')\n"
   ]
  },
  {
   "cell_type": "code",
   "execution_count": null,
   "id": "0f383619-6bda-4918-9784-d35c98f5a52d",
   "metadata": {},
   "outputs": [],
   "source": [
    "\"\"\"show one sensor time series only first time step\"\"\"\n",
    "y_sample = y_true[:, 2, 0]\n",
    "y_pred_sample = y_preds[:, 2, 0]\n",
    "\n",
    "plt.figure(figsize=(10,7))\n",
    "plt.plot(range(len(y_sample)), y_sample, label='Ground Truth')\n",
    "plt.plot(range(len(y_pred_sample)), y_pred_sample, label='Predictions')\n",
    "plt.xlabel('Time')\n",
    "plt.ylabel('Adj Close')\n",
    "plt.legend(loc=\"upper left\")\n",
    "plt.show()"
   ]
  },
  {
   "cell_type": "code",
   "execution_count": null,
   "id": "69495f1f-8f5c-4f98-91c5-ac5df9f7ce10",
   "metadata": {},
   "outputs": [],
   "source": []
  },
  {
   "cell_type": "code",
   "execution_count": null,
   "id": "ca722b97-7aa6-4fea-91a8-9d2fc8416729",
   "metadata": {},
   "outputs": [],
   "source": []
  },
  {
   "cell_type": "code",
   "execution_count": null,
   "id": "8db52fe9-4f4d-401a-979a-79370471ee55",
   "metadata": {},
   "outputs": [],
   "source": []
  },
  {
   "cell_type": "code",
   "execution_count": null,
   "id": "4a590c35-e6c8-454c-985b-92102bdb2ed8",
   "metadata": {},
   "outputs": [],
   "source": []
  },
  {
   "cell_type": "markdown",
   "id": "cac486ac-caa0-4f4e-9827-cc40fa9a2c4e",
   "metadata": {},
   "source": [
    "## Train set"
   ]
  },
  {
   "cell_type": "code",
   "execution_count": null,
   "id": "a3505663-96a0-4c46-8374-f9d3ce5b6431",
   "metadata": {},
   "outputs": [],
   "source": []
  },
  {
   "cell_type": "code",
   "execution_count": null,
   "id": "b3cce01a-6623-4379-ad9b-d7660053295e",
   "metadata": {},
   "outputs": [],
   "source": []
  },
  {
   "cell_type": "code",
   "execution_count": null,
   "id": "03c67100-e663-4363-8cbe-ff768c02b68c",
   "metadata": {},
   "outputs": [],
   "source": [
    "\"\"\"Make predictions for test data\"\"\"\n",
    "gclstm_model.eval()\n",
    "\n",
    "y_preds = list()\n",
    "y_true = list()\n",
    "\n",
    "for snapshot in dataset:\n",
    "    y = snapshot.y.cpu().numpy()\n",
    "    y_pred = gclstm_model(snapshot.x, snapshot.edge_index, \n",
    "                         snapshot.edge_attr\n",
    "                        ).view(len(snapshot.x), -1).cpu().detach().numpy()\n",
    "\n",
    "    # y = np.array((y * std_speed) +  mean_speed)\n",
    "    # y_pred = np.array((y_pred * std_speed) +  mean_speed)\n",
    "    y_preds.extend(list(y_pred))\n",
    "    y_true.extend(list(y))\n",
    "    \n",
    "y_preds = np.array(y_preds)\n",
    "y_true = np.array(y_true)\n",
    "y_preds = y_preds.reshape(int(y_preds.shape[0]/(10)), 10, 5)\n",
    "y_true = y_true.reshape(int(y_true.shape[0]/(10)), 10, 5)"
   ]
  },
  {
   "cell_type": "code",
   "execution_count": null,
   "id": "ec37dd06-75f8-42ea-a53e-e3ea884b73bf",
   "metadata": {},
   "outputs": [],
   "source": [
    "y_preds.shape, y_true.shape"
   ]
  },
  {
   "cell_type": "code",
   "execution_count": null,
   "id": "2c7912d5-8851-42d7-9836-42a7400366d7",
   "metadata": {},
   "outputs": [],
   "source": [
    "plt.style.use('ggplot')\n"
   ]
  },
  {
   "cell_type": "code",
   "execution_count": null,
   "id": "cd16dc89-e62c-403e-9163-62be61ecf839",
   "metadata": {},
   "outputs": [],
   "source": [
    "\"\"\"show one sensor time series only first time step\"\"\"\n",
    "y_sample = y_true[:, 2, 0]\n",
    "y_pred_sample = y_preds[:, 2, 0]\n",
    "\n",
    "plt.figure(figsize=(10,7))\n",
    "plt.plot(range(len(y_sample)), y_sample, label='Ground Truth')\n",
    "plt.plot(range(len(y_pred_sample)), y_pred_sample, label='Predictions')\n",
    "plt.xlabel('Time')\n",
    "plt.ylabel('Adj Close')\n",
    "plt.legend(loc=\"upper left\")\n",
    "plt.show()"
   ]
  },
  {
   "cell_type": "code",
   "execution_count": null,
   "id": "3db05816-90fb-4527-8c6d-12adad72697f",
   "metadata": {},
   "outputs": [],
   "source": []
  }
 ],
 "metadata": {
  "kernelspec": {
   "display_name": "Python 3 (ipykernel)",
   "language": "python",
   "name": "python3"
  },
  "language_info": {
   "codemirror_mode": {
    "name": "ipython",
    "version": 3
   },
   "file_extension": ".py",
   "mimetype": "text/x-python",
   "name": "python",
   "nbconvert_exporter": "python",
   "pygments_lexer": "ipython3",
   "version": "3.10.14"
  }
 },
 "nbformat": 4,
 "nbformat_minor": 5
}
